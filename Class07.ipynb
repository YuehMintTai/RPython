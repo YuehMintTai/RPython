{
  "nbformat": 4,
  "nbformat_minor": 0,
  "metadata": {
    "colab": {
      "name": "Class07.ipynb",
      "provenance": [],
      "authorship_tag": "ABX9TyMUFqIj4+QWCN7JLQ96Lf5W",
      "include_colab_link": true
    },
    "kernelspec": {
      "name": "python3",
      "display_name": "Python 3"
    },
    "language_info": {
      "name": "python"
    }
  },
  "cells": [
    {
      "cell_type": "markdown",
      "metadata": {
        "id": "view-in-github",
        "colab_type": "text"
      },
      "source": [
        "<a href=\"https://colab.research.google.com/github/YuehMintTai/RPython/blob/main/Class07.ipynb\" target=\"_parent\"><img src=\"https://colab.research.google.com/assets/colab-badge.svg\" alt=\"Open In Colab\"/></a>"
      ]
    },
    {
      "cell_type": "markdown",
      "metadata": {
        "id": "_8g1xAM5IKP0"
      },
      "source": [
        "#三軍總醫院北投分院統計及實驗設計課程之七\n",
        "## 2021/7/9\n",
        "## ytai1123@gmail.com\n",
        "### 使用方法:\n",
        "\n",
        "\n",
        "1.   使用gmail帳號登入\n",
        "2.   按\"執行階段\" -->\"全部執行\" 以執行全部內容, 若要個別執行可點選每格程式左方箭頭或按 Control + Enter 鍵執行。"
      ]
    },
    {
      "cell_type": "code",
      "metadata": {
        "colab": {
          "base_uri": "https://localhost:8080/"
        },
        "id": "Dz8lvVaCF8TQ",
        "outputId": "9ba1f3a5-d8a2-40e2-f058-15087afc0a57"
      },
      "source": [
        "##0-1\n",
        "!git clone https://github.com/YuehMintTai/RPython.git"
      ],
      "execution_count": 1,
      "outputs": [
        {
          "output_type": "stream",
          "text": [
            "Cloning into 'RPython'...\n",
            "remote: Enumerating objects: 26, done.\u001b[K\n",
            "remote: Counting objects: 100% (26/26), done.\u001b[K\n",
            "remote: Compressing objects: 100% (24/24), done.\u001b[K\n",
            "remote: Total 26 (delta 3), reused 0 (delta 0), pack-reused 0\u001b[K\n",
            "Unpacking objects: 100% (26/26), done.\n"
          ],
          "name": "stdout"
        }
      ]
    },
    {
      "cell_type": "code",
      "metadata": {
        "colab": {
          "base_uri": "https://localhost:8080/"
        },
        "id": "sAgXmoJtITuY",
        "outputId": "2b995580-ebcd-436b-aee3-fe44ed1001dc"
      },
      "source": [
        "##0-2\n",
        "!pip install rpy2"
      ],
      "execution_count": 2,
      "outputs": [
        {
          "output_type": "stream",
          "text": [
            "Requirement already satisfied: rpy2 in /usr/local/lib/python3.7/dist-packages (3.4.5)\n",
            "Requirement already satisfied: cffi>=1.10.0 in /usr/local/lib/python3.7/dist-packages (from rpy2) (1.14.5)\n",
            "Requirement already satisfied: tzlocal in /usr/local/lib/python3.7/dist-packages (from rpy2) (1.5.1)\n",
            "Requirement already satisfied: pytz in /usr/local/lib/python3.7/dist-packages (from rpy2) (2018.9)\n",
            "Requirement already satisfied: jinja2 in /usr/local/lib/python3.7/dist-packages (from rpy2) (2.11.3)\n",
            "Requirement already satisfied: pycparser in /usr/local/lib/python3.7/dist-packages (from cffi>=1.10.0->rpy2) (2.20)\n",
            "Requirement already satisfied: MarkupSafe>=0.23 in /usr/local/lib/python3.7/dist-packages (from jinja2->rpy2) (2.0.1)\n"
          ],
          "name": "stdout"
        }
      ]
    },
    {
      "cell_type": "code",
      "metadata": {
        "id": "-fJ4BQVCIfzz"
      },
      "source": [
        "##0-3\n",
        "%load_ext rpy2.ipython"
      ],
      "execution_count": 4,
      "outputs": []
    },
    {
      "cell_type": "code",
      "metadata": {
        "id": "jiT5LdA5IjVH"
      },
      "source": [
        ""
      ],
      "execution_count": null,
      "outputs": []
    },
    {
      "cell_type": "code",
      "metadata": {
        "colab": {
          "base_uri": "https://localhost:8080/"
        },
        "id": "MqZUS-tUIXZh",
        "outputId": "aa7f41c0-f392-45f0-852b-2d80b8511ed9"
      },
      "source": [
        "##6-1\n",
        "%%R\n",
        "myData<-read.csv('RPython/samples.csv')\n",
        "tail(myData,1)"
      ],
      "execution_count": 5,
      "outputs": [
        {
          "output_type": "stream",
          "text": [
            "    SID 性別 年齡 入伍前職業 教育程度 婚姻狀況 皆無過去病史01 早產兒01\n",
            "188   4    1   25         商        4        1              1        0\n",
            "    頭部曾受傷01 發展遲緩01 注意力不足過動症01 癲癇01 癲癇服藥治療 癲癇服藥期間\n",
            "188            0          0                  0      0            0            0\n",
            "    軍種 軍階 役別 入伍至今_年 聽過自殺課程_次 求助心輔_次 求助精神科_次\n",
            "188    1    1    2         0.5               1           0             2\n",
            "    使用1995_次 使用24h專線_次 特殊狀況 父母婚姻狀態 自殺意念_bsrs6 B型肝炎01\n",
            "188           0              0        4            4              4         0\n",
            "    C型肝炎01 氣喘史01 過敏史01 心臟病史01 高血壓01 醣尿病01 甲狀腺01 類風濕01\n",
            "188         0        1        1          0        0        0        1        0\n",
            "    重大意外01 自殺意念01 透露父母 透露手足 透露好友 透露同儕 透露長官 透露心輔\n",
            "188          1          1        0        0        0        0        0        0\n",
            "    透露醫師 拒告父母 拒告手足 拒告好友 拒告同儕 拒告長官 拒告心輔 拒告醫師\n",
            "188        0        1        1        1        1        1        1        1\n",
            "    BSRS總分 BSRSR總分 過動症總分 Inattention Impulsivity opposition depression\n",
            "188       20         5         18           9           9          8         57\n",
            "    anxiety burdensome belonging 家庭滿意度apgar 網路成癮症01 網路成癮分數YDQ\n",
            "188 29.0294         42        12               0            0               0\n",
            "    existeness meaning control seeking death suicidea 睡眠困擾_bsrs1\n",
            "188         28      10      22      16    15        7              4\n",
            "    睡眠困擾_bsrsr1 睡眠困擾_bdi16 易怒_bsrs3 易怒_bsrsr3 depress impuls\n",
            "188               1              3          4           1      57      9\n",
            "    Internet ADHD\n",
            "188        0   18\n"
          ],
          "name": "stdout"
        }
      ]
    },
    {
      "cell_type": "code",
      "metadata": {
        "colab": {
          "base_uri": "https://localhost:8080/",
          "height": 497
        },
        "id": "mbGWx7lzIZ-Z",
        "outputId": "3dd37c26-e2cc-4df8-adab-a61477e61ba3"
      },
      "source": [
        "##7-1-1 繪出預測值(predicted_value)和實際值的關係圖\n",
        "%%R\n",
        "formula1<-'網路成癮分數YDQ~家庭滿意度apgar'\n",
        "model1<-glm(formula1,myData,family='gaussian')\n",
        "predicted_value1<-predict(model1,myData)\n",
        "predicted_value1\n",
        "plot(myData$家庭滿意度apgar,predicted_value1,col='red',\n",
        "     xlab='APGAR',ylab='YDQ',\n",
        "     xlim=range(c(0,11)),ylim=range(c(0,10)))\n",
        "points(myData$家庭滿意度apgar, myData$網路成癮分數YDQ,col='blue')"
      ],
      "execution_count": 45,
      "outputs": [
        {
          "output_type": "display_data",
          "data": {
            "image/png": "[encoded data removed]"
          },
          "metadata": {
            "tags": []
          }
        }
      ]
    },
    {
      "cell_type": "code",
      "metadata": {
        "id": "sAEAvXADeUvk"
      },
      "source": [
        "%%R ##下載 rsq package\n",
        "install.packages('rsq')"
      ],
      "execution_count": null,
      "outputs": []
    },
    {
      "cell_type": "code",
      "metadata": {
        "colab": {
          "base_uri": "https://localhost:8080/"
        },
        "id": "bxtlfnNDdsia",
        "outputId": "6d857aae-87fe-4964-b99b-a0b457fbd9f1"
      },
      "source": [
        "##7-1-2 ##計算R-square\n",
        "%%R\n",
        "library(rsq)\n",
        "print(rsq(model1))\n",
        "print(rsq(model1,adj=TRUE))\n",
        "with(summary(model1),1-deviance/null.deviance)"
      ],
      "execution_count": 44,
      "outputs": [
        {
          "output_type": "stream",
          "text": [
            "[1] 0.04158183\n",
            "[1] 0.03642905\n",
            "[1] 0.04158183\n"
          ],
          "name": "stdout"
        }
      ]
    },
    {
      "cell_type": "code",
      "metadata": {
        "colab": {
          "base_uri": "https://localhost:8080/",
          "height": 497
        },
        "id": "-Y2AxCr-c_9E",
        "outputId": "16ce4808-a8dd-4c90-ea3b-6f8c57bf08a0"
      },
      "source": [
        "##7-2-2 ##使用較多X的model...\n",
        "%%R\n",
        "formula2<-'網路成癮分數YDQ~as.factor(性別)+家庭滿意度apgar+年齡+BSRS總分+anxiety+depression+burdensome+belonging'\n",
        "model2<-glm(formula2, myData, family='gaussian')\n",
        "predicted_value2<-predict(model2,myData)\n",
        "plot(myData$家庭滿意度apgar,predicted_value2,col='red',\n",
        "     xlab='APGAR',ylab='YDQ',\n",
        "     xlim=range(c(0,11)),ylim=range(c(0,10)))\n",
        "points(myData$家庭滿意度apgar, myData$網路成癮分數YDQ,col='blue')"
      ],
      "execution_count": 55,
      "outputs": [
        {
          "output_type": "display_data",
          "data": {
            "image/png": "[encoded data removed]"
          },
          "metadata": {
            "tags": []
          }
        }
      ]
    },
    {
      "cell_type": "code",
      "metadata": {
        "id": "AauBMvUbjouM"
      },
      "source": [
        "%%R\n",
        "plot(myData$網路成癮分數YDQ,predicted_value2,col='blue')\n",
        "points(myData$網路成癮分數YDQ,predicted_value1,col='green')"
      ],
      "execution_count": null,
      "outputs": []
    },
    {
      "cell_type": "code",
      "metadata": {
        "colab": {
          "base_uri": "https://localhost:8080/"
        },
        "id": "5WPPH1SAkwOC",
        "outputId": "144c498e-93cb-479d-cad5-a3d4e1a675e5"
      },
      "source": [
        "##7-2-2 ##計算R-square\n",
        "%%R\n",
        "library(rsq)\n",
        "print(rsq(model2))\n",
        "print(rsq(model2,adj=TRUE))\n",
        "with(summary(model2),1-deviance/null.deviance)"
      ],
      "execution_count": 54,
      "outputs": [
        {
          "output_type": "stream",
          "text": [
            "[1] 0.1879277\n",
            "[1] 0.1516339\n",
            "[1] 0.1879277\n"
          ],
          "name": "stdout"
        }
      ]
    }
  ]
}