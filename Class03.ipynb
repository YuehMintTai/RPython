{
  "nbformat": 4,
  "nbformat_minor": 0,
  "metadata": {
    "colab": {
      "name": "Class03.ipynb",
      "provenance": []
    },
    "kernelspec": {
      "name": "python3",
      "display_name": "Python 3"
    },
    "language_info": {
      "name": "python"
    }
  },
  "cells": [
    {
      "cell_type": "markdown",
      "metadata": {
        "id": "vcdjdtDr3zKW"
      },
      "source": [
        "#三軍總醫院北投分院統計及實驗設計課程之三\n",
        "2021/6/26\n",
        "\n",
        "##ytai1123@gmail.com\n",
        "###使用方法:\n",
        "使用gmail帳號登入\n",
        "按\"執行階段\" -->\"全部執行\" 以執行全部內容,  \n",
        "\n",
        "若要個別執行可點選每格程式左方箭頭或按 Control + Enter 鍵執行。"
      ]
    },
    {
      "cell_type": "code",
      "metadata": {
        "colab": {
          "base_uri": "https://localhost:8080/"
        },
        "id": "Qq00w2jV3voJ",
        "outputId": "50566491-c7f5-4130-920b-5f2d3de91179"
      },
      "source": [
        "##0-1\n",
        "!git clone https://github.com/YuehMintTai/RPython.git"
      ],
      "execution_count": null,
      "outputs": [
        {
          "output_type": "stream",
          "text": [
            "Cloning into 'RPython'...\n",
            "remote: Enumerating objects: 90, done.\u001b[K\n",
            "remote: Counting objects: 100% (90/90), done.\u001b[K\n",
            "remote: Compressing objects: 100% (88/88), done.\u001b[K\n",
            "remote: Total 90 (delta 39), reused 0 (delta 0), pack-reused 0\u001b[K\n",
            "Unpacking objects: 100% (90/90), done.\n"
          ],
          "name": "stdout"
        }
      ]
    },
    {
      "cell_type": "code",
      "metadata": {
        "colab": {
          "base_uri": "https://localhost:8080/"
        },
        "id": "Sl8Fyw2R4RZm",
        "outputId": "73c381b0-b694-4a79-a265-af66d75089e9"
      },
      "source": [
        "##0-2\n",
        "!pip install rpy2"
      ],
      "execution_count": null,
      "outputs": [
        {
          "output_type": "stream",
          "text": [
            "Requirement already satisfied: rpy2 in /usr/local/lib/python3.7/dist-packages (3.4.5)\n",
            "Requirement already satisfied: jinja2 in /usr/local/lib/python3.7/dist-packages (from rpy2) (2.11.3)\n",
            "Requirement already satisfied: tzlocal in /usr/local/lib/python3.7/dist-packages (from rpy2) (1.5.1)\n",
            "Requirement already satisfied: cffi>=1.10.0 in /usr/local/lib/python3.7/dist-packages (from rpy2) (1.14.5)\n",
            "Requirement already satisfied: pytz in /usr/local/lib/python3.7/dist-packages (from rpy2) (2018.9)\n",
            "Requirement already satisfied: MarkupSafe>=0.23 in /usr/local/lib/python3.7/dist-packages (from jinja2->rpy2) (2.0.1)\n",
            "Requirement already satisfied: pycparser in /usr/local/lib/python3.7/dist-packages (from cffi>=1.10.0->rpy2) (2.20)\n"
          ],
          "name": "stdout"
        }
      ]
    },
    {
      "cell_type": "code",
      "metadata": {
        "id": "KofJCYys4UXk"
      },
      "source": [
        "##0-3\n",
        "%load_ext rpy2.ipython"
      ],
      "execution_count": null,
      "outputs": []
    },
    {
      "cell_type": "code",
      "metadata": {
        "id": "fggfJuvOxLBJ",
        "colab": {
          "base_uri": "https://localhost:8080/"
        },
        "outputId": "dd9fed5a-f5c6-41e6-904c-035f260bd8d3"
      },
      "source": [
        "##0-4\n",
        "%%R\n",
        "myData<-read.csv('RPython/samples.csv')\n",
        "tail(myData,1)\n"
      ],
      "execution_count": null,
      "outputs": [
        {
          "output_type": "stream",
          "text": [
            "    SID 性別 年齡 入伍前職業 教育程度 婚姻狀況 皆無過去病史01 早產兒01\n",
            "188   4    1   25         商        4        1              1        0\n",
            "    頭部曾受傷01 發展遲緩01 注意力不足過動症01 癲癇01 癲癇服藥治療 癲癇服藥期間\n",
            "188            0          0                  0      0            0            0\n",
            "    軍種 軍階 役別 入伍至今_年 聽過自殺課程_次 求助心輔_次 求助精神科_次\n",
            "188    1    1    2         0.5               1           0             2\n",
            "    使用1995_次 使用24h專線_次 特殊狀況 父母婚姻狀態 自殺意念_bsrs6 B型肝炎01\n",
            "188           0              0        4            4              4         0\n",
            "    C型肝炎01 氣喘史01 過敏史01 心臟病史01 高血壓01 醣尿病01 甲狀腺01 類風濕01\n",
            "188         0        1        1          0        0        0        1        0\n",
            "    重大意外01 自殺意念01 透露父母 透露手足 透露好友 透露同儕 透露長官 透露心輔\n",
            "188          1          1        0        0        0        0        0        0\n",
            "    透露醫師 拒告父母 拒告手足 拒告好友 拒告同儕 拒告長官 拒告心輔 拒告醫師\n",
            "188        0        1        1        1        1        1        1        1\n",
            "    BSRS總分 BSRSR總分 過動症總分 Inattention Impulsivity opposition depression\n",
            "188       20         5         18           9           9          8         57\n",
            "    anxiety burdensome belonging 家庭滿意度apgar 網路成癮症01 網路成癮分數YDQ\n",
            "188 29.0294         42        12               0            0               0\n",
            "    existeness meaning control seeking death suicidea 睡眠困擾_bsrs1\n",
            "188         28      10      22      16    15        7              4\n",
            "    睡眠困擾_bsrsr1 睡眠困擾_bdi16 易怒_bsrs3 易怒_bsrsr3 depress impuls\n",
            "188               1              3          4           1      57      9\n",
            "    Internet ADHD\n",
            "188        0   18\n"
          ],
          "name": "stdout"
        }
      ]
    },
    {
      "cell_type": "code",
      "metadata": {
        "id": "VqxpQ7u4yHYG",
        "colab": {
          "base_uri": "https://localhost:8080/"
        },
        "outputId": "b5820836-7c5f-484f-989b-2b20be8d0227"
      },
      "source": [
        "##3-1\n",
        "%%R\n",
        "formula='網路成癮分數YDQ~家庭滿意度apgar+as.factor(性別)'\n",
        "model1 <- glm(formula, myData, family='gaussian')\n",
        "summary(model1)"
      ],
      "execution_count": null,
      "outputs": [
        {
          "output_type": "stream",
          "text": [
            "\n",
            "Call:\n",
            "glm(formula = formula, family = \"gaussian\", data = myData)\n",
            "\n",
            "Deviance Residuals: \n",
            "    Min       1Q   Median       3Q      Max  \n",
            "-3.6114  -2.0277  -0.8196   1.7421   5.9723  \n",
            "\n",
            "Coefficients:\n",
            "                 Estimate Std. Error t value Pr(>|t|)    \n",
            "(Intercept)       3.61143    0.45550   7.929 2.03e-13 ***\n",
            "家庭滿意度apgar  -0.15837    0.05792  -2.734  0.00686 ** \n",
            "as.factor(性別)2 -1.06259    0.49946  -2.127  0.03470 *  \n",
            "---\n",
            "Signif. codes:  0 ‘***’ 0.001 ‘**’ 0.01 ‘*’ 0.05 ‘.’ 0.1 ‘ ’ 1\n",
            "\n",
            "(Dispersion parameter for gaussian family taken to be 5.747105)\n",
            "\n",
            "    Null deviance: 1136.5  on 187  degrees of freedom\n",
            "Residual deviance: 1063.2  on 185  degrees of freedom\n",
            "AIC: 867.25\n",
            "\n",
            "Number of Fisher Scoring iterations: 2\n",
            "\n"
          ],
          "name": "stdout"
        }
      ]
    },
    {
      "cell_type": "code",
      "metadata": {
        "id": "9hhojnJqGydD",
        "colab": {
          "base_uri": "https://localhost:8080/",
          "height": 497
        },
        "outputId": "db3caedd-7169-40d4-f229-bed3cc2674bd"
      },
      "source": [
        "##3-2\n",
        "%%R \n",
        "male=subset(myData, 性別==1)\n",
        "female=subset(myData, 性別==2)\n",
        "plot(male$家庭滿意度apgar,male$網路成癮分數YDQ, col='blue',pch=15, xlab='APGAR', ylab='YDQ')\n",
        "points(female$家庭滿意度apgar,female$網路成癮分數YDQ, col='red',pch=18)\n",
        "abline(glm(網路成癮分數YDQ~家庭滿意度apgar, data=male), col='blue')\n",
        "abline(glm(網路成癮分數YDQ~家庭滿意度apgar, data=female), col='red')"
      ],
      "execution_count": null,
      "outputs": [
        {
          "output_type": "display_data",
          "data": {
            "image/png": "[encoded data removed]"
          },
          "metadata": {
            "tags": []
          }
        }
      ]
    },
    {
      "cell_type": "code",
      "metadata": {
        "id": "yjHt7wTeFvgA",
        "colab": {
          "base_uri": "https://localhost:8080/"
        },
        "outputId": "b5be5222-392e-470b-d175-53968def1bce"
      },
      "source": [
        "##3-3\n",
        "%%R\n",
        "formula='網路成癮分數YDQ~家庭滿意度apgar+as.factor(性別)+家庭滿意度apgar*as.factor(性別)'\n",
        "model2<-glm(formula, myData, family='gaussian')\n",
        "summary(model2)"
      ],
      "execution_count": null,
      "outputs": [
        {
          "output_type": "stream",
          "text": [
            "\n",
            "Call:\n",
            "glm(formula = formula, family = \"gaussian\", data = myData)\n",
            "\n",
            "Deviance Residuals: \n",
            "    Min       1Q   Median       3Q      Max  \n",
            "-3.6574  -2.0095  -0.8334   1.7310   5.9905  \n",
            "\n",
            "Coefficients:\n",
            "                                 Estimate Std. Error t value Pr(>|t|)    \n",
            "(Intercept)                       3.65736    0.47720   7.664    1e-12 ***\n",
            "家庭滿意度apgar                  -0.16479    0.06121  -2.692  0.00776 ** \n",
            "as.factor(性別)2                 -1.55060    1.55641  -0.996  0.32043    \n",
            "家庭滿意度apgar:as.factor(性別)2  0.06402    0.19332   0.331  0.74091    \n",
            "---\n",
            "Signif. codes:  0 ‘***’ 0.001 ‘**’ 0.01 ‘*’ 0.05 ‘.’ 0.1 ‘ ’ 1\n",
            "\n",
            "(Dispersion parameter for gaussian family taken to be 5.774898)\n",
            "\n",
            "    Null deviance: 1136.5  on 187  degrees of freedom\n",
            "Residual deviance: 1062.6  on 184  degrees of freedom\n",
            "AIC: 869.14\n",
            "\n",
            "Number of Fisher Scoring iterations: 2\n",
            "\n"
          ],
          "name": "stdout"
        }
      ]
    },
    {
      "cell_type": "code",
      "metadata": {
        "colab": {
          "base_uri": "https://localhost:8080/"
        },
        "id": "Hk5AA7bNpGsk",
        "outputId": "3cb4a37d-971f-46e6-e978-3ae3e02a7086"
      },
      "source": [
        "##3-3-1\n",
        "%%R\n",
        "formula='網路成癮分數YDQ~家庭滿意度apgar+性別+家庭滿意度apgar*性別'\n",
        "model2<-glm(formula, myData, family='gaussian')\n",
        "summary(model2)"
      ],
      "execution_count": null,
      "outputs": [
        {
          "output_type": "stream",
          "text": [
            "\n",
            "Call:\n",
            "glm(formula = formula, family = \"gaussian\", data = myData)\n",
            "\n",
            "Deviance Residuals: \n",
            "    Min       1Q   Median       3Q      Max  \n",
            "-3.6574  -2.0095  -0.8334   1.7310   5.9905  \n",
            "\n",
            "Coefficients:\n",
            "                     Estimate Std. Error t value Pr(>|t|)   \n",
            "(Intercept)           5.20796    1.76226   2.955  0.00353 **\n",
            "家庭滿意度apgar      -0.22880    0.22049  -1.038  0.30076   \n",
            "性別                 -1.55060    1.55641  -0.996  0.32043   \n",
            "家庭滿意度apgar:性別  0.06402    0.19332   0.331  0.74091   \n",
            "---\n",
            "Signif. codes:  0 ‘***’ 0.001 ‘**’ 0.01 ‘*’ 0.05 ‘.’ 0.1 ‘ ’ 1\n",
            "\n",
            "(Dispersion parameter for gaussian family taken to be 5.774898)\n",
            "\n",
            "    Null deviance: 1136.5  on 187  degrees of freedom\n",
            "Residual deviance: 1062.6  on 184  degrees of freedom\n",
            "AIC: 869.14\n",
            "\n",
            "Number of Fisher Scoring iterations: 2\n",
            "\n"
          ],
          "name": "stdout"
        }
      ]
    },
    {
      "cell_type": "code",
      "metadata": {
        "id": "OttOoopKMdnc",
        "colab": {
          "base_uri": "https://localhost:8080/"
        },
        "outputId": "826cc127-5729-48ed-b9d9-475c2e9e0ae4"
      },
      "source": [
        "##3-4\n",
        "%%R\n",
        "formula='網路成癮分數YDQ~家庭滿意度apgar+年齡'\n",
        "model2<-glm(formula, myData, family='gaussian')\n",
        "summary(model2)"
      ],
      "execution_count": null,
      "outputs": [
        {
          "output_type": "stream",
          "text": [
            "\n",
            "Call:\n",
            "glm(formula = formula, family = \"gaussian\", data = myData)\n",
            "\n",
            "Deviance Residuals: \n",
            "    Min       1Q   Median       3Q      Max  \n",
            "-3.5674  -1.8336  -0.7965   1.8062   6.3314  \n",
            "\n",
            "Coefficients:\n",
            "                Estimate Std. Error t value Pr(>|t|)    \n",
            "(Intercept)      4.32133    1.04574   4.132 5.44e-05 ***\n",
            "家庭滿意度apgar -0.17338    0.05907  -2.935  0.00375 ** \n",
            "年齡            -0.03534    0.04109  -0.860  0.39080    \n",
            "---\n",
            "Signif. codes:  0 ‘***’ 0.001 ‘**’ 0.01 ‘*’ 0.05 ‘.’ 0.1 ‘ ’ 1\n",
            "\n",
            "(Dispersion parameter for gaussian family taken to be 5.864259)\n",
            "\n",
            "    Null deviance: 1136.5  on 187  degrees of freedom\n",
            "Residual deviance: 1084.9  on 185  degrees of freedom\n",
            "AIC: 871.05\n",
            "\n",
            "Number of Fisher Scoring iterations: 2\n",
            "\n"
          ],
          "name": "stdout"
        }
      ]
    },
    {
      "cell_type": "code",
      "metadata": {
        "id": "DPNAWg0iax3F",
        "colab": {
          "base_uri": "https://localhost:8080/"
        },
        "outputId": "3a52d4ae-bd24-4fd7-a95c-f3aa93e8b247"
      },
      "source": [
        "##3-5\n",
        "%%R\n",
        "formula='網路成癮分數YDQ~家庭滿意度apgar+anxiety'\n",
        "model2<-glm(formula, myData, family='gaussian')\n",
        "summary(model2)"
      ],
      "execution_count": null,
      "outputs": [
        {
          "output_type": "stream",
          "text": [
            "\n",
            "Call:\n",
            "glm(formula = formula, family = \"gaussian\", data = myData)\n",
            "\n",
            "Deviance Residuals: \n",
            "    Min       1Q   Median       3Q      Max  \n",
            "-5.4029  -1.6351  -0.8669   1.7393   5.9706  \n",
            "\n",
            "Coefficients:\n",
            "                Estimate Std. Error t value Pr(>|t|)   \n",
            "(Intercept)      1.18438    0.85130   1.391  0.16582   \n",
            "家庭滿意度apgar -0.12145    0.05861  -2.072  0.03962 * \n",
            "anxiety          0.06916    0.02153   3.212  0.00156 **\n",
            "---\n",
            "Signif. codes:  0 ‘***’ 0.001 ‘**’ 0.01 ‘*’ 0.05 ‘.’ 0.1 ‘ ’ 1\n",
            "\n",
            "(Dispersion parameter for gaussian family taken to be 5.576771)\n",
            "\n",
            "    Null deviance: 1136.5  on 187  degrees of freedom\n",
            "Residual deviance: 1031.7  on 185  degrees of freedom\n",
            "AIC: 861.6\n",
            "\n",
            "Number of Fisher Scoring iterations: 2\n",
            "\n"
          ],
          "name": "stdout"
        }
      ]
    },
    {
      "cell_type": "code",
      "metadata": {
        "id": "uMJ9oKK_dV9d",
        "colab": {
          "base_uri": "https://localhost:8080/"
        },
        "outputId": "739c80d2-2a52-4fe2-d89b-2ef170038e7c"
      },
      "source": [
        "##3-6-1\n",
        "%%R\n",
        "install.packages(\"scatterplot3d\")\n",
        "library('scatterplot3d')\n"
      ],
      "execution_count": null,
      "outputs": [
        {
          "output_type": "stream",
          "text": [
            "R[write to console]: Installing package into ‘/usr/local/lib/R/site-library’\n",
            "(as ‘lib’ is unspecified)\n",
            "\n",
            "R[write to console]: trying URL 'https://cran.rstudio.com/src/contrib/scatterplot3d_0.3-41.tar.gz'\n",
            "\n",
            "R[write to console]: Content type 'application/x-gzip'\n",
            "R[write to console]:  length 460912 bytes (450 KB)\n",
            "\n",
            "R[write to console]: =\n",
            "R[write to console]: =\n",
            "R[write to console]: =\n",
            "R[write to console]: =\n",
            "R[write to console]: =\n",
            "R[write to console]: =\n",
            "R[write to console]: =\n",
            "R[write to console]: =\n",
            "R[write to console]: =\n",
            "R[write to console]: =\n",
            "R[write to console]: =\n",
            "R[write to console]: =\n",
            "R[write to console]: =\n",
            "R[write to console]: =\n",
            "R[write to console]: =\n",
            "R[write to console]: =\n",
            "R[write to console]: =\n",
            "R[write to console]: =\n",
            "R[write to console]: =\n",
            "R[write to console]: =\n",
            "R[write to console]: =\n",
            "R[write to console]: =\n",
            "R[write to console]: =\n",
            "R[write to console]: =\n",
            "R[write to console]: =\n",
            "R[write to console]: =\n",
            "R[write to console]: =\n",
            "R[write to console]: =\n",
            "R[write to console]: =\n",
            "R[write to console]: =\n",
            "R[write to console]: =\n",
            "R[write to console]: =\n",
            "R[write to console]: =\n",
            "R[write to console]: =\n",
            "R[write to console]: =\n",
            "R[write to console]: =\n",
            "R[write to console]: =\n",
            "R[write to console]: =\n",
            "R[write to console]: =\n",
            "R[write to console]: =\n",
            "R[write to console]: =\n",
            "R[write to console]: =\n",
            "R[write to console]: =\n",
            "R[write to console]: =\n",
            "R[write to console]: =\n",
            "R[write to console]: =\n",
            "R[write to console]: =\n",
            "R[write to console]: =\n",
            "R[write to console]: =\n",
            "R[write to console]: =\n",
            "R[write to console]: \n",
            "\n",
            "R[write to console]: downloaded 450 KB\n",
            "\n",
            "\n",
            "R[write to console]: \n",
            "\n",
            "R[write to console]: \n",
            "R[write to console]: The downloaded source packages are in\n",
            "\t‘/tmp/RtmpE6g2qJ/downloaded_packages’\n",
            "R[write to console]: \n",
            "R[write to console]: \n",
            "\n"
          ],
          "name": "stderr"
        }
      ]
    },
    {
      "cell_type": "code",
      "metadata": {
        "id": "NLEm9oqmeJAJ",
        "colab": {
          "base_uri": "https://localhost:8080/",
          "height": 497
        },
        "outputId": "b9ba8557-dad5-4571-a8a3-16dd5bd2ecbe"
      },
      "source": [
        "##3-6-2\n",
        "%%R\n",
        "scatterplot3d(myData$家庭滿意度apgar,myData$網路成癮分數YDQ,myData$anxiety, xlab='APGAR', ylab='YDQ', zlab='anxiety')\n",
        "abline(glm(網路成癮分數YDQ~家庭滿意度apgar+anxiety, data=male), col='blue', lwd=2, type='1')"
      ],
      "execution_count": null,
      "outputs": [
        {
          "output_type": "display_data",
          "data": {
            "image/png": "[encoded data removed]"
          },
          "metadata": {
            "tags": []
          }
        }
      ]
    },
    {
      "cell_type": "code",
      "metadata": {
        "id": "B6tG0KexGV1B",
        "colab": {
          "base_uri": "https://localhost:8080/"
        },
        "outputId": "ab848fe7-405c-4699-c2b9-a2783f7c8188"
      },
      "source": [
        "##3-7\n",
        "%%R\n",
        "formula='網路成癮分數YDQ~家庭滿意度apgar+anxiety+家庭滿意度apgar*anxiety'\n",
        "model2<-glm(formula, myData, family='gaussian')\n",
        "summary(model2)"
      ],
      "execution_count": null,
      "outputs": [
        {
          "output_type": "stream",
          "text": [
            "\n",
            "Call:\n",
            "glm(formula = formula, family = \"gaussian\", data = myData)\n",
            "\n",
            "Deviance Residuals: \n",
            "    Min       1Q   Median       3Q      Max  \n",
            "-5.0797  -1.6819  -0.8761   1.7412   5.9368  \n",
            "\n",
            "Coefficients:\n",
            "                         Estimate Std. Error t value Pr(>|t|)\n",
            "(Intercept)              1.539326   1.473788   1.044    0.298\n",
            "家庭滿意度apgar         -0.175972   0.193686  -0.909    0.365\n",
            "anxiety                  0.058039   0.043382   1.338    0.183\n",
            "家庭滿意度apgar:anxiety  0.001774   0.006005   0.295    0.768\n",
            "\n",
            "(Dispersion parameter for gaussian family taken to be 5.604422)\n",
            "\n",
            "    Null deviance: 1136.5  on 187  degrees of freedom\n",
            "Residual deviance: 1031.2  on 184  degrees of freedom\n",
            "AIC: 863.51\n",
            "\n",
            "Number of Fisher Scoring iterations: 2\n",
            "\n"
          ],
          "name": "stdout"
        }
      ]
    },
    {
      "cell_type": "code",
      "metadata": {
        "colab": {
          "base_uri": "https://localhost:8080/"
        },
        "id": "GELnZ9zm6SbE",
        "outputId": "52067fe4-fd42-4f15-f7c1-f655f13ab9b0"
      },
      "source": [
        "##3-8\n",
        "%%R\n",
        "myData$注意力不足過動症01<-as.integer(myData$注意力不足過動症01)\n",
        "formula='網路成癮分數YDQ~as.factor(性別)+年齡+家庭滿意度apgar+as.factor(注意力不足過動症01)'\n",
        "formula=paste(formula,'+anxiety+depression+過動症總分+睡眠困擾_bsrs1')\n",
        "model2<-glm(formula, myData, family='gaussian')\n",
        "summary(model2)"
      ],
      "execution_count": null,
      "outputs": [
        {
          "output_type": "stream",
          "text": [
            "\n",
            "Call:\n",
            "glm(formula = formula, family = \"gaussian\", data = myData)\n",
            "\n",
            "Deviance Residuals: \n",
            "   Min      1Q  Median      3Q     Max  \n",
            "-5.324  -1.568  -0.524   1.366   6.512  \n",
            "\n",
            "Coefficients:\n",
            "                               Estimate Std. Error t value Pr(>|t|)  \n",
            "(Intercept)                     2.12876    1.13825   1.870   0.0631 .\n",
            "as.factor(性別)2               -1.02656    0.48352  -2.123   0.0351 *\n",
            "年齡                           -0.06828    0.04005  -1.705   0.0900 .\n",
            "家庭滿意度apgar                -0.05140    0.06128  -0.839   0.4027  \n",
            "as.factor(注意力不足過動症01)1  0.26978    0.96693   0.279   0.7806  \n",
            "anxiety                         0.03745    0.02404   1.558   0.1211  \n",
            "depression                      0.04952    0.02100   2.359   0.0194 *\n",
            "過動症總分                      0.04383    0.01921   2.282   0.0237 *\n",
            "睡眠困擾_bsrs1                 -0.14922    0.20412  -0.731   0.4657  \n",
            "---\n",
            "Signif. codes:  0 ‘***’ 0.001 ‘**’ 0.01 ‘*’ 0.05 ‘.’ 0.1 ‘ ’ 1\n",
            "\n",
            "(Dispersion parameter for gaussian family taken to be 5.129394)\n",
            "\n",
            "    Null deviance: 1136.48  on 187  degrees of freedom\n",
            "Residual deviance:  918.16  on 179  degrees of freedom\n",
            "AIC: 851.68\n",
            "\n",
            "Number of Fisher Scoring iterations: 2\n",
            "\n"
          ],
          "name": "stdout"
        }
      ]
    }
  ]
}