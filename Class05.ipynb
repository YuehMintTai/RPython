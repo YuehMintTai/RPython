{
  "nbformat": 4,
  "nbformat_minor": 0,
  "metadata": {
    "colab": {
      "name": "Class05.ipynb",
      "provenance": []
    },
    "kernelspec": {
      "name": "python3",
      "display_name": "Python 3"
    },
    "language_info": {
      "name": "python"
    }
  },
  "cells": [
    {
      "cell_type": "markdown",
      "metadata": {
        "id": "ECeBJ5w0_XZu"
      },
      "source": [
        "#三軍總醫院北投分院統計及實驗設計課程之一  \n",
        "## 2021/6/24\n",
        "## ytai1123@gmail.com\n",
        "### 使用方法:\n",
        "\n",
        "\n",
        "1.   使用gmail帳號登入\n",
        "2.   按\"執行階段\" -->\"全部執行\" 以執行全部內容, 若要個別執行可點選每格程式左方箭頭或按 Control + Enter 鍵執行。\n",
        "\n",
        "###Galton Board 1\n",
        "<img src=\"https://denniscooperblog.com/wp-content/uploads/2018/07/AggressiveAromaticBuckeyebutterfly-size_restricted.gif\" width=\"750\" align=\"center\">\n",
        "\n",
        "###Galton Board 2\n",
        "\n",
        "<img src='https://indexplus.co/wp-content/uploads/2020/09/Galton-Board.gif' align='ceter'> \n"
      ]
    },
    {
      "cell_type": "code",
      "metadata": {
        "colab": {
          "base_uri": "https://localhost:8080/"
        },
        "id": "214eR-NC96PG",
        "outputId": "07a5e2dc-b154-494e-e79e-8eb51ee090f7"
      },
      "source": [
        "##0-1\n",
        "!git clone https://github.com/YuehMintTai/RPython.git"
      ],
      "execution_count": null,
      "outputs": [
        {
          "output_type": "stream",
          "text": [
            "Cloning into 'RPython'...\n",
            "remote: Enumerating objects: 195, done.\u001b[K\n",
            "remote: Counting objects: 100% (195/195), done.\u001b[K\n",
            "remote: Compressing objects: 100% (193/193), done.\u001b[K\n",
            "remote: Total 195 (delta 108), reused 0 (delta 0), pack-reused 0\u001b[K\n",
            "Receiving objects: 100% (195/195), 1000.28 KiB | 4.95 MiB/s, done.\n",
            "Resolving deltas: 100% (108/108), done.\n"
          ],
          "name": "stdout"
        }
      ]
    },
    {
      "cell_type": "code",
      "metadata": {
        "colab": {
          "base_uri": "https://localhost:8080/"
        },
        "id": "3Lohyqr5_xe4",
        "outputId": "9c2be85d-3806-4bbc-979e-45ce1d040bbb"
      },
      "source": [
        "##0-2\n",
        "!pip install rpy2"
      ],
      "execution_count": null,
      "outputs": [
        {
          "output_type": "stream",
          "text": [
            "Requirement already satisfied: rpy2 in /usr/local/lib/python3.7/dist-packages (3.4.5)\n",
            "Requirement already satisfied: tzlocal in /usr/local/lib/python3.7/dist-packages (from rpy2) (1.5.1)\n",
            "Requirement already satisfied: jinja2 in /usr/local/lib/python3.7/dist-packages (from rpy2) (2.11.3)\n",
            "Requirement already satisfied: cffi>=1.10.0 in /usr/local/lib/python3.7/dist-packages (from rpy2) (1.14.5)\n",
            "Requirement already satisfied: pytz in /usr/local/lib/python3.7/dist-packages (from rpy2) (2018.9)\n",
            "Requirement already satisfied: MarkupSafe>=0.23 in /usr/local/lib/python3.7/dist-packages (from jinja2->rpy2) (2.0.1)\n",
            "Requirement already satisfied: pycparser in /usr/local/lib/python3.7/dist-packages (from cffi>=1.10.0->rpy2) (2.20)\n"
          ],
          "name": "stdout"
        }
      ]
    },
    {
      "cell_type": "code",
      "metadata": {
        "id": "O8moMiXe_4r7"
      },
      "source": [
        "##0-3\n",
        "%load_ext rpy2.ipython"
      ],
      "execution_count": null,
      "outputs": []
    },
    {
      "cell_type": "code",
      "metadata": {
        "colab": {
          "base_uri": "https://localhost:8080/"
        },
        "id": "SSo-xE1XC3OT",
        "outputId": "30b6ccad-f915-4893-ac30-194e52746171"
      },
      "source": [
        "##5-1\n",
        "%%R\n",
        "myData<-read.csv('RPython/samples.csv')\n",
        "tail(myData,1)"
      ],
      "execution_count": null,
      "outputs": [
        {
          "output_type": "stream",
          "text": [
            "    SID 性別 年齡 入伍前職業 教育程度 婚姻狀況 皆無過去病史01 早產兒01\n",
            "188   4    1   25         商        4        1              1        0\n",
            "    頭部曾受傷01 發展遲緩01 注意力不足過動症01 癲癇01 癲癇服藥治療 癲癇服藥期間\n",
            "188            0          0                  0      0            0            0\n",
            "    軍種 軍階 役別 入伍至今_年 聽過自殺課程_次 求助心輔_次 求助精神科_次\n",
            "188    1    1    2         0.5               1           0             2\n",
            "    使用1995_次 使用24h專線_次 特殊狀況 父母婚姻狀態 自殺意念_bsrs6 B型肝炎01\n",
            "188           0              0        4            4              4         0\n",
            "    C型肝炎01 氣喘史01 過敏史01 心臟病史01 高血壓01 醣尿病01 甲狀腺01 類風濕01\n",
            "188         0        1        1          0        0        0        1        0\n",
            "    重大意外01 自殺意念01 透露父母 透露手足 透露好友 透露同儕 透露長官 透露心輔\n",
            "188          1          1        0        0        0        0        0        0\n",
            "    透露醫師 拒告父母 拒告手足 拒告好友 拒告同儕 拒告長官 拒告心輔 拒告醫師\n",
            "188        0        1        1        1        1        1        1        1\n",
            "    BSRS總分 BSRSR總分 過動症總分 Inattention Impulsivity opposition depression\n",
            "188       20         5         18           9           9          8         57\n",
            "    anxiety burdensome belonging 家庭滿意度apgar 網路成癮症01 網路成癮分數YDQ\n",
            "188 29.0294         42        12               0            0               0\n",
            "    existeness meaning control seeking death suicidea 睡眠困擾_bsrs1\n",
            "188         28      10      22      16    15        7              4\n",
            "    睡眠困擾_bsrsr1 睡眠困擾_bdi16 易怒_bsrs3 易怒_bsrsr3 depress impuls\n",
            "188               1              3          4           1      57      9\n",
            "    Internet ADHD\n",
            "188        0   18\n"
          ],
          "name": "stdout"
        }
      ]
    },
    {
      "cell_type": "code",
      "metadata": {
        "colab": {
          "base_uri": "https://localhost:8080/",
          "height": 977
        },
        "id": "QqrxJN02Di5f",
        "outputId": "c99a59af-ab5d-48e0-d199-4930141ce460"
      },
      "source": [
        "##5-2\n",
        "%%R\n",
        "meanAPGAR<-mean(myData$家庭滿意度apgar)\n",
        "stdAPGAR<-sqrt(var(myData$家庭滿意度apgar))\n",
        "stdAPGAR\n",
        "hist(myData$家庭滿意度apgar,xlab='APGAR',\n",
        "     main=paste('mean:',toString(round(meanAPGAR,2)),',std:',toString(round(stdAPGAR,2))),\n",
        "     density=30, prob=TRUE, xlim=c(0,15))\n",
        "curve(dnorm(x,mean=meanAPGAR,sd=stdAPGAR), add=TRUE,col='darkblue')\n",
        "\n",
        "meanYDQ<-mean(myData$網路成癮分數YDQ)\n",
        "stdYDQ<-sqrt(var(myData$網路成癮分數YDQ))\n",
        "hist(myData$網路成癮分數YDQ,xlab='YDQ',density=30, prob=TRUE,xlim=c(-5,8),\n",
        "     main=paste('mean:',toString(round(meanYDQ,2)),',std:',toString(round(stdYDQ,2))))\n",
        "curve(dnorm(x,mean=meanYDQ,sd=stdYDQ),add=TRUE,col='red')"
      ],
      "execution_count": null,
      "outputs": [
        {
          "output_type": "display_data",
          "data": {
            "image/png": "[encoded data removed]"
          },
          "metadata": {
            "tags": []
          }
        },
        {
          "output_type": "display_data",
          "data": {
            "image/png": "[encoded data removed]"
          },
          "metadata": {
            "tags": []
          }
        }
      ]
    },
    {
      "cell_type": "code",
      "metadata": {
        "colab": {
          "base_uri": "https://localhost:8080/",
          "height": 893
        },
        "id": "Dc9dNI-4V-E5",
        "outputId": "2fcb053e-1350-431c-d58c-04d66aac5e5c"
      },
      "source": [
        "##5-3\n",
        "%%R\n",
        "formula1<-'家庭滿意度apgar~網路成癮分數YDQ'\n",
        "model1<-glm(formula1,myData, family='gaussian')\n",
        "print(summary(model1))\n",
        "plot(myData$網路成癮分數YDQ,myData$家庭滿意度apgar,xlab='YDQ',ylab='APGAR')\n",
        "abline(model1,col='blue')"
      ],
      "execution_count": null,
      "outputs": [
        {
          "output_type": "stream",
          "text": [
            "\n",
            "Call:\n",
            "glm(formula = formula1, family = \"gaussian\", data = myData)\n",
            "\n",
            "Deviance Residuals: \n",
            "    Min       1Q   Median       3Q      Max  \n",
            "-7.8102  -2.3087   0.6913   2.4405   4.1961  \n",
            "\n",
            "Coefficients:\n",
            "                Estimate Std. Error t value Pr(>|t|)    \n",
            "(Intercept)      7.81025    0.29807  26.202   <2e-16 ***\n",
            "網路成癮分數YDQ -0.25080    0.08829  -2.841    0.005 ** \n",
            "---\n",
            "Signif. codes:  0 ‘***’ 0.001 ‘**’ 0.01 ‘*’ 0.05 ‘.’ 0.1 ‘ ’ 1\n",
            "\n",
            "(Dispersion parameter for gaussian family taken to be 8.858218)\n",
            "\n",
            "    Null deviance: 1719.1  on 187  degrees of freedom\n",
            "Residual deviance: 1647.6  on 186  degrees of freedom\n",
            "AIC: 947.6\n",
            "\n",
            "Number of Fisher Scoring iterations: 2\n",
            "\n"
          ],
          "name": "stdout"
        },
        {
          "output_type": "display_data",
          "data": {
            "image/png": "[encoded data removed]"
          },
          "metadata": {
            "tags": []
          }
        }
      ]
    },
    {
      "cell_type": "code",
      "metadata": {
        "colab": {
          "base_uri": "https://localhost:8080/",
          "height": 893
        },
        "id": "5-cpPxKmWYbp",
        "outputId": "6e4b41f2-50b4-42bb-f0c1-beac5eb7626a"
      },
      "source": [
        "##5-5\n",
        "%%R\n",
        "formula2<-'網路成癮分數YDQ~家庭滿意度apgar'\n",
        "model2<-glm(formula2,myData, family='gaussian')\n",
        "print(summary(model2))\n",
        "plot(myData$家庭滿意度apgar,myData$網路成癮分數YDQ,xlab='APGAR',ylab='YDQ')\n",
        "abline(model2,col='red')"
      ],
      "execution_count": null,
      "outputs": [
        {
          "output_type": "stream",
          "text": [
            "\n",
            "Call:\n",
            "glm(formula = formula2, family = \"gaussian\", data = myData)\n",
            "\n",
            "Deviance Residuals: \n",
            "    Min       1Q   Median       3Q      Max  \n",
            "-3.5125  -1.8546  -0.8546   1.8138   6.1454  \n",
            "\n",
            "Coefficients:\n",
            "                Estimate Std. Error t value Pr(>|t|)    \n",
            "(Intercept)      3.51255    0.45740   7.679 8.82e-13 ***\n",
            "家庭滿意度apgar -0.16580    0.05836  -2.841    0.005 ** \n",
            "---\n",
            "Signif. codes:  0 ‘***’ 0.001 ‘**’ 0.01 ‘*’ 0.05 ‘.’ 0.1 ‘ ’ 1\n",
            "\n",
            "(Dispersion parameter for gaussian family taken to be 5.856059)\n",
            "\n",
            "    Null deviance: 1136.5  on 187  degrees of freedom\n",
            "Residual deviance: 1089.2  on 186  degrees of freedom\n",
            "AIC: 869.8\n",
            "\n",
            "Number of Fisher Scoring iterations: 2\n",
            "\n"
          ],
          "name": "stdout"
        },
        {
          "output_type": "display_data",
          "data": {
            "image/png": "[encoded data removed]"
          },
          "metadata": {
            "tags": []
          }
        }
      ]
    },
    {
      "cell_type": "code",
      "metadata": {
        "colab": {
          "base_uri": "https://localhost:8080/"
        },
        "id": "o5ujE9ArWi-Q",
        "outputId": "027f7f29-7cdf-44df-a584-6044253498ed"
      },
      "source": [
        "##5-6\n",
        "%%R\n",
        "apgar_z<-scale(myData$家庭滿意度apgar)\n",
        "YDQ_z<-scale(myData$網路成癮分數YDQ)\n",
        "formula1<-'apgar_z~YDQ_z'\n",
        "model1<-glm(formula1,family='gaussian')\n",
        "print(summary(model1))\n",
        "formula2<-'YDQ_z~apgar_z'\n",
        "model2<-glm(formula2,family='gaussian')\n",
        "print(summary(model2))\n",
        "print(cor(myData$家庭滿意度apgar,myData$網路成癮分數YDQ))\n",
        "print(cor(myData$網路成癮分數YDQ,myData$家庭滿意度apgar))"
      ],
      "execution_count": null,
      "outputs": [
        {
          "output_type": "stream",
          "text": [
            "\n",
            "Call:\n",
            "glm(formula = formula1, family = \"gaussian\")\n",
            "\n",
            "Deviance Residuals: \n",
            "    Min       1Q   Median       3Q      Max  \n",
            "-2.5759  -0.7614   0.2280   0.8049   1.3839  \n",
            "\n",
            "Coefficients:\n",
            "              Estimate Std. Error t value Pr(>|t|)   \n",
            "(Intercept)  9.522e-17  7.159e-02   0.000    1.000   \n",
            "YDQ_z       -2.039e-01  7.178e-02  -2.841    0.005 **\n",
            "---\n",
            "Signif. codes:  0 ‘***’ 0.001 ‘**’ 0.01 ‘*’ 0.05 ‘.’ 0.1 ‘ ’ 1\n",
            "\n",
            "(Dispersion parameter for gaussian family taken to be 0.963571)\n",
            "\n",
            "    Null deviance: 187.00  on 187  degrees of freedom\n",
            "Residual deviance: 179.22  on 186  degrees of freedom\n",
            "AIC: 530.53\n",
            "\n",
            "Number of Fisher Scoring iterations: 2\n",
            "\n",
            "\n",
            "Call:\n",
            "glm(formula = formula2, family = \"gaussian\")\n",
            "\n",
            "Deviance Residuals: \n",
            "    Min       1Q   Median       3Q      Max  \n",
            "-1.4248  -0.7523  -0.3466   0.7358   2.4928  \n",
            "\n",
            "Coefficients:\n",
            "              Estimate Std. Error t value Pr(>|t|)   \n",
            "(Intercept) -2.206e-17  7.159e-02   0.000    1.000   \n",
            "apgar_z     -2.039e-01  7.178e-02  -2.841    0.005 **\n",
            "---\n",
            "Signif. codes:  0 ‘***’ 0.001 ‘**’ 0.01 ‘*’ 0.05 ‘.’ 0.1 ‘ ’ 1\n",
            "\n",
            "(Dispersion parameter for gaussian family taken to be 0.963571)\n",
            "\n",
            "    Null deviance: 187.00  on 187  degrees of freedom\n",
            "Residual deviance: 179.22  on 186  degrees of freedom\n",
            "AIC: 530.53\n",
            "\n",
            "Number of Fisher Scoring iterations: 2\n",
            "\n",
            "[1] -0.2039162\n",
            "[1] -0.2039162\n"
          ],
          "name": "stdout"
        }
      ]
    },
    {
      "cell_type": "code",
      "metadata": {
        "id": "oj0A7sXHWdoJ",
        "colab": {
          "base_uri": "https://localhost:8080/",
          "height": 1000
        },
        "outputId": "966310d3-c843-4c36-ac9c-2a7f22760c6a"
      },
      "source": [
        "##5-7\n",
        "%%R\n",
        "hist(myData$求助精神科_次)\n",
        "hist(myData$聽過自殺課程_次)\n",
        "hist(myData$求助精神科_次)"
      ],
      "execution_count": null,
      "outputs": [
        {
          "output_type": "display_data",
          "data": {
            "image/png": "[encoded data removed]"
          },
          "metadata": {
            "tags": []
          }
        },
        {
          "output_type": "display_data",
          "data": {
            "image/png": "[encoded data removed]"
          },
          "metadata": {
            "tags": []
          }
        },
        {
          "output_type": "display_data",
          "data": {
            "image/png": "[encoded data removed]"
          },
          "metadata": {
            "tags": []
          }
        }
      ]
    },
    {
      "cell_type": "code",
      "metadata": {
        "colab": {
          "base_uri": "https://localhost:8080/"
        },
        "id": "CYgktH794369",
        "outputId": "16f10f14-12c6-48b9-a364-b7b3aedb96d5"
      },
      "source": [
        "##5-8\n",
        "%%R\n",
        "formula<-'求助精神科_次~depression+anxiety+as.factor(性別)'\n",
        "model3<-glm(formula,myData,family='poisson')\n",
        "print(summary(model3))\n",
        "model4<-glm(formula,myData,family='gaussian')\n",
        "print(summary(model4))"
      ],
      "execution_count": null,
      "outputs": [
        {
          "output_type": "stream",
          "text": [
            "\n",
            "Call:\n",
            "glm(formula = formula, family = \"poisson\", data = myData)\n",
            "\n",
            "Deviance Residuals: \n",
            "    Min       1Q   Median       3Q      Max  \n",
            "-3.5048  -1.0196  -0.7961   0.1068   8.7262  \n",
            "\n",
            "Coefficients:\n",
            "                  Estimate Std. Error z value Pr(>|z|)    \n",
            "(Intercept)      -2.037534   0.235704  -8.644  < 2e-16 ***\n",
            "depression        0.051433   0.006047   8.505  < 2e-16 ***\n",
            "anxiety           0.036382   0.006475   5.619 1.92e-08 ***\n",
            "as.factor(性別)2 -1.387183   0.390855  -3.549 0.000387 ***\n",
            "---\n",
            "Signif. codes:  0 ‘***’ 0.001 ‘**’ 0.01 ‘*’ 0.05 ‘.’ 0.1 ‘ ’ 1\n",
            "\n",
            "(Dispersion parameter for poisson family taken to be 1)\n",
            "\n",
            "    Null deviance: 561.82  on 187  degrees of freedom\n",
            "Residual deviance: 391.53  on 184  degrees of freedom\n",
            "AIC: Inf\n",
            "\n",
            "Number of Fisher Scoring iterations: 6\n",
            "\n",
            "\n",
            "Call:\n",
            "glm(formula = formula, family = \"gaussian\", data = myData)\n",
            "\n",
            "Deviance Residuals: \n",
            "    Min       1Q   Median       3Q      Max  \n",
            "-3.8388  -0.8945  -0.2203   0.1281  18.4386  \n",
            "\n",
            "Coefficients:\n",
            "                 Estimate Std. Error t value Pr(>|t|)   \n",
            "(Intercept)      -1.33519    0.63446  -2.104  0.03670 * \n",
            "depression        0.05526    0.01732   3.190  0.00167 **\n",
            "anxiety           0.05790    0.02373   2.440  0.01565 * \n",
            "as.factor(性別)2 -0.76706    0.47796  -1.605  0.11023   \n",
            "---\n",
            "Signif. codes:  0 ‘***’ 0.001 ‘**’ 0.01 ‘*’ 0.05 ‘.’ 0.1 ‘ ’ 1\n",
            "\n",
            "(Dispersion parameter for gaussian family taken to be 5.281758)\n",
            "\n",
            "    Null deviance: 1158.85  on 187  degrees of freedom\n",
            "Residual deviance:  971.84  on 184  degrees of freedom\n",
            "AIC: 852.36\n",
            "\n",
            "Number of Fisher Scoring iterations: 2\n",
            "\n"
          ],
          "name": "stdout"
        }
      ]
    },
    {
      "cell_type": "code",
      "metadata": {
        "colab": {
          "base_uri": "https://localhost:8080/"
        },
        "id": "NUhtHGDzjQP_",
        "outputId": "aadc9c92-d7e6-4b7f-a27d-a2aa681e969e"
      },
      "source": [
        "##5-9 Test for normality (是否符合常態分佈)\n",
        "%%R\n",
        "print(shapiro.test(myData$聽過自殺課程_次))\n",
        "shapiro.test(myData$聽過自殺課程_次^.55)"
      ],
      "execution_count": null,
      "outputs": [
        {
          "output_type": "stream",
          "text": [
            "\n",
            "\tShapiro-Wilk normality test\n",
            "\n",
            "data:  myData$聽過自殺課程_次\n",
            "W = 0.77537, p-value = 1.081e-15\n",
            "\n",
            "\n",
            "\tShapiro-Wilk normality test\n",
            "\n",
            "data:  myData$聽過自殺課程_次^0.55\n",
            "W = 0.91018, p-value = 2.784e-09\n",
            "\n"
          ],
          "name": "stdout"
        }
      ]
    },
    {
      "cell_type": "code",
      "metadata": {
        "colab": {
          "base_uri": "https://localhost:8080/",
          "height": 928
        },
        "id": "MmFZ9KJhtSoI",
        "outputId": "f01fb3a8-8c81-4342-e5c2-78b5451dea2f"
      },
      "source": [
        "##5-10\n",
        "%%R\n",
        "##由於發現有輸入時的錯誤,以致自殺意念01有小數點的錯誤..\n",
        "myData$自殺意念01=as.integer(myData$自殺意念01)\n",
        "hist(myData$自殺意念01)\n",
        "formula='自殺意念01~網路成癮分數YDQ+家庭滿意度apgar+as.factor(性別)'\n",
        "model5<-glm(formula,myData,family='binomial')\n",
        "summary(model5)"
      ],
      "execution_count": null,
      "outputs": [
        {
          "output_type": "stream",
          "text": [
            "\n",
            "Call:\n",
            "glm(formula = formula, family = \"binomial\", data = myData)\n",
            "\n",
            "Deviance Residuals: \n",
            "    Min       1Q   Median       3Q      Max  \n",
            "-1.6566  -0.6349  -0.3651  -0.3242   2.4336  \n",
            "\n",
            "Coefficients:\n",
            "                 Estimate Std. Error z value Pr(>|z|)    \n",
            "(Intercept)       0.42723    0.51567   0.828    0.407    \n",
            "網路成癮分數YDQ   0.08156    0.07970   1.023    0.306    \n",
            "家庭滿意度apgar  -0.33467    0.06879  -4.865 1.15e-06 ***\n",
            "as.factor(性別)2  0.01150    0.62750   0.018    0.985    \n",
            "---\n",
            "Signif. codes:  0 ‘***’ 0.001 ‘**’ 0.01 ‘*’ 0.05 ‘.’ 0.1 ‘ ’ 1\n",
            "\n",
            "(Dispersion parameter for binomial family taken to be 1)\n",
            "\n",
            "    Null deviance: 180.71  on 187  degrees of freedom\n",
            "Residual deviance: 148.95  on 184  degrees of freedom\n",
            "AIC: 156.95\n",
            "\n",
            "Number of Fisher Scoring iterations: 5\n",
            "\n"
          ],
          "name": "stdout"
        },
        {
          "output_type": "display_data",
          "data": {
            "image/png": "[encoded data removed]"
          },
          "metadata": {
            "tags": []
          }
        }
      ]
    },
    {
      "cell_type": "code",
      "metadata": {
        "colab": {
          "base_uri": "https://localhost:8080/"
        },
        "id": "HtrnDCalve-M",
        "outputId": "cd6181f0-c9a3-4265-8b8e-72c2a6464277"
      },
      "source": [
        "##5-11\n",
        "%%R\n",
        "formula='自殺意念01~網路成癮分數YDQ+家庭滿意度apgar+as.factor(性別)'\n",
        "model5<-glm(formula,myData,family='binomial')\n",
        "summary(model5)"
      ],
      "execution_count": null,
      "outputs": [
        {
          "output_type": "stream",
          "text": [
            "\n",
            "Call:\n",
            "glm(formula = formula, family = \"binomial\", data = myData)\n",
            "\n",
            "Deviance Residuals: \n",
            "    Min       1Q   Median       3Q      Max  \n",
            "-1.6566  -0.6349  -0.3651  -0.3242   2.4336  \n",
            "\n",
            "Coefficients:\n",
            "                 Estimate Std. Error z value Pr(>|z|)    \n",
            "(Intercept)       0.42723    0.51567   0.828    0.407    \n",
            "網路成癮分數YDQ   0.08156    0.07970   1.023    0.306    \n",
            "家庭滿意度apgar  -0.33467    0.06879  -4.865 1.15e-06 ***\n",
            "as.factor(性別)2  0.01150    0.62750   0.018    0.985    \n",
            "---\n",
            "Signif. codes:  0 ‘***’ 0.001 ‘**’ 0.01 ‘*’ 0.05 ‘.’ 0.1 ‘ ’ 1\n",
            "\n",
            "(Dispersion parameter for binomial family taken to be 1)\n",
            "\n",
            "    Null deviance: 180.71  on 187  degrees of freedom\n",
            "Residual deviance: 148.95  on 184  degrees of freedom\n",
            "AIC: 156.95\n",
            "\n",
            "Number of Fisher Scoring iterations: 5\n",
            "\n"
          ],
          "name": "stdout"
        }
      ]
    },
    {
      "cell_type": "code",
      "metadata": {
        "colab": {
          "base_uri": "https://localhost:8080/",
          "height": 401
        },
        "id": "J2BDULtu4A18",
        "outputId": "c644fbee-a5e4-48aa-8e3c-d40d15cc3386"
      },
      "source": [
        "##5-12-1 Logistic regression in Python statemodels\n",
        "import statsmodels.api as sm\n",
        "import statsmodels.formula.api as smf\n",
        "import pandas as pd\n",
        "import numpy as np\n",
        "df=pd.read_csv('RPython/samples.csv')\n",
        "y=df.自殺意念01.astype(int)\n",
        "formula='自殺意念01.astype(int)~網路成癮分數YDQ+家庭滿意度apgar+C(性別)'\n",
        "model7=smf.logit(formula=formula,data=df)\n",
        "result=model7.fit()\n",
        "result.summary()\n"
      ],
      "execution_count": null,
      "outputs": [
        {
          "output_type": "stream",
          "text": [
            "/usr/local/lib/python3.7/dist-packages/statsmodels/tools/_testing.py:19: FutureWarning: pandas.util.testing is deprecated. Use the functions in the public API at pandas.testing instead.\n",
            "  import pandas.util.testing as tm\n"
          ],
          "name": "stderr"
        },
        {
          "output_type": "stream",
          "text": [
            "Optimization terminated successfully.\n",
            "         Current function value: 0.396135\n",
            "         Iterations 6\n"
          ],
          "name": "stdout"
        },
        {
          "output_type": "execute_result",
          "data": {
            "text/html": [
              "<table class=\"simpletable\">\n",
              "<caption>Logit Regression Results</caption>\n",
              "<tr>\n",
              "  <th>Dep. Variable:</th>   <td>自殺意念01.astype(int)</td> <th>  No. Observations:  </th>  <td>   188</td>  \n",
              "</tr>\n",
              "<tr>\n",
              "  <th>Model:</th>                  <td>Logit</td>       <th>  Df Residuals:      </th>  <td>   184</td>  \n",
              "</tr>\n",
              "<tr>\n",
              "  <th>Method:</th>                  <td>MLE</td>        <th>  Df Model:          </th>  <td>     3</td>  \n",
              "</tr>\n",
              "<tr>\n",
              "  <th>Date:</th>             <td>Tue, 06 Jul 2021</td>  <th>  Pseudo R-squ.:     </th>  <td>0.1758</td>  \n",
              "</tr>\n",
              "<tr>\n",
              "  <th>Time:</th>                 <td>00:22:20</td>      <th>  Log-Likelihood:    </th> <td> -74.473</td> \n",
              "</tr>\n",
              "<tr>\n",
              "  <th>converged:</th>              <td>True</td>        <th>  LL-Null:           </th> <td> -90.357</td> \n",
              "</tr>\n",
              "<tr>\n",
              "  <th>Covariance Type:</th>      <td>nonrobust</td>     <th>  LLR p-value:       </th> <td>5.860e-07</td>\n",
              "</tr>\n",
              "</table>\n",
              "<table class=\"simpletable\">\n",
              "<tr>\n",
              "       <td></td>         <th>coef</th>     <th>std err</th>      <th>z</th>      <th>P>|z|</th>  <th>[0.025</th>    <th>0.975]</th>  \n",
              "</tr>\n",
              "<tr>\n",
              "  <th>Intercept</th>  <td>    0.4272</td> <td>    0.516</td> <td>    0.828</td> <td> 0.407</td> <td>   -0.583</td> <td>    1.438</td>\n",
              "</tr>\n",
              "<tr>\n",
              "  <th>C(性別)[T.2]</th> <td>    0.0115</td> <td>    0.627</td> <td>    0.018</td> <td> 0.985</td> <td>   -1.218</td> <td>    1.241</td>\n",
              "</tr>\n",
              "<tr>\n",
              "  <th>網路成癮分數YDQ</th>  <td>    0.0816</td> <td>    0.080</td> <td>    1.023</td> <td> 0.306</td> <td>   -0.075</td> <td>    0.238</td>\n",
              "</tr>\n",
              "<tr>\n",
              "  <th>家庭滿意度apgar</th> <td>   -0.3347</td> <td>    0.069</td> <td>   -4.865</td> <td> 0.000</td> <td>   -0.470</td> <td>   -0.200</td>\n",
              "</tr>\n",
              "</table>"
            ],
            "text/plain": [
              "<class 'statsmodels.iolib.summary.Summary'>\n",
              "\"\"\"\n",
              "                           Logit Regression Results                           \n",
              "==============================================================================\n",
              "Dep. Variable:     自殺意念01.astype(int)   No. Observations:                  188\n",
              "Model:                          Logit   Df Residuals:                      184\n",
              "Method:                           MLE   Df Model:                            3\n",
              "Date:                Tue, 06 Jul 2021   Pseudo R-squ.:                  0.1758\n",
              "Time:                        00:22:20   Log-Likelihood:                -74.473\n",
              "converged:                       True   LL-Null:                       -90.357\n",
              "Covariance Type:            nonrobust   LLR p-value:                 5.860e-07\n",
              "==============================================================================\n",
              "                 coef    std err          z      P>|z|      [0.025      0.975]\n",
              "------------------------------------------------------------------------------\n",
              "Intercept      0.4272      0.516      0.828      0.407      -0.583       1.438\n",
              "C(性別)[T.2]     0.0115      0.627      0.018      0.985      -1.218       1.241\n",
              "網路成癮分數YDQ      0.0816      0.080      1.023      0.306      -0.075       0.238\n",
              "家庭滿意度apgar    -0.3347      0.069     -4.865      0.000      -0.470      -0.200\n",
              "==============================================================================\n",
              "\"\"\""
            ]
          },
          "metadata": {
            "tags": []
          },
          "execution_count": 14
        }
      ]
    },
    {
      "cell_type": "code",
      "metadata": {
        "colab": {
          "base_uri": "https://localhost:8080/"
        },
        "id": "AmxgP6K_Jk_r",
        "outputId": "b24dd9dc-514c-4a7a-be77-6ed49ca572f0"
      },
      "source": [
        "##5-13 sklearn regression model with dummy variables...\n",
        "import pandas as pd\n",
        "import numpy as np\n",
        "from sklearn.linear_model import LogisticRegression\n",
        "df=pd.read_csv('RPython/samples.csv')\n",
        "y=df['自殺意念01'].astype(int)\n",
        "df['sex']='男'\n",
        "df.loc[df.性別==2,'sex']='女'\n",
        "df.loc[df.性別=='N/A','sex']=np.nan\n",
        "x=df[['網路成癮分數YDQ','家庭滿意度apgar','sex']]\n",
        "x=pd.get_dummies(data=x, drop_first=True)\n",
        "x.head()\n",
        "model6=LogisticRegression()\n",
        "result=model6.fit(x,y)\n",
        "print('='*10)\n",
        "print('迴歸係數:'+str(result.coef_))\n",
        "print('='*10)\n",
        "print('截距:'+str(result.intercept_))"
      ],
      "execution_count": null,
      "outputs": [
        {
          "output_type": "stream",
          "text": [
            "==========\n",
            "迴歸係數:[[ 0.08116804 -0.33311388 -0.00720934]]\n",
            "==========\n",
            "截距:[0.42741261]\n"
          ],
          "name": "stdout"
        }
      ]
    },
    {
      "cell_type": "code",
      "metadata": {
        "colab": {
          "base_uri": "https://localhost:8080/"
        },
        "id": "dQgta9DSOI2Q",
        "outputId": "045ded21-6882-43e9-c850-4b496909a878"
      },
      "source": [
        "##5-10 R logistic regression with dummy variable and link=\"logit\"\n",
        "%%R\n",
        "myData$自殺意念01<-as.integer(myData$自殺意念01)\n",
        "myData$性別<-relevel(factor(myData$性別),ref='2')\n",
        "formula='自殺意念01~網路成癮分數YDQ+家庭滿意度apgar+as.factor(性別)'\n",
        "model7<-glm(formula,myData,family=binomial(link=\"logit\"))\n",
        "##print(summary(model7))\n",
        "print(exp(coef(model7)))\n",
        "exp(cbind(OR=coef(model7), confint(model7)))"
      ],
      "execution_count": null,
      "outputs": [
        {
          "output_type": "stream",
          "text": [
            "     (Intercept)  網路成癮分數YDQ  家庭滿意度apgar as.factor(性別)1 \n",
            "       1.5507344        1.0849822        0.7155760        0.9885645 \n"
          ],
          "name": "stdout"
        },
        {
          "output_type": "stream",
          "text": [
            "R[write to console]: Waiting for profiling to be done...\n",
            "\n"
          ],
          "name": "stderr"
        },
        {
          "output_type": "stream",
          "text": [
            "                        OR     2.5 %    97.5 %\n",
            "(Intercept)      1.5507344 0.3391747 6.4229119\n",
            "網路成癮分數YDQ  1.0849822 0.9261746 1.2685357\n",
            "家庭滿意度apgar  0.7155760 0.6204842 0.8143471\n",
            "as.factor(性別)1 0.9885645 0.3092494 3.8319996\n"
          ],
          "name": "stdout"
        }
      ]
    },
    {
      "cell_type": "code",
      "metadata": {
        "colab": {
          "base_uri": "https://localhost:8080/"
        },
        "id": "07VRcO3kR-0M",
        "outputId": "6d1db1f9-71b8-431a-e808-259a896936b3"
      },
      "source": [
        "##5-11 Sklearn logistic regression with LabelEncoder\n",
        "import pandas as pd\n",
        "import numpy as np\n",
        "from sklearn import preprocessing\n",
        "from sklearn.linear_model import LogisticRegression\n",
        "df=pd.read_csv('RPython/samples.csv')\n",
        "y=df['自殺意念01'].astype(int)\n",
        "df['sex']='男'\n",
        "df.loc[df.性別==2,'sex']='女'\n",
        "label_encoder=preprocessing.LabelEncoder()\n",
        "encoded_sex=label_encoder.fit_transform(df['sex'])\n",
        "x=pd.DataFrame([df['網路成癮分數YDQ'],df['家庭滿意度apgar'],encoded_sex]).T\n",
        "model8=LogisticRegression()\n",
        "result=model8.fit(x,y)\n",
        "np.exp(result.coef_)"
      ],
      "execution_count": null,
      "outputs": [
        {
          "output_type": "execute_result",
          "data": {
            "text/plain": [
              "array([[1.08455313, 0.71668857, 0.99281658]])"
            ]
          },
          "metadata": {
            "tags": []
          },
          "execution_count": 40
        }
      ]
    },
    {
      "cell_type": "code",
      "metadata": {
        "colab": {
          "base_uri": "https://localhost:8080/",
          "height": 437
        },
        "id": "J-I8gO7K4wAW",
        "outputId": "ecf51176-e0aa-481d-d744-1292ee3205df"
      },
      "source": [
        "%%capture\n",
        "!wget -nc https://raw.githubusercontent.com/brpy/colab-pdf/master/colab_pdf.py\n",
        "from colab_pdf import colab_pdf\n",
        "colab_pdf('class05.ipynb ')"
      ],
      "execution_count": null,
      "outputs": [
        {
          "output_type": "stream",
          "text": [
            "Go to this URL in a browser: https://accounts.google.com/o/oauth2/auth?client_id=947318989803-6bn6qk8qdgf4n4g3pfee6491hc0brc4i.apps.googleusercontent.com&redirect_uri=urn%3aietf%3awg%3aoauth%3a2.0%3aoob&scope=email%20https%3a%2f%2fwww.googleapis.com%2fauth%2fdocs.test%20https%3a%2f%2fwww.googleapis.com%2fauth%2fdrive%20https%3a%2f%2fwww.googleapis.com%2fauth%2fdrive.photos.readonly%20https%3a%2f%2fwww.googleapis.com%2fauth%2fpeopleapi.readonly%20https%3a%2f%2fwww.googleapis.com%2fauth%2fdrive.activity.readonly%20https%3a%2f%2fwww.googleapis.com%2fauth%2fexperimentsandconfigs%20https%3a%2f%2fwww.googleapis.com%2fauth%2fphotos.native&response_type=code\n",
            "\n",
            "Enter your authorization code:\n",
            "ytai1123@gmail.com\n"
          ],
          "name": "stdout"
        },
        {
          "output_type": "error",
          "ename": "ValueError",
          "evalue": "ignored",
          "traceback": [
            "\u001b[0;31m---------------------------------------------------------------------------\u001b[0m",
            "\u001b[0;31mValueError\u001b[0m                                Traceback (most recent call last)",
            "\u001b[0;32m<ipython-input-44-08a2a5224d96>\u001b[0m in \u001b[0;36m<module>\u001b[0;34m()\u001b[0m\n\u001b[1;32m      1\u001b[0m \u001b[0mget_ipython\u001b[0m\u001b[0;34m(\u001b[0m\u001b[0;34m)\u001b[0m\u001b[0;34m.\u001b[0m\u001b[0msystem\u001b[0m\u001b[0;34m(\u001b[0m\u001b[0;34m'wget -nc https://raw.githubusercontent.com/brpy/colab-pdf/master/colab_pdf.py'\u001b[0m\u001b[0;34m)\u001b[0m\u001b[0;34m\u001b[0m\u001b[0;34m\u001b[0m\u001b[0m\n\u001b[1;32m      2\u001b[0m \u001b[0;32mfrom\u001b[0m \u001b[0mcolab_pdf\u001b[0m \u001b[0;32mimport\u001b[0m \u001b[0mcolab_pdf\u001b[0m\u001b[0;34m\u001b[0m\u001b[0;34m\u001b[0m\u001b[0m\n\u001b[0;32m----> 3\u001b[0;31m \u001b[0mcolab_pdf\u001b[0m\u001b[0;34m(\u001b[0m\u001b[0;34m'class05.ipynb '\u001b[0m\u001b[0;34m)\u001b[0m\u001b[0;34m\u001b[0m\u001b[0;34m\u001b[0m\u001b[0m\n\u001b[0m",
            "\u001b[0;32m/content/colab_pdf.py\u001b[0m in \u001b[0;36mcolab_pdf\u001b[0;34m(file_name, notebookpath)\u001b[0m\n\u001b[1;32m     16\u001b[0m         \u001b[0;32mfrom\u001b[0m \u001b[0mgoogle\u001b[0m\u001b[0;34m.\u001b[0m\u001b[0mcolab\u001b[0m \u001b[0;32mimport\u001b[0m \u001b[0mdrive\u001b[0m\u001b[0;34m\u001b[0m\u001b[0;34m\u001b[0m\u001b[0m\n\u001b[1;32m     17\u001b[0m \u001b[0;34m\u001b[0m\u001b[0m\n\u001b[0;32m---> 18\u001b[0;31m         \u001b[0mdrive\u001b[0m\u001b[0;34m.\u001b[0m\u001b[0mmount\u001b[0m\u001b[0;34m(\u001b[0m\u001b[0mdrive_mount_point\u001b[0m\u001b[0;34m)\u001b[0m\u001b[0;34m\u001b[0m\u001b[0;34m\u001b[0m\u001b[0m\n\u001b[0m\u001b[1;32m     19\u001b[0m \u001b[0;34m\u001b[0m\u001b[0m\n\u001b[1;32m     20\u001b[0m     \u001b[0;31m# Check if the notebook exists in the Drive.\u001b[0m\u001b[0;34m\u001b[0m\u001b[0;34m\u001b[0m\u001b[0;34m\u001b[0m\u001b[0m\n",
            "\u001b[0;32m/usr/local/lib/python3.7/dist-packages/google/colab/drive.py\u001b[0m in \u001b[0;36mmount\u001b[0;34m(mountpoint, force_remount, timeout_ms, use_metadata_server)\u001b[0m\n\u001b[1;32m    261\u001b[0m       \u001b[0mwrote_to_fifo\u001b[0m \u001b[0;34m=\u001b[0m \u001b[0;32mTrue\u001b[0m\u001b[0;34m\u001b[0m\u001b[0;34m\u001b[0m\u001b[0m\n\u001b[1;32m    262\u001b[0m     \u001b[0;32melif\u001b[0m \u001b[0mcase\u001b[0m \u001b[0;34m==\u001b[0m \u001b[0;36m5\u001b[0m\u001b[0;34m:\u001b[0m\u001b[0;34m\u001b[0m\u001b[0;34m\u001b[0m\u001b[0m\n\u001b[0;32m--> 263\u001b[0;31m       \u001b[0;32mraise\u001b[0m \u001b[0mValueError\u001b[0m\u001b[0;34m(\u001b[0m\u001b[0;34m'mount failed: invalid oauth code'\u001b[0m\u001b[0;34m)\u001b[0m\u001b[0;34m\u001b[0m\u001b[0;34m\u001b[0m\u001b[0m\n\u001b[0m\u001b[1;32m    264\u001b[0m     \u001b[0;32melif\u001b[0m \u001b[0mcase\u001b[0m \u001b[0;34m==\u001b[0m \u001b[0;36m6\u001b[0m\u001b[0;34m:\u001b[0m\u001b[0;34m\u001b[0m\u001b[0;34m\u001b[0m\u001b[0m\n\u001b[1;32m    265\u001b[0m       \u001b[0;31m# Terminate the DriveFS binary before killing bash.\u001b[0m\u001b[0;34m\u001b[0m\u001b[0;34m\u001b[0m\u001b[0;34m\u001b[0m\u001b[0m\n",
            "\u001b[0;31mValueError\u001b[0m: mount failed: invalid oauth code"
          ]
        }
      ]
    }
  ]
}