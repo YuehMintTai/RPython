{
  "nbformat": 4,
  "nbformat_minor": 0,
  "metadata": {
    "colab": {
      "name": "Class08.ipynb",
      "provenance": [],
      "authorship_tag": "ABX9TyOpKnuYoxubTqq3CM9lgUHu",
      "include_colab_link": true
    },
    "kernelspec": {
      "name": "python3",
      "display_name": "Python 3"
    },
    "language_info": {
      "name": "python"
    }
  },
  "cells": [
    {
      "cell_type": "markdown",
      "metadata": {
        "id": "view-in-github",
        "colab_type": "text"
      },
      "source": [
        "<a href=\"https://colab.research.google.com/github/YuehMintTai/RPython/blob/main/Class08.ipynb\" target=\"_parent\"><img src=\"https://colab.research.google.com/assets/colab-badge.svg\" alt=\"Open In Colab\"/></a>"
      ]
    },
    {
      "cell_type": "markdown",
      "metadata": {
        "id": "r2CONG6SfMsK"
      },
      "source": [
        "#三軍總醫院北投分院統計及實驗設計課程之八\n",
        "## 2021/7/13\n",
        "## ytai1123@gmail.com\n",
        "### 使用方法:\n",
        "\n",
        "\n",
        "1.   使用gmail帳號登入\n",
        "2.   按\"執行階段\" -->\"全部執行\" 以執行全部內容, 若要個別執行可點選每格程式左方箭頭或按 Control + Enter 鍵執行。"
      ]
    },
    {
      "cell_type": "code",
      "metadata": {
        "colab": {
          "base_uri": "https://localhost:8080/"
        },
        "id": "jlXcDYPlfE6V",
        "outputId": "07671ba3-aeff-47a1-d3fd-7f6a3d2c48ed"
      },
      "source": [
        "##0-1\n",
        "!git clone https://github.com/YuehMintTai/RPython.git"
      ],
      "execution_count": null,
      "outputs": [
        {
          "output_type": "stream",
          "text": [
            "Cloning into 'RPython'...\n",
            "remote: Enumerating objects: 53, done.\u001b[K\n",
            "remote: Counting objects: 100% (53/53), done.\u001b[K\n",
            "remote: Compressing objects: 100% (51/51), done.\u001b[K\n",
            "remote: Total 53 (delta 21), reused 0 (delta 0), pack-reused 0\u001b[K\n",
            "Unpacking objects: 100% (53/53), done.\n"
          ],
          "name": "stdout"
        }
      ]
    },
    {
      "cell_type": "code",
      "metadata": {
        "colab": {
          "base_uri": "https://localhost:8080/"
        },
        "id": "zSX8X-7MfSgK",
        "outputId": "fbcf1a56-12bb-478a-99e9-cca6657f00d9"
      },
      "source": [
        "##0-2\n",
        "!pip install rpy2"
      ],
      "execution_count": null,
      "outputs": [
        {
          "output_type": "stream",
          "text": [
            "Requirement already satisfied: rpy2 in /usr/local/lib/python3.7/dist-packages (3.4.5)\n",
            "Requirement already satisfied: pytz in /usr/local/lib/python3.7/dist-packages (from rpy2) (2018.9)\n",
            "Requirement already satisfied: jinja2 in /usr/local/lib/python3.7/dist-packages (from rpy2) (2.11.3)\n",
            "Requirement already satisfied: cffi>=1.10.0 in /usr/local/lib/python3.7/dist-packages (from rpy2) (1.14.5)\n",
            "Requirement already satisfied: tzlocal in /usr/local/lib/python3.7/dist-packages (from rpy2) (1.5.1)\n",
            "Requirement already satisfied: MarkupSafe>=0.23 in /usr/local/lib/python3.7/dist-packages (from jinja2->rpy2) (2.0.1)\n",
            "Requirement already satisfied: pycparser in /usr/local/lib/python3.7/dist-packages (from cffi>=1.10.0->rpy2) (2.20)\n"
          ],
          "name": "stdout"
        }
      ]
    },
    {
      "cell_type": "code",
      "metadata": {
        "id": "kUcDfNrpfVVk"
      },
      "source": [
        "##0-3\n",
        "%load_ext rpy2.ipython"
      ],
      "execution_count": null,
      "outputs": []
    },
    {
      "cell_type": "code",
      "metadata": {
        "id": "JuuefOVMfZSV",
        "outputId": "40861c4c-4b1c-4de5-b8b9-fdcfd10cf96d",
        "colab": {
          "base_uri": "https://localhost:8080/",
          "height": 35
        }
      },
      "source": [
        "import tensorflow as tf\n",
        "import torch\n",
        "tf.__version__     ##2.5.0\n",
        "torch.__version__   ##1.9.0+cu102"
      ],
      "execution_count": 4,
      "outputs": [
        {
          "output_type": "execute_result",
          "data": {
            "application/vnd.google.colaboratory.intrinsic+json": {
              "type": "string"
            },
            "text/plain": [
              "'1.9.0+cu102'"
            ]
          },
          "metadata": {
            "tags": []
          },
          "execution_count": 4
        }
      ]
    },
    {
      "cell_type": "code",
      "metadata": {
        "id": "n8WemEO8ffxe"
      },
      "source": [
        "##7-5 R^2 in Tensorflow\n",
        "import tensorflow as tf\n",
        "from tensorflow import feature_column\n",
        "features=df['家庭滿意度apgar'] ## X\n",
        "label=df['網路成癮分數YDQ']  ## Y\n",
        "f_apgar=feature_column.numeric_column(key='家庭滿意度apgar')##,dtype=tf.float64,shape=())\n",
        "feature_cols=[f_apgar]\n",
        "label_ndarry=df['網路成癮分數YDQ']\n",
        "def train_input():\n",
        "  _dataset=tf.data.Dataset.from_tensor_slices(({'APGAR':df['家庭滿意度apgar']},label_ndarry))\n",
        "  dataset=_dataset.batch(32)\n",
        "  #ilterator=dataset.Dataset.iter()\n",
        "  iterator=tf.compat.v1.data.make_one_shot_iterator(dataset)\n",
        "  features,labels=iterator.get_next()\n",
        "  return features, labels\n",
        "model5=tf.estimator.LinearRegressor(feature_columns=feature_cols)\n",
        "model5.train(input_fn=train_input,steps=None)\n",
        "##list(model5.predict())"
      ],
      "execution_count": null,
      "outputs": []
    }
  ]
}