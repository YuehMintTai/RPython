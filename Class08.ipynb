{
  "nbformat": 4,
  "nbformat_minor": 0,
  "metadata": {
    "colab": {
      "name": "Class08.ipynb",
      "provenance": [],
      "authorship_tag": "ABX9TyO+ZHQva/tDraQn9+C/D1qJ",
      "include_colab_link": true
    },
    "kernelspec": {
      "name": "python3",
      "display_name": "Python 3"
    },
    "language_info": {
      "name": "python"
    }
  },
  "cells": [
    {
      "cell_type": "markdown",
      "metadata": {
        "id": "view-in-github",
        "colab_type": "text"
      },
      "source": [
        "<a href=\"https://colab.research.google.com/github/YuehMintTai/RPython/blob/main/Class08.ipynb\" target=\"_parent\"><img src=\"https://colab.research.google.com/assets/colab-badge.svg\" alt=\"Open In Colab\"/></a>"
      ]
    },
    {
      "cell_type": "markdown",
      "metadata": {
        "id": "r2CONG6SfMsK"
      },
      "source": [
        "#三軍總醫院北投分院統計及實驗設計課程之八\n",
        "## 2021/7/13\n",
        "## ytai1123@gmail.com\n",
        "### 使用方法:\n",
        "\n",
        "\n",
        "1.   使用gmail帳號登入\n",
        "2.   按\"執行階段\" -->\"全部執行\" 以執行全部內容, 若要個別執行可點選每格程式左方箭頭或按 Control + Enter 鍵執行。"
      ]
    },
    {
      "cell_type": "code",
      "metadata": {
        "colab": {
          "base_uri": "https://localhost:8080/"
        },
        "id": "jlXcDYPlfE6V",
        "outputId": "22e1fe03-4925-44c3-8d60-9132784784ac"
      },
      "source": [
        "##0-1\n",
        "!git clone https://github.com/YuehMintTai/RPython.git"
      ],
      "execution_count": 4,
      "outputs": [
        {
          "output_type": "stream",
          "text": [
            "fatal: destination path 'RPython' already exists and is not an empty directory.\n"
          ],
          "name": "stdout"
        }
      ]
    },
    {
      "cell_type": "code",
      "metadata": {
        "colab": {
          "base_uri": "https://localhost:8080/"
        },
        "id": "zSX8X-7MfSgK",
        "outputId": "969a12b2-ab30-43a8-e7f3-15a5f3ee975c"
      },
      "source": [
        "##0-2\n",
        "!pip install rpy2"
      ],
      "execution_count": 5,
      "outputs": [
        {
          "output_type": "stream",
          "text": [
            "Requirement already satisfied: rpy2 in /usr/local/lib/python3.7/dist-packages (3.4.5)\n",
            "Requirement already satisfied: tzlocal in /usr/local/lib/python3.7/dist-packages (from rpy2) (1.5.1)\n",
            "Requirement already satisfied: pytz in /usr/local/lib/python3.7/dist-packages (from rpy2) (2018.9)\n",
            "Requirement already satisfied: cffi>=1.10.0 in /usr/local/lib/python3.7/dist-packages (from rpy2) (1.14.5)\n",
            "Requirement already satisfied: jinja2 in /usr/local/lib/python3.7/dist-packages (from rpy2) (2.11.3)\n",
            "Requirement already satisfied: pycparser in /usr/local/lib/python3.7/dist-packages (from cffi>=1.10.0->rpy2) (2.20)\n",
            "Requirement already satisfied: MarkupSafe>=0.23 in /usr/local/lib/python3.7/dist-packages (from jinja2->rpy2) (2.0.1)\n"
          ],
          "name": "stdout"
        }
      ]
    },
    {
      "cell_type": "code",
      "metadata": {
        "id": "kUcDfNrpfVVk"
      },
      "source": [
        "##0-3\n",
        "%load_ext rpy2.ipython"
      ],
      "execution_count": 6,
      "outputs": []
    },
    {
      "cell_type": "code",
      "metadata": {
        "id": "JuuefOVMfZSV",
        "colab": {
          "base_uri": "https://localhost:8080/",
          "height": 35
        },
        "outputId": "cc92c907-e317-4b33-8e81-f7883f358b31"
      },
      "source": [
        "##8-0-0\n",
        "import tensorflow as tf\n",
        "import torch\n",
        "tf.__version__     ##2.5.0\n",
        "torch.__version__   ##1.9.0+cu102"
      ],
      "execution_count": 7,
      "outputs": [
        {
          "output_type": "execute_result",
          "data": {
            "application/vnd.google.colaboratory.intrinsic+json": {
              "type": "string"
            },
            "text/plain": [
              "'1.9.0+cu102'"
            ]
          },
          "metadata": {
            "tags": []
          },
          "execution_count": 7
        }
      ]
    },
    {
      "cell_type": "code",
      "metadata": {
        "colab": {
          "base_uri": "https://localhost:8080/",
          "height": 205
        },
        "id": "PpqBp022Geuv",
        "outputId": "46dcafc7-5872-4f8b-b44f-acc49a911602"
      },
      "source": [
        "##8-0-1 區分所有的資料為testing, validating及training sets\n",
        "import pandas as pd\n",
        "from sklearn.model_selection import train_test_split\n",
        "from sklearn.metrics import roc_curve\n",
        "import numpy as np\n",
        "\n",
        "df=pd.read_csv('RPython/samples.csv')\n",
        "df['sex']='男'\n",
        "df.loc[df['性別']==2,'sex']='女'\n",
        "x=df[['sex','網路成癮分數YDQ','家庭滿意度apgar','年齡']]\n",
        "x=pd.get_dummies(data=x,drop_first=True)\n",
        "y=df['自殺意念01'].astype(int).to_frame()\n",
        "all_df=pd.concat([x,y],axis=1)\n",
        "all_df['remainder']=all_df.index%6\n",
        "all_df['group']='training'\n",
        "all_df.loc[all_df['remainder']==0,'group']='testing'\n",
        "all_df.loc[all_df['remainder']==1,'group']='validating'\n",
        "all_df.loc[all_df['remainder']==2,'group']='validating'\n",
        "\n",
        "all_df['年齡'].groupby(all_df['group']).mean()\n",
        "groupList=['training','validating','testing']\n",
        "all_df['groupNo']=0\n",
        "all_df.loc[all_df['group']=='validating','groupNo']=1\n",
        "all_df.loc[all_df['group']=='testing','groupNo']=2\n",
        "all_df.tail()"
      ],
      "execution_count": 8,
      "outputs": [
        {
          "output_type": "execute_result",
          "data": {
            "text/html": [
              "<div>\n",
              "<style scoped>\n",
              "    .dataframe tbody tr th:only-of-type {\n",
              "        vertical-align: middle;\n",
              "    }\n",
              "\n",
              "    .dataframe tbody tr th {\n",
              "        vertical-align: top;\n",
              "    }\n",
              "\n",
              "    .dataframe thead th {\n",
              "        text-align: right;\n",
              "    }\n",
              "</style>\n",
              "<table border=\"1\" class=\"dataframe\">\n",
              "  <thead>\n",
              "    <tr style=\"text-align: right;\">\n",
              "      <th></th>\n",
              "      <th>網路成癮分數YDQ</th>\n",
              "      <th>家庭滿意度apgar</th>\n",
              "      <th>年齡</th>\n",
              "      <th>sex_男</th>\n",
              "      <th>自殺意念01</th>\n",
              "      <th>remainder</th>\n",
              "      <th>group</th>\n",
              "      <th>groupNo</th>\n",
              "    </tr>\n",
              "  </thead>\n",
              "  <tbody>\n",
              "    <tr>\n",
              "      <th>183</th>\n",
              "      <td>8</td>\n",
              "      <td>9.0</td>\n",
              "      <td>27.0</td>\n",
              "      <td>1</td>\n",
              "      <td>0</td>\n",
              "      <td>3</td>\n",
              "      <td>training</td>\n",
              "      <td>0</td>\n",
              "    </tr>\n",
              "    <tr>\n",
              "      <th>184</th>\n",
              "      <td>5</td>\n",
              "      <td>5.0</td>\n",
              "      <td>27.0</td>\n",
              "      <td>1</td>\n",
              "      <td>1</td>\n",
              "      <td>4</td>\n",
              "      <td>training</td>\n",
              "      <td>0</td>\n",
              "    </tr>\n",
              "    <tr>\n",
              "      <th>185</th>\n",
              "      <td>5</td>\n",
              "      <td>7.0</td>\n",
              "      <td>27.0</td>\n",
              "      <td>1</td>\n",
              "      <td>0</td>\n",
              "      <td>5</td>\n",
              "      <td>training</td>\n",
              "      <td>0</td>\n",
              "    </tr>\n",
              "    <tr>\n",
              "      <th>186</th>\n",
              "      <td>2</td>\n",
              "      <td>0.0</td>\n",
              "      <td>21.0</td>\n",
              "      <td>1</td>\n",
              "      <td>1</td>\n",
              "      <td>0</td>\n",
              "      <td>testing</td>\n",
              "      <td>2</td>\n",
              "    </tr>\n",
              "    <tr>\n",
              "      <th>187</th>\n",
              "      <td>0</td>\n",
              "      <td>0.0</td>\n",
              "      <td>25.0</td>\n",
              "      <td>1</td>\n",
              "      <td>1</td>\n",
              "      <td>1</td>\n",
              "      <td>validating</td>\n",
              "      <td>1</td>\n",
              "    </tr>\n",
              "  </tbody>\n",
              "</table>\n",
              "</div>"
            ],
            "text/plain": [
              "     網路成癮分數YDQ  家庭滿意度apgar    年齡  sex_男  自殺意念01  remainder       group  groupNo\n",
              "183          8         9.0  27.0      1       0          3    training        0\n",
              "184          5         5.0  27.0      1       1          4    training        0\n",
              "185          5         7.0  27.0      1       0          5    training        0\n",
              "186          2         0.0  21.0      1       1          0     testing        2\n",
              "187          0         0.0  25.0      1       1          1  validating        1"
            ]
          },
          "metadata": {
            "tags": []
          },
          "execution_count": 8
        }
      ]
    },
    {
      "cell_type": "code",
      "metadata": {
        "id": "bPq8q3AgXR5k",
        "colab": {
          "base_uri": "https://localhost:8080/"
        },
        "outputId": "1362b080-dd5f-46a6-dfb2-b1ed36e886d7"
      },
      "source": [
        "##8-0-2 Chi-square and ANOVA\n",
        "from sklearn.feature_selection import chi2\n",
        "from sklearn.feature_selection import f_classif\n",
        "print(pd.crosstab(all_df['group'],all_df['自殺意念01']))\n",
        "##chi-square test確定 自殺意念01 沒有過度集中在某組....\n",
        "Chi2=chi2(all_df['groupNo'].to_numpy().reshape(-1,1),all_df['自殺意念01'].to_numpy())\n",
        "print('chi2={}, p={}'.format(round(Chi2[0].item(),3),round(Chi2[1].item(),3)))\n",
        "##ANOVA確定年齡沒有過度集中在某組\n",
        "print('='*30)\n",
        "F=f_classif(all_df['年齡'].to_numpy().reshape(-1,1),all_df['group'].to_numpy())\n",
        "print(all_df.groupby('group')['年齡'].mean())\n",
        "print('ANOVA F={}, p={}'.format(round(F[0].item(),3),round(F[1].item(),3)))"
      ],
      "execution_count": 9,
      "outputs": [
        {
          "output_type": "stream",
          "text": [
            "自殺意念01       0   1\n",
            "group             \n",
            "testing     23   9\n",
            "training    77  16\n",
            "validating  53  10\n",
            "chi2=0.986, p=0.321\n",
            "==============================\n",
            "group\n",
            "testing       21.385385\n",
            "training      21.752499\n",
            "validating    20.687376\n",
            "Name: 年齡, dtype: float64\n",
            "ANOVA F=1.126, p=0.327\n"
          ],
          "name": "stdout"
        }
      ]
    },
    {
      "cell_type": "code",
      "metadata": {
        "id": "n8WemEO8ffxe",
        "colab": {
          "base_uri": "https://localhost:8080/"
        },
        "outputId": "ce3f8e88-b436-49e4-e330-cee0cf219ebb"
      },
      "source": [
        "##8-0-3 區分 training, validation, testing sets..\n",
        "y_test=all_df.loc[all_df['group']=='testing']['自殺意念01'].to_frame()\n",
        "x_test=all_df.loc[all_df['group']=='testing'][['網路成癮分數YDQ','家庭滿意度apgar','年齡','sex_男']]\n",
        "y_vald=all_df.loc[all_df['group']=='validating']['自殺意念01'].to_frame()\n",
        "x_vald=all_df.loc[all_df['group']=='validating'][['網路成癮分數YDQ','家庭滿意度apgar','年齡','sex_男']]\n",
        "y_train=all_df.loc[all_df['group']=='training']['自殺意念01'].to_frame()\n",
        "x_train=all_df.loc[all_df['group']=='training'][['網路成癮分數YDQ','家庭滿意度apgar','年齡','sex_男']]\n",
        "print('cases number of train={}, of validation={}, of test={} '.format(len(x_train),len(x_vald),len(x_test)))"
      ],
      "execution_count": 70,
      "outputs": [
        {
          "output_type": "stream",
          "text": [
            "cases number of train=93, of validation=63, of test=32 \n"
          ],
          "name": "stdout"
        }
      ]
    },
    {
      "cell_type": "code",
      "metadata": {
        "id": "zHDP9NL32bkG"
      },
      "source": [
        "all_df.to_csv('all_df_r.csv')"
      ],
      "execution_count": 11,
      "outputs": []
    },
    {
      "cell_type": "code",
      "metadata": {
        "id": "fAj8SwxUu97e",
        "outputId": "42d819e6-0711-4d24-886e-ef7eef556190",
        "colab": {
          "base_uri": "https://localhost:8080/",
          "height": 548
        }
      },
      "source": [
        "##8-0-4 Read Pands.DataFrame in R\n",
        "%%R\n",
        "all_df_r<-read.csv('all_df_r.csv')\n",
        "hist(all_df_r$年齡[all_df_r$group=='training'])\n",
        "##hist(all_df_r$年齡[all_df_r$group=='validating'])\n",
        "##hist(all_df_r$年齡[all_df_r$group=='testing'])\n",
        "formula<-'年齡~group'\n",
        "ANOVA<-aov(all_df_r$網路成癮分數YDQ~all_df_r$groupNo)\n",
        "ANOVA<-aov(all_df_r$家庭滿意度apgar~all_df_r$groupNo)\n",
        "ANOVA<-aov(all_df_r$年齡~all_df_r$group)\n",
        "summary(ANOVA)"
      ],
      "execution_count": 45,
      "outputs": [
        {
          "output_type": "stream",
          "text": [
            "                Df Sum Sq Mean Sq F value Pr(>F)\n",
            "all_df_r$group   2     43   21.36   1.126  0.327\n",
            "Residuals      185   3510   18.97               \n"
          ],
          "name": "stdout"
        },
        {
          "output_type": "display_data",
          "data": {
            "image/png": "[encoded data removed]"
          },
          "metadata": {
            "tags": []
          }
        }
      ]
    },
    {
      "cell_type": "code",
      "metadata": {
        "id": "XFtASJ6rssT6"
      },
      "source": [
        "##使用sklearn Logistic Regression\n"
      ],
      "execution_count": 14,
      "outputs": []
    },
    {
      "cell_type": "code",
      "metadata": {
        "id": "SLdTs0qUlVLo"
      },
      "source": [
        "##8-1-1 使用Tensorflow Logistic regression ...\n",
        "import tensorflow as tf\n",
        "from tensorflow.keras.layers import Dense \n",
        "from tensorflow.keras import Sequential\n",
        "from tensorflow.keras.metrics import AUC, Precision, Recall\n",
        "model1=Sequential()\n",
        "model1.add(Dense(units=1,input_dim=4,activation='sigmoid')) ###'softmax' is for multiclass outcome.\n",
        "model1.compile(loss='binary_crossentropy',optimizer='adam',metrics=['accuracy',AUC(),Precision(),Recall()])\n",
        "model1.fit(x_train, y_train, epochs=20,batch_size=10,validation_data=(x_vald,y_vald))"
      ],
      "execution_count": null,
      "outputs": []
    },
    {
      "cell_type": "code",
      "metadata": {
        "id": "w3zqJ77WIrBG",
        "outputId": "bfb12fb3-c8ae-4e13-ef9f-9e399f29173f",
        "colab": {
          "base_uri": "https://localhost:8080/"
        }
      },
      "source": [
        "##8-1-2 計算accuracy...\n",
        "score1=model1.evaluate(x_test,y_test)\n",
        "predicted_prob=model1.predict(x_test)\n",
        "print('{}-->{}'.format(model1.metrics_names[0],score1[0]))\n",
        "print('{}-->{}'.format(model1.metrics_names[1],score1[1]))\n",
        "print('{}-->{}'.format(model1.metrics_names[2],score1[2]))\n",
        "print('{}-->{}'.format(model1.metrics_names[3],score1[3]))\n",
        "print('{}-->{}'.format(model1.metrics_names[4],score1[4]))\n",
        "print('='*30)\n",
        "from sklearn.metrics import roc_auc_score\n",
        "print('AUC for testing set:')\n",
        "roc_auc_score(y_test,predicted_prob)"
      ],
      "execution_count": 63,
      "outputs": [
        {
          "output_type": "stream",
          "text": [
            "1/1 [==============================] - 0s 18ms/step - loss: 1.9049 - accuracy: 0.7188 - auc_1: 0.7222 - precision_1: 0.0000e+00 - recall_1: 0.0000e+00\n",
            "loss-->1.9049062728881836\n",
            "accuracy-->0.71875\n",
            "auc_1-->0.7222222089767456\n",
            "precision_1-->0.0\n",
            "recall_1-->0.0\n",
            "==============================\n",
            "AUC for testing set:\n"
          ],
          "name": "stdout"
        },
        {
          "output_type": "execute_result",
          "data": {
            "text/plain": [
              "0.6376811594202898"
            ]
          },
          "metadata": {
            "tags": []
          },
          "execution_count": 63
        }
      ]
    },
    {
      "cell_type": "code",
      "metadata": {
        "id": "5g-bXTS8feo3",
        "colab": {
          "base_uri": "https://localhost:8080/",
          "height": 295
        },
        "outputId": "815f9775-c688-4384-aaa5-1806cd4647bb"
      },
      "source": [
        "##8-1-3 繪製ROC曲線圖...\n",
        "from sklearn.metrics import roc_auc_score, roc_curve\n",
        "from matplotlib import pyplot as plt\n",
        "AUC面積=roc_auc_score(y_test, predicted_prob) ##0.6973180076628352\n",
        "fpr,tpr,thresholds=roc_curve(y_test,predicted_prob)\n",
        "plt.figure()\n",
        "plt.plot(fpr,tpr,label='Logistic regression (area = %0.3f)'%AUC面積)\n",
        "plt.plot([0,1],[0,1],'r--')\n",
        "plt.xlim([0.0,1.0])\n",
        "plt.ylim([0.0,1.05])\n",
        "plt.xlabel('False Positive Rate')\n",
        "plt.ylabel('True Positive Rate')\n",
        "plt.title('Receiver operating characteristic ROC')\n",
        "plt.legend(loc=\"lower right\")\n",
        "plt.show()"
      ],
      "execution_count": 65,
      "outputs": [
        {
          "output_type": "display_data",
          "data": {
            "image/png": "[encoded data removed]",
            "text/plain": [
              "<Figure size 432x288 with 1 Axes>"
            ]
          },
          "metadata": {
            "tags": [],
            "needs_background": "light"
          }
        }
      ]
    },
    {
      "cell_type": "code",
      "metadata": {
        "id": "eWcEQkLEkwqg"
      },
      "source": [
        "##8-2-1使用pytorch\n",
        "import torch \n",
        "x_train_=torch.from_numpy(x_train.to_numpy().astype(np.float32))\n",
        "x_vald_=torch.from_numpy(x_vald.to_numpy().astype(np.float32))\n",
        "x_test_=torch.from_numpy(x_test.to_numpy().astype(np.float32))\n",
        "y_train_=torch.from_numpy(y_train.to_numpy().astype(np.float32))\n",
        "y_vald_=torch.from_numpy(y_vald.to_numpy().astype(np.float32))\n",
        "y_test_=torch.from_numpy(y_test.to_numpy().astype(np.float32))"
      ],
      "execution_count": 72,
      "outputs": []
    },
    {
      "cell_type": "code",
      "metadata": {
        "id": "xeGXSUOKls-U"
      },
      "source": [
        "import torch\n",
        "class Logistic_Reg_model(torch.nn.Module):\n",
        "  def __init__(self,no_input_features):\n",
        "    super(Logistic_Reg_model,self).__init__()\n",
        "    self.layer1=torch.nn.Linear(no_input_features,4)\n",
        "    self.layer2=torch.nn.Linear(4,1)\n",
        "  def forward(self,x):\n",
        "    y_predicted=self.layer1(x)\n",
        "    y_predicted=torch.sigmoid(self.layer2(y_predicted))\n",
        "    return y_predicted"
      ],
      "execution_count": 76,
      "outputs": []
    },
    {
      "cell_type": "code",
      "metadata": {
        "id": "OIlE_e6-lx62",
        "outputId": "543bf5d1-efae-4382-9547-6c9788c4f317",
        "colab": {
          "base_uri": "https://localhost:8080/"
        }
      },
      "source": [
        "import torch\n",
        "樣本數,變項數=x_train_.shape\n",
        "model2=Logistic_Reg_model(變項數)\n",
        "criterion=torch.nn.BCELoss()\n",
        "optimizer=torch.optim.SGD(model2.parameters(),lr=0.01)\n",
        "number_of_epochs=20\n",
        "for epoch in range(number_of_epochs):\n",
        "  y_prediction=model2(x_train_)\n",
        "  loss=criterion(y_prediction,y_train_)\n",
        "  loss.backward()\n",
        "  optimizer.step()\n",
        "  optimizer.zero_grad()\n",
        "  if (epoch+1)%10==0:\n",
        "    print('epoch:',epoch+1,', loss=',loss.item())"
      ],
      "execution_count": 81,
      "outputs": [
        {
          "output_type": "stream",
          "text": [
            "epoch: 10 , loss= 0.4007302522659302\n",
            "epoch: 20 , loss= 0.40041038393974304\n"
          ],
          "name": "stdout"
        }
      ]
    },
    {
      "cell_type": "code",
      "metadata": {
        "id": "qRNV9W0sSKh1",
        "outputId": "e1d5ccdc-9728-4ee1-8831-b84da258d5b5",
        "colab": {
          "base_uri": "https://localhost:8080/"
        }
      },
      "source": [
        "import torch\n",
        "with torch.no_grad():\n",
        "  y_pred=model2(x_test_)\n",
        "  y_pred_class=y_pred.round()\n",
        "  accuracy=float(y_pred_class.eq(y_test_).sum())/float(y_test_.shape[0])\n",
        "  print(accuracy)\n"
      ],
      "execution_count": 83,
      "outputs": [
        {
          "output_type": "stream",
          "text": [
            "0.78125\n"
          ],
          "name": "stdout"
        }
      ]
    }
  ]
}