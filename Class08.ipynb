{
  "nbformat": 4,
  "nbformat_minor": 0,
  "metadata": {
    "colab": {
      "name": "Class08.ipynb",
      "provenance": [],
      "authorship_tag": "ABX9TyOUMFq49rdmWTEL7pUMcO0R",
      "include_colab_link": true
    },
    "kernelspec": {
      "name": "python3",
      "display_name": "Python 3"
    },
    "language_info": {
      "name": "python"
    }
  },
  "cells": [
    {
      "cell_type": "markdown",
      "metadata": {
        "id": "view-in-github",
        "colab_type": "text"
      },
      "source": [
        "<a href=\"https://colab.research.google.com/github/YuehMintTai/RPython/blob/main/Class08.ipynb\" target=\"_parent\"><img src=\"https://colab.research.google.com/assets/colab-badge.svg\" alt=\"Open In Colab\"/></a>"
      ]
    },
    {
      "cell_type": "markdown",
      "metadata": {
        "id": "r2CONG6SfMsK"
      },
      "source": [
        "#三軍總醫院北投分院統計及實驗設計課程之八\n",
        "## 2021/7/13\n",
        "## ytai1123@gmail.com\n",
        "### 使用方法:\n",
        "\n",
        "\n",
        "1.   使用gmail帳號登入\n",
        "2.   按\"執行階段\" -->\"全部執行\" 以執行全部內容, 若要個別執行可點選每格程式左方箭頭或按 Control + Enter 鍵執行。"
      ]
    },
    {
      "cell_type": "code",
      "metadata": {
        "colab": {
          "base_uri": "https://localhost:8080/"
        },
        "id": "jlXcDYPlfE6V",
        "outputId": "fa79bd73-3a26-4370-8828-642a52f6b011"
      },
      "source": [
        "##0-1\n",
        "!git clone https://github.com/YuehMintTai/RPython.git"
      ],
      "execution_count": 77,
      "outputs": [
        {
          "output_type": "stream",
          "text": [
            "fatal: destination path 'RPython' already exists and is not an empty directory.\n"
          ],
          "name": "stdout"
        }
      ]
    },
    {
      "cell_type": "code",
      "metadata": {
        "colab": {
          "base_uri": "https://localhost:8080/"
        },
        "id": "zSX8X-7MfSgK",
        "outputId": "eb23fe34-6207-4cde-dbb1-e277d2cf057b"
      },
      "source": [
        "##0-2\n",
        "!pip install rpy2"
      ],
      "execution_count": 78,
      "outputs": [
        {
          "output_type": "stream",
          "text": [
            "Requirement already satisfied: rpy2 in /usr/local/lib/python3.7/dist-packages (3.4.5)\n",
            "Requirement already satisfied: tzlocal in /usr/local/lib/python3.7/dist-packages (from rpy2) (1.5.1)\n",
            "Requirement already satisfied: pytz in /usr/local/lib/python3.7/dist-packages (from rpy2) (2018.9)\n",
            "Requirement already satisfied: jinja2 in /usr/local/lib/python3.7/dist-packages (from rpy2) (2.11.3)\n",
            "Requirement already satisfied: cffi>=1.10.0 in /usr/local/lib/python3.7/dist-packages (from rpy2) (1.14.6)\n",
            "Requirement already satisfied: MarkupSafe>=0.23 in /usr/local/lib/python3.7/dist-packages (from jinja2->rpy2) (2.0.1)\n",
            "Requirement already satisfied: pycparser in /usr/local/lib/python3.7/dist-packages (from cffi>=1.10.0->rpy2) (2.20)\n"
          ],
          "name": "stdout"
        }
      ]
    },
    {
      "cell_type": "code",
      "metadata": {
        "id": "kUcDfNrpfVVk",
        "outputId": "d799c403-0c86-4753-9466-eab04e0765ae",
        "colab": {
          "base_uri": "https://localhost:8080/"
        }
      },
      "source": [
        "##0-3\n",
        "%load_ext rpy2.ipython"
      ],
      "execution_count": 79,
      "outputs": [
        {
          "output_type": "stream",
          "text": [
            "The rpy2.ipython extension is already loaded. To reload it, use:\n",
            "  %reload_ext rpy2.ipython\n"
          ],
          "name": "stdout"
        }
      ]
    },
    {
      "cell_type": "code",
      "metadata": {
        "id": "JuuefOVMfZSV",
        "colab": {
          "base_uri": "https://localhost:8080/",
          "height": 34
        },
        "outputId": "438edefb-2d2b-41b8-ee80-0451c5008e3e"
      },
      "source": [
        "##8-0-0\n",
        "import tensorflow as tf\n",
        "import torch\n",
        "tf.__version__     ##2.5.0\n",
        "torch.__version__   ##1.9.0+cu102"
      ],
      "execution_count": 80,
      "outputs": [
        {
          "output_type": "execute_result",
          "data": {
            "application/vnd.google.colaboratory.intrinsic+json": {
              "type": "string"
            },
            "text/plain": [
              "'1.9.0+cu102'"
            ]
          },
          "metadata": {
            "tags": []
          },
          "execution_count": 80
        }
      ]
    },
    {
      "cell_type": "code",
      "metadata": {
        "colab": {
          "base_uri": "https://localhost:8080/",
          "height": 362
        },
        "id": "PpqBp022Geuv",
        "outputId": "51e341f4-0e6e-4fdb-e9a4-0bfa2f3194e5"
      },
      "source": [
        "##8-0-1 區分所有的資料為testing, validating及training sets\n",
        "import pandas as pd\n",
        "from sklearn.model_selection import train_test_split\n",
        "from sklearn.metrics import roc_curve\n",
        "import numpy as np\n",
        "\n",
        "df=pd.read_csv('RPython/samples.csv')\n",
        "df['sex']='男'\n",
        "df.loc[df['性別']==2,'sex']='女'\n",
        "x=df[['sex','網路成癮分數YDQ','家庭滿意度apgar','年齡']]\n",
        "x=pd.get_dummies(data=x,drop_first=True)\n",
        "y=df['自殺意念01'].astype(int).to_frame()\n",
        "all_df=pd.concat([x,y],axis=1)\n",
        "all_df['remainder']=all_df.index%6\n",
        "all_df['group']='training'\n",
        "all_df.loc[all_df['remainder']==0,'group']='testing'\n",
        "all_df.loc[all_df['remainder']==1,'group']='validating'\n",
        "all_df.loc[all_df['remainder']==2,'group']='validating'\n",
        "\n",
        "all_df['年齡'].groupby(all_df['group']).mean()\n",
        "\n",
        "all_df['groupNo']=0\n",
        "all_df.loc[all_df['group']=='validating','groupNo']=1\n",
        "all_df.loc[all_df['group']=='testing','groupNo']=2\n",
        "all_df.tail(10)"
      ],
      "execution_count": 81,
      "outputs": [
        {
          "output_type": "execute_result",
          "data": {
            "text/html": [
              "<div>\n",
              "<style scoped>\n",
              "    .dataframe tbody tr th:only-of-type {\n",
              "        vertical-align: middle;\n",
              "    }\n",
              "\n",
              "    .dataframe tbody tr th {\n",
              "        vertical-align: top;\n",
              "    }\n",
              "\n",
              "    .dataframe thead th {\n",
              "        text-align: right;\n",
              "    }\n",
              "</style>\n",
              "<table border=\"1\" class=\"dataframe\">\n",
              "  <thead>\n",
              "    <tr style=\"text-align: right;\">\n",
              "      <th></th>\n",
              "      <th>網路成癮分數YDQ</th>\n",
              "      <th>家庭滿意度apgar</th>\n",
              "      <th>年齡</th>\n",
              "      <th>sex_男</th>\n",
              "      <th>自殺意念01</th>\n",
              "      <th>remainder</th>\n",
              "      <th>group</th>\n",
              "      <th>groupNo</th>\n",
              "    </tr>\n",
              "  </thead>\n",
              "  <tbody>\n",
              "    <tr>\n",
              "      <th>178</th>\n",
              "      <td>1</td>\n",
              "      <td>10.0</td>\n",
              "      <td>25.000000</td>\n",
              "      <td>1</td>\n",
              "      <td>0</td>\n",
              "      <td>4</td>\n",
              "      <td>training</td>\n",
              "      <td>0</td>\n",
              "    </tr>\n",
              "    <tr>\n",
              "      <th>179</th>\n",
              "      <td>8</td>\n",
              "      <td>0.0</td>\n",
              "      <td>29.000000</td>\n",
              "      <td>1</td>\n",
              "      <td>1</td>\n",
              "      <td>5</td>\n",
              "      <td>training</td>\n",
              "      <td>0</td>\n",
              "    </tr>\n",
              "    <tr>\n",
              "      <th>180</th>\n",
              "      <td>3</td>\n",
              "      <td>8.0</td>\n",
              "      <td>21.333082</td>\n",
              "      <td>0</td>\n",
              "      <td>1</td>\n",
              "      <td>0</td>\n",
              "      <td>testing</td>\n",
              "      <td>2</td>\n",
              "    </tr>\n",
              "    <tr>\n",
              "      <th>181</th>\n",
              "      <td>7</td>\n",
              "      <td>3.0</td>\n",
              "      <td>34.000000</td>\n",
              "      <td>1</td>\n",
              "      <td>0</td>\n",
              "      <td>1</td>\n",
              "      <td>validating</td>\n",
              "      <td>1</td>\n",
              "    </tr>\n",
              "    <tr>\n",
              "      <th>182</th>\n",
              "      <td>7</td>\n",
              "      <td>5.0</td>\n",
              "      <td>18.000000</td>\n",
              "      <td>1</td>\n",
              "      <td>0</td>\n",
              "      <td>2</td>\n",
              "      <td>validating</td>\n",
              "      <td>1</td>\n",
              "    </tr>\n",
              "    <tr>\n",
              "      <th>183</th>\n",
              "      <td>8</td>\n",
              "      <td>9.0</td>\n",
              "      <td>27.000000</td>\n",
              "      <td>1</td>\n",
              "      <td>0</td>\n",
              "      <td>3</td>\n",
              "      <td>training</td>\n",
              "      <td>0</td>\n",
              "    </tr>\n",
              "    <tr>\n",
              "      <th>184</th>\n",
              "      <td>5</td>\n",
              "      <td>5.0</td>\n",
              "      <td>27.000000</td>\n",
              "      <td>1</td>\n",
              "      <td>1</td>\n",
              "      <td>4</td>\n",
              "      <td>training</td>\n",
              "      <td>0</td>\n",
              "    </tr>\n",
              "    <tr>\n",
              "      <th>185</th>\n",
              "      <td>5</td>\n",
              "      <td>7.0</td>\n",
              "      <td>27.000000</td>\n",
              "      <td>1</td>\n",
              "      <td>0</td>\n",
              "      <td>5</td>\n",
              "      <td>training</td>\n",
              "      <td>0</td>\n",
              "    </tr>\n",
              "    <tr>\n",
              "      <th>186</th>\n",
              "      <td>2</td>\n",
              "      <td>0.0</td>\n",
              "      <td>21.000000</td>\n",
              "      <td>1</td>\n",
              "      <td>1</td>\n",
              "      <td>0</td>\n",
              "      <td>testing</td>\n",
              "      <td>2</td>\n",
              "    </tr>\n",
              "    <tr>\n",
              "      <th>187</th>\n",
              "      <td>0</td>\n",
              "      <td>0.0</td>\n",
              "      <td>25.000000</td>\n",
              "      <td>1</td>\n",
              "      <td>1</td>\n",
              "      <td>1</td>\n",
              "      <td>validating</td>\n",
              "      <td>1</td>\n",
              "    </tr>\n",
              "  </tbody>\n",
              "</table>\n",
              "</div>"
            ],
            "text/plain": [
              "     網路成癮分數YDQ  家庭滿意度apgar         年齡  ...  remainder       group  groupNo\n",
              "178          1        10.0  25.000000  ...          4    training        0\n",
              "179          8         0.0  29.000000  ...          5    training        0\n",
              "180          3         8.0  21.333082  ...          0     testing        2\n",
              "181          7         3.0  34.000000  ...          1  validating        1\n",
              "182          7         5.0  18.000000  ...          2  validating        1\n",
              "183          8         9.0  27.000000  ...          3    training        0\n",
              "184          5         5.0  27.000000  ...          4    training        0\n",
              "185          5         7.0  27.000000  ...          5    training        0\n",
              "186          2         0.0  21.000000  ...          0     testing        2\n",
              "187          0         0.0  25.000000  ...          1  validating        1\n",
              "\n",
              "[10 rows x 8 columns]"
            ]
          },
          "metadata": {
            "tags": []
          },
          "execution_count": 81
        }
      ]
    },
    {
      "cell_type": "code",
      "metadata": {
        "id": "bPq8q3AgXR5k",
        "colab": {
          "base_uri": "https://localhost:8080/"
        },
        "outputId": "b015d55a-62b4-4e53-b2fd-fd59a7d42ac0"
      },
      "source": [
        "##8-0-2 Chi-square and ANOVA\n",
        "from sklearn.feature_selection import chi2\n",
        "from sklearn.feature_selection import f_classif\n",
        "print(pd.crosstab(all_df['group'],all_df['自殺意念01']))\n",
        "##chi-square test確定 自殺意念01 沒有過度集中在某組....\n",
        "Chi2=chi2(all_df['groupNo'].to_numpy().reshape(-1,1),all_df['自殺意念01'].to_numpy())\n",
        "print('chi2={}, p={}'.format(round(Chi2[0].item(),3),round(Chi2[1].item(),3)))\n",
        "##ANOVA確定年齡沒有過度集中在某組\n",
        "print('='*30)\n",
        "F=f_classif(all_df['年齡'].to_numpy().reshape(-1,1),all_df['group'].to_numpy())\n",
        "print(all_df.groupby('group')['年齡'].mean())\n",
        "print('ANOVA F={}, p={}'.format(round(F[0].item(),3),round(F[1].item(),3)))"
      ],
      "execution_count": 82,
      "outputs": [
        {
          "output_type": "stream",
          "text": [
            "自殺意念01       0   1\n",
            "group             \n",
            "testing     23   9\n",
            "training    77  16\n",
            "validating  53  10\n",
            "chi2=0.986, p=0.321\n",
            "==============================\n",
            "group\n",
            "testing       21.385385\n",
            "training      21.752499\n",
            "validating    20.687376\n",
            "Name: 年齡, dtype: float64\n",
            "ANOVA F=1.126, p=0.327\n"
          ],
          "name": "stdout"
        }
      ]
    },
    {
      "cell_type": "code",
      "metadata": {
        "id": "n8WemEO8ffxe",
        "colab": {
          "base_uri": "https://localhost:8080/"
        },
        "outputId": "72c830ab-f638-4fbc-f609-1ba833623d3c"
      },
      "source": [
        "##8-0-3 區分 training, validation, testing sets..\n",
        "y_test=all_df.loc[all_df['group']=='testing']['自殺意念01'].to_frame()\n",
        "x_test=all_df.loc[all_df['group']=='testing'][['網路成癮分數YDQ','家庭滿意度apgar','年齡','sex_男']]\n",
        "y_vald=all_df.loc[all_df['group']=='validating']['自殺意念01'].to_frame()\n",
        "x_vald=all_df.loc[all_df['group']=='validating'][['網路成癮分數YDQ','家庭滿意度apgar','年齡','sex_男']]\n",
        "y_train=all_df.loc[all_df['group']=='training']['自殺意念01'].to_frame()\n",
        "x_train=all_df.loc[all_df['group']=='training'][['網路成癮分數YDQ','家庭滿意度apgar','年齡','sex_男']]\n",
        "print('cases number of train={}, of validation={}, of test={} '.format(len(x_train),len(x_vald),len(x_test)))"
      ],
      "execution_count": 83,
      "outputs": [
        {
          "output_type": "stream",
          "text": [
            "cases number of train=93, of validation=63, of test=32 \n"
          ],
          "name": "stdout"
        }
      ]
    },
    {
      "cell_type": "code",
      "metadata": {
        "id": "zHDP9NL32bkG"
      },
      "source": [
        "all_df.to_csv('all_df_r.csv')"
      ],
      "execution_count": 84,
      "outputs": []
    },
    {
      "cell_type": "code",
      "metadata": {
        "id": "fAj8SwxUu97e",
        "colab": {
          "base_uri": "https://localhost:8080/",
          "height": 549
        },
        "outputId": "2b4c5d4b-6eb5-46c4-b9e9-299289aef57c"
      },
      "source": [
        "##8-0-4 Read Pands.DataFrame in R\n",
        "%%R\n",
        "all_df_r<-read.csv('all_df_r.csv')\n",
        "hist(all_df_r$年齡[all_df_r$group=='training'])\n",
        "##hist(all_df_r$年齡[all_df_r$group=='validating'])\n",
        "##hist(all_df_r$年齡[all_df_r$group=='testing'])\n",
        "formula<-'年齡~group'\n",
        "ANOVA<-aov(all_df_r$網路成癮分數YDQ~all_df_r$groupNo)\n",
        "ANOVA<-aov(all_df_r$家庭滿意度apgar~all_df_r$groupNo)\n",
        "ANOVA<-aov(all_df_r$年齡~all_df_r$group)\n",
        "summary(ANOVA)"
      ],
      "execution_count": 85,
      "outputs": [
        {
          "output_type": "stream",
          "text": [
            "                Df Sum Sq Mean Sq F value Pr(>F)\n",
            "all_df_r$group   2     43   21.36   1.126  0.327\n",
            "Residuals      185   3510   18.97               \n"
          ],
          "name": "stdout"
        },
        {
          "output_type": "display_data",
          "data": {
            "image/png": "[encoded data removed]"
          },
          "metadata": {
            "tags": []
          }
        }
      ]
    },
    {
      "cell_type": "code",
      "metadata": {
        "id": "XFtASJ6rssT6",
        "colab": {
          "base_uri": "https://localhost:8080/",
          "height": 349
        },
        "outputId": "b4f217da-3278-43d3-c56d-5f4974688ba6"
      },
      "source": [
        "##8-0-5使用sklearn Logistic Regression\n",
        "from sklearn.linear_model import LogisticRegression\n",
        "from sklearn.metrics import roc_curve, roc_auc_score\n",
        "from matplotlib import pyplot as plt\n",
        "model0=LogisticRegression()\n",
        "result0=model0.fit(x_train,y_train)\n",
        "預測機率0=result0.predict_proba(x_test)\n",
        "AUC面積0=roc_auc_score(y_test,預測機率0[:,1])\n",
        "fpr, tpr, thresholds = roc_curve(y_test,預測機率0[:,1])\n",
        "plt.figure()\n",
        "plt.plot(fpr, tpr, label='Logistic regression (area = %0.3f)' % AUC面積0)\n",
        "plt.plot([0, 1], [0, 1],'r--')\n",
        "plt.xlim([0.0, 1.0])\n",
        "plt.ylim([0.0, 1.05])\n",
        "plt.xlabel('False Positive Rate')\n",
        "plt.ylabel('True Positive Rate')\n",
        "plt.title('Receiver operating characteristic ROC')\n",
        "plt.legend(loc=\"lower right\")\n",
        "plt.show()"
      ],
      "execution_count": 86,
      "outputs": [
        {
          "output_type": "stream",
          "text": [
            "/usr/local/lib/python3.7/dist-packages/sklearn/utils/validation.py:760: DataConversionWarning: A column-vector y was passed when a 1d array was expected. Please change the shape of y to (n_samples, ), for example using ravel().\n",
            "  y = column_or_1d(y, warn=True)\n"
          ],
          "name": "stderr"
        },
        {
          "output_type": "display_data",
          "data": {
            "image/png": "[encoded data removed]",
            "text/plain": [
              "<Figure size 432x288 with 1 Axes>"
            ]
          },
          "metadata": {
            "tags": [],
            "needs_background": "light"
          }
        }
      ]
    },
    {
      "cell_type": "code",
      "metadata": {
        "id": "SLdTs0qUlVLo",
        "colab": {
          "base_uri": "https://localhost:8080/"
        },
        "outputId": "e84de080-99ff-46eb-c65c-8d4407f08dfb"
      },
      "source": [
        "##8-1-1 使用Tensorflow Logistic regression ...\n",
        "import tensorflow as tf\n",
        "from tensorflow.keras.layers import Dense \n",
        "from tensorflow.keras import Sequential\n",
        "from tensorflow.keras.metrics import AUC, Precision, Recall\n",
        "model1=Sequential()\n",
        "model1.add(Dense(units=1,input_dim=4,activation='sigmoid')) ###'softmax' is for multiclass outcome.\n",
        "model1.compile(loss='binary_crossentropy',optimizer='adam',metrics=['accuracy',AUC(),Precision(),Recall()])\n",
        "model1.fit(x_train, y_train, epochs=20,batch_size=10,validation_data=(x_vald,y_vald))"
      ],
      "execution_count": 87,
      "outputs": [
        {
          "output_type": "stream",
          "text": [
            "Epoch 1/20\n",
            "10/10 [==============================] - 1s 56ms/step - loss: 11.4355 - accuracy: 0.1720 - auc_7: 0.5000 - precision_7: 0.1720 - recall_7: 1.0000 - val_loss: 10.3558 - val_accuracy: 0.1587 - val_auc_7: 0.5189 - val_precision_7: 0.1587 - val_recall_7: 1.0000\n",
            "Epoch 2/20\n",
            "10/10 [==============================] - 0s 7ms/step - loss: 11.1707 - accuracy: 0.1720 - auc_7: 0.5000 - precision_7: 0.1720 - recall_7: 1.0000 - val_loss: 10.0798 - val_accuracy: 0.1587 - val_auc_7: 0.5189 - val_precision_7: 0.1587 - val_recall_7: 1.0000\n",
            "Epoch 3/20\n",
            "10/10 [==============================] - 0s 4ms/step - loss: 10.9060 - accuracy: 0.1720 - auc_7: 0.5065 - precision_7: 0.1720 - recall_7: 1.0000 - val_loss: 9.8052 - val_accuracy: 0.1587 - val_auc_7: 0.5189 - val_precision_7: 0.1587 - val_recall_7: 1.0000\n",
            "Epoch 4/20\n",
            "10/10 [==============================] - 0s 4ms/step - loss: 10.6390 - accuracy: 0.1720 - auc_7: 0.5065 - precision_7: 0.1720 - recall_7: 1.0000 - val_loss: 9.5339 - val_accuracy: 0.1587 - val_auc_7: 0.5189 - val_precision_7: 0.1587 - val_recall_7: 1.0000\n",
            "Epoch 5/20\n",
            "10/10 [==============================] - 0s 6ms/step - loss: 10.3778 - accuracy: 0.1720 - auc_7: 0.5065 - precision_7: 0.1720 - recall_7: 1.0000 - val_loss: 9.2592 - val_accuracy: 0.1587 - val_auc_7: 0.5283 - val_precision_7: 0.1587 - val_recall_7: 1.0000\n",
            "Epoch 6/20\n",
            "10/10 [==============================] - 0s 6ms/step - loss: 10.1221 - accuracy: 0.1720 - auc_7: 0.5130 - precision_7: 0.1720 - recall_7: 1.0000 - val_loss: 8.9829 - val_accuracy: 0.1587 - val_auc_7: 0.5377 - val_precision_7: 0.1587 - val_recall_7: 1.0000\n",
            "Epoch 7/20\n",
            "10/10 [==============================] - 0s 6ms/step - loss: 9.8507 - accuracy: 0.1720 - auc_7: 0.5130 - precision_7: 0.1720 - recall_7: 1.0000 - val_loss: 8.7178 - val_accuracy: 0.1587 - val_auc_7: 0.5660 - val_precision_7: 0.1587 - val_recall_7: 1.0000\n",
            "Epoch 8/20\n",
            "10/10 [==============================] - 0s 4ms/step - loss: 9.6006 - accuracy: 0.1720 - auc_7: 0.5260 - precision_7: 0.1720 - recall_7: 1.0000 - val_loss: 8.4464 - val_accuracy: 0.1587 - val_auc_7: 0.5660 - val_precision_7: 0.1587 - val_recall_7: 1.0000\n",
            "Epoch 9/20\n",
            "10/10 [==============================] - 0s 6ms/step - loss: 9.3371 - accuracy: 0.1720 - auc_7: 0.5260 - precision_7: 0.1720 - recall_7: 1.0000 - val_loss: 8.1770 - val_accuracy: 0.1587 - val_auc_7: 0.5660 - val_precision_7: 0.1587 - val_recall_7: 1.0000\n",
            "Epoch 10/20\n",
            "10/10 [==============================] - 0s 4ms/step - loss: 9.0729 - accuracy: 0.1720 - auc_7: 0.5325 - precision_7: 0.1720 - recall_7: 1.0000 - val_loss: 7.9032 - val_accuracy: 0.1587 - val_auc_7: 0.5755 - val_precision_7: 0.1587 - val_recall_7: 1.0000\n",
            "Epoch 11/20\n",
            "10/10 [==============================] - 0s 5ms/step - loss: 8.8160 - accuracy: 0.1720 - auc_7: 0.5028 - precision_7: 0.1720 - recall_7: 1.0000 - val_loss: 7.6245 - val_accuracy: 0.1587 - val_auc_7: 0.5755 - val_precision_7: 0.1587 - val_recall_7: 1.0000\n",
            "Epoch 12/20\n",
            "10/10 [==============================] - 0s 6ms/step - loss: 8.5469 - accuracy: 0.1720 - auc_7: 0.5028 - precision_7: 0.1720 - recall_7: 1.0000 - val_loss: 7.3501 - val_accuracy: 0.1587 - val_auc_7: 0.5943 - val_precision_7: 0.1587 - val_recall_7: 1.0000\n",
            "Epoch 13/20\n",
            "10/10 [==============================] - 0s 5ms/step - loss: 8.2884 - accuracy: 0.1720 - auc_7: 0.5211 - precision_7: 0.1720 - recall_7: 1.0000 - val_loss: 7.0807 - val_accuracy: 0.1587 - val_auc_7: 0.6038 - val_precision_7: 0.1587 - val_recall_7: 1.0000\n",
            "Epoch 14/20\n",
            "10/10 [==============================] - 0s 5ms/step - loss: 8.0301 - accuracy: 0.1720 - auc_7: 0.5276 - precision_7: 0.1720 - recall_7: 1.0000 - val_loss: 6.8179 - val_accuracy: 0.1587 - val_auc_7: 0.6132 - val_precision_7: 0.1587 - val_recall_7: 1.0000\n",
            "Epoch 15/20\n",
            "10/10 [==============================] - 0s 5ms/step - loss: 7.7712 - accuracy: 0.1720 - auc_7: 0.5337 - precision_7: 0.1720 - recall_7: 1.0000 - val_loss: 6.5540 - val_accuracy: 0.1587 - val_auc_7: 0.6226 - val_precision_7: 0.1587 - val_recall_7: 1.0000\n",
            "Epoch 16/20\n",
            "10/10 [==============================] - 0s 6ms/step - loss: 7.5160 - accuracy: 0.1720 - auc_7: 0.5337 - precision_7: 0.1720 - recall_7: 1.0000 - val_loss: 6.2843 - val_accuracy: 0.1587 - val_auc_7: 0.6321 - val_precision_7: 0.1587 - val_recall_7: 1.0000\n",
            "Epoch 17/20\n",
            "10/10 [==============================] - 0s 5ms/step - loss: 7.2557 - accuracy: 0.1720 - auc_7: 0.5398 - precision_7: 0.1720 - recall_7: 1.0000 - val_loss: 6.0253 - val_accuracy: 0.1587 - val_auc_7: 0.6604 - val_precision_7: 0.1587 - val_recall_7: 1.0000\n",
            "Epoch 18/20\n",
            "10/10 [==============================] - 0s 6ms/step - loss: 7.0037 - accuracy: 0.1720 - auc_7: 0.5398 - precision_7: 0.1720 - recall_7: 1.0000 - val_loss: 5.7572 - val_accuracy: 0.1587 - val_auc_7: 0.6604 - val_precision_7: 0.1587 - val_recall_7: 1.0000\n",
            "Epoch 19/20\n",
            "10/10 [==============================] - 0s 5ms/step - loss: 6.7422 - accuracy: 0.1720 - auc_7: 0.5459 - precision_7: 0.1720 - recall_7: 1.0000 - val_loss: 5.4943 - val_accuracy: 0.1587 - val_auc_7: 0.6887 - val_precision_7: 0.1587 - val_recall_7: 1.0000\n",
            "Epoch 20/20\n",
            "10/10 [==============================] - 0s 4ms/step - loss: 6.4892 - accuracy: 0.1720 - auc_7: 0.5824 - precision_7: 0.1720 - recall_7: 1.0000 - val_loss: 5.2272 - val_accuracy: 0.1587 - val_auc_7: 0.7208 - val_precision_7: 0.1587 - val_recall_7: 1.0000\n"
          ],
          "name": "stdout"
        },
        {
          "output_type": "execute_result",
          "data": {
            "text/plain": [
              "<tensorflow.python.keras.callbacks.History at 0x7f57a6cf2e50>"
            ]
          },
          "metadata": {
            "tags": []
          },
          "execution_count": 87
        }
      ]
    },
    {
      "cell_type": "code",
      "metadata": {
        "id": "w3zqJ77WIrBG",
        "colab": {
          "base_uri": "https://localhost:8080/"
        },
        "outputId": "464b0106-2909-4f5e-9b1e-42597d2a07ec"
      },
      "source": [
        "##8-1-2 計算accuracy...\n",
        "score1=model1.evaluate(x_test,y_test)\n",
        "print('{}-->{}'.format(model1.metrics_names[0],score1[0]))\n",
        "print('{}-->{}'.format(model1.metrics_names[1],score1[1]))\n",
        "print('{}-->{}'.format(model1.metrics_names[2],score1[2]))\n",
        "print('{}-->{}'.format(model1.metrics_names[3],score1[3]))\n",
        "print('{}-->{}'.format(model1.metrics_names[4],score1[4]))\n",
        "\n",
        "print('='*30)\n",
        "from sklearn.metrics import roc_auc_score\n",
        "print('AUC for testing set:')\n",
        "predicted_prob=model1.predict(x_test)\n",
        "roc_auc_score(y_test,predicted_prob)"
      ],
      "execution_count": 88,
      "outputs": [
        {
          "output_type": "stream",
          "text": [
            "1/1 [==============================] - 0s 440ms/step - loss: 4.8080 - accuracy: 0.2812 - auc_7: 0.6039 - precision_7: 0.2812 - recall_7: 1.0000\n",
            "loss-->4.807977676391602\n",
            "accuracy-->0.28125\n",
            "auc_7-->0.6038647294044495\n",
            "precision_7-->0.28125\n",
            "recall_7-->1.0\n",
            "==============================\n",
            "AUC for testing set:\n"
          ],
          "name": "stdout"
        },
        {
          "output_type": "execute_result",
          "data": {
            "text/plain": [
              "0.7657004830917874"
            ]
          },
          "metadata": {
            "tags": []
          },
          "execution_count": 88
        }
      ]
    },
    {
      "cell_type": "code",
      "metadata": {
        "id": "5g-bXTS8feo3",
        "colab": {
          "base_uri": "https://localhost:8080/",
          "height": 295
        },
        "outputId": "a65421a9-5f18-404f-a458-58fce1fefbf2"
      },
      "source": [
        "##8-1-3 繪製ROC曲線圖...\n",
        "from sklearn.metrics import roc_auc_score, roc_curve\n",
        "from matplotlib import pyplot as plt\n",
        "AUC面積=roc_auc_score(y_test, predicted_prob) ##0.6973180076628352\n",
        "fpr,tpr,thresholds=roc_curve(y_test,predicted_prob)\n",
        "plt.figure()\n",
        "plt.plot(fpr,tpr,label='Logistic regression (area = %0.3f)'%AUC面積)\n",
        "plt.plot([0,1],[0,1],'r--')\n",
        "plt.xlim([0.0,1.0])\n",
        "plt.ylim([0.0,1.05])\n",
        "plt.xlabel('False Positive Rate')\n",
        "plt.ylabel('True Positive Rate')\n",
        "plt.title('Receiver operating characteristic ROC')\n",
        "plt.legend(loc=\"lower right\")\n",
        "plt.show()"
      ],
      "execution_count": 89,
      "outputs": [
        {
          "output_type": "display_data",
          "data": {
            "image/png": "[encoded data removed]",
            "text/plain": [
              "<Figure size 432x288 with 1 Axes>"
            ]
          },
          "metadata": {
            "tags": [],
            "needs_background": "light"
          }
        }
      ]
    },
    {
      "cell_type": "code",
      "metadata": {
        "id": "eWcEQkLEkwqg"
      },
      "source": [
        "##8-2-1使用pytorch\n",
        "import torch \n",
        "x_train_=torch.from_numpy(x_train.to_numpy().astype(np.float32))\n",
        "x_vald_=torch.from_numpy(x_vald.to_numpy().astype(np.float32))\n",
        "x_test_=torch.from_numpy(x_test.to_numpy().astype(np.float32))\n",
        "y_train_=torch.from_numpy(y_train.to_numpy().astype(np.float32))\n",
        "y_vald_=torch.from_numpy(y_vald.to_numpy().astype(np.float32))\n",
        "y_test_=torch.from_numpy(y_test.to_numpy().astype(np.float32))"
      ],
      "execution_count": 90,
      "outputs": []
    },
    {
      "cell_type": "code",
      "metadata": {
        "id": "xeGXSUOKls-U"
      },
      "source": [
        "##8-2-2 建立 class\n",
        "import torch\n",
        "class Logistic_Reg_model(torch.nn.Module):\n",
        "  def __init__(self,no_input_features):\n",
        "    super(Logistic_Reg_model,self).__init__()\n",
        "    self.layer1=torch.nn.Linear(no_input_features,4)\n",
        "    self.layer2=torch.nn.Linear(4,1)\n",
        "  def forward(self,x):\n",
        "    y_predicted=self.layer1(x)\n",
        "    y_predicted=torch.sigmoid(self.layer2(y_predicted))\n",
        "    return y_predicted"
      ],
      "execution_count": 91,
      "outputs": []
    },
    {
      "cell_type": "code",
      "metadata": {
        "id": "OIlE_e6-lx62",
        "colab": {
          "base_uri": "https://localhost:8080/"
        },
        "outputId": "47dc99ba-368b-4061-c8f6-01d81664f5e5"
      },
      "source": [
        "##8-2-3 訓練model\n",
        "import torch\n",
        "樣本數,變項數=x_train_.shape\n",
        "model2=Logistic_Reg_model(變項數)\n",
        "criterion=torch.nn.BCELoss()\n",
        "optimizer=torch.optim.SGD(model2.parameters(),lr=0.01)\n",
        "number_of_epochs=20\n",
        "for epoch in range(number_of_epochs):\n",
        "  y_prediction=model2(x_train_)\n",
        "  loss=criterion(y_prediction,y_train_)\n",
        "  loss.backward()\n",
        "  optimizer.step()\n",
        "  optimizer.zero_grad()\n",
        "  if (epoch+1)%10==0:\n",
        "    print('epoch:',epoch+1,', loss=',loss.item())"
      ],
      "execution_count": 92,
      "outputs": [
        {
          "output_type": "stream",
          "text": [
            "epoch: 10 , loss= 0.48382654786109924\n",
            "epoch: 20 , loss= 0.4760647416114807\n"
          ],
          "name": "stdout"
        }
      ]
    },
    {
      "cell_type": "code",
      "metadata": {
        "id": "qRNV9W0sSKh1",
        "outputId": "0fed9445-25d9-4719-b1cf-fc0a0cdbf918",
        "colab": {
          "base_uri": "https://localhost:8080/"
        }
      },
      "source": [
        "##8-2-4測試testing group\n",
        "import torch\n",
        "with torch.no_grad():\n",
        "  y_pred=model2(x_test_)\n",
        "  y_pred_class=y_pred.round()\n",
        "  accuracy=float(y_pred_class.eq(y_test_).sum())/float(y_test_.shape[0])\n",
        "print(accuracy)\n",
        "print(y_pred)"
      ],
      "execution_count": 93,
      "outputs": [
        {
          "output_type": "stream",
          "text": [
            "0.71875\n",
            "tensor([[0.1372],\n",
            "        [0.1420],\n",
            "        [0.1797],\n",
            "        [0.1182],\n",
            "        [0.0873],\n",
            "        [0.2477],\n",
            "        [0.1246],\n",
            "        [0.0829],\n",
            "        [0.2579],\n",
            "        [0.1605],\n",
            "        [0.1673],\n",
            "        [0.1736],\n",
            "        [0.1407],\n",
            "        [0.2862],\n",
            "        [0.1775],\n",
            "        [0.1628],\n",
            "        [0.2158],\n",
            "        [0.0943],\n",
            "        [0.1115],\n",
            "        [0.1633],\n",
            "        [0.1168],\n",
            "        [0.1938],\n",
            "        [0.1083],\n",
            "        [0.2894],\n",
            "        [0.1372],\n",
            "        [0.1935],\n",
            "        [0.1864],\n",
            "        [0.2332],\n",
            "        [0.2227],\n",
            "        [0.2938],\n",
            "        [0.2180],\n",
            "        [0.2906]])\n"
          ],
          "name": "stdout"
        }
      ]
    },
    {
      "cell_type": "code",
      "metadata": {
        "id": "Onibws0jzkQ-",
        "colab": {
          "base_uri": "https://localhost:8080/",
          "height": 295
        },
        "outputId": "ddf4ab37-5976-46e6-f5c6-b7685d0fbdc1"
      },
      "source": [
        "##8-2-5 計算AUC\n",
        "from sklearn.metrics import roc_auc_score, roc_curve\n",
        "from matplotlib import pyplot as plt\n",
        "AUC面積=roc_auc_score(y_test, y_pred) ##0.609\n",
        "fpr,tpr,thresholds=roc_curve(y_test,y_pred)\n",
        "plt.figure()\n",
        "plt.plot(fpr,tpr,label='Logistic regression (area = %0.3f)'%AUC面積)\n",
        "plt.plot([0,1],[0,1],'r--')\n",
        "plt.xlim([0.0,1.0])\n",
        "plt.ylim([0.0,1.05])\n",
        "plt.xlabel('False Positive Rate')\n",
        "plt.ylabel('True Positive Rate')\n",
        "plt.title('Receiver operating characteristic ROC')\n",
        "plt.legend(loc=\"lower right\")\n",
        "plt.show()"
      ],
      "execution_count": 94,
      "outputs": [
        {
          "output_type": "display_data",
          "data": {
            "image/png": "[encoded data removed]",
            "text/plain": [
              "<Figure size 432x288 with 1 Axes>"
            ]
          },
          "metadata": {
            "tags": [],
            "needs_background": "light"
          }
        }
      ]
    },
    {
      "cell_type": "code",
      "metadata": {
        "id": "oeZJVm7jWGR5",
        "colab": {
          "base_uri": "https://localhost:8080/"
        },
        "outputId": "e10300e7-606e-4455-f8d5-55abea76745a"
      },
      "source": [
        "##8-3-1 Deep Learning Model...\n",
        "import tensorflow as tf\n",
        "import numpy as np\n",
        "from tensorflow import keras\n",
        "from tensorflow.keras.layers import Dense \n",
        "model3=keras.Sequential()\n",
        "model3.add(Dense(8,input_dim=4,activation='relu'))\n",
        "model3.add(Dense(5,activation='relu'))\n",
        "model3.add(Dense(1,activation='sigmoid'))\n",
        "model3.summary()"
      ],
      "execution_count": 95,
      "outputs": [
        {
          "output_type": "stream",
          "text": [
            "Model: \"sequential_5\"\n",
            "_________________________________________________________________\n",
            "Layer (type)                 Output Shape              Param #   \n",
            "=================================================================\n",
            "dense_9 (Dense)              (None, 8)                 40        \n",
            "_________________________________________________________________\n",
            "dense_10 (Dense)             (None, 5)                 45        \n",
            "_________________________________________________________________\n",
            "dense_11 (Dense)             (None, 1)                 6         \n",
            "=================================================================\n",
            "Total params: 91\n",
            "Trainable params: 91\n",
            "Non-trainable params: 0\n",
            "_________________________________________________________________\n"
          ],
          "name": "stdout"
        }
      ]
    },
    {
      "cell_type": "code",
      "metadata": {
        "id": "K9GPIOINXjCO",
        "colab": {
          "base_uri": "https://localhost:8080/"
        },
        "outputId": "16827eb5-a2f8-407e-be78-2d0ddc4cc864"
      },
      "source": [
        "##8-3-2 Training model..\n",
        "from tensorflow.keras.metrics import AUC, Precision, Recall\n",
        "model3.compile(loss='binary_crossentropy',optimizer='adam',metrics=['accuracy',AUC(),Precision(),Recall()])\n",
        "model3.fit(x_train, y_train,epochs=200, batch_size=10,validation_data=(x_vald,y_vald))"
      ],
      "execution_count": 96,
      "outputs": [
        {
          "output_type": "stream",
          "text": [
            "Epoch 1/200\n",
            "10/10 [==============================] - 2s 123ms/step - loss: 0.7487 - accuracy: 0.4839 - auc_8: 0.6794 - precision_8: 0.2037 - recall_8: 0.6875 - val_loss: 0.5040 - val_accuracy: 0.7937 - val_auc_8: 0.6774 - val_precision_8: 0.3636 - val_recall_8: 0.4000\n",
            "Epoch 2/200\n",
            "10/10 [==============================] - 0s 6ms/step - loss: 0.5203 - accuracy: 0.8172 - auc_8: 0.6599 - precision_8: 0.4667 - recall_8: 0.4375 - val_loss: 0.4008 - val_accuracy: 0.8730 - val_auc_8: 0.6792 - val_precision_8: 0.6667 - val_recall_8: 0.4000\n",
            "Epoch 3/200\n",
            "10/10 [==============================] - 0s 4ms/step - loss: 0.4540 - accuracy: 0.8280 - auc_8: 0.6262 - precision_8: 0.5000 - recall_8: 0.2500 - val_loss: 0.3758 - val_accuracy: 0.8889 - val_auc_8: 0.6783 - val_precision_8: 0.8000 - val_recall_8: 0.4000\n",
            "Epoch 4/200\n",
            "10/10 [==============================] - 0s 6ms/step - loss: 0.4416 - accuracy: 0.8280 - auc_8: 0.6307 - precision_8: 0.5000 - recall_8: 0.1875 - val_loss: 0.3669 - val_accuracy: 0.8889 - val_auc_8: 0.6858 - val_precision_8: 0.8000 - val_recall_8: 0.4000\n",
            "Epoch 5/200\n",
            "10/10 [==============================] - 0s 5ms/step - loss: 0.4413 - accuracy: 0.8172 - auc_8: 0.6331 - precision_8: 0.4000 - recall_8: 0.1250 - val_loss: 0.3619 - val_accuracy: 0.8889 - val_auc_8: 0.6915 - val_precision_8: 0.8000 - val_recall_8: 0.4000\n",
            "Epoch 6/200\n",
            "10/10 [==============================] - 0s 4ms/step - loss: 0.4350 - accuracy: 0.8387 - auc_8: 0.6465 - precision_8: 0.5714 - recall_8: 0.2500 - val_loss: 0.3607 - val_accuracy: 0.8889 - val_auc_8: 0.7104 - val_precision_8: 0.8000 - val_recall_8: 0.4000\n",
            "Epoch 7/200\n",
            "10/10 [==============================] - 0s 5ms/step - loss: 0.4337 - accuracy: 0.8280 - auc_8: 0.6644 - precision_8: 0.5000 - recall_8: 0.2500 - val_loss: 0.3590 - val_accuracy: 0.8889 - val_auc_8: 0.7302 - val_precision_8: 0.8000 - val_recall_8: 0.4000\n",
            "Epoch 8/200\n",
            "10/10 [==============================] - 0s 5ms/step - loss: 0.4292 - accuracy: 0.8280 - auc_8: 0.6834 - precision_8: 0.5000 - recall_8: 0.2500 - val_loss: 0.3545 - val_accuracy: 0.8730 - val_auc_8: 0.7425 - val_precision_8: 0.6667 - val_recall_8: 0.4000\n",
            "Epoch 9/200\n",
            "10/10 [==============================] - 0s 6ms/step - loss: 0.4255 - accuracy: 0.8280 - auc_8: 0.7037 - precision_8: 0.5000 - recall_8: 0.2500 - val_loss: 0.3501 - val_accuracy: 0.8730 - val_auc_8: 0.7472 - val_precision_8: 0.6667 - val_recall_8: 0.4000\n",
            "Epoch 10/200\n",
            "10/10 [==============================] - 0s 6ms/step - loss: 0.4232 - accuracy: 0.8172 - auc_8: 0.6972 - precision_8: 0.4286 - recall_8: 0.1875 - val_loss: 0.3455 - val_accuracy: 0.8889 - val_auc_8: 0.7613 - val_precision_8: 0.8000 - val_recall_8: 0.4000\n",
            "Epoch 11/200\n",
            "10/10 [==============================] - 0s 6ms/step - loss: 0.4235 - accuracy: 0.8172 - auc_8: 0.7062 - precision_8: 0.4444 - recall_8: 0.2500 - val_loss: 0.3444 - val_accuracy: 0.8730 - val_auc_8: 0.7783 - val_precision_8: 0.6667 - val_recall_8: 0.4000\n",
            "Epoch 12/200\n",
            "10/10 [==============================] - 0s 5ms/step - loss: 0.4238 - accuracy: 0.8065 - auc_8: 0.7017 - precision_8: 0.3750 - recall_8: 0.1875 - val_loss: 0.3412 - val_accuracy: 0.8889 - val_auc_8: 0.7774 - val_precision_8: 0.8000 - val_recall_8: 0.4000\n",
            "Epoch 13/200\n",
            "10/10 [==============================] - 0s 5ms/step - loss: 0.4177 - accuracy: 0.8065 - auc_8: 0.7159 - precision_8: 0.3750 - recall_8: 0.1875 - val_loss: 0.3404 - val_accuracy: 0.8730 - val_auc_8: 0.7915 - val_precision_8: 0.6667 - val_recall_8: 0.4000\n",
            "Epoch 14/200\n",
            "10/10 [==============================] - 0s 4ms/step - loss: 0.4222 - accuracy: 0.8172 - auc_8: 0.7188 - precision_8: 0.4444 - recall_8: 0.2500 - val_loss: 0.3412 - val_accuracy: 0.8571 - val_auc_8: 0.7906 - val_precision_8: 0.5714 - val_recall_8: 0.4000\n",
            "Epoch 15/200\n",
            "10/10 [==============================] - 0s 5ms/step - loss: 0.4179 - accuracy: 0.8172 - auc_8: 0.7419 - precision_8: 0.4444 - recall_8: 0.2500 - val_loss: 0.3448 - val_accuracy: 0.8571 - val_auc_8: 0.7943 - val_precision_8: 0.5714 - val_recall_8: 0.4000\n",
            "Epoch 16/200\n",
            "10/10 [==============================] - 0s 5ms/step - loss: 0.4186 - accuracy: 0.8172 - auc_8: 0.7370 - precision_8: 0.4444 - recall_8: 0.2500 - val_loss: 0.3382 - val_accuracy: 0.8571 - val_auc_8: 0.7981 - val_precision_8: 0.5714 - val_recall_8: 0.4000\n",
            "Epoch 17/200\n",
            "10/10 [==============================] - 0s 5ms/step - loss: 0.4134 - accuracy: 0.8065 - auc_8: 0.7439 - precision_8: 0.3750 - recall_8: 0.1875 - val_loss: 0.3350 - val_accuracy: 0.8571 - val_auc_8: 0.8038 - val_precision_8: 0.5714 - val_recall_8: 0.4000\n",
            "Epoch 18/200\n",
            "10/10 [==============================] - 0s 5ms/step - loss: 0.4118 - accuracy: 0.8172 - auc_8: 0.7447 - precision_8: 0.4444 - recall_8: 0.2500 - val_loss: 0.3363 - val_accuracy: 0.8571 - val_auc_8: 0.8038 - val_precision_8: 0.5714 - val_recall_8: 0.4000\n",
            "Epoch 19/200\n",
            "10/10 [==============================] - 0s 4ms/step - loss: 0.4110 - accuracy: 0.8172 - auc_8: 0.7524 - precision_8: 0.4444 - recall_8: 0.2500 - val_loss: 0.3335 - val_accuracy: 0.8571 - val_auc_8: 0.8057 - val_precision_8: 0.5714 - val_recall_8: 0.4000\n",
            "Epoch 20/200\n",
            "10/10 [==============================] - 0s 5ms/step - loss: 0.4106 - accuracy: 0.8065 - auc_8: 0.7447 - precision_8: 0.3750 - recall_8: 0.1875 - val_loss: 0.3315 - val_accuracy: 0.8571 - val_auc_8: 0.8066 - val_precision_8: 0.5714 - val_recall_8: 0.4000\n",
            "Epoch 21/200\n",
            "10/10 [==============================] - 0s 5ms/step - loss: 0.4115 - accuracy: 0.8065 - auc_8: 0.7390 - precision_8: 0.3750 - recall_8: 0.1875 - val_loss: 0.3312 - val_accuracy: 0.8571 - val_auc_8: 0.8075 - val_precision_8: 0.5714 - val_recall_8: 0.4000\n",
            "Epoch 22/200\n",
            "10/10 [==============================] - 0s 5ms/step - loss: 0.4104 - accuracy: 0.8172 - auc_8: 0.7488 - precision_8: 0.4444 - recall_8: 0.2500 - val_loss: 0.3306 - val_accuracy: 0.8571 - val_auc_8: 0.8075 - val_precision_8: 0.5714 - val_recall_8: 0.4000\n",
            "Epoch 23/200\n",
            "10/10 [==============================] - 0s 5ms/step - loss: 0.4084 - accuracy: 0.8172 - auc_8: 0.7585 - precision_8: 0.4444 - recall_8: 0.2500 - val_loss: 0.3305 - val_accuracy: 0.8571 - val_auc_8: 0.8075 - val_precision_8: 0.5714 - val_recall_8: 0.4000\n",
            "Epoch 24/200\n",
            "10/10 [==============================] - 0s 5ms/step - loss: 0.4080 - accuracy: 0.8172 - auc_8: 0.7573 - precision_8: 0.4444 - recall_8: 0.2500 - val_loss: 0.3295 - val_accuracy: 0.8571 - val_auc_8: 0.8075 - val_precision_8: 0.5714 - val_recall_8: 0.4000\n",
            "Epoch 25/200\n",
            "10/10 [==============================] - 0s 5ms/step - loss: 0.4110 - accuracy: 0.8172 - auc_8: 0.7569 - precision_8: 0.4444 - recall_8: 0.2500 - val_loss: 0.3297 - val_accuracy: 0.8571 - val_auc_8: 0.8123 - val_precision_8: 0.5714 - val_recall_8: 0.4000\n",
            "Epoch 26/200\n",
            "10/10 [==============================] - 0s 6ms/step - loss: 0.4061 - accuracy: 0.8065 - auc_8: 0.7650 - precision_8: 0.3750 - recall_8: 0.1875 - val_loss: 0.3247 - val_accuracy: 0.8571 - val_auc_8: 0.8208 - val_precision_8: 0.5714 - val_recall_8: 0.4000\n",
            "Epoch 27/200\n",
            "10/10 [==============================] - 0s 6ms/step - loss: 0.4044 - accuracy: 0.8065 - auc_8: 0.7601 - precision_8: 0.3750 - recall_8: 0.1875 - val_loss: 0.3235 - val_accuracy: 0.8571 - val_auc_8: 0.8292 - val_precision_8: 0.5714 - val_recall_8: 0.4000\n",
            "Epoch 28/200\n",
            "10/10 [==============================] - 0s 6ms/step - loss: 0.4053 - accuracy: 0.8065 - auc_8: 0.7593 - precision_8: 0.3750 - recall_8: 0.1875 - val_loss: 0.3225 - val_accuracy: 0.8571 - val_auc_8: 0.8349 - val_precision_8: 0.5714 - val_recall_8: 0.4000\n",
            "Epoch 29/200\n",
            "10/10 [==============================] - 0s 6ms/step - loss: 0.4043 - accuracy: 0.8172 - auc_8: 0.7593 - precision_8: 0.4444 - recall_8: 0.2500 - val_loss: 0.3234 - val_accuracy: 0.8571 - val_auc_8: 0.8396 - val_precision_8: 0.5714 - val_recall_8: 0.4000\n",
            "Epoch 30/200\n",
            "10/10 [==============================] - 0s 7ms/step - loss: 0.4052 - accuracy: 0.8172 - auc_8: 0.7675 - precision_8: 0.4444 - recall_8: 0.2500 - val_loss: 0.3233 - val_accuracy: 0.8571 - val_auc_8: 0.8377 - val_precision_8: 0.5714 - val_recall_8: 0.4000\n",
            "Epoch 31/200\n",
            "10/10 [==============================] - 0s 7ms/step - loss: 0.4040 - accuracy: 0.8172 - auc_8: 0.7683 - precision_8: 0.4444 - recall_8: 0.2500 - val_loss: 0.3210 - val_accuracy: 0.8571 - val_auc_8: 0.8453 - val_precision_8: 0.5714 - val_recall_8: 0.4000\n",
            "Epoch 32/200\n",
            "10/10 [==============================] - 0s 5ms/step - loss: 0.4037 - accuracy: 0.8065 - auc_8: 0.7646 - precision_8: 0.3750 - recall_8: 0.1875 - val_loss: 0.3211 - val_accuracy: 0.8571 - val_auc_8: 0.8472 - val_precision_8: 0.5714 - val_recall_8: 0.4000\n",
            "Epoch 33/200\n",
            "10/10 [==============================] - 0s 6ms/step - loss: 0.4022 - accuracy: 0.8172 - auc_8: 0.7679 - precision_8: 0.4444 - recall_8: 0.2500 - val_loss: 0.3201 - val_accuracy: 0.8571 - val_auc_8: 0.8481 - val_precision_8: 0.5714 - val_recall_8: 0.4000\n",
            "Epoch 34/200\n",
            "10/10 [==============================] - 0s 4ms/step - loss: 0.4030 - accuracy: 0.8065 - auc_8: 0.7679 - precision_8: 0.3750 - recall_8: 0.1875 - val_loss: 0.3184 - val_accuracy: 0.8571 - val_auc_8: 0.8491 - val_precision_8: 0.5714 - val_recall_8: 0.4000\n",
            "Epoch 35/200\n",
            "10/10 [==============================] - 0s 5ms/step - loss: 0.4021 - accuracy: 0.8065 - auc_8: 0.7642 - precision_8: 0.3750 - recall_8: 0.1875 - val_loss: 0.3179 - val_accuracy: 0.8571 - val_auc_8: 0.8491 - val_precision_8: 0.5714 - val_recall_8: 0.4000\n",
            "Epoch 36/200\n",
            "10/10 [==============================] - 0s 5ms/step - loss: 0.4036 - accuracy: 0.8172 - auc_8: 0.7593 - precision_8: 0.4444 - recall_8: 0.2500 - val_loss: 0.3198 - val_accuracy: 0.8571 - val_auc_8: 0.8519 - val_precision_8: 0.5714 - val_recall_8: 0.4000\n",
            "Epoch 37/200\n",
            "10/10 [==============================] - 0s 6ms/step - loss: 0.4009 - accuracy: 0.8172 - auc_8: 0.7719 - precision_8: 0.4444 - recall_8: 0.2500 - val_loss: 0.3181 - val_accuracy: 0.8571 - val_auc_8: 0.8509 - val_precision_8: 0.5714 - val_recall_8: 0.4000\n",
            "Epoch 38/200\n",
            "10/10 [==============================] - 0s 6ms/step - loss: 0.4000 - accuracy: 0.8065 - auc_8: 0.7666 - precision_8: 0.3750 - recall_8: 0.1875 - val_loss: 0.3167 - val_accuracy: 0.8571 - val_auc_8: 0.8519 - val_precision_8: 0.5714 - val_recall_8: 0.4000\n",
            "Epoch 39/200\n",
            "10/10 [==============================] - 0s 4ms/step - loss: 0.4004 - accuracy: 0.8065 - auc_8: 0.7662 - precision_8: 0.3750 - recall_8: 0.1875 - val_loss: 0.3163 - val_accuracy: 0.8571 - val_auc_8: 0.8528 - val_precision_8: 0.5714 - val_recall_8: 0.4000\n",
            "Epoch 40/200\n",
            "10/10 [==============================] - 0s 5ms/step - loss: 0.4007 - accuracy: 0.8065 - auc_8: 0.7683 - precision_8: 0.3750 - recall_8: 0.1875 - val_loss: 0.3161 - val_accuracy: 0.8571 - val_auc_8: 0.8547 - val_precision_8: 0.5714 - val_recall_8: 0.4000\n",
            "Epoch 41/200\n",
            "10/10 [==============================] - 0s 7ms/step - loss: 0.4009 - accuracy: 0.8065 - auc_8: 0.7711 - precision_8: 0.3750 - recall_8: 0.1875 - val_loss: 0.3162 - val_accuracy: 0.8571 - val_auc_8: 0.8538 - val_precision_8: 0.5714 - val_recall_8: 0.4000\n",
            "Epoch 42/200\n",
            "10/10 [==============================] - 0s 5ms/step - loss: 0.4032 - accuracy: 0.8065 - auc_8: 0.7683 - precision_8: 0.3750 - recall_8: 0.1875 - val_loss: 0.3177 - val_accuracy: 0.8571 - val_auc_8: 0.8557 - val_precision_8: 0.5714 - val_recall_8: 0.4000\n",
            "Epoch 43/200\n",
            "10/10 [==============================] - 0s 5ms/step - loss: 0.3989 - accuracy: 0.8172 - auc_8: 0.7731 - precision_8: 0.4444 - recall_8: 0.2500 - val_loss: 0.3163 - val_accuracy: 0.8571 - val_auc_8: 0.8547 - val_precision_8: 0.5714 - val_recall_8: 0.4000\n",
            "Epoch 44/200\n",
            "10/10 [==============================] - 0s 5ms/step - loss: 0.4004 - accuracy: 0.8172 - auc_8: 0.7764 - precision_8: 0.4444 - recall_8: 0.2500 - val_loss: 0.3168 - val_accuracy: 0.8571 - val_auc_8: 0.8585 - val_precision_8: 0.5714 - val_recall_8: 0.4000\n",
            "Epoch 45/200\n",
            "10/10 [==============================] - 0s 5ms/step - loss: 0.3966 - accuracy: 0.8172 - auc_8: 0.7776 - precision_8: 0.4444 - recall_8: 0.2500 - val_loss: 0.3148 - val_accuracy: 0.8571 - val_auc_8: 0.8594 - val_precision_8: 0.5714 - val_recall_8: 0.4000\n",
            "Epoch 46/200\n",
            "10/10 [==============================] - 0s 6ms/step - loss: 0.4015 - accuracy: 0.7957 - auc_8: 0.7731 - precision_8: 0.2857 - recall_8: 0.1250 - val_loss: 0.3144 - val_accuracy: 0.8413 - val_auc_8: 0.8557 - val_precision_8: 0.5000 - val_recall_8: 0.3000\n",
            "Epoch 47/200\n",
            "10/10 [==============================] - 0s 6ms/step - loss: 0.3976 - accuracy: 0.7957 - auc_8: 0.7796 - precision_8: 0.2857 - recall_8: 0.1250 - val_loss: 0.3142 - val_accuracy: 0.8571 - val_auc_8: 0.8585 - val_precision_8: 0.5714 - val_recall_8: 0.4000\n",
            "Epoch 48/200\n",
            "10/10 [==============================] - 0s 5ms/step - loss: 0.3960 - accuracy: 0.8065 - auc_8: 0.7804 - precision_8: 0.3750 - recall_8: 0.1875 - val_loss: 0.3158 - val_accuracy: 0.8571 - val_auc_8: 0.8604 - val_precision_8: 0.5714 - val_recall_8: 0.4000\n",
            "Epoch 49/200\n",
            "10/10 [==============================] - 0s 7ms/step - loss: 0.3982 - accuracy: 0.8172 - auc_8: 0.7808 - precision_8: 0.4444 - recall_8: 0.2500 - val_loss: 0.3158 - val_accuracy: 0.8571 - val_auc_8: 0.8594 - val_precision_8: 0.5714 - val_recall_8: 0.4000\n",
            "Epoch 50/200\n",
            "10/10 [==============================] - 0s 5ms/step - loss: 0.3961 - accuracy: 0.8172 - auc_8: 0.7825 - precision_8: 0.4444 - recall_8: 0.2500 - val_loss: 0.3141 - val_accuracy: 0.8571 - val_auc_8: 0.8585 - val_precision_8: 0.5714 - val_recall_8: 0.4000\n",
            "Epoch 51/200\n",
            "10/10 [==============================] - 0s 6ms/step - loss: 0.3972 - accuracy: 0.8065 - auc_8: 0.7776 - precision_8: 0.3750 - recall_8: 0.1875 - val_loss: 0.3134 - val_accuracy: 0.8413 - val_auc_8: 0.8575 - val_precision_8: 0.5000 - val_recall_8: 0.3000\n",
            "Epoch 52/200\n",
            "10/10 [==============================] - 0s 6ms/step - loss: 0.4045 - accuracy: 0.8065 - auc_8: 0.7670 - precision_8: 0.3333 - recall_8: 0.1250 - val_loss: 0.3142 - val_accuracy: 0.8413 - val_auc_8: 0.8547 - val_precision_8: 0.5000 - val_recall_8: 0.3000\n",
            "Epoch 53/200\n",
            "10/10 [==============================] - 0s 5ms/step - loss: 0.3953 - accuracy: 0.8065 - auc_8: 0.7812 - precision_8: 0.3750 - recall_8: 0.1875 - val_loss: 0.3139 - val_accuracy: 0.8571 - val_auc_8: 0.8651 - val_precision_8: 0.5714 - val_recall_8: 0.4000\n",
            "Epoch 54/200\n",
            "10/10 [==============================] - 0s 7ms/step - loss: 0.3986 - accuracy: 0.8172 - auc_8: 0.7744 - precision_8: 0.4444 - recall_8: 0.2500 - val_loss: 0.3166 - val_accuracy: 0.8571 - val_auc_8: 0.8642 - val_precision_8: 0.5714 - val_recall_8: 0.4000\n",
            "Epoch 55/200\n",
            "10/10 [==============================] - 0s 5ms/step - loss: 0.3955 - accuracy: 0.8172 - auc_8: 0.7853 - precision_8: 0.4444 - recall_8: 0.2500 - val_loss: 0.3150 - val_accuracy: 0.8571 - val_auc_8: 0.8642 - val_precision_8: 0.5714 - val_recall_8: 0.4000\n",
            "Epoch 56/200\n",
            "10/10 [==============================] - 0s 6ms/step - loss: 0.3932 - accuracy: 0.8172 - auc_8: 0.7849 - precision_8: 0.4444 - recall_8: 0.2500 - val_loss: 0.3136 - val_accuracy: 0.8571 - val_auc_8: 0.8651 - val_precision_8: 0.5714 - val_recall_8: 0.4000\n",
            "Epoch 57/200\n",
            "10/10 [==============================] - 0s 5ms/step - loss: 0.3973 - accuracy: 0.7957 - auc_8: 0.7687 - precision_8: 0.2857 - recall_8: 0.1250 - val_loss: 0.3134 - val_accuracy: 0.8413 - val_auc_8: 0.8604 - val_precision_8: 0.5000 - val_recall_8: 0.3000\n",
            "Epoch 58/200\n",
            "10/10 [==============================] - 0s 5ms/step - loss: 0.3990 - accuracy: 0.8065 - auc_8: 0.7776 - precision_8: 0.3333 - recall_8: 0.1250 - val_loss: 0.3133 - val_accuracy: 0.8413 - val_auc_8: 0.8613 - val_precision_8: 0.5000 - val_recall_8: 0.3000\n",
            "Epoch 59/200\n",
            "10/10 [==============================] - 0s 7ms/step - loss: 0.3973 - accuracy: 0.8065 - auc_8: 0.7744 - precision_8: 0.3333 - recall_8: 0.1250 - val_loss: 0.3130 - val_accuracy: 0.8571 - val_auc_8: 0.8670 - val_precision_8: 0.5714 - val_recall_8: 0.4000\n",
            "Epoch 60/200\n",
            "10/10 [==============================] - 0s 6ms/step - loss: 0.3953 - accuracy: 0.8065 - auc_8: 0.7735 - precision_8: 0.3750 - recall_8: 0.1875 - val_loss: 0.3133 - val_accuracy: 0.8571 - val_auc_8: 0.8670 - val_precision_8: 0.5714 - val_recall_8: 0.4000\n",
            "Epoch 61/200\n",
            "10/10 [==============================] - 0s 6ms/step - loss: 0.3944 - accuracy: 0.8065 - auc_8: 0.7812 - precision_8: 0.3750 - recall_8: 0.1875 - val_loss: 0.3131 - val_accuracy: 0.8571 - val_auc_8: 0.8604 - val_precision_8: 0.5714 - val_recall_8: 0.4000\n",
            "Epoch 62/200\n",
            "10/10 [==============================] - 0s 6ms/step - loss: 0.3978 - accuracy: 0.8172 - auc_8: 0.7800 - precision_8: 0.4444 - recall_8: 0.2500 - val_loss: 0.3144 - val_accuracy: 0.8571 - val_auc_8: 0.8660 - val_precision_8: 0.5714 - val_recall_8: 0.4000\n",
            "Epoch 63/200\n",
            "10/10 [==============================] - 0s 5ms/step - loss: 0.3996 - accuracy: 0.8172 - auc_8: 0.7784 - precision_8: 0.4444 - recall_8: 0.2500 - val_loss: 0.3182 - val_accuracy: 0.8571 - val_auc_8: 0.8755 - val_precision_8: 0.5714 - val_recall_8: 0.4000\n",
            "Epoch 64/200\n",
            "10/10 [==============================] - 0s 5ms/step - loss: 0.3967 - accuracy: 0.8172 - auc_8: 0.7812 - precision_8: 0.4444 - recall_8: 0.2500 - val_loss: 0.3130 - val_accuracy: 0.8571 - val_auc_8: 0.8670 - val_precision_8: 0.5714 - val_recall_8: 0.4000\n",
            "Epoch 65/200\n",
            "10/10 [==============================] - 0s 5ms/step - loss: 0.3943 - accuracy: 0.8172 - auc_8: 0.7825 - precision_8: 0.4444 - recall_8: 0.2500 - val_loss: 0.3131 - val_accuracy: 0.8571 - val_auc_8: 0.8670 - val_precision_8: 0.5714 - val_recall_8: 0.4000\n",
            "Epoch 66/200\n",
            "10/10 [==============================] - 0s 7ms/step - loss: 0.3920 - accuracy: 0.8172 - auc_8: 0.7833 - precision_8: 0.4444 - recall_8: 0.2500 - val_loss: 0.3126 - val_accuracy: 0.8413 - val_auc_8: 0.8651 - val_precision_8: 0.5000 - val_recall_8: 0.3000\n",
            "Epoch 67/200\n",
            "10/10 [==============================] - 0s 6ms/step - loss: 0.3951 - accuracy: 0.8065 - auc_8: 0.7817 - precision_8: 0.3333 - recall_8: 0.1250 - val_loss: 0.3128 - val_accuracy: 0.8413 - val_auc_8: 0.8642 - val_precision_8: 0.5000 - val_recall_8: 0.3000\n",
            "Epoch 68/200\n",
            "10/10 [==============================] - 0s 6ms/step - loss: 0.3935 - accuracy: 0.8065 - auc_8: 0.7817 - precision_8: 0.3333 - recall_8: 0.1250 - val_loss: 0.3127 - val_accuracy: 0.8413 - val_auc_8: 0.8651 - val_precision_8: 0.5000 - val_recall_8: 0.3000\n",
            "Epoch 69/200\n",
            "10/10 [==============================] - 0s 7ms/step - loss: 0.3919 - accuracy: 0.8065 - auc_8: 0.7869 - precision_8: 0.3750 - recall_8: 0.1875 - val_loss: 0.3132 - val_accuracy: 0.8571 - val_auc_8: 0.8670 - val_precision_8: 0.5714 - val_recall_8: 0.4000\n",
            "Epoch 70/200\n",
            "10/10 [==============================] - 0s 4ms/step - loss: 0.3916 - accuracy: 0.8172 - auc_8: 0.7861 - precision_8: 0.4444 - recall_8: 0.2500 - val_loss: 0.3132 - val_accuracy: 0.8571 - val_auc_8: 0.8679 - val_precision_8: 0.5714 - val_recall_8: 0.4000\n",
            "Epoch 71/200\n",
            "10/10 [==============================] - 0s 7ms/step - loss: 0.3917 - accuracy: 0.8172 - auc_8: 0.7861 - precision_8: 0.4444 - recall_8: 0.2500 - val_loss: 0.3140 - val_accuracy: 0.8571 - val_auc_8: 0.8783 - val_precision_8: 0.5714 - val_recall_8: 0.4000\n",
            "Epoch 72/200\n",
            "10/10 [==============================] - 0s 7ms/step - loss: 0.3922 - accuracy: 0.8172 - auc_8: 0.7881 - precision_8: 0.4444 - recall_8: 0.2500 - val_loss: 0.3127 - val_accuracy: 0.8571 - val_auc_8: 0.8736 - val_precision_8: 0.5714 - val_recall_8: 0.4000\n",
            "Epoch 73/200\n",
            "10/10 [==============================] - 0s 5ms/step - loss: 0.3912 - accuracy: 0.8172 - auc_8: 0.7865 - precision_8: 0.4444 - recall_8: 0.2500 - val_loss: 0.3123 - val_accuracy: 0.8571 - val_auc_8: 0.8717 - val_precision_8: 0.5714 - val_recall_8: 0.4000\n",
            "Epoch 74/200\n",
            "10/10 [==============================] - 0s 5ms/step - loss: 0.3928 - accuracy: 0.8065 - auc_8: 0.7829 - precision_8: 0.3750 - recall_8: 0.1875 - val_loss: 0.3118 - val_accuracy: 0.8571 - val_auc_8: 0.8764 - val_precision_8: 0.5714 - val_recall_8: 0.4000\n",
            "Epoch 75/200\n",
            "10/10 [==============================] - 0s 5ms/step - loss: 0.3900 - accuracy: 0.8065 - auc_8: 0.7886 - precision_8: 0.3750 - recall_8: 0.1875 - val_loss: 0.3127 - val_accuracy: 0.8571 - val_auc_8: 0.8689 - val_precision_8: 0.5714 - val_recall_8: 0.4000\n",
            "Epoch 76/200\n",
            "10/10 [==============================] - 0s 6ms/step - loss: 0.3894 - accuracy: 0.8172 - auc_8: 0.7886 - precision_8: 0.4444 - recall_8: 0.2500 - val_loss: 0.3148 - val_accuracy: 0.8571 - val_auc_8: 0.8830 - val_precision_8: 0.5714 - val_recall_8: 0.4000\n",
            "Epoch 77/200\n",
            "10/10 [==============================] - 0s 5ms/step - loss: 0.3949 - accuracy: 0.8172 - auc_8: 0.7841 - precision_8: 0.4444 - recall_8: 0.2500 - val_loss: 0.3128 - val_accuracy: 0.8571 - val_auc_8: 0.8708 - val_precision_8: 0.5714 - val_recall_8: 0.4000\n",
            "Epoch 78/200\n",
            "10/10 [==============================] - 0s 6ms/step - loss: 0.3910 - accuracy: 0.8172 - auc_8: 0.7894 - precision_8: 0.4444 - recall_8: 0.2500 - val_loss: 0.3140 - val_accuracy: 0.8571 - val_auc_8: 0.8764 - val_precision_8: 0.5714 - val_recall_8: 0.4000\n",
            "Epoch 79/200\n",
            "10/10 [==============================] - 0s 7ms/step - loss: 0.3896 - accuracy: 0.8172 - auc_8: 0.7906 - precision_8: 0.4444 - recall_8: 0.2500 - val_loss: 0.3126 - val_accuracy: 0.8571 - val_auc_8: 0.8708 - val_precision_8: 0.5714 - val_recall_8: 0.4000\n",
            "Epoch 80/200\n",
            "10/10 [==============================] - 0s 5ms/step - loss: 0.3899 - accuracy: 0.8172 - auc_8: 0.7894 - precision_8: 0.4444 - recall_8: 0.2500 - val_loss: 0.3118 - val_accuracy: 0.8413 - val_auc_8: 0.8802 - val_precision_8: 0.5000 - val_recall_8: 0.3000\n",
            "Epoch 81/200\n",
            "10/10 [==============================] - 0s 6ms/step - loss: 0.3937 - accuracy: 0.8065 - auc_8: 0.7817 - precision_8: 0.3750 - recall_8: 0.1875 - val_loss: 0.3117 - val_accuracy: 0.8413 - val_auc_8: 0.8708 - val_precision_8: 0.5000 - val_recall_8: 0.3000\n",
            "Epoch 82/200\n",
            "10/10 [==============================] - 0s 6ms/step - loss: 0.3902 - accuracy: 0.8172 - auc_8: 0.7873 - precision_8: 0.4444 - recall_8: 0.2500 - val_loss: 0.3123 - val_accuracy: 0.8571 - val_auc_8: 0.8764 - val_precision_8: 0.5714 - val_recall_8: 0.4000\n",
            "Epoch 83/200\n",
            "10/10 [==============================] - 0s 7ms/step - loss: 0.3894 - accuracy: 0.8172 - auc_8: 0.7877 - precision_8: 0.4444 - recall_8: 0.2500 - val_loss: 0.3126 - val_accuracy: 0.8571 - val_auc_8: 0.8802 - val_precision_8: 0.5714 - val_recall_8: 0.4000\n",
            "Epoch 84/200\n",
            "10/10 [==============================] - 0s 6ms/step - loss: 0.3888 - accuracy: 0.8172 - auc_8: 0.7890 - precision_8: 0.4444 - recall_8: 0.2500 - val_loss: 0.3127 - val_accuracy: 0.8571 - val_auc_8: 0.8821 - val_precision_8: 0.5714 - val_recall_8: 0.4000\n",
            "Epoch 85/200\n",
            "10/10 [==============================] - 0s 6ms/step - loss: 0.3909 - accuracy: 0.8172 - auc_8: 0.7881 - precision_8: 0.4444 - recall_8: 0.2500 - val_loss: 0.3114 - val_accuracy: 0.8571 - val_auc_8: 0.8821 - val_precision_8: 0.5714 - val_recall_8: 0.4000\n",
            "Epoch 86/200\n",
            "10/10 [==============================] - 0s 5ms/step - loss: 0.3891 - accuracy: 0.8172 - auc_8: 0.7906 - precision_8: 0.4444 - recall_8: 0.2500 - val_loss: 0.3117 - val_accuracy: 0.8571 - val_auc_8: 0.8821 - val_precision_8: 0.5714 - val_recall_8: 0.4000\n",
            "Epoch 87/200\n",
            "10/10 [==============================] - 0s 5ms/step - loss: 0.3909 - accuracy: 0.8172 - auc_8: 0.7914 - precision_8: 0.4444 - recall_8: 0.2500 - val_loss: 0.3154 - val_accuracy: 0.8571 - val_auc_8: 0.8811 - val_precision_8: 0.5714 - val_recall_8: 0.4000\n",
            "Epoch 88/200\n",
            "10/10 [==============================] - 0s 7ms/step - loss: 0.3920 - accuracy: 0.8172 - auc_8: 0.7894 - precision_8: 0.4444 - recall_8: 0.2500 - val_loss: 0.3122 - val_accuracy: 0.8571 - val_auc_8: 0.8802 - val_precision_8: 0.5714 - val_recall_8: 0.4000\n",
            "Epoch 89/200\n",
            "10/10 [==============================] - 0s 5ms/step - loss: 0.3881 - accuracy: 0.8172 - auc_8: 0.7926 - precision_8: 0.4444 - recall_8: 0.2500 - val_loss: 0.3122 - val_accuracy: 0.8571 - val_auc_8: 0.8821 - val_precision_8: 0.5714 - val_recall_8: 0.4000\n",
            "Epoch 90/200\n",
            "10/10 [==============================] - 0s 5ms/step - loss: 0.3921 - accuracy: 0.8172 - auc_8: 0.7812 - precision_8: 0.4444 - recall_8: 0.2500 - val_loss: 0.3124 - val_accuracy: 0.8571 - val_auc_8: 0.8802 - val_precision_8: 0.5714 - val_recall_8: 0.4000\n",
            "Epoch 91/200\n",
            "10/10 [==============================] - 0s 6ms/step - loss: 0.3871 - accuracy: 0.8172 - auc_8: 0.7930 - precision_8: 0.4444 - recall_8: 0.2500 - val_loss: 0.3127 - val_accuracy: 0.8571 - val_auc_8: 0.8802 - val_precision_8: 0.5714 - val_recall_8: 0.4000\n",
            "Epoch 92/200\n",
            "10/10 [==============================] - 0s 6ms/step - loss: 0.3870 - accuracy: 0.8172 - auc_8: 0.7926 - precision_8: 0.4444 - recall_8: 0.2500 - val_loss: 0.3129 - val_accuracy: 0.8571 - val_auc_8: 0.8811 - val_precision_8: 0.5714 - val_recall_8: 0.4000\n",
            "Epoch 93/200\n",
            "10/10 [==============================] - 0s 5ms/step - loss: 0.3882 - accuracy: 0.8172 - auc_8: 0.7914 - precision_8: 0.4444 - recall_8: 0.2500 - val_loss: 0.3126 - val_accuracy: 0.8571 - val_auc_8: 0.8802 - val_precision_8: 0.5714 - val_recall_8: 0.4000\n",
            "Epoch 94/200\n",
            "10/10 [==============================] - 0s 6ms/step - loss: 0.3876 - accuracy: 0.8172 - auc_8: 0.7910 - precision_8: 0.4444 - recall_8: 0.2500 - val_loss: 0.3128 - val_accuracy: 0.8571 - val_auc_8: 0.8802 - val_precision_8: 0.5714 - val_recall_8: 0.4000\n",
            "Epoch 95/200\n",
            "10/10 [==============================] - 0s 5ms/step - loss: 0.3874 - accuracy: 0.8172 - auc_8: 0.7902 - precision_8: 0.4444 - recall_8: 0.2500 - val_loss: 0.3123 - val_accuracy: 0.8413 - val_auc_8: 0.8783 - val_precision_8: 0.5000 - val_recall_8: 0.3000\n",
            "Epoch 96/200\n",
            "10/10 [==============================] - 0s 5ms/step - loss: 0.3883 - accuracy: 0.8172 - auc_8: 0.7906 - precision_8: 0.4444 - recall_8: 0.2500 - val_loss: 0.3142 - val_accuracy: 0.8571 - val_auc_8: 0.8821 - val_precision_8: 0.5714 - val_recall_8: 0.4000\n",
            "Epoch 97/200\n",
            "10/10 [==============================] - 0s 5ms/step - loss: 0.3876 - accuracy: 0.8172 - auc_8: 0.7918 - precision_8: 0.4444 - recall_8: 0.2500 - val_loss: 0.3127 - val_accuracy: 0.8571 - val_auc_8: 0.8821 - val_precision_8: 0.5714 - val_recall_8: 0.4000\n",
            "Epoch 98/200\n",
            "10/10 [==============================] - 0s 7ms/step - loss: 0.3866 - accuracy: 0.8172 - auc_8: 0.7910 - precision_8: 0.4444 - recall_8: 0.2500 - val_loss: 0.3122 - val_accuracy: 0.8413 - val_auc_8: 0.8811 - val_precision_8: 0.5000 - val_recall_8: 0.3000\n",
            "Epoch 99/200\n",
            "10/10 [==============================] - 0s 5ms/step - loss: 0.3891 - accuracy: 0.8172 - auc_8: 0.7881 - precision_8: 0.4444 - recall_8: 0.2500 - val_loss: 0.3128 - val_accuracy: 0.8571 - val_auc_8: 0.8821 - val_precision_8: 0.5714 - val_recall_8: 0.4000\n",
            "Epoch 100/200\n",
            "10/10 [==============================] - 0s 7ms/step - loss: 0.3860 - accuracy: 0.8172 - auc_8: 0.7950 - precision_8: 0.4444 - recall_8: 0.2500 - val_loss: 0.3131 - val_accuracy: 0.8571 - val_auc_8: 0.8792 - val_precision_8: 0.5714 - val_recall_8: 0.4000\n",
            "Epoch 101/200\n",
            "10/10 [==============================] - 0s 6ms/step - loss: 0.3880 - accuracy: 0.8172 - auc_8: 0.7910 - precision_8: 0.4444 - recall_8: 0.2500 - val_loss: 0.3144 - val_accuracy: 0.8571 - val_auc_8: 0.8821 - val_precision_8: 0.5714 - val_recall_8: 0.4000\n",
            "Epoch 102/200\n",
            "10/10 [==============================] - 0s 6ms/step - loss: 0.3854 - accuracy: 0.8172 - auc_8: 0.7983 - precision_8: 0.4444 - recall_8: 0.2500 - val_loss: 0.3144 - val_accuracy: 0.8571 - val_auc_8: 0.8783 - val_precision_8: 0.5714 - val_recall_8: 0.4000\n",
            "Epoch 103/200\n",
            "10/10 [==============================] - 0s 8ms/step - loss: 0.3851 - accuracy: 0.8172 - auc_8: 0.7975 - precision_8: 0.4444 - recall_8: 0.2500 - val_loss: 0.3132 - val_accuracy: 0.8571 - val_auc_8: 0.8821 - val_precision_8: 0.5714 - val_recall_8: 0.4000\n",
            "Epoch 104/200\n",
            "10/10 [==============================] - 0s 5ms/step - loss: 0.3857 - accuracy: 0.8172 - auc_8: 0.7922 - precision_8: 0.4444 - recall_8: 0.2500 - val_loss: 0.3122 - val_accuracy: 0.8413 - val_auc_8: 0.8840 - val_precision_8: 0.5000 - val_recall_8: 0.3000\n",
            "Epoch 105/200\n",
            "10/10 [==============================] - 0s 7ms/step - loss: 0.3860 - accuracy: 0.8280 - auc_8: 0.7938 - precision_8: 0.5000 - recall_8: 0.2500 - val_loss: 0.3122 - val_accuracy: 0.8413 - val_auc_8: 0.8755 - val_precision_8: 0.5000 - val_recall_8: 0.3000\n",
            "Epoch 106/200\n",
            "10/10 [==============================] - 0s 6ms/step - loss: 0.3860 - accuracy: 0.8280 - auc_8: 0.7910 - precision_8: 0.5000 - recall_8: 0.2500 - val_loss: 0.3128 - val_accuracy: 0.8571 - val_auc_8: 0.8792 - val_precision_8: 0.5714 - val_recall_8: 0.4000\n",
            "Epoch 107/200\n",
            "10/10 [==============================] - 0s 5ms/step - loss: 0.3904 - accuracy: 0.8172 - auc_8: 0.7914 - precision_8: 0.4444 - recall_8: 0.2500 - val_loss: 0.3175 - val_accuracy: 0.8571 - val_auc_8: 0.8736 - val_precision_8: 0.5714 - val_recall_8: 0.4000\n",
            "Epoch 108/200\n",
            "10/10 [==============================] - 0s 6ms/step - loss: 0.3900 - accuracy: 0.8172 - auc_8: 0.7950 - precision_8: 0.4444 - recall_8: 0.2500 - val_loss: 0.3134 - val_accuracy: 0.8413 - val_auc_8: 0.8736 - val_precision_8: 0.5000 - val_recall_8: 0.3000\n",
            "Epoch 109/200\n",
            "10/10 [==============================] - 0s 5ms/step - loss: 0.3842 - accuracy: 0.8172 - auc_8: 0.7971 - precision_8: 0.4444 - recall_8: 0.2500 - val_loss: 0.3136 - val_accuracy: 0.8571 - val_auc_8: 0.8745 - val_precision_8: 0.5714 - val_recall_8: 0.4000\n",
            "Epoch 110/200\n",
            "10/10 [==============================] - 0s 6ms/step - loss: 0.3851 - accuracy: 0.8172 - auc_8: 0.7946 - precision_8: 0.4444 - recall_8: 0.2500 - val_loss: 0.3134 - val_accuracy: 0.8413 - val_auc_8: 0.8717 - val_precision_8: 0.5000 - val_recall_8: 0.3000\n",
            "Epoch 111/200\n",
            "10/10 [==============================] - 0s 5ms/step - loss: 0.3834 - accuracy: 0.8280 - auc_8: 0.8007 - precision_8: 0.5000 - recall_8: 0.2500 - val_loss: 0.3141 - val_accuracy: 0.8571 - val_auc_8: 0.8726 - val_precision_8: 0.5714 - val_recall_8: 0.4000\n",
            "Epoch 112/200\n",
            "10/10 [==============================] - 0s 6ms/step - loss: 0.3830 - accuracy: 0.8172 - auc_8: 0.8019 - precision_8: 0.4444 - recall_8: 0.2500 - val_loss: 0.3177 - val_accuracy: 0.8571 - val_auc_8: 0.8679 - val_precision_8: 0.5714 - val_recall_8: 0.4000\n",
            "Epoch 113/200\n",
            "10/10 [==============================] - 0s 5ms/step - loss: 0.3854 - accuracy: 0.8172 - auc_8: 0.8024 - precision_8: 0.4444 - recall_8: 0.2500 - val_loss: 0.3153 - val_accuracy: 0.8571 - val_auc_8: 0.8726 - val_precision_8: 0.5714 - val_recall_8: 0.4000\n",
            "Epoch 114/200\n",
            "10/10 [==============================] - 0s 7ms/step - loss: 0.3833 - accuracy: 0.8172 - auc_8: 0.8040 - precision_8: 0.4444 - recall_8: 0.2500 - val_loss: 0.3157 - val_accuracy: 0.8571 - val_auc_8: 0.8708 - val_precision_8: 0.5714 - val_recall_8: 0.4000\n",
            "Epoch 115/200\n",
            "10/10 [==============================] - 0s 6ms/step - loss: 0.3842 - accuracy: 0.8172 - auc_8: 0.7955 - precision_8: 0.4444 - recall_8: 0.2500 - val_loss: 0.3145 - val_accuracy: 0.8571 - val_auc_8: 0.8792 - val_precision_8: 0.5714 - val_recall_8: 0.4000\n",
            "Epoch 116/200\n",
            "10/10 [==============================] - 0s 5ms/step - loss: 0.3825 - accuracy: 0.8280 - auc_8: 0.7979 - precision_8: 0.5000 - recall_8: 0.2500 - val_loss: 0.3138 - val_accuracy: 0.8413 - val_auc_8: 0.8783 - val_precision_8: 0.5000 - val_recall_8: 0.3000\n",
            "Epoch 117/200\n",
            "10/10 [==============================] - 0s 5ms/step - loss: 0.3824 - accuracy: 0.8280 - auc_8: 0.7979 - precision_8: 0.5000 - recall_8: 0.2500 - val_loss: 0.3138 - val_accuracy: 0.8413 - val_auc_8: 0.8764 - val_precision_8: 0.5000 - val_recall_8: 0.3000\n",
            "Epoch 118/200\n",
            "10/10 [==============================] - 0s 6ms/step - loss: 0.3843 - accuracy: 0.8280 - auc_8: 0.7906 - precision_8: 0.5000 - recall_8: 0.2500 - val_loss: 0.3147 - val_accuracy: 0.8571 - val_auc_8: 0.8755 - val_precision_8: 0.5714 - val_recall_8: 0.4000\n",
            "Epoch 119/200\n",
            "10/10 [==============================] - 0s 5ms/step - loss: 0.3830 - accuracy: 0.8280 - auc_8: 0.7946 - precision_8: 0.5000 - recall_8: 0.2500 - val_loss: 0.3140 - val_accuracy: 0.8413 - val_auc_8: 0.8736 - val_precision_8: 0.5000 - val_recall_8: 0.3000\n",
            "Epoch 120/200\n",
            "10/10 [==============================] - 0s 6ms/step - loss: 0.3873 - accuracy: 0.8172 - auc_8: 0.7942 - precision_8: 0.4444 - recall_8: 0.2500 - val_loss: 0.3164 - val_accuracy: 0.8571 - val_auc_8: 0.8764 - val_precision_8: 0.5714 - val_recall_8: 0.4000\n",
            "Epoch 121/200\n",
            "10/10 [==============================] - 0s 7ms/step - loss: 0.3817 - accuracy: 0.8172 - auc_8: 0.8068 - precision_8: 0.4444 - recall_8: 0.2500 - val_loss: 0.3147 - val_accuracy: 0.8571 - val_auc_8: 0.8670 - val_precision_8: 0.5714 - val_recall_8: 0.4000\n",
            "Epoch 122/200\n",
            "10/10 [==============================] - 0s 5ms/step - loss: 0.3831 - accuracy: 0.8172 - auc_8: 0.8032 - precision_8: 0.4444 - recall_8: 0.2500 - val_loss: 0.3158 - val_accuracy: 0.8571 - val_auc_8: 0.8726 - val_precision_8: 0.5714 - val_recall_8: 0.4000\n",
            "Epoch 123/200\n",
            "10/10 [==============================] - 0s 5ms/step - loss: 0.3809 - accuracy: 0.8172 - auc_8: 0.8084 - precision_8: 0.4444 - recall_8: 0.2500 - val_loss: 0.3150 - val_accuracy: 0.8571 - val_auc_8: 0.8783 - val_precision_8: 0.5714 - val_recall_8: 0.4000\n",
            "Epoch 124/200\n",
            "10/10 [==============================] - 0s 7ms/step - loss: 0.3802 - accuracy: 0.8172 - auc_8: 0.8052 - precision_8: 0.4444 - recall_8: 0.2500 - val_loss: 0.3134 - val_accuracy: 0.8413 - val_auc_8: 0.8811 - val_precision_8: 0.5000 - val_recall_8: 0.3000\n",
            "Epoch 125/200\n",
            "10/10 [==============================] - 0s 5ms/step - loss: 0.3835 - accuracy: 0.8280 - auc_8: 0.8011 - precision_8: 0.5000 - recall_8: 0.2500 - val_loss: 0.3136 - val_accuracy: 0.8413 - val_auc_8: 0.8811 - val_precision_8: 0.5000 - val_recall_8: 0.3000\n",
            "Epoch 126/200\n",
            "10/10 [==============================] - 0s 5ms/step - loss: 0.3824 - accuracy: 0.8172 - auc_8: 0.7950 - precision_8: 0.4444 - recall_8: 0.2500 - val_loss: 0.3176 - val_accuracy: 0.8571 - val_auc_8: 0.8745 - val_precision_8: 0.5714 - val_recall_8: 0.4000\n",
            "Epoch 127/200\n",
            "10/10 [==============================] - 0s 5ms/step - loss: 0.3834 - accuracy: 0.8172 - auc_8: 0.8129 - precision_8: 0.4444 - recall_8: 0.2500 - val_loss: 0.3182 - val_accuracy: 0.8571 - val_auc_8: 0.8755 - val_precision_8: 0.5714 - val_recall_8: 0.4000\n",
            "Epoch 128/200\n",
            "10/10 [==============================] - 0s 7ms/step - loss: 0.3827 - accuracy: 0.8172 - auc_8: 0.8084 - precision_8: 0.4444 - recall_8: 0.2500 - val_loss: 0.3154 - val_accuracy: 0.8571 - val_auc_8: 0.8745 - val_precision_8: 0.5714 - val_recall_8: 0.4000\n",
            "Epoch 129/200\n",
            "10/10 [==============================] - 0s 5ms/step - loss: 0.3792 - accuracy: 0.8172 - auc_8: 0.8149 - precision_8: 0.4444 - recall_8: 0.2500 - val_loss: 0.3139 - val_accuracy: 0.8571 - val_auc_8: 0.8736 - val_precision_8: 0.5714 - val_recall_8: 0.4000\n",
            "Epoch 130/200\n",
            "10/10 [==============================] - 0s 5ms/step - loss: 0.3795 - accuracy: 0.8280 - auc_8: 0.8076 - precision_8: 0.5000 - recall_8: 0.2500 - val_loss: 0.3134 - val_accuracy: 0.8571 - val_auc_8: 0.8802 - val_precision_8: 0.5714 - val_recall_8: 0.4000\n",
            "Epoch 131/200\n",
            "10/10 [==============================] - 0s 6ms/step - loss: 0.3788 - accuracy: 0.8172 - auc_8: 0.8084 - precision_8: 0.4444 - recall_8: 0.2500 - val_loss: 0.3147 - val_accuracy: 0.8571 - val_auc_8: 0.8811 - val_precision_8: 0.5714 - val_recall_8: 0.4000\n",
            "Epoch 132/200\n",
            "10/10 [==============================] - 0s 5ms/step - loss: 0.3790 - accuracy: 0.8172 - auc_8: 0.8117 - precision_8: 0.4444 - recall_8: 0.2500 - val_loss: 0.3137 - val_accuracy: 0.8571 - val_auc_8: 0.8792 - val_precision_8: 0.5714 - val_recall_8: 0.4000\n",
            "Epoch 133/200\n",
            "10/10 [==============================] - 0s 7ms/step - loss: 0.3788 - accuracy: 0.8280 - auc_8: 0.8080 - precision_8: 0.5000 - recall_8: 0.2500 - val_loss: 0.3129 - val_accuracy: 0.8571 - val_auc_8: 0.8821 - val_precision_8: 0.5714 - val_recall_8: 0.4000\n",
            "Epoch 134/200\n",
            "10/10 [==============================] - 0s 6ms/step - loss: 0.3803 - accuracy: 0.8280 - auc_8: 0.8019 - precision_8: 0.5000 - recall_8: 0.2500 - val_loss: 0.3124 - val_accuracy: 0.8413 - val_auc_8: 0.8783 - val_precision_8: 0.5000 - val_recall_8: 0.3000\n",
            "Epoch 135/200\n",
            "10/10 [==============================] - 0s 5ms/step - loss: 0.3763 - accuracy: 0.8280 - auc_8: 0.8113 - precision_8: 0.5000 - recall_8: 0.2500 - val_loss: 0.3144 - val_accuracy: 0.8571 - val_auc_8: 0.8830 - val_precision_8: 0.5714 - val_recall_8: 0.4000\n",
            "Epoch 136/200\n",
            "10/10 [==============================] - 0s 6ms/step - loss: 0.3844 - accuracy: 0.8172 - auc_8: 0.8121 - precision_8: 0.4444 - recall_8: 0.2500 - val_loss: 0.3166 - val_accuracy: 0.8571 - val_auc_8: 0.8745 - val_precision_8: 0.5714 - val_recall_8: 0.4000\n",
            "Epoch 137/200\n",
            "10/10 [==============================] - 0s 5ms/step - loss: 0.3797 - accuracy: 0.8280 - auc_8: 0.8105 - precision_8: 0.5000 - recall_8: 0.2500 - val_loss: 0.3129 - val_accuracy: 0.8571 - val_auc_8: 0.8830 - val_precision_8: 0.5714 - val_recall_8: 0.4000\n",
            "Epoch 138/200\n",
            "10/10 [==============================] - 0s 5ms/step - loss: 0.3776 - accuracy: 0.8280 - auc_8: 0.8084 - precision_8: 0.5000 - recall_8: 0.2500 - val_loss: 0.3134 - val_accuracy: 0.8571 - val_auc_8: 0.8811 - val_precision_8: 0.5714 - val_recall_8: 0.4000\n",
            "Epoch 139/200\n",
            "10/10 [==============================] - 0s 6ms/step - loss: 0.3787 - accuracy: 0.8280 - auc_8: 0.8109 - precision_8: 0.5000 - recall_8: 0.2500 - val_loss: 0.3142 - val_accuracy: 0.8571 - val_auc_8: 0.8717 - val_precision_8: 0.5714 - val_recall_8: 0.4000\n",
            "Epoch 140/200\n",
            "10/10 [==============================] - 0s 7ms/step - loss: 0.3771 - accuracy: 0.8280 - auc_8: 0.8174 - precision_8: 0.5000 - recall_8: 0.2500 - val_loss: 0.3142 - val_accuracy: 0.8571 - val_auc_8: 0.8717 - val_precision_8: 0.5714 - val_recall_8: 0.4000\n",
            "Epoch 141/200\n",
            "10/10 [==============================] - 0s 6ms/step - loss: 0.3763 - accuracy: 0.8280 - auc_8: 0.8178 - precision_8: 0.5000 - recall_8: 0.2500 - val_loss: 0.3130 - val_accuracy: 0.8571 - val_auc_8: 0.8792 - val_precision_8: 0.5714 - val_recall_8: 0.4000\n",
            "Epoch 142/200\n",
            "10/10 [==============================] - 0s 6ms/step - loss: 0.3764 - accuracy: 0.8280 - auc_8: 0.8133 - precision_8: 0.5000 - recall_8: 0.2500 - val_loss: 0.3125 - val_accuracy: 0.8571 - val_auc_8: 0.8783 - val_precision_8: 0.5714 - val_recall_8: 0.4000\n",
            "Epoch 143/200\n",
            "10/10 [==============================] - 0s 5ms/step - loss: 0.3763 - accuracy: 0.8280 - auc_8: 0.8113 - precision_8: 0.5000 - recall_8: 0.2500 - val_loss: 0.3129 - val_accuracy: 0.8571 - val_auc_8: 0.8717 - val_precision_8: 0.5714 - val_recall_8: 0.4000\n",
            "Epoch 144/200\n",
            "10/10 [==============================] - 0s 5ms/step - loss: 0.3746 - accuracy: 0.8280 - auc_8: 0.8170 - precision_8: 0.5000 - recall_8: 0.2500 - val_loss: 0.3139 - val_accuracy: 0.8571 - val_auc_8: 0.8764 - val_precision_8: 0.5714 - val_recall_8: 0.4000\n",
            "Epoch 145/200\n",
            "10/10 [==============================] - 0s 5ms/step - loss: 0.3751 - accuracy: 0.8280 - auc_8: 0.8214 - precision_8: 0.5000 - recall_8: 0.2500 - val_loss: 0.3151 - val_accuracy: 0.8571 - val_auc_8: 0.8755 - val_precision_8: 0.5714 - val_recall_8: 0.4000\n",
            "Epoch 146/200\n",
            "10/10 [==============================] - 0s 7ms/step - loss: 0.3782 - accuracy: 0.8280 - auc_8: 0.8198 - precision_8: 0.5000 - recall_8: 0.2500 - val_loss: 0.3205 - val_accuracy: 0.8571 - val_auc_8: 0.8717 - val_precision_8: 0.5714 - val_recall_8: 0.4000\n",
            "Epoch 147/200\n",
            "10/10 [==============================] - 0s 7ms/step - loss: 0.3770 - accuracy: 0.8172 - auc_8: 0.8304 - precision_8: 0.4444 - recall_8: 0.2500 - val_loss: 0.3161 - val_accuracy: 0.8571 - val_auc_8: 0.8764 - val_precision_8: 0.5714 - val_recall_8: 0.4000\n",
            "Epoch 148/200\n",
            "10/10 [==============================] - 0s 7ms/step - loss: 0.3715 - accuracy: 0.8280 - auc_8: 0.8279 - precision_8: 0.5000 - recall_8: 0.2500 - val_loss: 0.3131 - val_accuracy: 0.8413 - val_auc_8: 0.8764 - val_precision_8: 0.5000 - val_recall_8: 0.3000\n",
            "Epoch 149/200\n",
            "10/10 [==============================] - 0s 6ms/step - loss: 0.3744 - accuracy: 0.8280 - auc_8: 0.8145 - precision_8: 0.5000 - recall_8: 0.2500 - val_loss: 0.3129 - val_accuracy: 0.8413 - val_auc_8: 0.8774 - val_precision_8: 0.5000 - val_recall_8: 0.3000\n",
            "Epoch 150/200\n",
            "10/10 [==============================] - 0s 7ms/step - loss: 0.3766 - accuracy: 0.8280 - auc_8: 0.8117 - precision_8: 0.5000 - recall_8: 0.2500 - val_loss: 0.3132 - val_accuracy: 0.8413 - val_auc_8: 0.8774 - val_precision_8: 0.5000 - val_recall_8: 0.3000\n",
            "Epoch 151/200\n",
            "10/10 [==============================] - 0s 5ms/step - loss: 0.3767 - accuracy: 0.8280 - auc_8: 0.8093 - precision_8: 0.5000 - recall_8: 0.2500 - val_loss: 0.3130 - val_accuracy: 0.8413 - val_auc_8: 0.8783 - val_precision_8: 0.5000 - val_recall_8: 0.3000\n",
            "Epoch 152/200\n",
            "10/10 [==============================] - 0s 6ms/step - loss: 0.3730 - accuracy: 0.8280 - auc_8: 0.8182 - precision_8: 0.5000 - recall_8: 0.2500 - val_loss: 0.3143 - val_accuracy: 0.8571 - val_auc_8: 0.8689 - val_precision_8: 0.5714 - val_recall_8: 0.4000\n",
            "Epoch 153/200\n",
            "10/10 [==============================] - 0s 5ms/step - loss: 0.3779 - accuracy: 0.8172 - auc_8: 0.8174 - precision_8: 0.4444 - recall_8: 0.2500 - val_loss: 0.3168 - val_accuracy: 0.8571 - val_auc_8: 0.8755 - val_precision_8: 0.5714 - val_recall_8: 0.4000\n",
            "Epoch 154/200\n",
            "10/10 [==============================] - 0s 5ms/step - loss: 0.3766 - accuracy: 0.8280 - auc_8: 0.8279 - precision_8: 0.5000 - recall_8: 0.2500 - val_loss: 0.3166 - val_accuracy: 0.8571 - val_auc_8: 0.8755 - val_precision_8: 0.5714 - val_recall_8: 0.4000\n",
            "Epoch 155/200\n",
            "10/10 [==============================] - 0s 9ms/step - loss: 0.3750 - accuracy: 0.8280 - auc_8: 0.8190 - precision_8: 0.5000 - recall_8: 0.2500 - val_loss: 0.3135 - val_accuracy: 0.8571 - val_auc_8: 0.8736 - val_precision_8: 0.5714 - val_recall_8: 0.4000\n",
            "Epoch 156/200\n",
            "10/10 [==============================] - 0s 7ms/step - loss: 0.3726 - accuracy: 0.8280 - auc_8: 0.8198 - precision_8: 0.5000 - recall_8: 0.2500 - val_loss: 0.3138 - val_accuracy: 0.8571 - val_auc_8: 0.8736 - val_precision_8: 0.5714 - val_recall_8: 0.4000\n",
            "Epoch 157/200\n",
            "10/10 [==============================] - 0s 7ms/step - loss: 0.3746 - accuracy: 0.8280 - auc_8: 0.8239 - precision_8: 0.5000 - recall_8: 0.2500 - val_loss: 0.3157 - val_accuracy: 0.8571 - val_auc_8: 0.8745 - val_precision_8: 0.5714 - val_recall_8: 0.4000\n",
            "Epoch 158/200\n",
            "10/10 [==============================] - 0s 5ms/step - loss: 0.3725 - accuracy: 0.8280 - auc_8: 0.8283 - precision_8: 0.5000 - recall_8: 0.2500 - val_loss: 0.3136 - val_accuracy: 0.8571 - val_auc_8: 0.8745 - val_precision_8: 0.5714 - val_recall_8: 0.4000\n",
            "Epoch 159/200\n",
            "10/10 [==============================] - 0s 7ms/step - loss: 0.3730 - accuracy: 0.8280 - auc_8: 0.8194 - precision_8: 0.5000 - recall_8: 0.2500 - val_loss: 0.3129 - val_accuracy: 0.8413 - val_auc_8: 0.8792 - val_precision_8: 0.5000 - val_recall_8: 0.3000\n",
            "Epoch 160/200\n",
            "10/10 [==============================] - 0s 6ms/step - loss: 0.3722 - accuracy: 0.8280 - auc_8: 0.8190 - precision_8: 0.5000 - recall_8: 0.2500 - val_loss: 0.3130 - val_accuracy: 0.8413 - val_auc_8: 0.8792 - val_precision_8: 0.5000 - val_recall_8: 0.3000\n",
            "Epoch 161/200\n",
            "10/10 [==============================] - 0s 6ms/step - loss: 0.3726 - accuracy: 0.8280 - auc_8: 0.8174 - precision_8: 0.5000 - recall_8: 0.2500 - val_loss: 0.3130 - val_accuracy: 0.8413 - val_auc_8: 0.8736 - val_precision_8: 0.5000 - val_recall_8: 0.3000\n",
            "Epoch 162/200\n",
            "10/10 [==============================] - 0s 6ms/step - loss: 0.3767 - accuracy: 0.8280 - auc_8: 0.8166 - precision_8: 0.5000 - recall_8: 0.2500 - val_loss: 0.3167 - val_accuracy: 0.8571 - val_auc_8: 0.8651 - val_precision_8: 0.5714 - val_recall_8: 0.4000\n",
            "Epoch 163/200\n",
            "10/10 [==============================] - 0s 7ms/step - loss: 0.3718 - accuracy: 0.8280 - auc_8: 0.8202 - precision_8: 0.5000 - recall_8: 0.2500 - val_loss: 0.3150 - val_accuracy: 0.8571 - val_auc_8: 0.8651 - val_precision_8: 0.5714 - val_recall_8: 0.4000\n",
            "Epoch 164/200\n",
            "10/10 [==============================] - 0s 7ms/step - loss: 0.3732 - accuracy: 0.8280 - auc_8: 0.8190 - precision_8: 0.5000 - recall_8: 0.2500 - val_loss: 0.3149 - val_accuracy: 0.8571 - val_auc_8: 0.8623 - val_precision_8: 0.6000 - val_recall_8: 0.3000\n",
            "Epoch 165/200\n",
            "10/10 [==============================] - 0s 5ms/step - loss: 0.3713 - accuracy: 0.8280 - auc_8: 0.8226 - precision_8: 0.5000 - recall_8: 0.2500 - val_loss: 0.3150 - val_accuracy: 0.8571 - val_auc_8: 0.8689 - val_precision_8: 0.5714 - val_recall_8: 0.4000\n",
            "Epoch 166/200\n",
            "10/10 [==============================] - 0s 5ms/step - loss: 0.3699 - accuracy: 0.8280 - auc_8: 0.8283 - precision_8: 0.5000 - recall_8: 0.2500 - val_loss: 0.3148 - val_accuracy: 0.8571 - val_auc_8: 0.8726 - val_precision_8: 0.5714 - val_recall_8: 0.4000\n",
            "Epoch 167/200\n",
            "10/10 [==============================] - 0s 6ms/step - loss: 0.3754 - accuracy: 0.8280 - auc_8: 0.8133 - precision_8: 0.5000 - recall_8: 0.2500 - val_loss: 0.3142 - val_accuracy: 0.8413 - val_auc_8: 0.8726 - val_precision_8: 0.5000 - val_recall_8: 0.3000\n",
            "Epoch 168/200\n",
            "10/10 [==============================] - 0s 5ms/step - loss: 0.3719 - accuracy: 0.8280 - auc_8: 0.8153 - precision_8: 0.5000 - recall_8: 0.2500 - val_loss: 0.3148 - val_accuracy: 0.8571 - val_auc_8: 0.8585 - val_precision_8: 0.5714 - val_recall_8: 0.4000\n",
            "Epoch 169/200\n",
            "10/10 [==============================] - 0s 7ms/step - loss: 0.3700 - accuracy: 0.8280 - auc_8: 0.8263 - precision_8: 0.5000 - recall_8: 0.2500 - val_loss: 0.3149 - val_accuracy: 0.8571 - val_auc_8: 0.8717 - val_precision_8: 0.5714 - val_recall_8: 0.4000\n",
            "Epoch 170/200\n",
            "10/10 [==============================] - 0s 5ms/step - loss: 0.3717 - accuracy: 0.8280 - auc_8: 0.8145 - precision_8: 0.5000 - recall_8: 0.2500 - val_loss: 0.3141 - val_accuracy: 0.8413 - val_auc_8: 0.8736 - val_precision_8: 0.5000 - val_recall_8: 0.3000\n",
            "Epoch 171/200\n",
            "10/10 [==============================] - 0s 7ms/step - loss: 0.3714 - accuracy: 0.8280 - auc_8: 0.8271 - precision_8: 0.5000 - recall_8: 0.2500 - val_loss: 0.3151 - val_accuracy: 0.8571 - val_auc_8: 0.8726 - val_precision_8: 0.5714 - val_recall_8: 0.4000\n",
            "Epoch 172/200\n",
            "10/10 [==============================] - 0s 7ms/step - loss: 0.3711 - accuracy: 0.8280 - auc_8: 0.8247 - precision_8: 0.5000 - recall_8: 0.2500 - val_loss: 0.3157 - val_accuracy: 0.8571 - val_auc_8: 0.8660 - val_precision_8: 0.5714 - val_recall_8: 0.4000\n",
            "Epoch 173/200\n",
            "10/10 [==============================] - 0s 5ms/step - loss: 0.3698 - accuracy: 0.8280 - auc_8: 0.8275 - precision_8: 0.5000 - recall_8: 0.2500 - val_loss: 0.3151 - val_accuracy: 0.8571 - val_auc_8: 0.8575 - val_precision_8: 0.5714 - val_recall_8: 0.4000\n",
            "Epoch 174/200\n",
            "10/10 [==============================] - 0s 7ms/step - loss: 0.3689 - accuracy: 0.8280 - auc_8: 0.8308 - precision_8: 0.5000 - recall_8: 0.2500 - val_loss: 0.3164 - val_accuracy: 0.8571 - val_auc_8: 0.8604 - val_precision_8: 0.5714 - val_recall_8: 0.4000\n",
            "Epoch 175/200\n",
            "10/10 [==============================] - 0s 5ms/step - loss: 0.3687 - accuracy: 0.8280 - auc_8: 0.8271 - precision_8: 0.5000 - recall_8: 0.2500 - val_loss: 0.3158 - val_accuracy: 0.8571 - val_auc_8: 0.8642 - val_precision_8: 0.5714 - val_recall_8: 0.4000\n",
            "Epoch 176/200\n",
            "10/10 [==============================] - 0s 6ms/step - loss: 0.3678 - accuracy: 0.8280 - auc_8: 0.8320 - precision_8: 0.5000 - recall_8: 0.2500 - val_loss: 0.3154 - val_accuracy: 0.8571 - val_auc_8: 0.8660 - val_precision_8: 0.5714 - val_recall_8: 0.4000\n",
            "Epoch 177/200\n",
            "10/10 [==============================] - 0s 7ms/step - loss: 0.3683 - accuracy: 0.8280 - auc_8: 0.8320 - precision_8: 0.5000 - recall_8: 0.2500 - val_loss: 0.3158 - val_accuracy: 0.8571 - val_auc_8: 0.8670 - val_precision_8: 0.5714 - val_recall_8: 0.4000\n",
            "Epoch 178/200\n",
            "10/10 [==============================] - 0s 5ms/step - loss: 0.3685 - accuracy: 0.8280 - auc_8: 0.8263 - precision_8: 0.5000 - recall_8: 0.2500 - val_loss: 0.3140 - val_accuracy: 0.8413 - val_auc_8: 0.8717 - val_precision_8: 0.5000 - val_recall_8: 0.3000\n",
            "Epoch 179/200\n",
            "10/10 [==============================] - 0s 7ms/step - loss: 0.3681 - accuracy: 0.8280 - auc_8: 0.8295 - precision_8: 0.5000 - recall_8: 0.2500 - val_loss: 0.3157 - val_accuracy: 0.8571 - val_auc_8: 0.8500 - val_precision_8: 0.5714 - val_recall_8: 0.4000\n",
            "Epoch 180/200\n",
            "10/10 [==============================] - 0s 6ms/step - loss: 0.3683 - accuracy: 0.8280 - auc_8: 0.8291 - precision_8: 0.5000 - recall_8: 0.2500 - val_loss: 0.3158 - val_accuracy: 0.8571 - val_auc_8: 0.8670 - val_precision_8: 0.5714 - val_recall_8: 0.4000\n",
            "Epoch 181/200\n",
            "10/10 [==============================] - 0s 7ms/step - loss: 0.3690 - accuracy: 0.8280 - auc_8: 0.8255 - precision_8: 0.5000 - recall_8: 0.2500 - val_loss: 0.3222 - val_accuracy: 0.8571 - val_auc_8: 0.8651 - val_precision_8: 0.5714 - val_recall_8: 0.4000\n",
            "Epoch 182/200\n",
            "10/10 [==============================] - 0s 7ms/step - loss: 0.3717 - accuracy: 0.8280 - auc_8: 0.8377 - precision_8: 0.5000 - recall_8: 0.2500 - val_loss: 0.3175 - val_accuracy: 0.8571 - val_auc_8: 0.8726 - val_precision_8: 0.5714 - val_recall_8: 0.4000\n",
            "Epoch 183/200\n",
            "10/10 [==============================] - 0s 6ms/step - loss: 0.3678 - accuracy: 0.8280 - auc_8: 0.8373 - precision_8: 0.5000 - recall_8: 0.2500 - val_loss: 0.3151 - val_accuracy: 0.8571 - val_auc_8: 0.8736 - val_precision_8: 0.5714 - val_recall_8: 0.4000\n",
            "Epoch 184/200\n",
            "10/10 [==============================] - 0s 5ms/step - loss: 0.3681 - accuracy: 0.8280 - auc_8: 0.8344 - precision_8: 0.5000 - recall_8: 0.2500 - val_loss: 0.3135 - val_accuracy: 0.8413 - val_auc_8: 0.8745 - val_precision_8: 0.5000 - val_recall_8: 0.3000\n",
            "Epoch 185/200\n",
            "10/10 [==============================] - 0s 5ms/step - loss: 0.3664 - accuracy: 0.8280 - auc_8: 0.8308 - precision_8: 0.5000 - recall_8: 0.2500 - val_loss: 0.3135 - val_accuracy: 0.8413 - val_auc_8: 0.8726 - val_precision_8: 0.5000 - val_recall_8: 0.3000\n",
            "Epoch 186/200\n",
            "10/10 [==============================] - 0s 7ms/step - loss: 0.3662 - accuracy: 0.8280 - auc_8: 0.8295 - precision_8: 0.5000 - recall_8: 0.2500 - val_loss: 0.3131 - val_accuracy: 0.8413 - val_auc_8: 0.8792 - val_precision_8: 0.5000 - val_recall_8: 0.3000\n",
            "Epoch 187/200\n",
            "10/10 [==============================] - 0s 6ms/step - loss: 0.3682 - accuracy: 0.8280 - auc_8: 0.8267 - precision_8: 0.5000 - recall_8: 0.2500 - val_loss: 0.3142 - val_accuracy: 0.8413 - val_auc_8: 0.8774 - val_precision_8: 0.5000 - val_recall_8: 0.3000\n",
            "Epoch 188/200\n",
            "10/10 [==============================] - 0s 7ms/step - loss: 0.3668 - accuracy: 0.8280 - auc_8: 0.8352 - precision_8: 0.5000 - recall_8: 0.2500 - val_loss: 0.3143 - val_accuracy: 0.8413 - val_auc_8: 0.8679 - val_precision_8: 0.5000 - val_recall_8: 0.3000\n",
            "Epoch 189/200\n",
            "10/10 [==============================] - 0s 6ms/step - loss: 0.3661 - accuracy: 0.8280 - auc_8: 0.8356 - precision_8: 0.5000 - recall_8: 0.2500 - val_loss: 0.3145 - val_accuracy: 0.8413 - val_auc_8: 0.8670 - val_precision_8: 0.5000 - val_recall_8: 0.3000\n",
            "Epoch 190/200\n",
            "10/10 [==============================] - 0s 5ms/step - loss: 0.3677 - accuracy: 0.8280 - auc_8: 0.8356 - precision_8: 0.5000 - recall_8: 0.2500 - val_loss: 0.3163 - val_accuracy: 0.8571 - val_auc_8: 0.8613 - val_precision_8: 0.5714 - val_recall_8: 0.4000\n",
            "Epoch 191/200\n",
            "10/10 [==============================] - 0s 6ms/step - loss: 0.3669 - accuracy: 0.8280 - auc_8: 0.8328 - precision_8: 0.5000 - recall_8: 0.2500 - val_loss: 0.3154 - val_accuracy: 0.8571 - val_auc_8: 0.8660 - val_precision_8: 0.5714 - val_recall_8: 0.4000\n",
            "Epoch 192/200\n",
            "10/10 [==============================] - 0s 5ms/step - loss: 0.3646 - accuracy: 0.8280 - auc_8: 0.8393 - precision_8: 0.5000 - recall_8: 0.2500 - val_loss: 0.3157 - val_accuracy: 0.8571 - val_auc_8: 0.8651 - val_precision_8: 0.5714 - val_recall_8: 0.4000\n",
            "Epoch 193/200\n",
            "10/10 [==============================] - 0s 7ms/step - loss: 0.3648 - accuracy: 0.8280 - auc_8: 0.8393 - precision_8: 0.5000 - recall_8: 0.2500 - val_loss: 0.3152 - val_accuracy: 0.8571 - val_auc_8: 0.8717 - val_precision_8: 0.5714 - val_recall_8: 0.4000\n",
            "Epoch 194/200\n",
            "10/10 [==============================] - 0s 6ms/step - loss: 0.3643 - accuracy: 0.8280 - auc_8: 0.8397 - precision_8: 0.5000 - recall_8: 0.2500 - val_loss: 0.3151 - val_accuracy: 0.8413 - val_auc_8: 0.8623 - val_precision_8: 0.5000 - val_recall_8: 0.3000\n",
            "Epoch 195/200\n",
            "10/10 [==============================] - 0s 8ms/step - loss: 0.3646 - accuracy: 0.8280 - auc_8: 0.8381 - precision_8: 0.5000 - recall_8: 0.2500 - val_loss: 0.3149 - val_accuracy: 0.8413 - val_auc_8: 0.8632 - val_precision_8: 0.5000 - val_recall_8: 0.3000\n",
            "Epoch 196/200\n",
            "10/10 [==============================] - 0s 6ms/step - loss: 0.3657 - accuracy: 0.8280 - auc_8: 0.8356 - precision_8: 0.5000 - recall_8: 0.2500 - val_loss: 0.3155 - val_accuracy: 0.8571 - val_auc_8: 0.8689 - val_precision_8: 0.5714 - val_recall_8: 0.4000\n",
            "Epoch 197/200\n",
            "10/10 [==============================] - 0s 5ms/step - loss: 0.3638 - accuracy: 0.8280 - auc_8: 0.8356 - precision_8: 0.5000 - recall_8: 0.2500 - val_loss: 0.3151 - val_accuracy: 0.8571 - val_auc_8: 0.8736 - val_precision_8: 0.5714 - val_recall_8: 0.4000\n",
            "Epoch 198/200\n",
            "10/10 [==============================] - 0s 5ms/step - loss: 0.3637 - accuracy: 0.8280 - auc_8: 0.8401 - precision_8: 0.5000 - recall_8: 0.2500 - val_loss: 0.3154 - val_accuracy: 0.8571 - val_auc_8: 0.8726 - val_precision_8: 0.5714 - val_recall_8: 0.4000\n",
            "Epoch 199/200\n",
            "10/10 [==============================] - 0s 5ms/step - loss: 0.3650 - accuracy: 0.8280 - auc_8: 0.8397 - precision_8: 0.5000 - recall_8: 0.2500 - val_loss: 0.3161 - val_accuracy: 0.8571 - val_auc_8: 0.8670 - val_precision_8: 0.5714 - val_recall_8: 0.4000\n",
            "Epoch 200/200\n",
            "10/10 [==============================] - 0s 5ms/step - loss: 0.3649 - accuracy: 0.8280 - auc_8: 0.8352 - precision_8: 0.5000 - recall_8: 0.2500 - val_loss: 0.3141 - val_accuracy: 0.8413 - val_auc_8: 0.8736 - val_precision_8: 0.5000 - val_recall_8: 0.3000\n"
          ],
          "name": "stdout"
        },
        {
          "output_type": "execute_result",
          "data": {
            "text/plain": [
              "<tensorflow.python.keras.callbacks.History at 0x7f57a34ce850>"
            ]
          },
          "metadata": {
            "tags": []
          },
          "execution_count": 96
        }
      ]
    },
    {
      "cell_type": "code",
      "metadata": {
        "id": "tZncbB79Ylg6",
        "colab": {
          "base_uri": "https://localhost:8080/"
        },
        "outputId": "0fbc3841-da92-421b-e93b-e464c90a169f"
      },
      "source": [
        "##8-3-3 計算accuracy...\n",
        "score1=model3.evaluate(x_test,y_test)\n",
        "print('{}-->{}'.format(model3.metrics_names[0],score1[0]))\n",
        "print('{}-->{}'.format(model3.metrics_names[1],score1[1]))\n",
        "print('{}-->{}'.format(model3.metrics_names[2],score1[2]))\n",
        "print('{}-->{}'.format(model3.metrics_names[3],score1[3]))\n",
        "print('{}-->{}'.format(model3.metrics_names[4],score1[4]))\n",
        "\n",
        "print('='*30)\n",
        "from sklearn.metrics import roc_auc_score\n",
        "print('AUC for testing set:')\n",
        "predicted_prob=model3.predict(x_test)\n",
        "roc_auc_score(y_test,predicted_prob)"
      ],
      "execution_count": 97,
      "outputs": [
        {
          "output_type": "stream",
          "text": [
            "1/1 [==============================] - 0s 442ms/step - loss: 0.5371 - accuracy: 0.7812 - auc_8: 0.8043 - precision_8: 1.0000 - recall_8: 0.2222\n",
            "loss-->0.5370879769325256\n",
            "accuracy-->0.78125\n",
            "auc_8-->0.8043478727340698\n",
            "precision_8-->1.0\n",
            "recall_8-->0.2222222238779068\n",
            "==============================\n",
            "AUC for testing set:\n"
          ],
          "name": "stdout"
        },
        {
          "output_type": "execute_result",
          "data": {
            "text/plain": [
              "0.8067632850241545"
            ]
          },
          "metadata": {
            "tags": []
          },
          "execution_count": 97
        }
      ]
    },
    {
      "cell_type": "code",
      "metadata": {
        "id": "_XDwmhoxaWMR",
        "colab": {
          "base_uri": "https://localhost:8080/",
          "height": 295
        },
        "outputId": "2c62b63d-b8df-4d43-ac2e-2c405971140f"
      },
      "source": [
        "##8-3-4 計算AUC\n",
        "from sklearn.metrics import roc_auc_score, roc_curve\n",
        "from matplotlib import pyplot as plt\n",
        "AUC面積1=roc_auc_score(y_test, predicted_prob) ##0.609\n",
        "fpr,tpr,thresholds=roc_curve(y_test,predicted_prob)\n",
        "plt.figure()\n",
        "plt.plot(fpr,tpr,label='Logistic regression (area = %0.3f)'%AUC面積1)\n",
        "plt.plot([0,1],[0,1],'r--')\n",
        "plt.xlim([0.0,1.0])\n",
        "plt.ylim([0.0,1.05])\n",
        "plt.xlabel('False Positive Rate')\n",
        "plt.ylabel('True Positive Rate')\n",
        "plt.title('Receiver operating characteristic ROC')\n",
        "plt.legend(loc=\"lower right\")\n",
        "plt.show()"
      ],
      "execution_count": 98,
      "outputs": [
        {
          "output_type": "display_data",
          "data": {
            "image/png": "[encoded data removed]",
            "text/plain": [
              "<Figure size 432x288 with 1 Axes>"
            ]
          },
          "metadata": {
            "tags": [],
            "needs_background": "light"
          }
        }
      ]
    },
    {
      "cell_type": "code",
      "metadata": {
        "id": "h6TFbBBbOjDF",
        "colab": {
          "base_uri": "https://localhost:8080/"
        },
        "outputId": "3ff3d3dd-2901-44dc-ada6-525aab946525"
      },
      "source": [
        "##8-4-1 save model\n",
        "model3.save('./RPython/Model3',save_format='tf')"
      ],
      "execution_count": 103,
      "outputs": [
        {
          "output_type": "stream",
          "text": [
            "INFO:tensorflow:Assets written to: ./RPython/Model3/assets\n"
          ],
          "name": "stdout"
        }
      ]
    },
    {
      "cell_type": "code",
      "metadata": {
        "id": "cOmLdAQAY0-m",
        "outputId": "73db4a90-0c3c-4db4-cad6-f746136d1151",
        "colab": {
          "base_uri": "https://localhost:8080/"
        }
      },
      "source": [
        "##8-4-2\n",
        "y_test[y_test['自殺意念01']==1]###找出y_test中自殺意念為1的index \n",
        "x_test.loc[186]        ##找出index=186的四個X值..."
      ],
      "execution_count": 127,
      "outputs": [
        {
          "output_type": "execute_result",
          "data": {
            "text/plain": [
              "網路成癮分數YDQ      2.0\n",
              "家庭滿意度apgar     0.0\n",
              "年齡            21.0\n",
              "sex_男          1.0\n",
              "Name: 186, dtype: float64"
            ]
          },
          "metadata": {
            "tags": []
          },
          "execution_count": 127
        }
      ]
    },
    {
      "cell_type": "code",
      "metadata": {
        "id": "s1pdCsAUQKTN",
        "colab": {
          "base_uri": "https://localhost:8080/"
        },
        "outputId": "a4f63d0d-8c0f-479a-a0b5-80ff5523565b"
      },
      "source": [
        "##8-4-3 load & test model\n",
        "model4=tf.keras.models.load_model('./RPython/Model3')\n",
        "newCase={'網路成癮分數YDQ':[2],'家庭滿意度apgar':[0],'年齡':[21],'sex_男':[1]}\n",
        "newCase=pd.DataFrame(newCase)\n",
        "model4.predict(newCase)[0][0]\n"
      ],
      "execution_count": 128,
      "outputs": [
        {
          "output_type": "execute_result",
          "data": {
            "text/plain": [
              "0.556754"
            ]
          },
          "metadata": {
            "tags": []
          },
          "execution_count": 128
        }
      ]
    }
  ]
}