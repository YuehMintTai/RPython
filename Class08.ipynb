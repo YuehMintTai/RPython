{
  "nbformat": 4,
  "nbformat_minor": 0,
  "metadata": {
    "colab": {
      "name": "Class08.ipynb",
      "provenance": [],
      "authorship_tag": "ABX9TyPtjtnogrYvRusNnabHJqFB",
      "include_colab_link": true
    },
    "kernelspec": {
      "name": "python3",
      "display_name": "Python 3"
    },
    "language_info": {
      "name": "python"
    }
  },
  "cells": [
    {
      "cell_type": "markdown",
      "metadata": {
        "id": "view-in-github",
        "colab_type": "text"
      },
      "source": [
        "<a href=\"https://colab.research.google.com/github/YuehMintTai/RPython/blob/main/Class08.ipynb\" target=\"_parent\"><img src=\"https://colab.research.google.com/assets/colab-badge.svg\" alt=\"Open In Colab\"/></a>"
      ]
    },
    {
      "cell_type": "markdown",
      "metadata": {
        "id": "r2CONG6SfMsK"
      },
      "source": [
        "#三軍總醫院北投分院統計及實驗設計課程之八\n",
        "## 2021/7/13\n",
        "## ytai1123@gmail.com\n",
        "### 使用方法:\n",
        "\n",
        "\n",
        "1.   使用gmail帳號登入\n",
        "2.   按\"執行階段\" -->\"全部執行\" 以執行全部內容, 若要個別執行可點選每格程式左方箭頭或按 Control + Enter 鍵執行。"
      ]
    },
    {
      "cell_type": "code",
      "metadata": {
        "colab": {
          "base_uri": "https://localhost:8080/"
        },
        "id": "jlXcDYPlfE6V",
        "outputId": "49ad523d-02be-453a-c217-f5f664e6b9eb"
      },
      "source": [
        "##0-1\n",
        "!git clone https://github.com/YuehMintTai/RPython.git"
      ],
      "execution_count": 1,
      "outputs": [
        {
          "output_type": "stream",
          "text": [
            "Cloning into 'RPython'...\n",
            "remote: Enumerating objects: 125, done.\u001b[K\n",
            "remote: Counting objects: 100% (125/125), done.\u001b[K\n",
            "remote: Compressing objects: 100% (123/123), done.\u001b[K\n",
            "remote: Total 125 (delta 69), reused 0 (delta 0), pack-reused 0\u001b[K\n",
            "Receiving objects: 100% (125/125), 2.72 MiB | 14.83 MiB/s, done.\n",
            "Resolving deltas: 100% (69/69), done.\n"
          ],
          "name": "stdout"
        }
      ]
    },
    {
      "cell_type": "code",
      "metadata": {
        "colab": {
          "base_uri": "https://localhost:8080/"
        },
        "id": "zSX8X-7MfSgK",
        "outputId": "28d61ca5-3af1-43df-b10e-13c39a721534"
      },
      "source": [
        "##0-2\n",
        "!pip install rpy2"
      ],
      "execution_count": 2,
      "outputs": [
        {
          "output_type": "stream",
          "text": [
            "Requirement already satisfied: rpy2 in /usr/local/lib/python3.7/dist-packages (3.4.5)\n",
            "Requirement already satisfied: jinja2 in /usr/local/lib/python3.7/dist-packages (from rpy2) (2.11.3)\n",
            "Requirement already satisfied: tzlocal in /usr/local/lib/python3.7/dist-packages (from rpy2) (1.5.1)\n",
            "Requirement already satisfied: pytz in /usr/local/lib/python3.7/dist-packages (from rpy2) (2018.9)\n",
            "Requirement already satisfied: cffi>=1.10.0 in /usr/local/lib/python3.7/dist-packages (from rpy2) (1.14.5)\n",
            "Requirement already satisfied: MarkupSafe>=0.23 in /usr/local/lib/python3.7/dist-packages (from jinja2->rpy2) (2.0.1)\n",
            "Requirement already satisfied: pycparser in /usr/local/lib/python3.7/dist-packages (from cffi>=1.10.0->rpy2) (2.20)\n"
          ],
          "name": "stdout"
        }
      ]
    },
    {
      "cell_type": "code",
      "metadata": {
        "id": "kUcDfNrpfVVk"
      },
      "source": [
        "##0-3\n",
        "%load_ext rpy2.ipython"
      ],
      "execution_count": 3,
      "outputs": []
    },
    {
      "cell_type": "code",
      "metadata": {
        "id": "JuuefOVMfZSV",
        "colab": {
          "base_uri": "https://localhost:8080/",
          "height": 35
        },
        "outputId": "93e38a2d-6434-499a-812e-ff62bbbf966f"
      },
      "source": [
        "##8-1\n",
        "import tensorflow as tf\n",
        "import torch\n",
        "tf.__version__     ##2.5.0\n",
        "torch.__version__   ##1.9.0+cu102"
      ],
      "execution_count": 4,
      "outputs": [
        {
          "output_type": "execute_result",
          "data": {
            "application/vnd.google.colaboratory.intrinsic+json": {
              "type": "string"
            },
            "text/plain": [
              "'1.9.0+cu102'"
            ]
          },
          "metadata": {
            "tags": []
          },
          "execution_count": 4
        }
      ]
    },
    {
      "cell_type": "code",
      "metadata": {
        "id": "n8WemEO8ffxe"
      },
      "source": [
        "##8-2 區分 training, validation, testing sets..\n",
        "import pandas as pd\n",
        "from sklearn.model_selection import train_test_split\n",
        "from sklearn.metrics import roc_curve\n",
        "import numpy as np\n",
        "\n",
        "\n",
        "df=pd.read_csv('RPython/samples.csv')\n",
        "df['sex']='男'\n",
        "df.loc[df['性別']==2,'sex']='女'\n",
        "x=df[['sex','網路成癮分數YDQ','家庭滿意度apgar']]\n",
        "x=pd.get_dummies(data=x,drop_first=True)\n",
        "y=df['自殺意念01'].astype(int).to_frame()\n",
        "x_train,x_test,y_train,y_test=train_test_split(x,y,test_size=0.2)\n",
        "y_test"
      ],
      "execution_count": null,
      "outputs": []
    },
    {
      "cell_type": "code",
      "metadata": {
        "id": "5g-bXTS8feo3",
        "outputId": "2e3c2a61-ec91-40ac-d784-b6b9cbb010be",
        "colab": {
          "base_uri": "https://localhost:8080/"
        }
      },
      "source": [
        "##8-3 使用tensorflow+validation作模型預測...\n",
        "import tensorflow as tf\n",
        "from sklearn.metrics import roc_auc_score\n",
        "model1=tf.keras.Sequential()\n",
        "model1.add(tf.keras.layers.Dense(1,input_dim=3,activation='sigmoid'))\n",
        "model1.compile(loss='binary_crossentropy',optimizer='adam',metrics=['accuracy',tf.keras.metrics.AUC(),tf.keras.metrics.Precision(),tf.keras.metrics.Recall()])\n",
        "model1.fit(x_train,y_train,epochs=10,batch_size=10,validation_split=0.25)\n",
        "scores=model1.evaluate(x_test,y_test)\n",
        "predicted_prob=model1.predict(x_test)\n",
        "predicted_prob"
      ],
      "execution_count": 25,
      "outputs": [
        {
          "output_type": "stream",
          "text": [
            "Epoch 1/10\n",
            "12/12 [==============================] - 2s 49ms/step - loss: 0.5821 - accuracy: 0.8214 - auc_5: 0.4799 - precision_3: 0.0000e+00 - recall_3: 0.0000e+00 - val_loss: 0.4989 - val_accuracy: 0.8421 - val_auc_5: 0.5104 - val_precision_3: 0.0000e+00 - val_recall_3: 0.0000e+00\n",
            "Epoch 2/10\n",
            "12/12 [==============================] - 0s 5ms/step - loss: 0.5757 - accuracy: 0.8214 - auc_5: 0.4840 - precision_3: 0.0000e+00 - recall_3: 0.0000e+00 - val_loss: 0.4946 - val_accuracy: 0.8421 - val_auc_5: 0.5182 - val_precision_3: 0.0000e+00 - val_recall_3: 0.0000e+00\n",
            "Epoch 3/10\n",
            "12/12 [==============================] - 0s 5ms/step - loss: 0.5710 - accuracy: 0.8214 - auc_5: 0.4810 - precision_3: 0.0000e+00 - recall_3: 0.0000e+00 - val_loss: 0.4909 - val_accuracy: 0.8421 - val_auc_5: 0.5078 - val_precision_3: 0.0000e+00 - val_recall_3: 0.0000e+00\n",
            "Epoch 4/10\n",
            "12/12 [==============================] - 0s 6ms/step - loss: 0.5652 - accuracy: 0.8214 - auc_5: 0.4818 - precision_3: 0.0000e+00 - recall_3: 0.0000e+00 - val_loss: 0.4879 - val_accuracy: 0.8421 - val_auc_5: 0.5156 - val_precision_3: 0.0000e+00 - val_recall_3: 0.0000e+00\n",
            "Epoch 5/10\n",
            "12/12 [==============================] - 0s 4ms/step - loss: 0.5595 - accuracy: 0.8214 - auc_5: 0.4834 - precision_3: 0.0000e+00 - recall_3: 0.0000e+00 - val_loss: 0.4844 - val_accuracy: 0.8421 - val_auc_5: 0.5104 - val_precision_3: 0.0000e+00 - val_recall_3: 0.0000e+00\n",
            "Epoch 6/10\n",
            "12/12 [==============================] - 0s 4ms/step - loss: 0.5560 - accuracy: 0.8214 - auc_5: 0.4739 - precision_3: 0.0000e+00 - recall_3: 0.0000e+00 - val_loss: 0.4807 - val_accuracy: 0.8421 - val_auc_5: 0.5104 - val_precision_3: 0.0000e+00 - val_recall_3: 0.0000e+00\n",
            "Epoch 7/10\n",
            "12/12 [==============================] - 0s 5ms/step - loss: 0.5502 - accuracy: 0.8214 - auc_5: 0.4821 - precision_3: 0.0000e+00 - recall_3: 0.0000e+00 - val_loss: 0.4783 - val_accuracy: 0.8421 - val_auc_5: 0.5156 - val_precision_3: 0.0000e+00 - val_recall_3: 0.0000e+00\n",
            "Epoch 8/10\n",
            "12/12 [==============================] - 0s 6ms/step - loss: 0.5465 - accuracy: 0.8214 - auc_5: 0.4810 - precision_3: 0.0000e+00 - recall_3: 0.0000e+00 - val_loss: 0.4761 - val_accuracy: 0.8421 - val_auc_5: 0.5156 - val_precision_3: 0.0000e+00 - val_recall_3: 0.0000e+00\n",
            "Epoch 9/10\n",
            "12/12 [==============================] - 0s 4ms/step - loss: 0.5425 - accuracy: 0.8214 - auc_5: 0.4813 - precision_3: 0.0000e+00 - recall_3: 0.0000e+00 - val_loss: 0.4739 - val_accuracy: 0.8421 - val_auc_5: 0.5130 - val_precision_3: 0.0000e+00 - val_recall_3: 0.0000e+00\n",
            "Epoch 10/10\n",
            "12/12 [==============================] - 0s 4ms/step - loss: 0.5379 - accuracy: 0.8214 - auc_5: 0.4891 - precision_3: 0.0000e+00 - recall_3: 0.0000e+00 - val_loss: 0.4711 - val_accuracy: 0.8421 - val_auc_5: 0.5208 - val_precision_3: 0.0000e+00 - val_recall_3: 0.0000e+00\n",
            "2/2 [==============================] - 0s 4ms/step - loss: 0.5536 - accuracy: 0.7632 - auc_5: 0.6992 - precision_3: 0.0000e+00 - recall_3: 0.0000e+00\n"
          ],
          "name": "stdout"
        },
        {
          "output_type": "execute_result",
          "data": {
            "text/plain": [
              "array([[0.04882681],\n",
              "       [0.15685692],\n",
              "       [0.17285508],\n",
              "       [0.05038446],\n",
              "       [0.02679411],\n",
              "       [0.3133219 ],\n",
              "       [0.02679411],\n",
              "       [0.09783036],\n",
              "       [0.20326424],\n",
              "       [0.02766931],\n",
              "       [0.29321608],\n",
              "       [0.12483734],\n",
              "       [0.08157951],\n",
              "       [0.06083286],\n",
              "       [0.2474297 ],\n",
              "       [0.12483734],\n",
              "       [0.12483734],\n",
              "       [0.09783036],\n",
              "       [0.12483734],\n",
              "       [0.04843014],\n",
              "       [0.03755802],\n",
              "       [0.3133219 ],\n",
              "       [0.02679411],\n",
              "       [0.12483734],\n",
              "       [0.07615757],\n",
              "       [0.07615757],\n",
              "       [0.147234  ],\n",
              "       [0.1624398 ],\n",
              "       [0.12036112],\n",
              "       [0.12483734],\n",
              "       [0.27626812],\n",
              "       [0.20326424],\n",
              "       [0.1624398 ],\n",
              "       [0.12483734],\n",
              "       [0.05897221],\n",
              "       [0.02766931],\n",
              "       [0.05897221],\n",
              "       [0.147234  ]], dtype=float32)"
            ]
          },
          "metadata": {
            "tags": []
          },
          "execution_count": 25
        }
      ]
    },
    {
      "cell_type": "code",
      "metadata": {
        "id": "eWcEQkLEkwqg",
        "outputId": "44d1001d-6cfe-40fc-8068-859421a97418",
        "colab": {
          "base_uri": "https://localhost:8080/",
          "height": 295
        }
      },
      "source": [
        "result=np.concatenate((y_test.to_numpy(), predicted_prob),axis=1)\n",
        "from sklearn.metrics import roc_auc_score, roc_curve\n",
        "from matplotlib import pyplot as plt\n",
        "AUC面積=roc_auc_score(y_test, predicted_prob) ##0.6973180076628352\n",
        "\n",
        "fpr,tpr,thresholds=roc_curve(y_test,predicted_prob)\n",
        "plt.figure()\n",
        "plt.plot(fpr,tpr,label='Logistic regression (area = %0.3f)'%AUC面積)\n",
        "plt.plot([0,1],[0,1],'r--')\n",
        "plt.xlim([0.0,1.0])\n",
        "plt.ylim([0.0,1.05])\n",
        "plt.xlabel('False Positive Rate')\n",
        "plt.ylabel('True Positive Rate')\n",
        "plt.title('Receiver operating characteristic ROC')\n",
        "plt.legend(loc=\"lower right\")\n",
        "plt.show()"
      ],
      "execution_count": 57,
      "outputs": [
        {
          "output_type": "display_data",
          "data": {
            "image/png": "[encoded data removed]",
            "text/plain": [
              "<Figure size 432x288 with 1 Axes>"
            ]
          },
          "metadata": {
            "tags": [],
            "needs_background": "light"
          }
        }
      ]
    },
    {
      "cell_type": "code",
      "metadata": {
        "id": "xeGXSUOKls-U",
        "outputId": "a877fc35-d1f6-4727-9b17-98cf225afb04",
        "colab": {
          "base_uri": "https://localhost:8080/"
        }
      },
      "source": [
        "y_test.to_numpy().shape\n",
        "predicted_prob.shape"
      ],
      "execution_count": 35,
      "outputs": [
        {
          "output_type": "execute_result",
          "data": {
            "text/plain": [
              "(38, 1)"
            ]
          },
          "metadata": {
            "tags": []
          },
          "execution_count": 35
        }
      ]
    },
    {
      "cell_type": "code",
      "metadata": {
        "id": "OIlE_e6-lx62"
      },
      "source": [
        ""
      ],
      "execution_count": null,
      "outputs": []
    }
  ]
}