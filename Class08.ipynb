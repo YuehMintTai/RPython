{
  "nbformat": 4,
  "nbformat_minor": 0,
  "metadata": {
    "colab": {
      "name": "Class08.ipynb",
      "provenance": [],
      "authorship_tag": "ABX9TyN38Vw92Vw0oH3nK1Hehn39",
      "include_colab_link": true
    },
    "kernelspec": {
      "name": "python3",
      "display_name": "Python 3"
    },
    "language_info": {
      "name": "python"
    }
  },
  "cells": [
    {
      "cell_type": "markdown",
      "metadata": {
        "id": "view-in-github",
        "colab_type": "text"
      },
      "source": [
        "<a href=\"https://colab.research.google.com/github/YuehMintTai/RPython/blob/main/Class08.ipynb\" target=\"_parent\"><img src=\"https://colab.research.google.com/assets/colab-badge.svg\" alt=\"Open In Colab\"/></a>"
      ]
    },
    {
      "cell_type": "markdown",
      "metadata": {
        "id": "r2CONG6SfMsK"
      },
      "source": [
        "#三軍總醫院北投分院統計及實驗設計課程之八\n",
        "## 2021/7/13\n",
        "## ytai1123@gmail.com\n",
        "### 使用方法:\n",
        "\n",
        "\n",
        "1.   使用gmail帳號登入\n",
        "2.   按\"執行階段\" -->\"全部執行\" 以執行全部內容, 若要個別執行可點選每格程式左方箭頭或按 Control + Enter 鍵執行。"
      ]
    },
    {
      "cell_type": "code",
      "metadata": {
        "colab": {
          "base_uri": "https://localhost:8080/"
        },
        "id": "jlXcDYPlfE6V",
        "outputId": "290d587a-008a-4491-c9e7-39c93437d830"
      },
      "source": [
        "##0-1\n",
        "!git clone https://github.com/YuehMintTai/RPython.git"
      ],
      "execution_count": 1,
      "outputs": [
        {
          "output_type": "stream",
          "text": [
            "Cloning into 'RPython'...\n",
            "remote: Enumerating objects: 158, done.\u001b[K\n",
            "remote: Counting objects: 100% (158/158), done.\u001b[K\n",
            "remote: Compressing objects: 100% (156/156), done.\u001b[K\n",
            "remote: Total 158 (delta 88), reused 0 (delta 0), pack-reused 0\u001b[K\n",
            "Receiving objects: 100% (158/158), 3.08 MiB | 6.95 MiB/s, done.\n",
            "Resolving deltas: 100% (88/88), done.\n"
          ],
          "name": "stdout"
        }
      ]
    },
    {
      "cell_type": "code",
      "metadata": {
        "colab": {
          "base_uri": "https://localhost:8080/"
        },
        "id": "zSX8X-7MfSgK",
        "outputId": "368f9ac6-01b4-41d8-c52e-be51185f87ad"
      },
      "source": [
        "##0-2\n",
        "!pip install rpy2"
      ],
      "execution_count": 2,
      "outputs": [
        {
          "output_type": "stream",
          "text": [
            "Requirement already satisfied: rpy2 in /usr/local/lib/python3.7/dist-packages (3.4.5)\n",
            "Requirement already satisfied: jinja2 in /usr/local/lib/python3.7/dist-packages (from rpy2) (2.11.3)\n",
            "Requirement already satisfied: pytz in /usr/local/lib/python3.7/dist-packages (from rpy2) (2018.9)\n",
            "Requirement already satisfied: cffi>=1.10.0 in /usr/local/lib/python3.7/dist-packages (from rpy2) (1.14.6)\n",
            "Requirement already satisfied: tzlocal in /usr/local/lib/python3.7/dist-packages (from rpy2) (1.5.1)\n",
            "Requirement already satisfied: MarkupSafe>=0.23 in /usr/local/lib/python3.7/dist-packages (from jinja2->rpy2) (2.0.1)\n",
            "Requirement already satisfied: pycparser in /usr/local/lib/python3.7/dist-packages (from cffi>=1.10.0->rpy2) (2.20)\n"
          ],
          "name": "stdout"
        }
      ]
    },
    {
      "cell_type": "code",
      "metadata": {
        "id": "kUcDfNrpfVVk"
      },
      "source": [
        "##0-3\n",
        "%load_ext rpy2.ipython"
      ],
      "execution_count": 3,
      "outputs": []
    },
    {
      "cell_type": "code",
      "metadata": {
        "id": "JuuefOVMfZSV",
        "colab": {
          "base_uri": "https://localhost:8080/",
          "height": 35
        },
        "outputId": "43bdc6c8-5421-4a0c-8400-348db3d52475"
      },
      "source": [
        "##8-0-0\n",
        "import tensorflow as tf\n",
        "import torch\n",
        "tf.__version__     ##2.5.0\n",
        "torch.__version__   ##1.9.0+cu102"
      ],
      "execution_count": 4,
      "outputs": [
        {
          "output_type": "execute_result",
          "data": {
            "application/vnd.google.colaboratory.intrinsic+json": {
              "type": "string"
            },
            "text/plain": [
              "'1.9.0+cu102'"
            ]
          },
          "metadata": {
            "tags": []
          },
          "execution_count": 4
        }
      ]
    },
    {
      "cell_type": "code",
      "metadata": {
        "colab": {
          "base_uri": "https://localhost:8080/",
          "height": 362
        },
        "id": "PpqBp022Geuv",
        "outputId": "79ba36bf-b2b7-4ec8-fe81-6e87d4e0ee62"
      },
      "source": [
        "##8-0-1 區分所有的資料為testing, validating及training sets\n",
        "import pandas as pd\n",
        "from sklearn.model_selection import train_test_split\n",
        "from sklearn.metrics import roc_curve\n",
        "import numpy as np\n",
        "\n",
        "df=pd.read_csv('RPython/samples.csv')\n",
        "df['sex']='男'\n",
        "df.loc[df['性別']==2,'sex']='女'\n",
        "x=df[['sex','網路成癮分數YDQ','家庭滿意度apgar','年齡']]\n",
        "x=pd.get_dummies(data=x,drop_first=True)\n",
        "y=df['自殺意念01'].astype(int).to_frame()\n",
        "all_df=pd.concat([x,y],axis=1)\n",
        "all_df['remainder']=all_df.index%6\n",
        "all_df['group']='training'\n",
        "all_df.loc[all_df['remainder']==0,'group']='testing'\n",
        "all_df.loc[all_df['remainder']==1,'group']='validating'\n",
        "all_df.loc[all_df['remainder']==2,'group']='validating'\n",
        "\n",
        "all_df['年齡'].groupby(all_df['group']).mean()\n",
        "\n",
        "all_df['groupNo']=0\n",
        "all_df.loc[all_df['group']=='validating','groupNo']=1\n",
        "all_df.loc[all_df['group']=='testing','groupNo']=2\n",
        "all_df.tail(10)"
      ],
      "execution_count": 5,
      "outputs": [
        {
          "output_type": "execute_result",
          "data": {
            "text/html": [
              "<div>\n",
              "<style scoped>\n",
              "    .dataframe tbody tr th:only-of-type {\n",
              "        vertical-align: middle;\n",
              "    }\n",
              "\n",
              "    .dataframe tbody tr th {\n",
              "        vertical-align: top;\n",
              "    }\n",
              "\n",
              "    .dataframe thead th {\n",
              "        text-align: right;\n",
              "    }\n",
              "</style>\n",
              "<table border=\"1\" class=\"dataframe\">\n",
              "  <thead>\n",
              "    <tr style=\"text-align: right;\">\n",
              "      <th></th>\n",
              "      <th>網路成癮分數YDQ</th>\n",
              "      <th>家庭滿意度apgar</th>\n",
              "      <th>年齡</th>\n",
              "      <th>sex_男</th>\n",
              "      <th>自殺意念01</th>\n",
              "      <th>remainder</th>\n",
              "      <th>group</th>\n",
              "      <th>groupNo</th>\n",
              "    </tr>\n",
              "  </thead>\n",
              "  <tbody>\n",
              "    <tr>\n",
              "      <th>178</th>\n",
              "      <td>1</td>\n",
              "      <td>10.0</td>\n",
              "      <td>25.000000</td>\n",
              "      <td>1</td>\n",
              "      <td>0</td>\n",
              "      <td>4</td>\n",
              "      <td>training</td>\n",
              "      <td>0</td>\n",
              "    </tr>\n",
              "    <tr>\n",
              "      <th>179</th>\n",
              "      <td>8</td>\n",
              "      <td>0.0</td>\n",
              "      <td>29.000000</td>\n",
              "      <td>1</td>\n",
              "      <td>1</td>\n",
              "      <td>5</td>\n",
              "      <td>training</td>\n",
              "      <td>0</td>\n",
              "    </tr>\n",
              "    <tr>\n",
              "      <th>180</th>\n",
              "      <td>3</td>\n",
              "      <td>8.0</td>\n",
              "      <td>21.333082</td>\n",
              "      <td>0</td>\n",
              "      <td>1</td>\n",
              "      <td>0</td>\n",
              "      <td>testing</td>\n",
              "      <td>2</td>\n",
              "    </tr>\n",
              "    <tr>\n",
              "      <th>181</th>\n",
              "      <td>7</td>\n",
              "      <td>3.0</td>\n",
              "      <td>34.000000</td>\n",
              "      <td>1</td>\n",
              "      <td>0</td>\n",
              "      <td>1</td>\n",
              "      <td>validating</td>\n",
              "      <td>1</td>\n",
              "    </tr>\n",
              "    <tr>\n",
              "      <th>182</th>\n",
              "      <td>7</td>\n",
              "      <td>5.0</td>\n",
              "      <td>18.000000</td>\n",
              "      <td>1</td>\n",
              "      <td>0</td>\n",
              "      <td>2</td>\n",
              "      <td>validating</td>\n",
              "      <td>1</td>\n",
              "    </tr>\n",
              "    <tr>\n",
              "      <th>183</th>\n",
              "      <td>8</td>\n",
              "      <td>9.0</td>\n",
              "      <td>27.000000</td>\n",
              "      <td>1</td>\n",
              "      <td>0</td>\n",
              "      <td>3</td>\n",
              "      <td>training</td>\n",
              "      <td>0</td>\n",
              "    </tr>\n",
              "    <tr>\n",
              "      <th>184</th>\n",
              "      <td>5</td>\n",
              "      <td>5.0</td>\n",
              "      <td>27.000000</td>\n",
              "      <td>1</td>\n",
              "      <td>1</td>\n",
              "      <td>4</td>\n",
              "      <td>training</td>\n",
              "      <td>0</td>\n",
              "    </tr>\n",
              "    <tr>\n",
              "      <th>185</th>\n",
              "      <td>5</td>\n",
              "      <td>7.0</td>\n",
              "      <td>27.000000</td>\n",
              "      <td>1</td>\n",
              "      <td>0</td>\n",
              "      <td>5</td>\n",
              "      <td>training</td>\n",
              "      <td>0</td>\n",
              "    </tr>\n",
              "    <tr>\n",
              "      <th>186</th>\n",
              "      <td>2</td>\n",
              "      <td>0.0</td>\n",
              "      <td>21.000000</td>\n",
              "      <td>1</td>\n",
              "      <td>1</td>\n",
              "      <td>0</td>\n",
              "      <td>testing</td>\n",
              "      <td>2</td>\n",
              "    </tr>\n",
              "    <tr>\n",
              "      <th>187</th>\n",
              "      <td>0</td>\n",
              "      <td>0.0</td>\n",
              "      <td>25.000000</td>\n",
              "      <td>1</td>\n",
              "      <td>1</td>\n",
              "      <td>1</td>\n",
              "      <td>validating</td>\n",
              "      <td>1</td>\n",
              "    </tr>\n",
              "  </tbody>\n",
              "</table>\n",
              "</div>"
            ],
            "text/plain": [
              "     網路成癮分數YDQ  家庭滿意度apgar         年齡  ...  remainder       group  groupNo\n",
              "178          1        10.0  25.000000  ...          4    training        0\n",
              "179          8         0.0  29.000000  ...          5    training        0\n",
              "180          3         8.0  21.333082  ...          0     testing        2\n",
              "181          7         3.0  34.000000  ...          1  validating        1\n",
              "182          7         5.0  18.000000  ...          2  validating        1\n",
              "183          8         9.0  27.000000  ...          3    training        0\n",
              "184          5         5.0  27.000000  ...          4    training        0\n",
              "185          5         7.0  27.000000  ...          5    training        0\n",
              "186          2         0.0  21.000000  ...          0     testing        2\n",
              "187          0         0.0  25.000000  ...          1  validating        1\n",
              "\n",
              "[10 rows x 8 columns]"
            ]
          },
          "metadata": {
            "tags": []
          },
          "execution_count": 5
        }
      ]
    },
    {
      "cell_type": "code",
      "metadata": {
        "id": "bPq8q3AgXR5k",
        "colab": {
          "base_uri": "https://localhost:8080/"
        },
        "outputId": "10ce0b02-c149-4a65-a1bc-d285f3451f04"
      },
      "source": [
        "##8-0-2 Chi-square and ANOVA\n",
        "from sklearn.feature_selection import chi2\n",
        "from sklearn.feature_selection import f_classif\n",
        "print(pd.crosstab(all_df['group'],all_df['自殺意念01']))\n",
        "##chi-square test確定 自殺意念01 沒有過度集中在某組....\n",
        "Chi2=chi2(all_df['groupNo'].to_numpy().reshape(-1,1),all_df['自殺意念01'].to_numpy())\n",
        "print('chi2={}, p={}'.format(round(Chi2[0].item(),3),round(Chi2[1].item(),3)))\n",
        "##ANOVA確定年齡沒有過度集中在某組\n",
        "print('='*30)\n",
        "F=f_classif(all_df['年齡'].to_numpy().reshape(-1,1),all_df['group'].to_numpy())\n",
        "print(all_df.groupby('group')['年齡'].mean())\n",
        "print('ANOVA F={}, p={}'.format(round(F[0].item(),3),round(F[1].item(),3)))"
      ],
      "execution_count": 6,
      "outputs": [
        {
          "output_type": "stream",
          "text": [
            "自殺意念01       0   1\n",
            "group             \n",
            "testing     23   9\n",
            "training    77  16\n",
            "validating  53  10\n",
            "chi2=0.986, p=0.321\n",
            "==============================\n",
            "group\n",
            "testing       21.385385\n",
            "training      21.752499\n",
            "validating    20.687376\n",
            "Name: 年齡, dtype: float64\n",
            "ANOVA F=1.126, p=0.327\n"
          ],
          "name": "stdout"
        }
      ]
    },
    {
      "cell_type": "code",
      "metadata": {
        "id": "n8WemEO8ffxe",
        "colab": {
          "base_uri": "https://localhost:8080/"
        },
        "outputId": "6916fe85-c2de-42bb-9d3b-70dfebae5194"
      },
      "source": [
        "##8-0-3 區分 training, validation, testing sets..\n",
        "y_test=all_df.loc[all_df['group']=='testing']['自殺意念01'].to_frame()\n",
        "x_test=all_df.loc[all_df['group']=='testing'][['網路成癮分數YDQ','家庭滿意度apgar','年齡','sex_男']]\n",
        "y_vald=all_df.loc[all_df['group']=='validating']['自殺意念01'].to_frame()\n",
        "x_vald=all_df.loc[all_df['group']=='validating'][['網路成癮分數YDQ','家庭滿意度apgar','年齡','sex_男']]\n",
        "y_train=all_df.loc[all_df['group']=='training']['自殺意念01'].to_frame()\n",
        "x_train=all_df.loc[all_df['group']=='training'][['網路成癮分數YDQ','家庭滿意度apgar','年齡','sex_男']]\n",
        "print('cases number of train={}, of validation={}, of test={} '.format(len(x_train),len(x_vald),len(x_test)))"
      ],
      "execution_count": 7,
      "outputs": [
        {
          "output_type": "stream",
          "text": [
            "cases number of train=93, of validation=63, of test=32 \n"
          ],
          "name": "stdout"
        }
      ]
    },
    {
      "cell_type": "code",
      "metadata": {
        "id": "zHDP9NL32bkG"
      },
      "source": [
        "all_df.to_csv('all_df_r.csv')"
      ],
      "execution_count": 8,
      "outputs": []
    },
    {
      "cell_type": "code",
      "metadata": {
        "id": "fAj8SwxUu97e",
        "colab": {
          "base_uri": "https://localhost:8080/",
          "height": 548
        },
        "outputId": "007eba93-17af-45d7-8d3e-09a937e1e369"
      },
      "source": [
        "##8-0-4 Read Pands.DataFrame in R\n",
        "%%R\n",
        "all_df_r<-read.csv('all_df_r.csv')\n",
        "hist(all_df_r$年齡[all_df_r$group=='training'])\n",
        "##hist(all_df_r$年齡[all_df_r$group=='validating'])\n",
        "##hist(all_df_r$年齡[all_df_r$group=='testing'])\n",
        "formula<-'年齡~group'\n",
        "ANOVA<-aov(all_df_r$網路成癮分數YDQ~all_df_r$groupNo)\n",
        "ANOVA<-aov(all_df_r$家庭滿意度apgar~all_df_r$groupNo)\n",
        "ANOVA<-aov(all_df_r$年齡~all_df_r$group)\n",
        "summary(ANOVA)"
      ],
      "execution_count": 9,
      "outputs": [
        {
          "output_type": "stream",
          "text": [
            "                Df Sum Sq Mean Sq F value Pr(>F)\n",
            "all_df_r$group   2     43   21.36   1.126  0.327\n",
            "Residuals      185   3510   18.97               \n"
          ],
          "name": "stdout"
        },
        {
          "output_type": "display_data",
          "data": {
            "image/png": "[encoded data removed]"
          },
          "metadata": {
            "tags": []
          }
        }
      ]
    },
    {
      "cell_type": "code",
      "metadata": {
        "id": "XFtASJ6rssT6",
        "colab": {
          "base_uri": "https://localhost:8080/",
          "height": 349
        },
        "outputId": "754926ed-15f8-4436-e8a8-e4b00ba5c0ee"
      },
      "source": [
        "##8-0-5使用sklearn Logistic Regression\n",
        "from sklearn.linear_model import LogisticRegression\n",
        "from sklearn.metrics import roc_curve, roc_auc_score\n",
        "from matplotlib import pyplot as plt\n",
        "model0=LogisticRegression()\n",
        "result0=model0.fit(x_train,y_train)\n",
        "預測機率0=result0.predict_proba(x_test)\n",
        "AUC面積0=roc_auc_score(y_test,預測機率0[:,1])\n",
        "fpr, tpr, thresholds = roc_curve(y_test,預測機率0[:,1])\n",
        "plt.figure()\n",
        "plt.plot(fpr, tpr, label='Logistic regression (area = %0.3f)' % AUC面積0)\n",
        "plt.plot([0, 1], [0, 1],'r--')\n",
        "plt.xlim([0.0, 1.0])\n",
        "plt.ylim([0.0, 1.05])\n",
        "plt.xlabel('False Positive Rate')\n",
        "plt.ylabel('True Positive Rate')\n",
        "plt.title('Receiver operating characteristic ROC')\n",
        "plt.legend(loc=\"lower right\")\n",
        "plt.show()"
      ],
      "execution_count": 10,
      "outputs": [
        {
          "output_type": "stream",
          "text": [
            "/usr/local/lib/python3.7/dist-packages/sklearn/utils/validation.py:760: DataConversionWarning: A column-vector y was passed when a 1d array was expected. Please change the shape of y to (n_samples, ), for example using ravel().\n",
            "  y = column_or_1d(y, warn=True)\n"
          ],
          "name": "stderr"
        },
        {
          "output_type": "display_data",
          "data": {
            "image/png": "[encoded data removed]",
            "text/plain": [
              "<Figure size 432x288 with 1 Axes>"
            ]
          },
          "metadata": {
            "tags": [],
            "needs_background": "light"
          }
        }
      ]
    },
    {
      "cell_type": "code",
      "metadata": {
        "id": "SLdTs0qUlVLo",
        "colab": {
          "base_uri": "https://localhost:8080/"
        },
        "outputId": "dc220c2d-3d66-4273-c38f-7a75d4ed56e7"
      },
      "source": [
        "##8-1-1 使用Tensorflow Logistic regression ...\n",
        "import tensorflow as tf\n",
        "from tensorflow.keras.layers import Dense \n",
        "from tensorflow.keras import Sequential\n",
        "from tensorflow.keras.metrics import AUC, Precision, Recall\n",
        "model1=Sequential()\n",
        "model1.add(Dense(units=1,input_dim=4,activation='sigmoid')) ###'softmax' is for multiclass outcome.\n",
        "model1.compile(loss='binary_crossentropy',optimizer='adam',metrics=['accuracy',AUC(),Precision(),Recall()])\n",
        "model1.fit(x_train, y_train, epochs=20,batch_size=10,validation_data=(x_vald,y_vald))"
      ],
      "execution_count": 11,
      "outputs": [
        {
          "output_type": "stream",
          "text": [
            "Epoch 1/20\n",
            "10/10 [==============================] - 2s 59ms/step - loss: 3.0564 - accuracy: 0.8280 - auc: 0.5000 - precision: 0.0000e+00 - recall: 0.0000e+00 - val_loss: 2.3306 - val_accuracy: 0.8413 - val_auc: 0.5000 - val_precision: 0.0000e+00 - val_recall: 0.0000e+00\n",
            "Epoch 2/20\n",
            "10/10 [==============================] - 0s 6ms/step - loss: 3.0075 - accuracy: 0.8280 - auc: 0.5000 - precision: 0.0000e+00 - recall: 0.0000e+00 - val_loss: 2.2956 - val_accuracy: 0.8413 - val_auc: 0.5000 - val_precision: 0.0000e+00 - val_recall: 0.0000e+00\n",
            "Epoch 3/20\n",
            "10/10 [==============================] - 0s 6ms/step - loss: 2.9579 - accuracy: 0.8280 - auc: 0.5000 - precision: 0.0000e+00 - recall: 0.0000e+00 - val_loss: 2.2587 - val_accuracy: 0.8413 - val_auc: 0.5000 - val_precision: 0.0000e+00 - val_recall: 0.0000e+00\n",
            "Epoch 4/20\n",
            "10/10 [==============================] - 0s 5ms/step - loss: 2.9102 - accuracy: 0.8280 - auc: 0.5000 - precision: 0.0000e+00 - recall: 0.0000e+00 - val_loss: 2.2200 - val_accuracy: 0.8413 - val_auc: 0.5000 - val_precision: 0.0000e+00 - val_recall: 0.0000e+00\n",
            "Epoch 5/20\n",
            "10/10 [==============================] - 0s 6ms/step - loss: 2.8640 - accuracy: 0.8280 - auc: 0.5000 - precision: 0.0000e+00 - recall: 0.0000e+00 - val_loss: 2.1828 - val_accuracy: 0.8413 - val_auc: 0.5000 - val_precision: 0.0000e+00 - val_recall: 0.0000e+00\n",
            "Epoch 6/20\n",
            "10/10 [==============================] - 0s 6ms/step - loss: 2.8171 - accuracy: 0.8280 - auc: 0.5000 - precision: 0.0000e+00 - recall: 0.0000e+00 - val_loss: 2.1466 - val_accuracy: 0.8413 - val_auc: 0.5000 - val_precision: 0.0000e+00 - val_recall: 0.0000e+00\n",
            "Epoch 7/20\n",
            "10/10 [==============================] - 0s 6ms/step - loss: 2.7681 - accuracy: 0.8280 - auc: 0.5000 - precision: 0.0000e+00 - recall: 0.0000e+00 - val_loss: 2.1100 - val_accuracy: 0.8413 - val_auc: 0.5000 - val_precision: 0.0000e+00 - val_recall: 0.0000e+00\n",
            "Epoch 8/20\n",
            "10/10 [==============================] - 0s 4ms/step - loss: 2.7213 - accuracy: 0.8280 - auc: 0.5000 - precision: 0.0000e+00 - recall: 0.0000e+00 - val_loss: 2.0741 - val_accuracy: 0.8413 - val_auc: 0.5000 - val_precision: 0.0000e+00 - val_recall: 0.0000e+00\n",
            "Epoch 9/20\n",
            "10/10 [==============================] - 0s 5ms/step - loss: 2.6723 - accuracy: 0.8280 - auc: 0.5000 - precision: 0.0000e+00 - recall: 0.0000e+00 - val_loss: 2.0400 - val_accuracy: 0.8413 - val_auc: 0.5000 - val_precision: 0.0000e+00 - val_recall: 0.0000e+00\n",
            "Epoch 10/20\n",
            "10/10 [==============================] - 0s 4ms/step - loss: 2.6295 - accuracy: 0.8280 - auc: 0.5000 - precision: 0.0000e+00 - recall: 0.0000e+00 - val_loss: 2.0026 - val_accuracy: 0.8413 - val_auc: 0.5000 - val_precision: 0.0000e+00 - val_recall: 0.0000e+00\n",
            "Epoch 11/20\n",
            "10/10 [==============================] - 0s 4ms/step - loss: 2.5805 - accuracy: 0.8280 - auc: 0.5000 - precision: 0.0000e+00 - recall: 0.0000e+00 - val_loss: 1.9632 - val_accuracy: 0.8413 - val_auc: 0.5000 - val_precision: 0.0000e+00 - val_recall: 0.0000e+00\n",
            "Epoch 12/20\n",
            "10/10 [==============================] - 0s 4ms/step - loss: 2.5288 - accuracy: 0.8280 - auc: 0.5000 - precision: 0.0000e+00 - recall: 0.0000e+00 - val_loss: 1.9271 - val_accuracy: 0.8413 - val_auc: 0.5000 - val_precision: 0.0000e+00 - val_recall: 0.0000e+00\n",
            "Epoch 13/20\n",
            "10/10 [==============================] - 0s 4ms/step - loss: 2.4832 - accuracy: 0.8280 - auc: 0.5000 - precision: 0.0000e+00 - recall: 0.0000e+00 - val_loss: 1.8881 - val_accuracy: 0.8413 - val_auc: 0.5000 - val_precision: 0.0000e+00 - val_recall: 0.0000e+00\n",
            "Epoch 14/20\n",
            "10/10 [==============================] - 0s 4ms/step - loss: 2.4362 - accuracy: 0.8280 - auc: 0.5000 - precision: 0.0000e+00 - recall: 0.0000e+00 - val_loss: 1.8503 - val_accuracy: 0.8413 - val_auc: 0.5000 - val_precision: 0.0000e+00 - val_recall: 0.0000e+00\n",
            "Epoch 15/20\n",
            "10/10 [==============================] - 0s 5ms/step - loss: 2.3855 - accuracy: 0.8280 - auc: 0.5000 - precision: 0.0000e+00 - recall: 0.0000e+00 - val_loss: 1.8154 - val_accuracy: 0.8413 - val_auc: 0.5000 - val_precision: 0.0000e+00 - val_recall: 0.0000e+00\n",
            "Epoch 16/20\n",
            "10/10 [==============================] - 0s 6ms/step - loss: 2.3377 - accuracy: 0.8280 - auc: 0.5000 - precision: 0.0000e+00 - recall: 0.0000e+00 - val_loss: 1.7819 - val_accuracy: 0.8413 - val_auc: 0.5000 - val_precision: 0.0000e+00 - val_recall: 0.0000e+00\n",
            "Epoch 17/20\n",
            "10/10 [==============================] - 0s 5ms/step - loss: 2.2930 - accuracy: 0.8280 - auc: 0.5000 - precision: 0.0000e+00 - recall: 0.0000e+00 - val_loss: 1.7470 - val_accuracy: 0.8413 - val_auc: 0.5000 - val_precision: 0.0000e+00 - val_recall: 0.0000e+00\n",
            "Epoch 18/20\n",
            "10/10 [==============================] - 0s 6ms/step - loss: 2.2448 - accuracy: 0.8280 - auc: 0.5000 - precision: 0.0000e+00 - recall: 0.0000e+00 - val_loss: 1.7128 - val_accuracy: 0.8413 - val_auc: 0.5000 - val_precision: 0.0000e+00 - val_recall: 0.0000e+00\n",
            "Epoch 19/20\n",
            "10/10 [==============================] - 0s 4ms/step - loss: 2.1974 - accuracy: 0.8280 - auc: 0.5000 - precision: 0.0000e+00 - recall: 0.0000e+00 - val_loss: 1.6747 - val_accuracy: 0.8413 - val_auc: 0.5000 - val_precision: 0.0000e+00 - val_recall: 0.0000e+00\n",
            "Epoch 20/20\n",
            "10/10 [==============================] - 0s 6ms/step - loss: 2.1508 - accuracy: 0.8280 - auc: 0.5000 - precision: 0.0000e+00 - recall: 0.0000e+00 - val_loss: 1.6370 - val_accuracy: 0.8413 - val_auc: 0.5000 - val_precision: 0.0000e+00 - val_recall: 0.0000e+00\n"
          ],
          "name": "stdout"
        },
        {
          "output_type": "execute_result",
          "data": {
            "text/plain": [
              "<tensorflow.python.keras.callbacks.History at 0x7f529eb5d510>"
            ]
          },
          "metadata": {
            "tags": []
          },
          "execution_count": 11
        }
      ]
    },
    {
      "cell_type": "code",
      "metadata": {
        "id": "w3zqJ77WIrBG",
        "colab": {
          "base_uri": "https://localhost:8080/"
        },
        "outputId": "a4ea6495-0017-4019-92ab-0ff70b461e63"
      },
      "source": [
        "##8-1-2 計算accuracy...\n",
        "score1=model1.evaluate(x_test,y_test)\n",
        "print('{}-->{}'.format(model1.metrics_names[0],score1[0]))\n",
        "print('{}-->{}'.format(model1.metrics_names[1],score1[1]))\n",
        "print('{}-->{}'.format(model1.metrics_names[2],score1[2]))\n",
        "print('{}-->{}'.format(model1.metrics_names[3],score1[3]))\n",
        "print('{}-->{}'.format(model1.metrics_names[4],score1[4]))\n",
        "\n",
        "print('='*30)\n",
        "from sklearn.metrics import roc_auc_score\n",
        "print('AUC for testing set:')\n",
        "predicted_prob=model1.predict(x_test)\n",
        "roc_auc_score(y_test,predicted_prob)"
      ],
      "execution_count": 12,
      "outputs": [
        {
          "output_type": "stream",
          "text": [
            "1/1 [==============================] - 0s 428ms/step - loss: 3.2255 - accuracy: 0.7188 - auc: 0.5000 - precision: 0.0000e+00 - recall: 0.0000e+00\n",
            "loss-->3.225485324859619\n",
            "accuracy-->0.71875\n",
            "auc-->0.5\n",
            "precision-->0.0\n",
            "recall-->0.0\n",
            "==============================\n",
            "AUC for testing set:\n"
          ],
          "name": "stdout"
        },
        {
          "output_type": "execute_result",
          "data": {
            "text/plain": [
              "0.32367149758454106"
            ]
          },
          "metadata": {
            "tags": []
          },
          "execution_count": 12
        }
      ]
    },
    {
      "cell_type": "code",
      "metadata": {
        "id": "5g-bXTS8feo3",
        "colab": {
          "base_uri": "https://localhost:8080/",
          "height": 295
        },
        "outputId": "b67bfafa-8a90-43aa-d580-b0200ffeb75e"
      },
      "source": [
        "##8-1-3 繪製ROC曲線圖...\n",
        "from sklearn.metrics import roc_auc_score, roc_curve\n",
        "from matplotlib import pyplot as plt\n",
        "AUC面積=roc_auc_score(y_test, predicted_prob) ##0.6973180076628352\n",
        "fpr,tpr,thresholds=roc_curve(y_test,predicted_prob)\n",
        "plt.figure()\n",
        "plt.plot(fpr,tpr,label='Logistic regression (area = %0.3f)'%AUC面積)\n",
        "plt.plot([0,1],[0,1],'r--')\n",
        "plt.xlim([0.0,1.0])\n",
        "plt.ylim([0.0,1.05])\n",
        "plt.xlabel('False Positive Rate')\n",
        "plt.ylabel('True Positive Rate')\n",
        "plt.title('Receiver operating characteristic ROC')\n",
        "plt.legend(loc=\"lower right\")\n",
        "plt.show()"
      ],
      "execution_count": 13,
      "outputs": [
        {
          "output_type": "display_data",
          "data": {
            "image/png": "[encoded data removed]",
            "text/plain": [
              "<Figure size 432x288 with 1 Axes>"
            ]
          },
          "metadata": {
            "tags": [],
            "needs_background": "light"
          }
        }
      ]
    },
    {
      "cell_type": "code",
      "metadata": {
        "id": "eWcEQkLEkwqg"
      },
      "source": [
        "##8-2-1使用pytorch\n",
        "import torch \n",
        "x_train_=torch.from_numpy(x_train.to_numpy().astype(np.float32))\n",
        "x_vald_=torch.from_numpy(x_vald.to_numpy().astype(np.float32))\n",
        "x_test_=torch.from_numpy(x_test.to_numpy().astype(np.float32))\n",
        "y_train_=torch.from_numpy(y_train.to_numpy().astype(np.float32))\n",
        "y_vald_=torch.from_numpy(y_vald.to_numpy().astype(np.float32))\n",
        "y_test_=torch.from_numpy(y_test.to_numpy().astype(np.float32))"
      ],
      "execution_count": 14,
      "outputs": []
    },
    {
      "cell_type": "code",
      "metadata": {
        "id": "xeGXSUOKls-U"
      },
      "source": [
        "##8-2-2 建立 class\n",
        "import torch\n",
        "class Logistic_Reg_model(torch.nn.Module):\n",
        "  def __init__(self,no_input_features):\n",
        "    super(Logistic_Reg_model,self).__init__()\n",
        "    self.layer1=torch.nn.Linear(no_input_features,4)\n",
        "    self.layer2=torch.nn.Linear(4,1)\n",
        "  def forward(self,x):\n",
        "    y_predicted=self.layer1(x)\n",
        "    y_predicted=torch.sigmoid(self.layer2(y_predicted))\n",
        "    return y_predicted"
      ],
      "execution_count": 15,
      "outputs": []
    },
    {
      "cell_type": "code",
      "metadata": {
        "id": "OIlE_e6-lx62",
        "colab": {
          "base_uri": "https://localhost:8080/"
        },
        "outputId": "8a900e9b-0d3b-4327-a7bc-75af68d44b10"
      },
      "source": [
        "##8-2-3 訓練model\n",
        "import torch\n",
        "樣本數,變項數=x_train_.shape\n",
        "model2=Logistic_Reg_model(變項數)\n",
        "criterion=torch.nn.BCELoss()\n",
        "optimizer=torch.optim.SGD(model2.parameters(),lr=0.01)\n",
        "number_of_epochs=20\n",
        "for epoch in range(number_of_epochs):\n",
        "  y_prediction=model2(x_train_)\n",
        "  loss=criterion(y_prediction,y_train_)\n",
        "  loss.backward()\n",
        "  optimizer.step()\n",
        "  optimizer.zero_grad()\n",
        "  if (epoch+1)%10==0:\n",
        "    print('epoch:',epoch+1,', loss=',loss.item())"
      ],
      "execution_count": 16,
      "outputs": [
        {
          "output_type": "stream",
          "text": [
            "epoch: 10 , loss= 0.4095889627933502\n",
            "epoch: 20 , loss= 0.4068102538585663\n"
          ],
          "name": "stdout"
        }
      ]
    },
    {
      "cell_type": "code",
      "metadata": {
        "id": "qRNV9W0sSKh1",
        "colab": {
          "base_uri": "https://localhost:8080/"
        },
        "outputId": "bffc4ee3-7961-42dc-9476-1bfe88e4e0a5"
      },
      "source": [
        "##8-2-4測試testing group\n",
        "import torch\n",
        "with torch.no_grad():\n",
        "  y_pred=model2(x_test_)\n",
        "  y_pred_class=y_pred.round()\n",
        "  accuracy=float(y_pred_class.eq(y_test_).sum())/float(y_test_.shape[0])\n",
        "print(accuracy)\n",
        "print(y_pred)"
      ],
      "execution_count": 17,
      "outputs": [
        {
          "output_type": "stream",
          "text": [
            "0.78125\n",
            "tensor([[0.0555],\n",
            "        [0.3697],\n",
            "        [0.0597],\n",
            "        [0.2341],\n",
            "        [0.1062],\n",
            "        [0.0210],\n",
            "        [0.2195],\n",
            "        [0.3458],\n",
            "        [0.1732],\n",
            "        [0.3246],\n",
            "        [0.0407],\n",
            "        [0.2962],\n",
            "        [0.0533],\n",
            "        [0.2163],\n",
            "        [0.2019],\n",
            "        [0.0698],\n",
            "        [0.0268],\n",
            "        [0.0956],\n",
            "        [0.1154],\n",
            "        [0.2350],\n",
            "        [0.0705],\n",
            "        [0.0822],\n",
            "        [0.0785],\n",
            "        [0.4088],\n",
            "        [0.0555],\n",
            "        [0.1259],\n",
            "        [0.0837],\n",
            "        [0.3929],\n",
            "        [0.0255],\n",
            "        [0.6337],\n",
            "        [0.1050],\n",
            "        [0.6377]])\n"
          ],
          "name": "stdout"
        }
      ]
    },
    {
      "cell_type": "code",
      "metadata": {
        "id": "Onibws0jzkQ-",
        "colab": {
          "base_uri": "https://localhost:8080/",
          "height": 295
        },
        "outputId": "0b729b5c-2dff-45c7-d6fa-aa85799296d9"
      },
      "source": [
        "##8-2-5 計算AUC\n",
        "from sklearn.metrics import roc_auc_score, roc_curve\n",
        "from matplotlib import pyplot as plt\n",
        "AUC面積=roc_auc_score(y_test, y_pred) ##0.609\n",
        "fpr,tpr,thresholds=roc_curve(y_test,y_pred)\n",
        "plt.figure()\n",
        "plt.plot(fpr,tpr,label='Logistic regression (area = %0.3f)'%AUC面積)\n",
        "plt.plot([0,1],[0,1],'r--')\n",
        "plt.xlim([0.0,1.0])\n",
        "plt.ylim([0.0,1.05])\n",
        "plt.xlabel('False Positive Rate')\n",
        "plt.ylabel('True Positive Rate')\n",
        "plt.title('Receiver operating characteristic ROC')\n",
        "plt.legend(loc=\"lower right\")\n",
        "plt.show()"
      ],
      "execution_count": 18,
      "outputs": [
        {
          "output_type": "display_data",
          "data": {
            "image/png": "[encoded data removed]",
            "text/plain": [
              "<Figure size 432x288 with 1 Axes>"
            ]
          },
          "metadata": {
            "tags": [],
            "needs_background": "light"
          }
        }
      ]
    },
    {
      "cell_type": "code",
      "metadata": {
        "id": "oeZJVm7jWGR5",
        "colab": {
          "base_uri": "https://localhost:8080/"
        },
        "outputId": "6dbeff9b-b633-46fe-f61d-932bab558643"
      },
      "source": [
        "##8-3-1 Deep Learning Model...\n",
        "import tensorflow as tf\n",
        "import numpy as np\n",
        "from tensorflow import keras\n",
        "from tensorflow.keras.layers import Dense \n",
        "model3=keras.Sequential()\n",
        "model3.add(Dense(8,input_dim=4,activation='relu'))\n",
        "model3.add(Dense(5,activation='relu'))\n",
        "model3.add(Dense(1,activation='sigmoid'))\n",
        "model3.summary()"
      ],
      "execution_count": 19,
      "outputs": [
        {
          "output_type": "stream",
          "text": [
            "Model: \"sequential_1\"\n",
            "_________________________________________________________________\n",
            "Layer (type)                 Output Shape              Param #   \n",
            "=================================================================\n",
            "dense_1 (Dense)              (None, 8)                 40        \n",
            "_________________________________________________________________\n",
            "dense_2 (Dense)              (None, 5)                 45        \n",
            "_________________________________________________________________\n",
            "dense_3 (Dense)              (None, 1)                 6         \n",
            "=================================================================\n",
            "Total params: 91\n",
            "Trainable params: 91\n",
            "Non-trainable params: 0\n",
            "_________________________________________________________________\n"
          ],
          "name": "stdout"
        }
      ]
    },
    {
      "cell_type": "code",
      "metadata": {
        "id": "K9GPIOINXjCO",
        "colab": {
          "base_uri": "https://localhost:8080/"
        },
        "outputId": "a67a1065-5314-4593-8ccd-340a8d7f27d4"
      },
      "source": [
        "##8-3-2 Training model..\n",
        "from tensorflow.keras.metrics import AUC, Precision, Recall\n",
        "model3.compile(loss='binary_crossentropy',optimizer='adam',metrics=['accuracy',AUC(),Precision(),Recall()])\n",
        "model3.fit(x_train, y_train,epochs=200, batch_size=10,validation_data=(x_vald,y_vald))"
      ],
      "execution_count": 20,
      "outputs": [
        {
          "output_type": "stream",
          "text": [
            "Epoch 1/200\n",
            "10/10 [==============================] - 2s 57ms/step - loss: 0.6201 - accuracy: 0.8280 - auc_1: 0.2946 - precision_1: 0.0000e+00 - recall_1: 0.0000e+00 - val_loss: 0.5102 - val_accuracy: 0.8413 - val_auc_1: 0.3745 - val_precision_1: 0.0000e+00 - val_recall_1: 0.0000e+00\n",
            "Epoch 2/200\n",
            "10/10 [==============================] - 0s 6ms/step - loss: 0.5824 - accuracy: 0.8280 - auc_1: 0.2825 - precision_1: 0.0000e+00 - recall_1: 0.0000e+00 - val_loss: 0.4965 - val_accuracy: 0.8413 - val_auc_1: 0.3736 - val_precision_1: 0.0000e+00 - val_recall_1: 0.0000e+00\n",
            "Epoch 3/200\n",
            "10/10 [==============================] - 0s 4ms/step - loss: 0.5598 - accuracy: 0.8280 - auc_1: 0.2719 - precision_1: 0.0000e+00 - recall_1: 0.0000e+00 - val_loss: 0.4904 - val_accuracy: 0.8413 - val_auc_1: 0.3783 - val_precision_1: 0.0000e+00 - val_recall_1: 0.0000e+00\n",
            "Epoch 4/200\n",
            "10/10 [==============================] - 0s 6ms/step - loss: 0.5415 - accuracy: 0.8280 - auc_1: 0.2898 - precision_1: 0.0000e+00 - recall_1: 0.0000e+00 - val_loss: 0.4874 - val_accuracy: 0.8413 - val_auc_1: 0.3943 - val_precision_1: 0.0000e+00 - val_recall_1: 0.0000e+00\n",
            "Epoch 5/200\n",
            "10/10 [==============================] - 0s 5ms/step - loss: 0.5331 - accuracy: 0.8280 - auc_1: 0.2950 - precision_1: 0.0000e+00 - recall_1: 0.0000e+00 - val_loss: 0.4865 - val_accuracy: 0.8413 - val_auc_1: 0.4057 - val_precision_1: 0.0000e+00 - val_recall_1: 0.0000e+00\n",
            "Epoch 6/200\n",
            "10/10 [==============================] - 0s 5ms/step - loss: 0.5274 - accuracy: 0.8280 - auc_1: 0.2963 - precision_1: 0.0000e+00 - recall_1: 0.0000e+00 - val_loss: 0.4833 - val_accuracy: 0.8413 - val_auc_1: 0.4123 - val_precision_1: 0.0000e+00 - val_recall_1: 0.0000e+00\n",
            "Epoch 7/200\n",
            "10/10 [==============================] - 0s 5ms/step - loss: 0.5228 - accuracy: 0.8280 - auc_1: 0.2950 - precision_1: 0.0000e+00 - recall_1: 0.0000e+00 - val_loss: 0.4807 - val_accuracy: 0.8413 - val_auc_1: 0.4189 - val_precision_1: 0.0000e+00 - val_recall_1: 0.0000e+00\n",
            "Epoch 8/200\n",
            "10/10 [==============================] - 0s 5ms/step - loss: 0.5190 - accuracy: 0.8280 - auc_1: 0.3007 - precision_1: 0.0000e+00 - recall_1: 0.0000e+00 - val_loss: 0.4783 - val_accuracy: 0.8413 - val_auc_1: 0.4377 - val_precision_1: 0.0000e+00 - val_recall_1: 0.0000e+00\n",
            "Epoch 9/200\n",
            "10/10 [==============================] - 0s 6ms/step - loss: 0.5162 - accuracy: 0.8280 - auc_1: 0.3044 - precision_1: 0.0000e+00 - recall_1: 0.0000e+00 - val_loss: 0.4745 - val_accuracy: 0.8413 - val_auc_1: 0.4462 - val_precision_1: 0.0000e+00 - val_recall_1: 0.0000e+00\n",
            "Epoch 10/200\n",
            "10/10 [==============================] - 0s 5ms/step - loss: 0.5134 - accuracy: 0.8280 - auc_1: 0.3162 - precision_1: 0.0000e+00 - recall_1: 0.0000e+00 - val_loss: 0.4742 - val_accuracy: 0.8413 - val_auc_1: 0.4613 - val_precision_1: 0.0000e+00 - val_recall_1: 0.0000e+00\n",
            "Epoch 11/200\n",
            "10/10 [==============================] - 0s 6ms/step - loss: 0.5102 - accuracy: 0.8280 - auc_1: 0.3235 - precision_1: 0.0000e+00 - recall_1: 0.0000e+00 - val_loss: 0.4685 - val_accuracy: 0.8413 - val_auc_1: 0.4811 - val_precision_1: 0.0000e+00 - val_recall_1: 0.0000e+00\n",
            "Epoch 12/200\n",
            "10/10 [==============================] - 0s 5ms/step - loss: 0.5068 - accuracy: 0.8280 - auc_1: 0.3373 - precision_1: 0.0000e+00 - recall_1: 0.0000e+00 - val_loss: 0.4641 - val_accuracy: 0.8413 - val_auc_1: 0.4991 - val_precision_1: 0.0000e+00 - val_recall_1: 0.0000e+00\n",
            "Epoch 13/200\n",
            "10/10 [==============================] - 0s 8ms/step - loss: 0.5038 - accuracy: 0.8280 - auc_1: 0.3425 - precision_1: 0.0000e+00 - recall_1: 0.0000e+00 - val_loss: 0.4606 - val_accuracy: 0.8413 - val_auc_1: 0.5104 - val_precision_1: 0.0000e+00 - val_recall_1: 0.0000e+00\n",
            "Epoch 14/200\n",
            "10/10 [==============================] - 0s 4ms/step - loss: 0.5023 - accuracy: 0.8280 - auc_1: 0.3543 - precision_1: 0.0000e+00 - recall_1: 0.0000e+00 - val_loss: 0.4598 - val_accuracy: 0.8413 - val_auc_1: 0.5160 - val_precision_1: 0.0000e+00 - val_recall_1: 0.0000e+00\n",
            "Epoch 15/200\n",
            "10/10 [==============================] - 0s 5ms/step - loss: 0.4977 - accuracy: 0.8280 - auc_1: 0.3718 - precision_1: 0.0000e+00 - recall_1: 0.0000e+00 - val_loss: 0.4533 - val_accuracy: 0.8413 - val_auc_1: 0.5321 - val_precision_1: 0.0000e+00 - val_recall_1: 0.0000e+00\n",
            "Epoch 16/200\n",
            "10/10 [==============================] - 0s 6ms/step - loss: 0.4953 - accuracy: 0.8280 - auc_1: 0.3782 - precision_1: 0.0000e+00 - recall_1: 0.0000e+00 - val_loss: 0.4454 - val_accuracy: 0.8413 - val_auc_1: 0.5472 - val_precision_1: 0.0000e+00 - val_recall_1: 0.0000e+00\n",
            "Epoch 17/200\n",
            "10/10 [==============================] - 0s 5ms/step - loss: 0.4924 - accuracy: 0.8280 - auc_1: 0.3941 - precision_1: 0.0000e+00 - recall_1: 0.0000e+00 - val_loss: 0.4417 - val_accuracy: 0.8413 - val_auc_1: 0.5538 - val_precision_1: 0.0000e+00 - val_recall_1: 0.0000e+00\n",
            "Epoch 18/200\n",
            "10/10 [==============================] - 0s 7ms/step - loss: 0.4902 - accuracy: 0.8280 - auc_1: 0.4030 - precision_1: 0.0000e+00 - recall_1: 0.0000e+00 - val_loss: 0.4375 - val_accuracy: 0.8413 - val_auc_1: 0.5604 - val_precision_1: 0.0000e+00 - val_recall_1: 0.0000e+00\n",
            "Epoch 19/200\n",
            "10/10 [==============================] - 0s 5ms/step - loss: 0.4877 - accuracy: 0.8280 - auc_1: 0.4160 - precision_1: 0.0000e+00 - recall_1: 0.0000e+00 - val_loss: 0.4342 - val_accuracy: 0.8413 - val_auc_1: 0.5708 - val_precision_1: 0.0000e+00 - val_recall_1: 0.0000e+00\n",
            "Epoch 20/200\n",
            "10/10 [==============================] - 0s 7ms/step - loss: 0.4852 - accuracy: 0.8280 - auc_1: 0.4282 - precision_1: 0.0000e+00 - recall_1: 0.0000e+00 - val_loss: 0.4319 - val_accuracy: 0.8413 - val_auc_1: 0.5868 - val_precision_1: 0.0000e+00 - val_recall_1: 0.0000e+00\n",
            "Epoch 21/200\n",
            "10/10 [==============================] - 0s 6ms/step - loss: 0.4833 - accuracy: 0.8280 - auc_1: 0.4399 - precision_1: 0.0000e+00 - recall_1: 0.0000e+00 - val_loss: 0.4294 - val_accuracy: 0.8413 - val_auc_1: 0.6019 - val_precision_1: 0.0000e+00 - val_recall_1: 0.0000e+00\n",
            "Epoch 22/200\n",
            "10/10 [==============================] - 0s 4ms/step - loss: 0.4816 - accuracy: 0.8280 - auc_1: 0.4464 - precision_1: 0.0000e+00 - recall_1: 0.0000e+00 - val_loss: 0.4283 - val_accuracy: 0.8413 - val_auc_1: 0.6160 - val_precision_1: 0.0000e+00 - val_recall_1: 0.0000e+00\n",
            "Epoch 23/200\n",
            "10/10 [==============================] - 0s 5ms/step - loss: 0.4823 - accuracy: 0.8280 - auc_1: 0.4468 - precision_1: 0.0000e+00 - recall_1: 0.0000e+00 - val_loss: 0.4235 - val_accuracy: 0.8413 - val_auc_1: 0.6264 - val_precision_1: 0.0000e+00 - val_recall_1: 0.0000e+00\n",
            "Epoch 24/200\n",
            "10/10 [==============================] - 0s 6ms/step - loss: 0.4785 - accuracy: 0.8280 - auc_1: 0.4704 - precision_1: 0.0000e+00 - recall_1: 0.0000e+00 - val_loss: 0.4242 - val_accuracy: 0.8413 - val_auc_1: 0.6358 - val_precision_1: 0.0000e+00 - val_recall_1: 0.0000e+00\n",
            "Epoch 25/200\n",
            "10/10 [==============================] - 0s 5ms/step - loss: 0.4762 - accuracy: 0.8280 - auc_1: 0.4854 - precision_1: 0.0000e+00 - recall_1: 0.0000e+00 - val_loss: 0.4247 - val_accuracy: 0.8413 - val_auc_1: 0.6566 - val_precision_1: 0.0000e+00 - val_recall_1: 0.0000e+00\n",
            "Epoch 26/200\n",
            "10/10 [==============================] - 0s 5ms/step - loss: 0.4726 - accuracy: 0.8280 - auc_1: 0.5028 - precision_1: 0.0000e+00 - recall_1: 0.0000e+00 - val_loss: 0.4205 - val_accuracy: 0.8413 - val_auc_1: 0.6623 - val_precision_1: 0.0000e+00 - val_recall_1: 0.0000e+00\n",
            "Epoch 27/200\n",
            "10/10 [==============================] - 0s 6ms/step - loss: 0.4723 - accuracy: 0.8280 - auc_1: 0.5065 - precision_1: 0.0000e+00 - recall_1: 0.0000e+00 - val_loss: 0.4174 - val_accuracy: 0.8413 - val_auc_1: 0.6821 - val_precision_1: 0.0000e+00 - val_recall_1: 0.0000e+00\n",
            "Epoch 28/200\n",
            "10/10 [==============================] - 0s 5ms/step - loss: 0.4692 - accuracy: 0.8280 - auc_1: 0.5252 - precision_1: 0.0000e+00 - recall_1: 0.0000e+00 - val_loss: 0.4192 - val_accuracy: 0.8413 - val_auc_1: 0.6745 - val_precision_1: 0.0000e+00 - val_recall_1: 0.0000e+00\n",
            "Epoch 29/200\n",
            "10/10 [==============================] - 0s 4ms/step - loss: 0.4639 - accuracy: 0.8280 - auc_1: 0.5670 - precision_1: 0.0000e+00 - recall_1: 0.0000e+00 - val_loss: 0.4239 - val_accuracy: 0.8095 - val_auc_1: 0.6717 - val_precision_1: 0.0000e+00 - val_recall_1: 0.0000e+00\n",
            "Epoch 30/200\n",
            "10/10 [==============================] - 0s 4ms/step - loss: 0.4587 - accuracy: 0.8172 - auc_1: 0.6587 - precision_1: 0.0000e+00 - recall_1: 0.0000e+00 - val_loss: 0.4183 - val_accuracy: 0.8095 - val_auc_1: 0.8066 - val_precision_1: 0.0000e+00 - val_recall_1: 0.0000e+00\n",
            "Epoch 31/200\n",
            "10/10 [==============================] - 0s 6ms/step - loss: 0.4368 - accuracy: 0.8280 - auc_1: 0.7102 - precision_1: 0.0000e+00 - recall_1: 0.0000e+00 - val_loss: 0.4044 - val_accuracy: 0.8095 - val_auc_1: 0.7972 - val_precision_1: 0.0000e+00 - val_recall_1: 0.0000e+00\n",
            "Epoch 32/200\n",
            "10/10 [==============================] - 0s 6ms/step - loss: 0.4326 - accuracy: 0.8280 - auc_1: 0.7045 - precision_1: 0.0000e+00 - recall_1: 0.0000e+00 - val_loss: 0.3940 - val_accuracy: 0.8095 - val_auc_1: 0.8198 - val_precision_1: 0.0000e+00 - val_recall_1: 0.0000e+00\n",
            "Epoch 33/200\n",
            "10/10 [==============================] - 0s 5ms/step - loss: 0.4259 - accuracy: 0.8280 - auc_1: 0.7155 - precision_1: 0.0000e+00 - recall_1: 0.0000e+00 - val_loss: 0.3845 - val_accuracy: 0.8254 - val_auc_1: 0.8311 - val_precision_1: 0.0000e+00 - val_recall_1: 0.0000e+00\n",
            "Epoch 34/200\n",
            "10/10 [==============================] - 0s 7ms/step - loss: 0.4207 - accuracy: 0.8280 - auc_1: 0.7309 - precision_1: 0.0000e+00 - recall_1: 0.0000e+00 - val_loss: 0.3761 - val_accuracy: 0.8095 - val_auc_1: 0.8321 - val_precision_1: 0.0000e+00 - val_recall_1: 0.0000e+00\n",
            "Epoch 35/200\n",
            "10/10 [==============================] - 0s 6ms/step - loss: 0.4147 - accuracy: 0.8172 - auc_1: 0.7524 - precision_1: 0.0000e+00 - recall_1: 0.0000e+00 - val_loss: 0.3680 - val_accuracy: 0.8254 - val_auc_1: 0.8349 - val_precision_1: 0.0000e+00 - val_recall_1: 0.0000e+00\n",
            "Epoch 36/200\n",
            "10/10 [==============================] - 0s 5ms/step - loss: 0.4087 - accuracy: 0.8280 - auc_1: 0.7459 - precision_1: 0.0000e+00 - recall_1: 0.0000e+00 - val_loss: 0.3636 - val_accuracy: 0.8413 - val_auc_1: 0.8349 - val_precision_1: 0.0000e+00 - val_recall_1: 0.0000e+00\n",
            "Epoch 37/200\n",
            "10/10 [==============================] - 0s 6ms/step - loss: 0.4093 - accuracy: 0.8280 - auc_1: 0.7476 - precision_1: 0.0000e+00 - recall_1: 0.0000e+00 - val_loss: 0.3571 - val_accuracy: 0.8095 - val_auc_1: 0.8283 - val_precision_1: 0.0000e+00 - val_recall_1: 0.0000e+00\n",
            "Epoch 38/200\n",
            "10/10 [==============================] - 0s 6ms/step - loss: 0.4061 - accuracy: 0.8280 - auc_1: 0.7614 - precision_1: 0.0000e+00 - recall_1: 0.0000e+00 - val_loss: 0.3558 - val_accuracy: 0.7619 - val_auc_1: 0.8283 - val_precision_1: 0.0000e+00 - val_recall_1: 0.0000e+00\n",
            "Epoch 39/200\n",
            "10/10 [==============================] - 0s 7ms/step - loss: 0.3949 - accuracy: 0.8280 - auc_1: 0.7865 - precision_1: 0.5000 - recall_1: 0.0625 - val_loss: 0.3507 - val_accuracy: 0.8095 - val_auc_1: 0.8311 - val_precision_1: 0.0000e+00 - val_recall_1: 0.0000e+00\n",
            "Epoch 40/200\n",
            "10/10 [==============================] - 0s 6ms/step - loss: 0.3994 - accuracy: 0.8172 - auc_1: 0.7597 - precision_1: 0.0000e+00 - recall_1: 0.0000e+00 - val_loss: 0.3493 - val_accuracy: 0.8254 - val_auc_1: 0.8415 - val_precision_1: 0.0000e+00 - val_recall_1: 0.0000e+00\n",
            "Epoch 41/200\n",
            "10/10 [==============================] - 0s 4ms/step - loss: 0.3978 - accuracy: 0.8172 - auc_1: 0.7626 - precision_1: 0.0000e+00 - recall_1: 0.0000e+00 - val_loss: 0.3459 - val_accuracy: 0.8254 - val_auc_1: 0.8330 - val_precision_1: 0.0000e+00 - val_recall_1: 0.0000e+00\n",
            "Epoch 42/200\n",
            "10/10 [==============================] - 0s 5ms/step - loss: 0.3973 - accuracy: 0.8172 - auc_1: 0.7723 - precision_1: 0.0000e+00 - recall_1: 0.0000e+00 - val_loss: 0.3453 - val_accuracy: 0.7937 - val_auc_1: 0.8396 - val_precision_1: 0.0000e+00 - val_recall_1: 0.0000e+00\n",
            "Epoch 43/200\n",
            "10/10 [==============================] - 0s 5ms/step - loss: 0.3916 - accuracy: 0.8387 - auc_1: 0.7902 - precision_1: 0.6667 - recall_1: 0.1250 - val_loss: 0.3433 - val_accuracy: 0.7937 - val_auc_1: 0.8387 - val_precision_1: 0.0000e+00 - val_recall_1: 0.0000e+00\n",
            "Epoch 44/200\n",
            "10/10 [==============================] - 0s 5ms/step - loss: 0.3888 - accuracy: 0.8280 - auc_1: 0.7804 - precision_1: 0.5000 - recall_1: 0.0625 - val_loss: 0.3401 - val_accuracy: 0.7937 - val_auc_1: 0.8396 - val_precision_1: 0.0000e+00 - val_recall_1: 0.0000e+00\n",
            "Epoch 45/200\n",
            "10/10 [==============================] - 0s 5ms/step - loss: 0.3931 - accuracy: 0.8172 - auc_1: 0.7752 - precision_1: 0.0000e+00 - recall_1: 0.0000e+00 - val_loss: 0.3394 - val_accuracy: 0.7937 - val_auc_1: 0.8396 - val_precision_1: 0.0000e+00 - val_recall_1: 0.0000e+00\n",
            "Epoch 46/200\n",
            "10/10 [==============================] - 0s 4ms/step - loss: 0.3874 - accuracy: 0.8280 - auc_1: 0.7869 - precision_1: 0.5000 - recall_1: 0.0625 - val_loss: 0.3393 - val_accuracy: 0.7937 - val_auc_1: 0.8443 - val_precision_1: 0.0000e+00 - val_recall_1: 0.0000e+00\n",
            "Epoch 47/200\n",
            "10/10 [==============================] - 0s 5ms/step - loss: 0.3865 - accuracy: 0.8387 - auc_1: 0.7853 - precision_1: 0.6667 - recall_1: 0.1250 - val_loss: 0.3377 - val_accuracy: 0.7937 - val_auc_1: 0.8434 - val_precision_1: 0.0000e+00 - val_recall_1: 0.0000e+00\n",
            "Epoch 48/200\n",
            "10/10 [==============================] - 0s 5ms/step - loss: 0.3897 - accuracy: 0.8387 - auc_1: 0.7841 - precision_1: 0.6000 - recall_1: 0.1875 - val_loss: 0.3400 - val_accuracy: 0.7937 - val_auc_1: 0.8491 - val_precision_1: 0.2857 - val_recall_1: 0.2000\n",
            "Epoch 49/200\n",
            "10/10 [==============================] - 0s 6ms/step - loss: 0.3886 - accuracy: 0.8387 - auc_1: 0.7845 - precision_1: 0.6000 - recall_1: 0.1875 - val_loss: 0.3395 - val_accuracy: 0.7937 - val_auc_1: 0.8491 - val_precision_1: 0.2857 - val_recall_1: 0.2000\n",
            "Epoch 50/200\n",
            "10/10 [==============================] - 0s 5ms/step - loss: 0.3907 - accuracy: 0.8495 - auc_1: 0.7792 - precision_1: 0.7500 - recall_1: 0.1875 - val_loss: 0.3368 - val_accuracy: 0.8095 - val_auc_1: 0.8528 - val_precision_1: 0.2500 - val_recall_1: 0.1000\n",
            "Epoch 51/200\n",
            "10/10 [==============================] - 0s 5ms/step - loss: 0.3833 - accuracy: 0.8495 - auc_1: 0.7873 - precision_1: 0.7500 - recall_1: 0.1875 - val_loss: 0.3371 - val_accuracy: 0.8095 - val_auc_1: 0.8528 - val_precision_1: 0.2500 - val_recall_1: 0.1000\n",
            "Epoch 52/200\n",
            "10/10 [==============================] - 0s 6ms/step - loss: 0.3817 - accuracy: 0.8495 - auc_1: 0.7902 - precision_1: 0.7500 - recall_1: 0.1875 - val_loss: 0.3344 - val_accuracy: 0.8095 - val_auc_1: 0.8547 - val_precision_1: 0.0000e+00 - val_recall_1: 0.0000e+00\n",
            "Epoch 53/200\n",
            "10/10 [==============================] - 0s 7ms/step - loss: 0.3851 - accuracy: 0.8172 - auc_1: 0.7825 - precision_1: 0.0000e+00 - recall_1: 0.0000e+00 - val_loss: 0.3347 - val_accuracy: 0.8095 - val_auc_1: 0.8585 - val_precision_1: 0.0000e+00 - val_recall_1: 0.0000e+00\n",
            "Epoch 54/200\n",
            "10/10 [==============================] - 0s 7ms/step - loss: 0.3840 - accuracy: 0.8280 - auc_1: 0.7821 - precision_1: 0.5000 - recall_1: 0.1250 - val_loss: 0.3398 - val_accuracy: 0.8254 - val_auc_1: 0.8604 - val_precision_1: 0.4444 - val_recall_1: 0.4000\n",
            "Epoch 55/200\n",
            "10/10 [==============================] - 0s 6ms/step - loss: 0.3810 - accuracy: 0.8495 - auc_1: 0.7934 - precision_1: 0.6667 - recall_1: 0.2500 - val_loss: 0.3351 - val_accuracy: 0.8254 - val_auc_1: 0.8594 - val_precision_1: 0.4000 - val_recall_1: 0.2000\n",
            "Epoch 56/200\n",
            "10/10 [==============================] - 0s 5ms/step - loss: 0.3814 - accuracy: 0.8495 - auc_1: 0.7930 - precision_1: 0.7500 - recall_1: 0.1875 - val_loss: 0.3330 - val_accuracy: 0.8254 - val_auc_1: 0.8613 - val_precision_1: 0.3333 - val_recall_1: 0.1000\n",
            "Epoch 57/200\n",
            "10/10 [==============================] - 0s 7ms/step - loss: 0.3828 - accuracy: 0.8495 - auc_1: 0.7918 - precision_1: 0.7500 - recall_1: 0.1875 - val_loss: 0.3341 - val_accuracy: 0.8254 - val_auc_1: 0.8594 - val_precision_1: 0.4000 - val_recall_1: 0.2000\n",
            "Epoch 58/200\n",
            "10/10 [==============================] - 0s 6ms/step - loss: 0.3791 - accuracy: 0.8495 - auc_1: 0.7934 - precision_1: 0.7500 - recall_1: 0.1875 - val_loss: 0.3331 - val_accuracy: 0.8254 - val_auc_1: 0.8604 - val_precision_1: 0.3333 - val_recall_1: 0.1000\n",
            "Epoch 59/200\n",
            "10/10 [==============================] - 0s 5ms/step - loss: 0.3813 - accuracy: 0.8495 - auc_1: 0.7829 - precision_1: 0.7500 - recall_1: 0.1875 - val_loss: 0.3344 - val_accuracy: 0.8095 - val_auc_1: 0.8642 - val_precision_1: 0.3333 - val_recall_1: 0.2000\n",
            "Epoch 60/200\n",
            "10/10 [==============================] - 0s 7ms/step - loss: 0.3754 - accuracy: 0.8495 - auc_1: 0.7979 - precision_1: 0.7500 - recall_1: 0.1875 - val_loss: 0.3329 - val_accuracy: 0.8413 - val_auc_1: 0.8632 - val_precision_1: 0.5000 - val_recall_1: 0.2000\n",
            "Epoch 61/200\n",
            "10/10 [==============================] - 0s 6ms/step - loss: 0.3922 - accuracy: 0.8172 - auc_1: 0.7666 - precision_1: 0.0000e+00 - recall_1: 0.0000e+00 - val_loss: 0.3331 - val_accuracy: 0.8254 - val_auc_1: 0.8708 - val_precision_1: 0.0000e+00 - val_recall_1: 0.0000e+00\n",
            "Epoch 62/200\n",
            "10/10 [==============================] - 0s 5ms/step - loss: 0.3851 - accuracy: 0.8387 - auc_1: 0.7731 - precision_1: 0.6667 - recall_1: 0.1250 - val_loss: 0.3332 - val_accuracy: 0.8571 - val_auc_1: 0.8726 - val_precision_1: 0.5714 - val_recall_1: 0.4000\n",
            "Epoch 63/200\n",
            "10/10 [==============================] - 0s 4ms/step - loss: 0.3740 - accuracy: 0.8495 - auc_1: 0.8011 - precision_1: 0.7500 - recall_1: 0.1875 - val_loss: 0.3319 - val_accuracy: 0.8413 - val_auc_1: 0.8717 - val_precision_1: 0.5000 - val_recall_1: 0.2000\n",
            "Epoch 64/200\n",
            "10/10 [==============================] - 0s 6ms/step - loss: 0.3785 - accuracy: 0.8495 - auc_1: 0.7942 - precision_1: 0.7500 - recall_1: 0.1875 - val_loss: 0.3312 - val_accuracy: 0.8413 - val_auc_1: 0.8717 - val_precision_1: 0.5000 - val_recall_1: 0.2000\n",
            "Epoch 65/200\n",
            "10/10 [==============================] - 0s 5ms/step - loss: 0.3776 - accuracy: 0.8387 - auc_1: 0.7979 - precision_1: 0.6667 - recall_1: 0.1250 - val_loss: 0.3318 - val_accuracy: 0.8413 - val_auc_1: 0.8708 - val_precision_1: 0.5000 - val_recall_1: 0.2000\n",
            "Epoch 66/200\n",
            "10/10 [==============================] - 0s 5ms/step - loss: 0.3738 - accuracy: 0.8495 - auc_1: 0.7987 - precision_1: 0.7500 - recall_1: 0.1875 - val_loss: 0.3323 - val_accuracy: 0.8413 - val_auc_1: 0.8689 - val_precision_1: 0.5000 - val_recall_1: 0.2000\n",
            "Epoch 67/200\n",
            "10/10 [==============================] - 0s 7ms/step - loss: 0.3734 - accuracy: 0.8602 - auc_1: 0.7991 - precision_1: 0.8000 - recall_1: 0.2500 - val_loss: 0.3342 - val_accuracy: 0.8413 - val_auc_1: 0.8708 - val_precision_1: 0.5000 - val_recall_1: 0.4000\n",
            "Epoch 68/200\n",
            "10/10 [==============================] - 0s 6ms/step - loss: 0.3857 - accuracy: 0.8387 - auc_1: 0.7829 - precision_1: 0.6667 - recall_1: 0.1250 - val_loss: 0.3320 - val_accuracy: 0.8413 - val_auc_1: 0.8689 - val_precision_1: 0.5000 - val_recall_1: 0.2000\n",
            "Epoch 69/200\n",
            "10/10 [==============================] - 0s 5ms/step - loss: 0.3715 - accuracy: 0.8495 - auc_1: 0.8028 - precision_1: 0.7500 - recall_1: 0.1875 - val_loss: 0.3323 - val_accuracy: 0.8571 - val_auc_1: 0.8726 - val_precision_1: 0.6000 - val_recall_1: 0.3000\n",
            "Epoch 70/200\n",
            "10/10 [==============================] - 0s 7ms/step - loss: 0.3722 - accuracy: 0.8602 - auc_1: 0.7999 - precision_1: 0.8000 - recall_1: 0.2500 - val_loss: 0.3334 - val_accuracy: 0.8571 - val_auc_1: 0.8717 - val_precision_1: 0.5714 - val_recall_1: 0.4000\n",
            "Epoch 71/200\n",
            "10/10 [==============================] - 0s 5ms/step - loss: 0.3731 - accuracy: 0.8602 - auc_1: 0.7975 - precision_1: 0.8000 - recall_1: 0.2500 - val_loss: 0.3319 - val_accuracy: 0.8413 - val_auc_1: 0.8717 - val_precision_1: 0.5000 - val_recall_1: 0.2000\n",
            "Epoch 72/200\n",
            "10/10 [==============================] - 0s 5ms/step - loss: 0.3725 - accuracy: 0.8387 - auc_1: 0.7934 - precision_1: 0.6667 - recall_1: 0.1250 - val_loss: 0.3322 - val_accuracy: 0.8413 - val_auc_1: 0.8717 - val_precision_1: 0.5000 - val_recall_1: 0.2000\n",
            "Epoch 73/200\n",
            "10/10 [==============================] - 0s 5ms/step - loss: 0.3689 - accuracy: 0.8495 - auc_1: 0.8024 - precision_1: 0.7500 - recall_1: 0.1875 - val_loss: 0.3343 - val_accuracy: 0.8571 - val_auc_1: 0.8708 - val_precision_1: 0.5714 - val_recall_1: 0.4000\n",
            "Epoch 74/200\n",
            "10/10 [==============================] - 0s 5ms/step - loss: 0.3710 - accuracy: 0.8602 - auc_1: 0.8052 - precision_1: 0.8000 - recall_1: 0.2500 - val_loss: 0.3358 - val_accuracy: 0.8413 - val_auc_1: 0.8698 - val_precision_1: 0.5000 - val_recall_1: 0.4000\n",
            "Epoch 75/200\n",
            "10/10 [==============================] - 0s 7ms/step - loss: 0.3717 - accuracy: 0.8495 - auc_1: 0.8088 - precision_1: 0.6667 - recall_1: 0.2500 - val_loss: 0.3337 - val_accuracy: 0.8571 - val_auc_1: 0.8717 - val_precision_1: 0.5714 - val_recall_1: 0.4000\n",
            "Epoch 76/200\n",
            "10/10 [==============================] - 0s 7ms/step - loss: 0.3688 - accuracy: 0.8602 - auc_1: 0.8060 - precision_1: 0.8000 - recall_1: 0.2500 - val_loss: 0.3328 - val_accuracy: 0.8730 - val_auc_1: 0.8698 - val_precision_1: 0.6667 - val_recall_1: 0.4000\n",
            "Epoch 77/200\n",
            "10/10 [==============================] - 0s 5ms/step - loss: 0.3684 - accuracy: 0.8495 - auc_1: 0.8032 - precision_1: 0.7500 - recall_1: 0.1875 - val_loss: 0.3323 - val_accuracy: 0.8413 - val_auc_1: 0.8717 - val_precision_1: 0.5000 - val_recall_1: 0.2000\n",
            "Epoch 78/200\n",
            "10/10 [==============================] - 0s 5ms/step - loss: 0.3743 - accuracy: 0.8387 - auc_1: 0.7971 - precision_1: 0.6667 - recall_1: 0.1250 - val_loss: 0.3329 - val_accuracy: 0.8413 - val_auc_1: 0.8717 - val_precision_1: 0.5000 - val_recall_1: 0.2000\n",
            "Epoch 79/200\n",
            "10/10 [==============================] - 0s 5ms/step - loss: 0.3702 - accuracy: 0.8387 - auc_1: 0.8011 - precision_1: 0.6667 - recall_1: 0.1250 - val_loss: 0.3327 - val_accuracy: 0.8571 - val_auc_1: 0.8736 - val_precision_1: 0.6000 - val_recall_1: 0.3000\n",
            "Epoch 80/200\n",
            "10/10 [==============================] - 0s 6ms/step - loss: 0.3674 - accuracy: 0.8602 - auc_1: 0.8024 - precision_1: 0.8000 - recall_1: 0.2500 - val_loss: 0.3336 - val_accuracy: 0.8571 - val_auc_1: 0.8708 - val_precision_1: 0.5714 - val_recall_1: 0.4000\n",
            "Epoch 81/200\n",
            "10/10 [==============================] - 0s 6ms/step - loss: 0.3673 - accuracy: 0.8602 - auc_1: 0.8072 - precision_1: 0.8000 - recall_1: 0.2500 - val_loss: 0.3333 - val_accuracy: 0.8571 - val_auc_1: 0.8717 - val_precision_1: 0.5714 - val_recall_1: 0.4000\n",
            "Epoch 82/200\n",
            "10/10 [==============================] - 0s 5ms/step - loss: 0.3672 - accuracy: 0.8495 - auc_1: 0.8052 - precision_1: 0.7500 - recall_1: 0.1875 - val_loss: 0.3329 - val_accuracy: 0.8571 - val_auc_1: 0.8726 - val_precision_1: 0.6000 - val_recall_1: 0.3000\n",
            "Epoch 83/200\n",
            "10/10 [==============================] - 0s 7ms/step - loss: 0.3682 - accuracy: 0.8495 - auc_1: 0.8024 - precision_1: 0.7500 - recall_1: 0.1875 - val_loss: 0.3333 - val_accuracy: 0.8730 - val_auc_1: 0.8726 - val_precision_1: 0.6667 - val_recall_1: 0.4000\n",
            "Epoch 84/200\n",
            "10/10 [==============================] - 0s 5ms/step - loss: 0.3665 - accuracy: 0.8602 - auc_1: 0.8080 - precision_1: 0.8000 - recall_1: 0.2500 - val_loss: 0.3337 - val_accuracy: 0.8571 - val_auc_1: 0.8726 - val_precision_1: 0.5714 - val_recall_1: 0.4000\n",
            "Epoch 85/200\n",
            "10/10 [==============================] - 0s 5ms/step - loss: 0.3685 - accuracy: 0.8495 - auc_1: 0.8072 - precision_1: 0.7500 - recall_1: 0.1875 - val_loss: 0.3337 - val_accuracy: 0.8571 - val_auc_1: 0.8708 - val_precision_1: 0.6000 - val_recall_1: 0.3000\n",
            "Epoch 86/200\n",
            "10/10 [==============================] - 0s 5ms/step - loss: 0.3671 - accuracy: 0.8495 - auc_1: 0.8097 - precision_1: 0.6667 - recall_1: 0.2500 - val_loss: 0.3360 - val_accuracy: 0.8571 - val_auc_1: 0.8689 - val_precision_1: 0.5714 - val_recall_1: 0.4000\n",
            "Epoch 87/200\n",
            "10/10 [==============================] - 0s 8ms/step - loss: 0.3680 - accuracy: 0.8602 - auc_1: 0.8060 - precision_1: 0.8000 - recall_1: 0.2500 - val_loss: 0.3336 - val_accuracy: 0.8730 - val_auc_1: 0.8708 - val_precision_1: 0.6667 - val_recall_1: 0.4000\n",
            "Epoch 88/200\n",
            "10/10 [==============================] - 0s 5ms/step - loss: 0.3681 - accuracy: 0.8602 - auc_1: 0.8084 - precision_1: 0.8000 - recall_1: 0.2500 - val_loss: 0.3350 - val_accuracy: 0.8571 - val_auc_1: 0.8689 - val_precision_1: 0.5714 - val_recall_1: 0.4000\n",
            "Epoch 89/200\n",
            "10/10 [==============================] - 0s 5ms/step - loss: 0.3669 - accuracy: 0.8602 - auc_1: 0.8141 - precision_1: 0.8000 - recall_1: 0.2500 - val_loss: 0.3357 - val_accuracy: 0.8571 - val_auc_1: 0.8679 - val_precision_1: 0.5714 - val_recall_1: 0.4000\n",
            "Epoch 90/200\n",
            "10/10 [==============================] - 0s 4ms/step - loss: 0.3652 - accuracy: 0.8602 - auc_1: 0.8084 - precision_1: 0.8000 - recall_1: 0.2500 - val_loss: 0.3345 - val_accuracy: 0.8571 - val_auc_1: 0.8698 - val_precision_1: 0.5714 - val_recall_1: 0.4000\n",
            "Epoch 91/200\n",
            "10/10 [==============================] - 0s 7ms/step - loss: 0.3679 - accuracy: 0.8602 - auc_1: 0.7999 - precision_1: 0.8000 - recall_1: 0.2500 - val_loss: 0.3352 - val_accuracy: 0.8571 - val_auc_1: 0.8679 - val_precision_1: 0.5714 - val_recall_1: 0.4000\n",
            "Epoch 92/200\n",
            "10/10 [==============================] - 0s 5ms/step - loss: 0.3642 - accuracy: 0.8602 - auc_1: 0.8048 - precision_1: 0.8000 - recall_1: 0.2500 - val_loss: 0.3348 - val_accuracy: 0.8571 - val_auc_1: 0.8698 - val_precision_1: 0.5714 - val_recall_1: 0.4000\n",
            "Epoch 93/200\n",
            "10/10 [==============================] - 0s 5ms/step - loss: 0.3688 - accuracy: 0.8495 - auc_1: 0.8113 - precision_1: 0.6667 - recall_1: 0.2500 - val_loss: 0.3427 - val_accuracy: 0.8413 - val_auc_1: 0.8623 - val_precision_1: 0.5000 - val_recall_1: 0.4000\n",
            "Epoch 94/200\n",
            "10/10 [==============================] - 0s 6ms/step - loss: 0.3648 - accuracy: 0.8495 - auc_1: 0.8255 - precision_1: 0.6667 - recall_1: 0.2500 - val_loss: 0.3371 - val_accuracy: 0.8571 - val_auc_1: 0.8642 - val_precision_1: 0.5714 - val_recall_1: 0.4000\n",
            "Epoch 95/200\n",
            "10/10 [==============================] - 0s 5ms/step - loss: 0.3711 - accuracy: 0.8602 - auc_1: 0.7971 - precision_1: 0.8000 - recall_1: 0.2500 - val_loss: 0.3359 - val_accuracy: 0.8413 - val_auc_1: 0.8679 - val_precision_1: 0.5000 - val_recall_1: 0.2000\n",
            "Epoch 96/200\n",
            "10/10 [==============================] - 0s 7ms/step - loss: 0.3677 - accuracy: 0.8602 - auc_1: 0.8015 - precision_1: 0.8000 - recall_1: 0.2500 - val_loss: 0.3366 - val_accuracy: 0.8571 - val_auc_1: 0.8670 - val_precision_1: 0.5714 - val_recall_1: 0.4000\n",
            "Epoch 97/200\n",
            "10/10 [==============================] - 0s 5ms/step - loss: 0.3634 - accuracy: 0.8602 - auc_1: 0.8113 - precision_1: 0.8000 - recall_1: 0.2500 - val_loss: 0.3368 - val_accuracy: 0.8571 - val_auc_1: 0.8651 - val_precision_1: 0.6000 - val_recall_1: 0.3000\n",
            "Epoch 98/200\n",
            "10/10 [==============================] - 0s 5ms/step - loss: 0.3662 - accuracy: 0.8387 - auc_1: 0.8064 - precision_1: 0.6667 - recall_1: 0.1250 - val_loss: 0.3380 - val_accuracy: 0.8571 - val_auc_1: 0.8651 - val_precision_1: 0.5714 - val_recall_1: 0.4000\n",
            "Epoch 99/200\n",
            "10/10 [==============================] - 0s 6ms/step - loss: 0.3622 - accuracy: 0.8495 - auc_1: 0.8129 - precision_1: 0.7500 - recall_1: 0.1875 - val_loss: 0.3378 - val_accuracy: 0.8413 - val_auc_1: 0.8660 - val_precision_1: 0.5000 - val_recall_1: 0.3000\n",
            "Epoch 100/200\n",
            "10/10 [==============================] - 0s 5ms/step - loss: 0.3644 - accuracy: 0.8495 - auc_1: 0.8088 - precision_1: 0.7500 - recall_1: 0.1875 - val_loss: 0.3388 - val_accuracy: 0.8413 - val_auc_1: 0.8642 - val_precision_1: 0.5000 - val_recall_1: 0.3000\n",
            "Epoch 101/200\n",
            "10/10 [==============================] - 0s 5ms/step - loss: 0.3630 - accuracy: 0.8387 - auc_1: 0.8170 - precision_1: 0.6667 - recall_1: 0.1250 - val_loss: 0.3385 - val_accuracy: 0.8413 - val_auc_1: 0.8670 - val_precision_1: 0.5000 - val_recall_1: 0.3000\n",
            "Epoch 102/200\n",
            "10/10 [==============================] - 0s 7ms/step - loss: 0.3664 - accuracy: 0.8387 - auc_1: 0.8133 - precision_1: 0.6667 - recall_1: 0.1250 - val_loss: 0.3381 - val_accuracy: 0.8571 - val_auc_1: 0.8679 - val_precision_1: 0.6000 - val_recall_1: 0.3000\n",
            "Epoch 103/200\n",
            "10/10 [==============================] - 0s 7ms/step - loss: 0.3613 - accuracy: 0.8387 - auc_1: 0.8157 - precision_1: 0.6667 - recall_1: 0.1250 - val_loss: 0.3392 - val_accuracy: 0.8571 - val_auc_1: 0.8651 - val_precision_1: 0.5714 - val_recall_1: 0.4000\n",
            "Epoch 104/200\n",
            "10/10 [==============================] - 0s 7ms/step - loss: 0.3623 - accuracy: 0.8495 - auc_1: 0.8174 - precision_1: 0.6667 - recall_1: 0.2500 - val_loss: 0.3390 - val_accuracy: 0.8571 - val_auc_1: 0.8651 - val_precision_1: 0.5714 - val_recall_1: 0.4000\n",
            "Epoch 105/200\n",
            "10/10 [==============================] - 0s 6ms/step - loss: 0.3653 - accuracy: 0.8495 - auc_1: 0.8226 - precision_1: 0.6667 - recall_1: 0.2500 - val_loss: 0.3431 - val_accuracy: 0.8413 - val_auc_1: 0.8660 - val_precision_1: 0.5000 - val_recall_1: 0.4000\n",
            "Epoch 106/200\n",
            "10/10 [==============================] - 0s 5ms/step - loss: 0.3603 - accuracy: 0.8602 - auc_1: 0.8194 - precision_1: 0.8000 - recall_1: 0.2500 - val_loss: 0.3387 - val_accuracy: 0.8413 - val_auc_1: 0.8651 - val_precision_1: 0.5000 - val_recall_1: 0.3000\n",
            "Epoch 107/200\n",
            "10/10 [==============================] - 0s 6ms/step - loss: 0.3645 - accuracy: 0.8495 - auc_1: 0.8170 - precision_1: 0.6667 - recall_1: 0.2500 - val_loss: 0.3406 - val_accuracy: 0.8413 - val_auc_1: 0.8651 - val_precision_1: 0.5000 - val_recall_1: 0.4000\n",
            "Epoch 108/200\n",
            "10/10 [==============================] - 0s 5ms/step - loss: 0.3583 - accuracy: 0.8602 - auc_1: 0.8231 - precision_1: 0.8000 - recall_1: 0.2500 - val_loss: 0.3390 - val_accuracy: 0.8413 - val_auc_1: 0.8651 - val_precision_1: 0.5000 - val_recall_1: 0.3000\n",
            "Epoch 109/200\n",
            "10/10 [==============================] - 0s 6ms/step - loss: 0.3599 - accuracy: 0.8495 - auc_1: 0.8182 - precision_1: 0.7500 - recall_1: 0.1875 - val_loss: 0.3389 - val_accuracy: 0.8571 - val_auc_1: 0.8670 - val_precision_1: 0.5714 - val_recall_1: 0.4000\n",
            "Epoch 110/200\n",
            "10/10 [==============================] - 0s 5ms/step - loss: 0.3606 - accuracy: 0.8495 - auc_1: 0.8162 - precision_1: 0.7500 - recall_1: 0.1875 - val_loss: 0.3389 - val_accuracy: 0.8413 - val_auc_1: 0.8651 - val_precision_1: 0.5000 - val_recall_1: 0.3000\n",
            "Epoch 111/200\n",
            "10/10 [==============================] - 0s 5ms/step - loss: 0.3565 - accuracy: 0.8602 - auc_1: 0.8295 - precision_1: 0.8000 - recall_1: 0.2500 - val_loss: 0.3458 - val_accuracy: 0.8413 - val_auc_1: 0.8651 - val_precision_1: 0.5000 - val_recall_1: 0.4000\n",
            "Epoch 112/200\n",
            "10/10 [==============================] - 0s 5ms/step - loss: 0.3630 - accuracy: 0.8602 - auc_1: 0.8324 - precision_1: 0.7143 - recall_1: 0.3125 - val_loss: 0.3440 - val_accuracy: 0.8413 - val_auc_1: 0.8660 - val_precision_1: 0.5000 - val_recall_1: 0.4000\n",
            "Epoch 113/200\n",
            "10/10 [==============================] - 0s 5ms/step - loss: 0.3638 - accuracy: 0.8602 - auc_1: 0.8166 - precision_1: 0.8000 - recall_1: 0.2500 - val_loss: 0.3401 - val_accuracy: 0.8413 - val_auc_1: 0.8679 - val_precision_1: 0.5000 - val_recall_1: 0.3000\n",
            "Epoch 114/200\n",
            "10/10 [==============================] - 0s 7ms/step - loss: 0.3611 - accuracy: 0.8387 - auc_1: 0.8149 - precision_1: 0.6667 - recall_1: 0.1250 - val_loss: 0.3405 - val_accuracy: 0.8413 - val_auc_1: 0.8670 - val_precision_1: 0.5000 - val_recall_1: 0.3000\n",
            "Epoch 115/200\n",
            "10/10 [==============================] - 0s 5ms/step - loss: 0.3596 - accuracy: 0.8495 - auc_1: 0.8194 - precision_1: 0.7500 - recall_1: 0.1875 - val_loss: 0.3415 - val_accuracy: 0.8413 - val_auc_1: 0.8660 - val_precision_1: 0.5000 - val_recall_1: 0.4000\n",
            "Epoch 116/200\n",
            "10/10 [==============================] - 0s 5ms/step - loss: 0.3593 - accuracy: 0.8495 - auc_1: 0.8271 - precision_1: 0.6667 - recall_1: 0.2500 - val_loss: 0.3426 - val_accuracy: 0.8413 - val_auc_1: 0.8651 - val_precision_1: 0.5000 - val_recall_1: 0.4000\n",
            "Epoch 117/200\n",
            "10/10 [==============================] - 0s 6ms/step - loss: 0.3621 - accuracy: 0.8495 - auc_1: 0.8145 - precision_1: 0.7500 - recall_1: 0.1875 - val_loss: 0.3413 - val_accuracy: 0.8413 - val_auc_1: 0.8651 - val_precision_1: 0.5000 - val_recall_1: 0.3000\n",
            "Epoch 118/200\n",
            "10/10 [==============================] - 0s 5ms/step - loss: 0.3594 - accuracy: 0.8495 - auc_1: 0.8194 - precision_1: 0.7500 - recall_1: 0.1875 - val_loss: 0.3413 - val_accuracy: 0.8571 - val_auc_1: 0.8660 - val_precision_1: 0.5714 - val_recall_1: 0.4000\n",
            "Epoch 119/200\n",
            "10/10 [==============================] - 0s 6ms/step - loss: 0.3572 - accuracy: 0.8495 - auc_1: 0.8377 - precision_1: 0.6250 - recall_1: 0.3125 - val_loss: 0.3529 - val_accuracy: 0.8254 - val_auc_1: 0.8594 - val_precision_1: 0.4444 - val_recall_1: 0.4000\n",
            "Epoch 120/200\n",
            "10/10 [==============================] - 0s 5ms/step - loss: 0.3656 - accuracy: 0.8495 - auc_1: 0.8295 - precision_1: 0.6250 - recall_1: 0.3125 - val_loss: 0.3442 - val_accuracy: 0.8413 - val_auc_1: 0.8623 - val_precision_1: 0.5000 - val_recall_1: 0.4000\n",
            "Epoch 121/200\n",
            "10/10 [==============================] - 0s 5ms/step - loss: 0.3585 - accuracy: 0.8602 - auc_1: 0.8226 - precision_1: 0.8000 - recall_1: 0.2500 - val_loss: 0.3415 - val_accuracy: 0.8571 - val_auc_1: 0.8660 - val_precision_1: 0.5714 - val_recall_1: 0.4000\n",
            "Epoch 122/200\n",
            "10/10 [==============================] - 0s 5ms/step - loss: 0.3566 - accuracy: 0.8602 - auc_1: 0.8222 - precision_1: 0.8000 - recall_1: 0.2500 - val_loss: 0.3415 - val_accuracy: 0.8413 - val_auc_1: 0.8632 - val_precision_1: 0.5000 - val_recall_1: 0.3000\n",
            "Epoch 123/200\n",
            "10/10 [==============================] - 0s 5ms/step - loss: 0.3576 - accuracy: 0.8495 - auc_1: 0.8247 - precision_1: 0.7500 - recall_1: 0.1875 - val_loss: 0.3414 - val_accuracy: 0.8413 - val_auc_1: 0.8642 - val_precision_1: 0.5000 - val_recall_1: 0.3000\n",
            "Epoch 124/200\n",
            "10/10 [==============================] - 0s 6ms/step - loss: 0.3577 - accuracy: 0.8495 - auc_1: 0.8222 - precision_1: 0.7500 - recall_1: 0.1875 - val_loss: 0.3419 - val_accuracy: 0.8413 - val_auc_1: 0.8642 - val_precision_1: 0.5000 - val_recall_1: 0.3000\n",
            "Epoch 125/200\n",
            "10/10 [==============================] - 0s 5ms/step - loss: 0.3591 - accuracy: 0.8602 - auc_1: 0.8231 - precision_1: 0.8000 - recall_1: 0.2500 - val_loss: 0.3438 - val_accuracy: 0.8413 - val_auc_1: 0.8642 - val_precision_1: 0.5000 - val_recall_1: 0.4000\n",
            "Epoch 126/200\n",
            "10/10 [==============================] - 0s 6ms/step - loss: 0.3570 - accuracy: 0.8495 - auc_1: 0.8304 - precision_1: 0.6667 - recall_1: 0.2500 - val_loss: 0.3441 - val_accuracy: 0.8413 - val_auc_1: 0.8642 - val_precision_1: 0.5000 - val_recall_1: 0.4000\n",
            "Epoch 127/200\n",
            "10/10 [==============================] - 0s 6ms/step - loss: 0.3547 - accuracy: 0.8495 - auc_1: 0.8308 - precision_1: 0.6667 - recall_1: 0.2500 - val_loss: 0.3431 - val_accuracy: 0.8571 - val_auc_1: 0.8642 - val_precision_1: 0.5714 - val_recall_1: 0.4000\n",
            "Epoch 128/200\n",
            "10/10 [==============================] - 0s 5ms/step - loss: 0.3568 - accuracy: 0.8602 - auc_1: 0.8304 - precision_1: 0.8000 - recall_1: 0.2500 - val_loss: 0.3424 - val_accuracy: 0.8413 - val_auc_1: 0.8651 - val_precision_1: 0.5000 - val_recall_1: 0.3000\n",
            "Epoch 129/200\n",
            "10/10 [==============================] - 0s 5ms/step - loss: 0.3558 - accuracy: 0.8495 - auc_1: 0.8275 - precision_1: 0.7500 - recall_1: 0.1875 - val_loss: 0.3433 - val_accuracy: 0.8571 - val_auc_1: 0.8642 - val_precision_1: 0.5714 - val_recall_1: 0.4000\n",
            "Epoch 130/200\n",
            "10/10 [==============================] - 0s 5ms/step - loss: 0.3547 - accuracy: 0.8602 - auc_1: 0.8328 - precision_1: 0.8000 - recall_1: 0.2500 - val_loss: 0.3455 - val_accuracy: 0.8413 - val_auc_1: 0.8651 - val_precision_1: 0.5000 - val_recall_1: 0.4000\n",
            "Epoch 131/200\n",
            "10/10 [==============================] - 0s 5ms/step - loss: 0.3592 - accuracy: 0.8387 - auc_1: 0.8214 - precision_1: 0.6000 - recall_1: 0.1875 - val_loss: 0.3441 - val_accuracy: 0.8571 - val_auc_1: 0.8642 - val_precision_1: 0.5714 - val_recall_1: 0.4000\n",
            "Epoch 132/200\n",
            "10/10 [==============================] - 0s 6ms/step - loss: 0.3545 - accuracy: 0.8602 - auc_1: 0.8332 - precision_1: 0.8000 - recall_1: 0.2500 - val_loss: 0.3460 - val_accuracy: 0.8413 - val_auc_1: 0.8632 - val_precision_1: 0.5000 - val_recall_1: 0.4000\n",
            "Epoch 133/200\n",
            "10/10 [==============================] - 0s 5ms/step - loss: 0.3555 - accuracy: 0.8495 - auc_1: 0.8381 - precision_1: 0.6667 - recall_1: 0.2500 - val_loss: 0.3497 - val_accuracy: 0.8413 - val_auc_1: 0.8604 - val_precision_1: 0.5000 - val_recall_1: 0.4000\n",
            "Epoch 134/200\n",
            "10/10 [==============================] - 0s 6ms/step - loss: 0.3557 - accuracy: 0.8495 - auc_1: 0.8389 - precision_1: 0.6667 - recall_1: 0.2500 - val_loss: 0.3473 - val_accuracy: 0.8413 - val_auc_1: 0.8594 - val_precision_1: 0.5000 - val_recall_1: 0.4000\n",
            "Epoch 135/200\n",
            "10/10 [==============================] - 0s 6ms/step - loss: 0.3535 - accuracy: 0.8602 - auc_1: 0.8369 - precision_1: 0.8000 - recall_1: 0.2500 - val_loss: 0.3469 - val_accuracy: 0.8254 - val_auc_1: 0.8566 - val_precision_1: 0.4286 - val_recall_1: 0.3000\n",
            "Epoch 136/200\n",
            "10/10 [==============================] - 0s 6ms/step - loss: 0.3589 - accuracy: 0.8387 - auc_1: 0.8324 - precision_1: 0.6667 - recall_1: 0.1250 - val_loss: 0.3470 - val_accuracy: 0.8254 - val_auc_1: 0.8585 - val_precision_1: 0.4000 - val_recall_1: 0.2000\n",
            "Epoch 137/200\n",
            "10/10 [==============================] - 0s 5ms/step - loss: 0.3550 - accuracy: 0.8387 - auc_1: 0.8279 - precision_1: 0.6667 - recall_1: 0.1250 - val_loss: 0.3474 - val_accuracy: 0.8254 - val_auc_1: 0.8566 - val_precision_1: 0.4286 - val_recall_1: 0.3000\n",
            "Epoch 138/200\n",
            "10/10 [==============================] - 0s 6ms/step - loss: 0.3541 - accuracy: 0.8387 - auc_1: 0.8377 - precision_1: 0.6000 - recall_1: 0.1875 - val_loss: 0.3472 - val_accuracy: 0.8413 - val_auc_1: 0.8575 - val_precision_1: 0.5000 - val_recall_1: 0.4000\n",
            "Epoch 139/200\n",
            "10/10 [==============================] - 0s 5ms/step - loss: 0.3552 - accuracy: 0.8495 - auc_1: 0.8271 - precision_1: 0.7500 - recall_1: 0.1875 - val_loss: 0.3462 - val_accuracy: 0.8413 - val_auc_1: 0.8623 - val_precision_1: 0.5000 - val_recall_1: 0.3000\n",
            "Epoch 140/200\n",
            "10/10 [==============================] - 0s 5ms/step - loss: 0.3555 - accuracy: 0.8602 - auc_1: 0.8360 - precision_1: 0.7143 - recall_1: 0.3125 - val_loss: 0.3510 - val_accuracy: 0.8413 - val_auc_1: 0.8604 - val_precision_1: 0.5000 - val_recall_1: 0.4000\n",
            "Epoch 141/200\n",
            "10/10 [==============================] - 0s 7ms/step - loss: 0.3545 - accuracy: 0.8495 - auc_1: 0.8397 - precision_1: 0.6667 - recall_1: 0.2500 - val_loss: 0.3486 - val_accuracy: 0.8413 - val_auc_1: 0.8594 - val_precision_1: 0.5000 - val_recall_1: 0.4000\n",
            "Epoch 142/200\n",
            "10/10 [==============================] - 0s 5ms/step - loss: 0.3526 - accuracy: 0.8602 - auc_1: 0.8385 - precision_1: 0.8000 - recall_1: 0.2500 - val_loss: 0.3472 - val_accuracy: 0.8254 - val_auc_1: 0.8575 - val_precision_1: 0.4286 - val_recall_1: 0.3000\n",
            "Epoch 143/200\n",
            "10/10 [==============================] - 0s 7ms/step - loss: 0.3573 - accuracy: 0.8387 - auc_1: 0.8295 - precision_1: 0.6000 - recall_1: 0.1875 - val_loss: 0.3497 - val_accuracy: 0.8413 - val_auc_1: 0.8604 - val_precision_1: 0.5000 - val_recall_1: 0.4000\n",
            "Epoch 144/200\n",
            "10/10 [==============================] - 0s 6ms/step - loss: 0.3517 - accuracy: 0.8495 - auc_1: 0.8393 - precision_1: 0.6667 - recall_1: 0.2500 - val_loss: 0.3482 - val_accuracy: 0.8254 - val_auc_1: 0.8604 - val_precision_1: 0.4286 - val_recall_1: 0.3000\n",
            "Epoch 145/200\n",
            "10/10 [==============================] - 0s 6ms/step - loss: 0.3510 - accuracy: 0.8495 - auc_1: 0.8352 - precision_1: 0.7500 - recall_1: 0.1875 - val_loss: 0.3475 - val_accuracy: 0.8413 - val_auc_1: 0.8604 - val_precision_1: 0.5000 - val_recall_1: 0.3000\n",
            "Epoch 146/200\n",
            "10/10 [==============================] - 0s 5ms/step - loss: 0.3545 - accuracy: 0.8387 - auc_1: 0.8300 - precision_1: 0.6667 - recall_1: 0.1250 - val_loss: 0.3474 - val_accuracy: 0.8413 - val_auc_1: 0.8604 - val_precision_1: 0.5000 - val_recall_1: 0.3000\n",
            "Epoch 147/200\n",
            "10/10 [==============================] - 0s 5ms/step - loss: 0.3538 - accuracy: 0.8495 - auc_1: 0.8336 - precision_1: 0.7500 - recall_1: 0.1875 - val_loss: 0.3472 - val_accuracy: 0.8413 - val_auc_1: 0.8613 - val_precision_1: 0.5000 - val_recall_1: 0.3000\n",
            "Epoch 148/200\n",
            "10/10 [==============================] - 0s 7ms/step - loss: 0.3520 - accuracy: 0.8495 - auc_1: 0.8320 - precision_1: 0.7500 - recall_1: 0.1875 - val_loss: 0.3479 - val_accuracy: 0.8413 - val_auc_1: 0.8642 - val_precision_1: 0.5000 - val_recall_1: 0.3000\n",
            "Epoch 149/200\n",
            "10/10 [==============================] - 0s 4ms/step - loss: 0.3549 - accuracy: 0.8387 - auc_1: 0.8348 - precision_1: 0.6000 - recall_1: 0.1875 - val_loss: 0.3503 - val_accuracy: 0.8413 - val_auc_1: 0.8594 - val_precision_1: 0.5000 - val_recall_1: 0.4000\n",
            "Epoch 150/200\n",
            "10/10 [==============================] - 0s 5ms/step - loss: 0.3556 - accuracy: 0.8387 - auc_1: 0.8283 - precision_1: 0.6000 - recall_1: 0.1875 - val_loss: 0.3488 - val_accuracy: 0.8254 - val_auc_1: 0.8623 - val_precision_1: 0.4286 - val_recall_1: 0.3000\n",
            "Epoch 151/200\n",
            "10/10 [==============================] - 0s 5ms/step - loss: 0.3509 - accuracy: 0.8495 - auc_1: 0.8393 - precision_1: 0.7500 - recall_1: 0.1875 - val_loss: 0.3497 - val_accuracy: 0.8254 - val_auc_1: 0.8604 - val_precision_1: 0.4286 - val_recall_1: 0.3000\n",
            "Epoch 152/200\n",
            "10/10 [==============================] - 0s 5ms/step - loss: 0.3541 - accuracy: 0.8495 - auc_1: 0.8316 - precision_1: 0.7500 - recall_1: 0.1875 - val_loss: 0.3497 - val_accuracy: 0.8413 - val_auc_1: 0.8604 - val_precision_1: 0.5000 - val_recall_1: 0.3000\n",
            "Epoch 153/200\n",
            "10/10 [==============================] - 0s 6ms/step - loss: 0.3503 - accuracy: 0.8387 - auc_1: 0.8352 - precision_1: 0.6667 - recall_1: 0.1250 - val_loss: 0.3493 - val_accuracy: 0.8413 - val_auc_1: 0.8613 - val_precision_1: 0.5000 - val_recall_1: 0.3000\n",
            "Epoch 154/200\n",
            "10/10 [==============================] - 0s 6ms/step - loss: 0.3550 - accuracy: 0.8387 - auc_1: 0.8312 - precision_1: 0.6667 - recall_1: 0.1250 - val_loss: 0.3488 - val_accuracy: 0.8413 - val_auc_1: 0.8623 - val_precision_1: 0.5000 - val_recall_1: 0.3000\n",
            "Epoch 155/200\n",
            "10/10 [==============================] - 0s 6ms/step - loss: 0.3521 - accuracy: 0.8495 - auc_1: 0.8316 - precision_1: 0.7500 - recall_1: 0.1875 - val_loss: 0.3495 - val_accuracy: 0.8254 - val_auc_1: 0.8623 - val_precision_1: 0.4286 - val_recall_1: 0.3000\n",
            "Epoch 156/200\n",
            "10/10 [==============================] - 0s 7ms/step - loss: 0.3515 - accuracy: 0.8602 - auc_1: 0.8369 - precision_1: 0.8000 - recall_1: 0.2500 - val_loss: 0.3522 - val_accuracy: 0.8413 - val_auc_1: 0.8613 - val_precision_1: 0.5000 - val_recall_1: 0.4000\n",
            "Epoch 157/200\n",
            "10/10 [==============================] - 0s 5ms/step - loss: 0.3493 - accuracy: 0.8495 - auc_1: 0.8413 - precision_1: 0.6667 - recall_1: 0.2500 - val_loss: 0.3508 - val_accuracy: 0.8254 - val_auc_1: 0.8613 - val_precision_1: 0.4286 - val_recall_1: 0.3000\n",
            "Epoch 158/200\n",
            "10/10 [==============================] - 0s 6ms/step - loss: 0.3490 - accuracy: 0.8495 - auc_1: 0.8429 - precision_1: 0.7500 - recall_1: 0.1875 - val_loss: 0.3506 - val_accuracy: 0.8254 - val_auc_1: 0.8585 - val_precision_1: 0.4286 - val_recall_1: 0.3000\n",
            "Epoch 159/200\n",
            "10/10 [==============================] - 0s 5ms/step - loss: 0.3510 - accuracy: 0.8495 - auc_1: 0.8364 - precision_1: 0.7500 - recall_1: 0.1875 - val_loss: 0.3514 - val_accuracy: 0.8413 - val_auc_1: 0.8575 - val_precision_1: 0.5000 - val_recall_1: 0.3000\n",
            "Epoch 160/200\n",
            "10/10 [==============================] - 0s 5ms/step - loss: 0.3684 - accuracy: 0.8280 - auc_1: 0.8121 - precision_1: 0.5000 - recall_1: 0.1250 - val_loss: 0.3535 - val_accuracy: 0.8254 - val_auc_1: 0.8604 - val_precision_1: 0.4286 - val_recall_1: 0.3000\n",
            "Epoch 161/200\n",
            "10/10 [==============================] - 0s 7ms/step - loss: 0.3476 - accuracy: 0.8495 - auc_1: 0.8405 - precision_1: 0.7500 - recall_1: 0.1875 - val_loss: 0.3512 - val_accuracy: 0.8254 - val_auc_1: 0.8613 - val_precision_1: 0.4286 - val_recall_1: 0.3000\n",
            "Epoch 162/200\n",
            "10/10 [==============================] - 0s 5ms/step - loss: 0.3517 - accuracy: 0.8387 - auc_1: 0.8364 - precision_1: 0.6667 - recall_1: 0.1250 - val_loss: 0.3510 - val_accuracy: 0.8571 - val_auc_1: 0.8642 - val_precision_1: 0.6000 - val_recall_1: 0.3000\n",
            "Epoch 163/200\n",
            "10/10 [==============================] - 0s 5ms/step - loss: 0.3528 - accuracy: 0.8387 - auc_1: 0.8393 - precision_1: 0.6667 - recall_1: 0.1250 - val_loss: 0.3507 - val_accuracy: 0.8413 - val_auc_1: 0.8642 - val_precision_1: 0.5000 - val_recall_1: 0.3000\n",
            "Epoch 164/200\n",
            "10/10 [==============================] - 0s 5ms/step - loss: 0.3510 - accuracy: 0.8495 - auc_1: 0.8348 - precision_1: 0.7500 - recall_1: 0.1875 - val_loss: 0.3524 - val_accuracy: 0.8254 - val_auc_1: 0.8613 - val_precision_1: 0.4286 - val_recall_1: 0.3000\n",
            "Epoch 165/200\n",
            "10/10 [==============================] - 0s 5ms/step - loss: 0.3480 - accuracy: 0.8495 - auc_1: 0.8425 - precision_1: 0.6667 - recall_1: 0.2500 - val_loss: 0.3567 - val_accuracy: 0.8413 - val_auc_1: 0.8585 - val_precision_1: 0.5000 - val_recall_1: 0.4000\n",
            "Epoch 166/200\n",
            "10/10 [==============================] - 0s 6ms/step - loss: 0.3515 - accuracy: 0.8602 - auc_1: 0.8494 - precision_1: 0.7143 - recall_1: 0.3125 - val_loss: 0.3549 - val_accuracy: 0.8254 - val_auc_1: 0.8604 - val_precision_1: 0.4286 - val_recall_1: 0.3000\n",
            "Epoch 167/200\n",
            "10/10 [==============================] - 0s 8ms/step - loss: 0.3499 - accuracy: 0.8495 - auc_1: 0.8295 - precision_1: 0.7500 - recall_1: 0.1875 - val_loss: 0.3517 - val_accuracy: 0.8254 - val_auc_1: 0.8623 - val_precision_1: 0.4286 - val_recall_1: 0.3000\n",
            "Epoch 168/200\n",
            "10/10 [==============================] - 0s 5ms/step - loss: 0.3485 - accuracy: 0.8495 - auc_1: 0.8373 - precision_1: 0.7500 - recall_1: 0.1875 - val_loss: 0.3521 - val_accuracy: 0.8254 - val_auc_1: 0.8623 - val_precision_1: 0.4286 - val_recall_1: 0.3000\n",
            "Epoch 169/200\n",
            "10/10 [==============================] - 0s 5ms/step - loss: 0.3486 - accuracy: 0.8495 - auc_1: 0.8389 - precision_1: 0.7500 - recall_1: 0.1875 - val_loss: 0.3522 - val_accuracy: 0.8254 - val_auc_1: 0.8613 - val_precision_1: 0.4286 - val_recall_1: 0.3000\n",
            "Epoch 170/200\n",
            "10/10 [==============================] - 0s 6ms/step - loss: 0.3485 - accuracy: 0.8387 - auc_1: 0.8381 - precision_1: 0.6000 - recall_1: 0.1875 - val_loss: 0.3586 - val_accuracy: 0.8413 - val_auc_1: 0.8594 - val_precision_1: 0.5000 - val_recall_1: 0.4000\n",
            "Epoch 171/200\n",
            "10/10 [==============================] - 0s 7ms/step - loss: 0.3514 - accuracy: 0.8495 - auc_1: 0.8490 - precision_1: 0.6667 - recall_1: 0.2500 - val_loss: 0.3576 - val_accuracy: 0.8413 - val_auc_1: 0.8585 - val_precision_1: 0.5000 - val_recall_1: 0.4000\n",
            "Epoch 172/200\n",
            "10/10 [==============================] - 0s 5ms/step - loss: 0.3483 - accuracy: 0.8495 - auc_1: 0.8494 - precision_1: 0.6667 - recall_1: 0.2500 - val_loss: 0.3560 - val_accuracy: 0.8254 - val_auc_1: 0.8575 - val_precision_1: 0.4286 - val_recall_1: 0.3000\n",
            "Epoch 173/200\n",
            "10/10 [==============================] - 0s 6ms/step - loss: 0.3477 - accuracy: 0.8495 - auc_1: 0.8462 - precision_1: 0.7500 - recall_1: 0.1875 - val_loss: 0.3551 - val_accuracy: 0.8254 - val_auc_1: 0.8566 - val_precision_1: 0.4286 - val_recall_1: 0.3000\n",
            "Epoch 174/200\n",
            "10/10 [==============================] - 0s 7ms/step - loss: 0.3448 - accuracy: 0.8495 - auc_1: 0.8474 - precision_1: 0.7500 - recall_1: 0.1875 - val_loss: 0.3541 - val_accuracy: 0.8413 - val_auc_1: 0.8575 - val_precision_1: 0.5000 - val_recall_1: 0.3000\n",
            "Epoch 175/200\n",
            "10/10 [==============================] - 0s 5ms/step - loss: 0.3517 - accuracy: 0.8387 - auc_1: 0.8373 - precision_1: 0.6667 - recall_1: 0.1250 - val_loss: 0.3541 - val_accuracy: 0.8413 - val_auc_1: 0.8632 - val_precision_1: 0.5000 - val_recall_1: 0.3000\n",
            "Epoch 176/200\n",
            "10/10 [==============================] - 0s 5ms/step - loss: 0.3492 - accuracy: 0.8387 - auc_1: 0.8389 - precision_1: 0.6667 - recall_1: 0.1250 - val_loss: 0.3547 - val_accuracy: 0.8254 - val_auc_1: 0.8604 - val_precision_1: 0.4286 - val_recall_1: 0.3000\n",
            "Epoch 177/200\n",
            "10/10 [==============================] - 0s 6ms/step - loss: 0.3463 - accuracy: 0.8387 - auc_1: 0.8425 - precision_1: 0.6000 - recall_1: 0.1875 - val_loss: 0.3545 - val_accuracy: 0.8254 - val_auc_1: 0.8632 - val_precision_1: 0.4286 - val_recall_1: 0.3000\n",
            "Epoch 178/200\n",
            "10/10 [==============================] - 0s 5ms/step - loss: 0.3455 - accuracy: 0.8495 - auc_1: 0.8438 - precision_1: 0.7500 - recall_1: 0.1875 - val_loss: 0.3549 - val_accuracy: 0.8254 - val_auc_1: 0.8585 - val_precision_1: 0.4286 - val_recall_1: 0.3000\n",
            "Epoch 179/200\n",
            "10/10 [==============================] - 0s 5ms/step - loss: 0.3460 - accuracy: 0.8495 - auc_1: 0.8433 - precision_1: 0.7500 - recall_1: 0.1875 - val_loss: 0.3554 - val_accuracy: 0.8254 - val_auc_1: 0.8566 - val_precision_1: 0.4286 - val_recall_1: 0.3000\n",
            "Epoch 180/200\n",
            "10/10 [==============================] - 0s 5ms/step - loss: 0.3490 - accuracy: 0.8387 - auc_1: 0.8438 - precision_1: 0.6000 - recall_1: 0.1875 - val_loss: 0.3609 - val_accuracy: 0.8413 - val_auc_1: 0.8575 - val_precision_1: 0.5000 - val_recall_1: 0.4000\n",
            "Epoch 181/200\n",
            "10/10 [==============================] - 0s 6ms/step - loss: 0.3487 - accuracy: 0.8602 - auc_1: 0.8519 - precision_1: 0.6667 - recall_1: 0.3750 - val_loss: 0.3603 - val_accuracy: 0.8413 - val_auc_1: 0.8585 - val_precision_1: 0.5000 - val_recall_1: 0.4000\n",
            "Epoch 182/200\n",
            "10/10 [==============================] - 0s 6ms/step - loss: 0.3460 - accuracy: 0.8602 - auc_1: 0.8442 - precision_1: 0.7143 - recall_1: 0.3125 - val_loss: 0.3569 - val_accuracy: 0.8254 - val_auc_1: 0.8585 - val_precision_1: 0.4286 - val_recall_1: 0.3000\n",
            "Epoch 183/200\n",
            "10/10 [==============================] - 0s 7ms/step - loss: 0.3492 - accuracy: 0.8387 - auc_1: 0.8389 - precision_1: 0.6667 - recall_1: 0.1250 - val_loss: 0.3556 - val_accuracy: 0.8413 - val_auc_1: 0.8613 - val_precision_1: 0.5000 - val_recall_1: 0.3000\n",
            "Epoch 184/200\n",
            "10/10 [==============================] - 0s 5ms/step - loss: 0.3469 - accuracy: 0.8495 - auc_1: 0.8429 - precision_1: 0.7500 - recall_1: 0.1875 - val_loss: 0.3572 - val_accuracy: 0.8254 - val_auc_1: 0.8613 - val_precision_1: 0.4286 - val_recall_1: 0.3000\n",
            "Epoch 185/200\n",
            "10/10 [==============================] - 0s 5ms/step - loss: 0.3453 - accuracy: 0.8387 - auc_1: 0.8458 - precision_1: 0.6000 - recall_1: 0.1875 - val_loss: 0.3564 - val_accuracy: 0.8254 - val_auc_1: 0.8623 - val_precision_1: 0.4286 - val_recall_1: 0.3000\n",
            "Epoch 186/200\n",
            "10/10 [==============================] - 0s 7ms/step - loss: 0.3442 - accuracy: 0.8387 - auc_1: 0.8442 - precision_1: 0.6000 - recall_1: 0.1875 - val_loss: 0.3584 - val_accuracy: 0.8413 - val_auc_1: 0.8575 - val_precision_1: 0.5000 - val_recall_1: 0.4000\n",
            "Epoch 187/200\n",
            "10/10 [==============================] - 0s 5ms/step - loss: 0.3451 - accuracy: 0.8602 - auc_1: 0.8478 - precision_1: 0.7143 - recall_1: 0.3125 - val_loss: 0.3579 - val_accuracy: 0.8413 - val_auc_1: 0.8585 - val_precision_1: 0.5000 - val_recall_1: 0.4000\n",
            "Epoch 188/200\n",
            "10/10 [==============================] - 0s 5ms/step - loss: 0.3437 - accuracy: 0.8387 - auc_1: 0.8478 - precision_1: 0.6000 - recall_1: 0.1875 - val_loss: 0.3574 - val_accuracy: 0.8254 - val_auc_1: 0.8594 - val_precision_1: 0.4286 - val_recall_1: 0.3000\n",
            "Epoch 189/200\n",
            "10/10 [==============================] - 0s 5ms/step - loss: 0.3458 - accuracy: 0.8387 - auc_1: 0.8421 - precision_1: 0.6000 - recall_1: 0.1875 - val_loss: 0.3564 - val_accuracy: 0.8254 - val_auc_1: 0.8575 - val_precision_1: 0.4286 - val_recall_1: 0.3000\n",
            "Epoch 190/200\n",
            "10/10 [==============================] - 0s 5ms/step - loss: 0.3444 - accuracy: 0.8495 - auc_1: 0.8482 - precision_1: 0.7500 - recall_1: 0.1875 - val_loss: 0.3572 - val_accuracy: 0.8254 - val_auc_1: 0.8585 - val_precision_1: 0.4286 - val_recall_1: 0.3000\n",
            "Epoch 191/200\n",
            "10/10 [==============================] - 0s 5ms/step - loss: 0.3468 - accuracy: 0.8710 - auc_1: 0.8405 - precision_1: 0.7500 - recall_1: 0.3750 - val_loss: 0.3627 - val_accuracy: 0.8413 - val_auc_1: 0.8604 - val_precision_1: 0.5000 - val_recall_1: 0.4000\n",
            "Epoch 192/200\n",
            "10/10 [==============================] - 0s 7ms/step - loss: 0.3466 - accuracy: 0.8602 - auc_1: 0.8405 - precision_1: 0.8000 - recall_1: 0.2500 - val_loss: 0.3572 - val_accuracy: 0.8254 - val_auc_1: 0.8594 - val_precision_1: 0.4286 - val_recall_1: 0.3000\n",
            "Epoch 193/200\n",
            "10/10 [==============================] - 0s 6ms/step - loss: 0.3500 - accuracy: 0.8495 - auc_1: 0.8373 - precision_1: 0.7500 - recall_1: 0.1875 - val_loss: 0.3568 - val_accuracy: 0.8413 - val_auc_1: 0.8594 - val_precision_1: 0.5000 - val_recall_1: 0.3000\n",
            "Epoch 194/200\n",
            "10/10 [==============================] - 0s 5ms/step - loss: 0.3436 - accuracy: 0.8495 - auc_1: 0.8478 - precision_1: 0.7500 - recall_1: 0.1875 - val_loss: 0.3619 - val_accuracy: 0.8254 - val_auc_1: 0.8575 - val_precision_1: 0.4286 - val_recall_1: 0.3000\n",
            "Epoch 195/200\n",
            "10/10 [==============================] - 0s 5ms/step - loss: 0.3449 - accuracy: 0.8495 - auc_1: 0.8515 - precision_1: 0.6667 - recall_1: 0.2500 - val_loss: 0.3609 - val_accuracy: 0.8254 - val_auc_1: 0.8566 - val_precision_1: 0.4286 - val_recall_1: 0.3000\n",
            "Epoch 196/200\n",
            "10/10 [==============================] - 0s 5ms/step - loss: 0.3451 - accuracy: 0.8602 - auc_1: 0.8523 - precision_1: 0.8000 - recall_1: 0.2500 - val_loss: 0.3586 - val_accuracy: 0.8254 - val_auc_1: 0.8566 - val_precision_1: 0.4286 - val_recall_1: 0.3000\n",
            "Epoch 197/200\n",
            "10/10 [==============================] - 0s 6ms/step - loss: 0.3453 - accuracy: 0.8495 - auc_1: 0.8498 - precision_1: 0.7500 - recall_1: 0.1875 - val_loss: 0.3589 - val_accuracy: 0.8254 - val_auc_1: 0.8585 - val_precision_1: 0.4286 - val_recall_1: 0.3000\n",
            "Epoch 198/200\n",
            "10/10 [==============================] - 0s 7ms/step - loss: 0.3433 - accuracy: 0.8495 - auc_1: 0.8486 - precision_1: 0.7500 - recall_1: 0.1875 - val_loss: 0.3587 - val_accuracy: 0.8254 - val_auc_1: 0.8547 - val_precision_1: 0.4286 - val_recall_1: 0.3000\n",
            "Epoch 199/200\n",
            "10/10 [==============================] - 0s 6ms/step - loss: 0.3490 - accuracy: 0.8495 - auc_1: 0.8385 - precision_1: 0.7500 - recall_1: 0.1875 - val_loss: 0.3587 - val_accuracy: 0.8413 - val_auc_1: 0.8585 - val_precision_1: 0.5000 - val_recall_1: 0.3000\n",
            "Epoch 200/200\n",
            "10/10 [==============================] - 0s 5ms/step - loss: 0.3482 - accuracy: 0.8387 - auc_1: 0.8450 - precision_1: 0.6000 - recall_1: 0.1875 - val_loss: 0.3650 - val_accuracy: 0.8413 - val_auc_1: 0.8585 - val_precision_1: 0.5000 - val_recall_1: 0.4000\n"
          ],
          "name": "stdout"
        },
        {
          "output_type": "execute_result",
          "data": {
            "text/plain": [
              "<tensorflow.python.keras.callbacks.History at 0x7f529ab50690>"
            ]
          },
          "metadata": {
            "tags": []
          },
          "execution_count": 20
        }
      ]
    },
    {
      "cell_type": "code",
      "metadata": {
        "id": "tZncbB79Ylg6",
        "colab": {
          "base_uri": "https://localhost:8080/"
        },
        "outputId": "e3c15320-242b-453d-f558-afcc809c6f29"
      },
      "source": [
        "##8-3-3 計算accuracy...\n",
        "score1=model3.evaluate(x_test,y_test)\n",
        "print('{}-->{}'.format(model3.metrics_names[0],score1[0]))\n",
        "print('{}-->{}'.format(model3.metrics_names[1],score1[1]))\n",
        "print('{}-->{}'.format(model3.metrics_names[2],score1[2]))\n",
        "print('{}-->{}'.format(model3.metrics_names[3],score1[3]))\n",
        "print('{}-->{}'.format(model3.metrics_names[4],score1[4]))\n",
        "\n",
        "print('='*30)\n",
        "from sklearn.metrics import roc_auc_score\n",
        "print('AUC for testing set:')\n",
        "predicted_prob=model3.predict(x_test)\n",
        "roc_auc_score(y_test,predicted_prob)"
      ],
      "execution_count": 21,
      "outputs": [
        {
          "output_type": "stream",
          "text": [
            "1/1 [==============================] - 0s 426ms/step - loss: 0.5335 - accuracy: 0.7812 - auc_1: 0.8140 - precision_1: 1.0000 - recall_1: 0.2222\n",
            "loss-->0.533475935459137\n",
            "accuracy-->0.78125\n",
            "auc_1-->0.8140096664428711\n",
            "precision_1-->1.0\n",
            "recall_1-->0.2222222238779068\n",
            "==============================\n",
            "AUC for testing set:\n"
          ],
          "name": "stdout"
        },
        {
          "output_type": "execute_result",
          "data": {
            "text/plain": [
              "0.8164251207729468"
            ]
          },
          "metadata": {
            "tags": []
          },
          "execution_count": 21
        }
      ]
    },
    {
      "cell_type": "code",
      "metadata": {
        "id": "_XDwmhoxaWMR",
        "colab": {
          "base_uri": "https://localhost:8080/",
          "height": 295
        },
        "outputId": "ea4615ae-7f02-4d34-c5ff-849b2c73e70c"
      },
      "source": [
        "##8-3-4 計算AUC\n",
        "from sklearn.metrics import roc_auc_score, roc_curve\n",
        "from matplotlib import pyplot as plt\n",
        "AUC面積1=roc_auc_score(y_test, predicted_prob) ##0.609\n",
        "fpr,tpr,thresholds=roc_curve(y_test,predicted_prob)\n",
        "plt.figure()\n",
        "plt.plot(fpr,tpr,label='Logistic regression (area = %0.3f)'%AUC面積1)\n",
        "plt.plot([0,1],[0,1],'r--')\n",
        "plt.xlim([0.0,1.0])\n",
        "plt.ylim([0.0,1.05])\n",
        "plt.xlabel('False Positive Rate')\n",
        "plt.ylabel('True Positive Rate')\n",
        "plt.title('Receiver operating characteristic ROC')\n",
        "plt.legend(loc=\"lower right\")\n",
        "plt.show()"
      ],
      "execution_count": 22,
      "outputs": [
        {
          "output_type": "display_data",
          "data": {
            "image/png": "[encoded data removed]",
            "text/plain": [
              "<Figure size 432x288 with 1 Axes>"
            ]
          },
          "metadata": {
            "tags": [],
            "needs_background": "light"
          }
        }
      ]
    },
    {
      "cell_type": "code",
      "metadata": {
        "id": "h6TFbBBbOjDF",
        "colab": {
          "base_uri": "https://localhost:8080/"
        },
        "outputId": "1f9770a0-b3e1-4753-c0e2-023ba7be5f33"
      },
      "source": [
        "##8-4-1 save model\n",
        "model3.save('./RPython/Model3',save_format='tf')"
      ],
      "execution_count": 23,
      "outputs": [
        {
          "output_type": "stream",
          "text": [
            "INFO:tensorflow:Assets written to: ./RPython/Model3/assets\n"
          ],
          "name": "stdout"
        }
      ]
    },
    {
      "cell_type": "code",
      "metadata": {
        "id": "cOmLdAQAY0-m",
        "colab": {
          "base_uri": "https://localhost:8080/"
        },
        "outputId": "5bc71a81-924c-4e0b-ea81-da780b54cc6f"
      },
      "source": [
        "##8-4-2\n",
        "y_test[y_test['自殺意念01']==1]###找出y_test中自殺意念為1的index \n",
        "x_test.loc[186]        ##找出index=186的四個X值..."
      ],
      "execution_count": 24,
      "outputs": [
        {
          "output_type": "execute_result",
          "data": {
            "text/plain": [
              "網路成癮分數YDQ      2.0\n",
              "家庭滿意度apgar     0.0\n",
              "年齡            21.0\n",
              "sex_男          1.0\n",
              "Name: 186, dtype: float64"
            ]
          },
          "metadata": {
            "tags": []
          },
          "execution_count": 24
        }
      ]
    },
    {
      "cell_type": "code",
      "metadata": {
        "id": "s1pdCsAUQKTN",
        "colab": {
          "base_uri": "https://localhost:8080/"
        },
        "outputId": "ecb15c50-dd5c-4408-e919-dc021cd7f136"
      },
      "source": [
        "##8-4-3 load & test model\n",
        "model4=tf.keras.models.load_model('./RPython/Model3')\n",
        "newCase={'網路成癮分數YDQ':[2],'家庭滿意度apgar':[0],'年齡':[21],'sex_男':[1]}\n",
        "newCase=pd.DataFrame(newCase)\n",
        "model4.predict(newCase)[0][0]\n"
      ],
      "execution_count": 25,
      "outputs": [
        {
          "output_type": "execute_result",
          "data": {
            "text/plain": [
              "0.44267082"
            ]
          },
          "metadata": {
            "tags": []
          },
          "execution_count": 25
        }
      ]
    },
    {
      "cell_type": "code",
      "metadata": {
        "id": "mr5uNk8Y6p26",
        "colab": {
          "base_uri": "https://localhost:8080/"
        },
        "outputId": "eeef8296-9ee6-442c-f8cd-9fe16e00f617"
      },
      "source": [
        "##8-5-1 Install falsk-ngrok\n",
        "!pip install flask-ngrok"
      ],
      "execution_count": 29,
      "outputs": [
        {
          "output_type": "stream",
          "text": [
            "Requirement already satisfied: flask-ngrok in /usr/local/lib/python3.7/dist-packages (0.0.25)\n",
            "Requirement already satisfied: Flask>=0.8 in /usr/local/lib/python3.7/dist-packages (from flask-ngrok) (1.1.4)\n",
            "Requirement already satisfied: requests in /usr/local/lib/python3.7/dist-packages (from flask-ngrok) (2.23.0)\n",
            "Requirement already satisfied: Werkzeug<2.0,>=0.15 in /usr/local/lib/python3.7/dist-packages (from Flask>=0.8->flask-ngrok) (1.0.1)\n",
            "Requirement already satisfied: Jinja2<3.0,>=2.10.1 in /usr/local/lib/python3.7/dist-packages (from Flask>=0.8->flask-ngrok) (2.11.3)\n",
            "Requirement already satisfied: itsdangerous<2.0,>=0.24 in /usr/local/lib/python3.7/dist-packages (from Flask>=0.8->flask-ngrok) (1.1.0)\n",
            "Requirement already satisfied: click<8.0,>=5.1 in /usr/local/lib/python3.7/dist-packages (from Flask>=0.8->flask-ngrok) (7.1.2)\n",
            "Requirement already satisfied: certifi>=2017.4.17 in /usr/local/lib/python3.7/dist-packages (from requests->flask-ngrok) (2021.5.30)\n",
            "Requirement already satisfied: chardet<4,>=3.0.2 in /usr/local/lib/python3.7/dist-packages (from requests->flask-ngrok) (3.0.4)\n",
            "Requirement already satisfied: idna<3,>=2.5 in /usr/local/lib/python3.7/dist-packages (from requests->flask-ngrok) (2.10)\n",
            "Requirement already satisfied: urllib3!=1.25.0,!=1.25.1,<1.26,>=1.21.1 in /usr/local/lib/python3.7/dist-packages (from requests->flask-ngrok) (1.24.3)\n",
            "Requirement already satisfied: MarkupSafe>=0.23 in /usr/local/lib/python3.7/dist-packages (from Jinja2<3.0,>=2.10.1->Flask>=0.8->flask-ngrok) (2.0.1)\n"
          ],
          "name": "stdout"
        }
      ]
    },
    {
      "cell_type": "code",
      "metadata": {
        "id": "iNxyqxBF62hE",
        "colab": {
          "base_uri": "https://localhost:8080/"
        },
        "outputId": "67ffd8bd-2a96-4815-91f2-49fb5b812aed"
      },
      "source": [
        "from flask_ngrok import run_with_ngrok\n",
        "from flask import Flask\n",
        "\n",
        "app=Flask(__name__)\n",
        "run_with_ngrok(app)\n",
        "@app.route(\"/\")\n",
        "def index():\n",
        "  return \"<h1>這是首頁</h1>\"\n",
        "@app.route(\"/details\")\n",
        "def details():\n",
        "  return \"<h1>這是details頁</h1>\"\n",
        "@app.route(\"/test\")\n",
        "def test():\n",
        "  return \"<h1>這是test頁!</h1>\"\n",
        "\n",
        "\n",
        "app.run()"
      ],
      "execution_count": 30,
      "outputs": [
        {
          "output_type": "stream",
          "text": [
            " * Serving Flask app \"__main__\" (lazy loading)\n",
            " * Environment: production\n",
            "\u001b[31m   WARNING: This is a development server. Do not use it in a production deployment.\u001b[0m\n",
            "\u001b[2m   Use a production WSGI server instead.\u001b[0m\n",
            " * Debug mode: off\n"
          ],
          "name": "stdout"
        },
        {
          "output_type": "stream",
          "text": [
            " * Running on http://127.0.0.1:5000/ (Press CTRL+C to quit)\n"
          ],
          "name": "stderr"
        },
        {
          "output_type": "stream",
          "text": [
            " * Running on http://d96ca7f77714.ngrok.io\n",
            " * Traffic stats available on http://127.0.0.1:4040\n"
          ],
          "name": "stdout"
        },
        {
          "output_type": "stream",
          "text": [
            "127.0.0.1 - - [16/Jul/2021 23:40:27] \"\u001b[37mGET / HTTP/1.1\u001b[0m\" 200 -\n",
            "127.0.0.1 - - [16/Jul/2021 23:40:27] \"\u001b[33mGET /favicon.ico HTTP/1.1\u001b[0m\" 404 -\n"
          ],
          "name": "stderr"
        }
      ]
    },
    {
      "cell_type": "code",
      "metadata": {
        "id": "iSSvCert8L3u",
        "outputId": "3e75d5fd-3091-45b8-aae0-cbb2ebdc0aa8",
        "colab": {
          "base_uri": "https://localhost:8080/",
          "height": 35
        }
      },
      "source": [
        "a=123.45\n",
        "str(a)"
      ],
      "execution_count": 59,
      "outputs": [
        {
          "output_type": "execute_result",
          "data": {
            "application/vnd.google.colaboratory.intrinsic+json": {
              "type": "string"
            },
            "text/plain": [
              "'123.45'"
            ]
          },
          "metadata": {
            "tags": []
          },
          "execution_count": 59
        }
      ]
    },
    {
      "cell_type": "code",
      "metadata": {
        "colab": {
          "base_uri": "https://localhost:8080/"
        },
        "id": "7suwaN03tBlG",
        "outputId": "9eee7183-f4a2-4f97-a40f-7711ce3bf89f"
      },
      "source": [
        "from flask_ngrok import run_with_ngrok\n",
        "from flask import Flask, render_template,request\n",
        "import pandas as pd\n",
        "import tensorflow as tf\n",
        "import asyncio\n",
        "app=Flask(__name__,template_folder='./RPython')\n",
        "run_with_ngrok(app)\n",
        "@app.route('/')\n",
        "def index():\n",
        "  title='資料表單'\n",
        "  return render_template('index.html',title=title)\n",
        "\n",
        "@app.route('/predict',methods=['POST'])\n",
        "async def predict():\n",
        "  title='預測結果'\n",
        "  YDQ=request.form.get('YDQ')\n",
        "  APGAR=request.form.get('APGAR')\n",
        "  AGE=request.form.get('AGE')\n",
        "  SEX=request.form.get('SEX')\n",
        "  model4=tf.keras.models.load_model('./RPython/Model3')\n",
        "  newCase={'網路成癮分數YDQ':[YDQ],'家庭滿意度apgar':[APGAR],'年齡':[AGE],'sex_男':[SEX]}\n",
        "  newCase=pd.DataFrame(newCase)\n",
        "  PREDICT=await type(model4.predict(newCase)[0][0])\n",
        "  return render_template('predict.html',title=title,YDQ=YDQ,APGAR=APGAR,AGE=AGE,SEX=SEX,PREDICT=PREDICT)\n",
        "app.run()"
      ],
      "execution_count": 67,
      "outputs": [
        {
          "output_type": "stream",
          "text": [
            " * Serving Flask app \"__main__\" (lazy loading)\n",
            " * Environment: production\n",
            "\u001b[31m   WARNING: This is a development server. Do not use it in a production deployment.\u001b[0m\n",
            "\u001b[2m   Use a production WSGI server instead.\u001b[0m\n",
            " * Debug mode: off\n"
          ],
          "name": "stdout"
        },
        {
          "output_type": "stream",
          "text": [
            " * Running on http://127.0.0.1:5000/ (Press CTRL+C to quit)\n",
            "/usr/lib/python3.7/json/encoder.py:257: RuntimeWarning: coroutine 'predict' was never awaited\n",
            "  return _iterencode(o, 0)\n",
            "RuntimeWarning: Enable tracemalloc to get the object allocation traceback\n"
          ],
          "name": "stderr"
        },
        {
          "output_type": "stream",
          "text": [
            " * Running on http://707de060b1f9.ngrok.io\n",
            " * Traffic stats available on http://127.0.0.1:4040\n"
          ],
          "name": "stdout"
        },
        {
          "output_type": "stream",
          "text": [
            "127.0.0.1 - - [17/Jul/2021 01:01:15] \"\u001b[37mGET / HTTP/1.1\u001b[0m\" 200 -\n",
            "127.0.0.1 - - [17/Jul/2021 01:01:16] \"\u001b[33mGET /favicon.ico HTTP/1.1\u001b[0m\" 404 -\n",
            "[2021-07-17 01:01:18,127] ERROR in app: Exception on /predict [POST]\n",
            "Traceback (most recent call last):\n",
            "  File \"/usr/local/lib/python3.7/dist-packages/flask/app.py\", line 2447, in wsgi_app\n",
            "    response = self.full_dispatch_request()\n",
            "  File \"/usr/local/lib/python3.7/dist-packages/flask/app.py\", line 1953, in full_dispatch_request\n",
            "    return self.finalize_request(rv)\n",
            "  File \"/usr/local/lib/python3.7/dist-packages/flask/app.py\", line 1968, in finalize_request\n",
            "    response = self.make_response(rv)\n",
            "  File \"/usr/local/lib/python3.7/dist-packages/flask/app.py\", line 2131, in make_response\n",
            "    \" {rv.__class__.__name__}.\".format(rv=rv)\n",
            "TypeError: The view function did not return a valid response. The return type must be a string, dict, tuple, Response instance, or WSGI callable, but it was a coroutine.\n",
            "127.0.0.1 - - [17/Jul/2021 01:01:18] \"\u001b[35m\u001b[1mPOST /predict HTTP/1.1\u001b[0m\" 500 -\n"
          ],
          "name": "stderr"
        }
      ]
    }
  ]
}