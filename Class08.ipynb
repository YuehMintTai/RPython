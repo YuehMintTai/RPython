{
  "nbformat": 4,
  "nbformat_minor": 0,
  "metadata": {
    "colab": {
      "name": "Class08.ipynb",
      "provenance": [],
      "authorship_tag": "ABX9TyPS8F0dK2aNSKISNM3xEFm1",
      "include_colab_link": true
    },
    "kernelspec": {
      "name": "python3",
      "display_name": "Python 3"
    },
    "language_info": {
      "name": "python"
    }
  },
  "cells": [
    {
      "cell_type": "markdown",
      "metadata": {
        "id": "view-in-github",
        "colab_type": "text"
      },
      "source": [
        "<a href=\"https://colab.research.google.com/github/YuehMintTai/RPython/blob/main/Class08.ipynb\" target=\"_parent\"><img src=\"https://colab.research.google.com/assets/colab-badge.svg\" alt=\"Open In Colab\"/></a>"
      ]
    },
    {
      "cell_type": "markdown",
      "metadata": {
        "id": "r2CONG6SfMsK"
      },
      "source": [
        "#三軍總醫院北投分院統計及實驗設計課程之八\n",
        "## 2021/7/13\n",
        "## ytai1123@gmail.com\n",
        "### 使用方法:\n",
        "\n",
        "\n",
        "1.   使用gmail帳號登入\n",
        "2.   按\"執行階段\" -->\"全部執行\" 以執行全部內容, 若要個別執行可點選每格程式左方箭頭或按 Control + Enter 鍵執行。"
      ]
    },
    {
      "cell_type": "code",
      "metadata": {
        "colab": {
          "base_uri": "https://localhost:8080/"
        },
        "id": "jlXcDYPlfE6V",
        "outputId": "334d7f5b-6379-47d1-b703-19cab7c9be6e"
      },
      "source": [
        "##0-1\n",
        "!git clone https://github.com/YuehMintTai/RPython.git"
      ],
      "execution_count": 1,
      "outputs": [
        {
          "output_type": "stream",
          "text": [
            "Cloning into 'RPython'...\n",
            "remote: Enumerating objects: 149, done.\u001b[K\n",
            "remote: Counting objects: 100% (149/149), done.\u001b[K\n",
            "remote: Compressing objects: 100% (147/147), done.\u001b[K\n",
            "remote: Total 149 (delta 82), reused 0 (delta 0), pack-reused 0\u001b[K\n",
            "Receiving objects: 100% (149/149), 2.92 MiB | 13.08 MiB/s, done.\n",
            "Resolving deltas: 100% (82/82), done.\n"
          ],
          "name": "stdout"
        }
      ]
    },
    {
      "cell_type": "code",
      "metadata": {
        "colab": {
          "base_uri": "https://localhost:8080/"
        },
        "id": "zSX8X-7MfSgK",
        "outputId": "df4e0975-5e98-497d-a217-d5d89ea510e5"
      },
      "source": [
        "##0-2\n",
        "!pip install rpy2"
      ],
      "execution_count": 2,
      "outputs": [
        {
          "output_type": "stream",
          "text": [
            "Requirement already satisfied: rpy2 in /usr/local/lib/python3.7/dist-packages (3.4.5)\n",
            "Requirement already satisfied: pytz in /usr/local/lib/python3.7/dist-packages (from rpy2) (2018.9)\n",
            "Requirement already satisfied: tzlocal in /usr/local/lib/python3.7/dist-packages (from rpy2) (1.5.1)\n",
            "Requirement already satisfied: jinja2 in /usr/local/lib/python3.7/dist-packages (from rpy2) (2.11.3)\n",
            "Requirement already satisfied: cffi>=1.10.0 in /usr/local/lib/python3.7/dist-packages (from rpy2) (1.14.6)\n",
            "Requirement already satisfied: MarkupSafe>=0.23 in /usr/local/lib/python3.7/dist-packages (from jinja2->rpy2) (2.0.1)\n",
            "Requirement already satisfied: pycparser in /usr/local/lib/python3.7/dist-packages (from cffi>=1.10.0->rpy2) (2.20)\n"
          ],
          "name": "stdout"
        }
      ]
    },
    {
      "cell_type": "code",
      "metadata": {
        "id": "kUcDfNrpfVVk"
      },
      "source": [
        "##0-3\n",
        "%load_ext rpy2.ipython"
      ],
      "execution_count": 3,
      "outputs": []
    },
    {
      "cell_type": "code",
      "metadata": {
        "id": "JuuefOVMfZSV",
        "colab": {
          "base_uri": "https://localhost:8080/",
          "height": 35
        },
        "outputId": "cebf1bdc-8fc7-4244-c649-dfada2d95abf"
      },
      "source": [
        "##8-0-0\n",
        "import tensorflow as tf\n",
        "import torch\n",
        "tf.__version__     ##2.5.0\n",
        "torch.__version__   ##1.9.0+cu102"
      ],
      "execution_count": 4,
      "outputs": [
        {
          "output_type": "execute_result",
          "data": {
            "application/vnd.google.colaboratory.intrinsic+json": {
              "type": "string"
            },
            "text/plain": [
              "'1.9.0+cu102'"
            ]
          },
          "metadata": {
            "tags": []
          },
          "execution_count": 4
        }
      ]
    },
    {
      "cell_type": "code",
      "metadata": {
        "colab": {
          "base_uri": "https://localhost:8080/",
          "height": 361
        },
        "id": "PpqBp022Geuv",
        "outputId": "1c6dbb3e-c907-4351-d633-c0decfe56430"
      },
      "source": [
        "##8-0-1 區分所有的資料為testing, validating及training sets\n",
        "import pandas as pd\n",
        "from sklearn.model_selection import train_test_split\n",
        "from sklearn.metrics import roc_curve\n",
        "import numpy as np\n",
        "\n",
        "df=pd.read_csv('RPython/samples.csv')\n",
        "df['sex']='男'\n",
        "df.loc[df['性別']==2,'sex']='女'\n",
        "x=df[['sex','網路成癮分數YDQ','家庭滿意度apgar','年齡']]\n",
        "x=pd.get_dummies(data=x,drop_first=True)\n",
        "y=df['自殺意念01'].astype(int).to_frame()\n",
        "all_df=pd.concat([x,y],axis=1)\n",
        "all_df['remainder']=all_df.index%6\n",
        "all_df['group']='training'\n",
        "all_df.loc[all_df['remainder']==0,'group']='testing'\n",
        "all_df.loc[all_df['remainder']==1,'group']='validating'\n",
        "all_df.loc[all_df['remainder']==2,'group']='validating'\n",
        "\n",
        "all_df['年齡'].groupby(all_df['group']).mean()\n",
        "\n",
        "all_df['groupNo']=0\n",
        "all_df.loc[all_df['group']=='validating','groupNo']=1\n",
        "all_df.loc[all_df['group']=='testing','groupNo']=2\n",
        "all_df.tail(10)"
      ],
      "execution_count": 5,
      "outputs": [
        {
          "output_type": "execute_result",
          "data": {
            "text/html": [
              "<div>\n",
              "<style scoped>\n",
              "    .dataframe tbody tr th:only-of-type {\n",
              "        vertical-align: middle;\n",
              "    }\n",
              "\n",
              "    .dataframe tbody tr th {\n",
              "        vertical-align: top;\n",
              "    }\n",
              "\n",
              "    .dataframe thead th {\n",
              "        text-align: right;\n",
              "    }\n",
              "</style>\n",
              "<table border=\"1\" class=\"dataframe\">\n",
              "  <thead>\n",
              "    <tr style=\"text-align: right;\">\n",
              "      <th></th>\n",
              "      <th>網路成癮分數YDQ</th>\n",
              "      <th>家庭滿意度apgar</th>\n",
              "      <th>年齡</th>\n",
              "      <th>sex_男</th>\n",
              "      <th>自殺意念01</th>\n",
              "      <th>remainder</th>\n",
              "      <th>group</th>\n",
              "      <th>groupNo</th>\n",
              "    </tr>\n",
              "  </thead>\n",
              "  <tbody>\n",
              "    <tr>\n",
              "      <th>178</th>\n",
              "      <td>1</td>\n",
              "      <td>10.0</td>\n",
              "      <td>25.000000</td>\n",
              "      <td>1</td>\n",
              "      <td>0</td>\n",
              "      <td>4</td>\n",
              "      <td>training</td>\n",
              "      <td>0</td>\n",
              "    </tr>\n",
              "    <tr>\n",
              "      <th>179</th>\n",
              "      <td>8</td>\n",
              "      <td>0.0</td>\n",
              "      <td>29.000000</td>\n",
              "      <td>1</td>\n",
              "      <td>1</td>\n",
              "      <td>5</td>\n",
              "      <td>training</td>\n",
              "      <td>0</td>\n",
              "    </tr>\n",
              "    <tr>\n",
              "      <th>180</th>\n",
              "      <td>3</td>\n",
              "      <td>8.0</td>\n",
              "      <td>21.333082</td>\n",
              "      <td>0</td>\n",
              "      <td>1</td>\n",
              "      <td>0</td>\n",
              "      <td>testing</td>\n",
              "      <td>2</td>\n",
              "    </tr>\n",
              "    <tr>\n",
              "      <th>181</th>\n",
              "      <td>7</td>\n",
              "      <td>3.0</td>\n",
              "      <td>34.000000</td>\n",
              "      <td>1</td>\n",
              "      <td>0</td>\n",
              "      <td>1</td>\n",
              "      <td>validating</td>\n",
              "      <td>1</td>\n",
              "    </tr>\n",
              "    <tr>\n",
              "      <th>182</th>\n",
              "      <td>7</td>\n",
              "      <td>5.0</td>\n",
              "      <td>18.000000</td>\n",
              "      <td>1</td>\n",
              "      <td>0</td>\n",
              "      <td>2</td>\n",
              "      <td>validating</td>\n",
              "      <td>1</td>\n",
              "    </tr>\n",
              "    <tr>\n",
              "      <th>183</th>\n",
              "      <td>8</td>\n",
              "      <td>9.0</td>\n",
              "      <td>27.000000</td>\n",
              "      <td>1</td>\n",
              "      <td>0</td>\n",
              "      <td>3</td>\n",
              "      <td>training</td>\n",
              "      <td>0</td>\n",
              "    </tr>\n",
              "    <tr>\n",
              "      <th>184</th>\n",
              "      <td>5</td>\n",
              "      <td>5.0</td>\n",
              "      <td>27.000000</td>\n",
              "      <td>1</td>\n",
              "      <td>1</td>\n",
              "      <td>4</td>\n",
              "      <td>training</td>\n",
              "      <td>0</td>\n",
              "    </tr>\n",
              "    <tr>\n",
              "      <th>185</th>\n",
              "      <td>5</td>\n",
              "      <td>7.0</td>\n",
              "      <td>27.000000</td>\n",
              "      <td>1</td>\n",
              "      <td>0</td>\n",
              "      <td>5</td>\n",
              "      <td>training</td>\n",
              "      <td>0</td>\n",
              "    </tr>\n",
              "    <tr>\n",
              "      <th>186</th>\n",
              "      <td>2</td>\n",
              "      <td>0.0</td>\n",
              "      <td>21.000000</td>\n",
              "      <td>1</td>\n",
              "      <td>1</td>\n",
              "      <td>0</td>\n",
              "      <td>testing</td>\n",
              "      <td>2</td>\n",
              "    </tr>\n",
              "    <tr>\n",
              "      <th>187</th>\n",
              "      <td>0</td>\n",
              "      <td>0.0</td>\n",
              "      <td>25.000000</td>\n",
              "      <td>1</td>\n",
              "      <td>1</td>\n",
              "      <td>1</td>\n",
              "      <td>validating</td>\n",
              "      <td>1</td>\n",
              "    </tr>\n",
              "  </tbody>\n",
              "</table>\n",
              "</div>"
            ],
            "text/plain": [
              "     網路成癮分數YDQ  家庭滿意度apgar         年齡  ...  remainder       group  groupNo\n",
              "178          1        10.0  25.000000  ...          4    training        0\n",
              "179          8         0.0  29.000000  ...          5    training        0\n",
              "180          3         8.0  21.333082  ...          0     testing        2\n",
              "181          7         3.0  34.000000  ...          1  validating        1\n",
              "182          7         5.0  18.000000  ...          2  validating        1\n",
              "183          8         9.0  27.000000  ...          3    training        0\n",
              "184          5         5.0  27.000000  ...          4    training        0\n",
              "185          5         7.0  27.000000  ...          5    training        0\n",
              "186          2         0.0  21.000000  ...          0     testing        2\n",
              "187          0         0.0  25.000000  ...          1  validating        1\n",
              "\n",
              "[10 rows x 8 columns]"
            ]
          },
          "metadata": {
            "tags": []
          },
          "execution_count": 5
        }
      ]
    },
    {
      "cell_type": "code",
      "metadata": {
        "id": "bPq8q3AgXR5k",
        "colab": {
          "base_uri": "https://localhost:8080/"
        },
        "outputId": "d32c27e7-7133-4fe8-a20f-df4d107df2c3"
      },
      "source": [
        "##8-0-2 Chi-square and ANOVA\n",
        "from sklearn.feature_selection import chi2\n",
        "from sklearn.feature_selection import f_classif\n",
        "print(pd.crosstab(all_df['group'],all_df['自殺意念01']))\n",
        "##chi-square test確定 自殺意念01 沒有過度集中在某組....\n",
        "Chi2=chi2(all_df['groupNo'].to_numpy().reshape(-1,1),all_df['自殺意念01'].to_numpy())\n",
        "print('chi2={}, p={}'.format(round(Chi2[0].item(),3),round(Chi2[1].item(),3)))\n",
        "##ANOVA確定年齡沒有過度集中在某組\n",
        "print('='*30)\n",
        "F=f_classif(all_df['年齡'].to_numpy().reshape(-1,1),all_df['group'].to_numpy())\n",
        "print(all_df.groupby('group')['年齡'].mean())\n",
        "print('ANOVA F={}, p={}'.format(round(F[0].item(),3),round(F[1].item(),3)))"
      ],
      "execution_count": 6,
      "outputs": [
        {
          "output_type": "stream",
          "text": [
            "自殺意念01       0   1\n",
            "group             \n",
            "testing     23   9\n",
            "training    77  16\n",
            "validating  53  10\n",
            "chi2=0.986, p=0.321\n",
            "==============================\n",
            "group\n",
            "testing       21.385385\n",
            "training      21.752499\n",
            "validating    20.687376\n",
            "Name: 年齡, dtype: float64\n",
            "ANOVA F=1.126, p=0.327\n"
          ],
          "name": "stdout"
        }
      ]
    },
    {
      "cell_type": "code",
      "metadata": {
        "id": "n8WemEO8ffxe",
        "colab": {
          "base_uri": "https://localhost:8080/"
        },
        "outputId": "6db3ab03-6570-4d0d-da92-c46360b7aa53"
      },
      "source": [
        "##8-0-3 區分 training, validation, testing sets..\n",
        "y_test=all_df.loc[all_df['group']=='testing']['自殺意念01'].to_frame()\n",
        "x_test=all_df.loc[all_df['group']=='testing'][['網路成癮分數YDQ','家庭滿意度apgar','年齡','sex_男']]\n",
        "y_vald=all_df.loc[all_df['group']=='validating']['自殺意念01'].to_frame()\n",
        "x_vald=all_df.loc[all_df['group']=='validating'][['網路成癮分數YDQ','家庭滿意度apgar','年齡','sex_男']]\n",
        "y_train=all_df.loc[all_df['group']=='training']['自殺意念01'].to_frame()\n",
        "x_train=all_df.loc[all_df['group']=='training'][['網路成癮分數YDQ','家庭滿意度apgar','年齡','sex_男']]\n",
        "print('cases number of train={}, of validation={}, of test={} '.format(len(x_train),len(x_vald),len(x_test)))"
      ],
      "execution_count": 7,
      "outputs": [
        {
          "output_type": "stream",
          "text": [
            "cases number of train=93, of validation=63, of test=32 \n"
          ],
          "name": "stdout"
        }
      ]
    },
    {
      "cell_type": "code",
      "metadata": {
        "id": "zHDP9NL32bkG"
      },
      "source": [
        "all_df.to_csv('all_df_r.csv')"
      ],
      "execution_count": 8,
      "outputs": []
    },
    {
      "cell_type": "code",
      "metadata": {
        "id": "fAj8SwxUu97e",
        "colab": {
          "base_uri": "https://localhost:8080/",
          "height": 550
        },
        "outputId": "0a7ecd90-ef22-48a0-9a88-ebf8c6d0508d"
      },
      "source": [
        "##8-0-4 Read Pands.DataFrame in R\n",
        "%%R\n",
        "all_df_r<-read.csv('all_df_r.csv')\n",
        "hist(all_df_r$年齡[all_df_r$group=='training'])\n",
        "##hist(all_df_r$年齡[all_df_r$group=='validating'])\n",
        "##hist(all_df_r$年齡[all_df_r$group=='testing'])\n",
        "formula<-'年齡~group'\n",
        "ANOVA<-aov(all_df_r$網路成癮分數YDQ~all_df_r$groupNo)\n",
        "ANOVA<-aov(all_df_r$家庭滿意度apgar~all_df_r$groupNo)\n",
        "ANOVA<-aov(all_df_r$年齡~all_df_r$group)\n",
        "summary(ANOVA)"
      ],
      "execution_count": 9,
      "outputs": [
        {
          "output_type": "stream",
          "text": [
            "                Df Sum Sq Mean Sq F value Pr(>F)\n",
            "all_df_r$group   2     43   21.36   1.126  0.327\n",
            "Residuals      185   3510   18.97               \n"
          ],
          "name": "stdout"
        },
        {
          "output_type": "display_data",
          "data": {
            "image/png": "[encoded data removed]"
          },
          "metadata": {
            "tags": []
          }
        }
      ]
    },
    {
      "cell_type": "code",
      "metadata": {
        "id": "XFtASJ6rssT6",
        "colab": {
          "base_uri": "https://localhost:8080/",
          "height": 350
        },
        "outputId": "52557385-4f0c-49c4-f373-a9b59239a58a"
      },
      "source": [
        "##8-0-5使用sklearn Logistic Regression\n",
        "from sklearn.linear_model import LogisticRegression\n",
        "from sklearn.metrics import roc_curve, roc_auc_score\n",
        "from matplotlib import pyplot as plt\n",
        "model0=LogisticRegression()\n",
        "result0=model0.fit(x_train,y_train)\n",
        "預測機率0=result0.predict_proba(x_test)\n",
        "AUC面積0=roc_auc_score(y_test,預測機率0[:,1])\n",
        "fpr, tpr, thresholds = roc_curve(y_test,預測機率0[:,1])\n",
        "plt.figure()\n",
        "plt.plot(fpr, tpr, label='Logistic regression (area = %0.3f)' % AUC面積0)\n",
        "plt.plot([0, 1], [0, 1],'r--')\n",
        "plt.xlim([0.0, 1.0])\n",
        "plt.ylim([0.0, 1.05])\n",
        "plt.xlabel('False Positive Rate')\n",
        "plt.ylabel('True Positive Rate')\n",
        "plt.title('Receiver operating characteristic ROC')\n",
        "plt.legend(loc=\"lower right\")\n",
        "plt.show()"
      ],
      "execution_count": 10,
      "outputs": [
        {
          "output_type": "stream",
          "text": [
            "/usr/local/lib/python3.7/dist-packages/sklearn/utils/validation.py:760: DataConversionWarning: A column-vector y was passed when a 1d array was expected. Please change the shape of y to (n_samples, ), for example using ravel().\n",
            "  y = column_or_1d(y, warn=True)\n"
          ],
          "name": "stderr"
        },
        {
          "output_type": "display_data",
          "data": {
            "image/png": "[encoded data removed]",
            "text/plain": [
              "<Figure size 432x288 with 1 Axes>"
            ]
          },
          "metadata": {
            "tags": [],
            "needs_background": "light"
          }
        }
      ]
    },
    {
      "cell_type": "code",
      "metadata": {
        "id": "SLdTs0qUlVLo",
        "colab": {
          "base_uri": "https://localhost:8080/"
        },
        "outputId": "6f226ea6-0f92-46ac-d1b0-12d162d8fdbf"
      },
      "source": [
        "##8-1-1 使用Tensorflow Logistic regression ...\n",
        "import tensorflow as tf\n",
        "from tensorflow.keras.layers import Dense \n",
        "from tensorflow.keras import Sequential\n",
        "from tensorflow.keras.metrics import AUC, Precision, Recall\n",
        "model1=Sequential()\n",
        "model1.add(Dense(units=1,input_dim=4,activation='sigmoid')) ###'softmax' is for multiclass outcome.\n",
        "model1.compile(loss='binary_crossentropy',optimizer='adam',metrics=['accuracy',AUC(),Precision(),Recall()])\n",
        "model1.fit(x_train, y_train, epochs=20,batch_size=10,validation_data=(x_vald,y_vald))"
      ],
      "execution_count": 23,
      "outputs": [
        {
          "output_type": "stream",
          "text": [
            "Epoch 1/20\n",
            "10/10 [==============================] - 1s 58ms/step - loss: 14.5170 - accuracy: 0.1720 - auc_2: 0.5000 - precision_2: 0.1720 - recall_2: 1.0000 - val_loss: 13.7283 - val_accuracy: 0.1587 - val_auc_2: 0.5000 - val_precision_2: 0.1587 - val_recall_2: 1.0000\n",
            "Epoch 2/20\n",
            "10/10 [==============================] - 0s 4ms/step - loss: 14.2586 - accuracy: 0.1720 - auc_2: 0.5000 - precision_2: 0.1720 - recall_2: 1.0000 - val_loss: 13.4554 - val_accuracy: 0.1587 - val_auc_2: 0.5000 - val_precision_2: 0.1587 - val_recall_2: 1.0000\n",
            "Epoch 3/20\n",
            "10/10 [==============================] - 0s 6ms/step - loss: 13.9923 - accuracy: 0.1720 - auc_2: 0.5065 - precision_2: 0.1720 - recall_2: 1.0000 - val_loss: 13.1821 - val_accuracy: 0.1587 - val_auc_2: 0.5000 - val_precision_2: 0.1587 - val_recall_2: 1.0000\n",
            "Epoch 4/20\n",
            "10/10 [==============================] - 0s 5ms/step - loss: 13.7280 - accuracy: 0.1720 - auc_2: 0.5065 - precision_2: 0.1720 - recall_2: 1.0000 - val_loss: 12.9087 - val_accuracy: 0.1587 - val_auc_2: 0.5000 - val_precision_2: 0.1587 - val_recall_2: 1.0000\n",
            "Epoch 5/20\n",
            "10/10 [==============================] - 0s 7ms/step - loss: 13.4674 - accuracy: 0.1720 - auc_2: 0.5065 - precision_2: 0.1720 - recall_2: 1.0000 - val_loss: 12.6370 - val_accuracy: 0.1587 - val_auc_2: 0.5000 - val_precision_2: 0.1587 - val_recall_2: 1.0000\n",
            "Epoch 6/20\n",
            "10/10 [==============================] - 0s 4ms/step - loss: 13.2046 - accuracy: 0.1720 - auc_2: 0.5065 - precision_2: 0.1720 - recall_2: 1.0000 - val_loss: 12.3598 - val_accuracy: 0.1587 - val_auc_2: 0.5000 - val_precision_2: 0.1587 - val_recall_2: 1.0000\n",
            "Epoch 7/20\n",
            "10/10 [==============================] - 0s 4ms/step - loss: 12.9359 - accuracy: 0.1720 - auc_2: 0.5065 - precision_2: 0.1720 - recall_2: 1.0000 - val_loss: 12.0805 - val_accuracy: 0.1587 - val_auc_2: 0.5000 - val_precision_2: 0.1587 - val_recall_2: 1.0000\n",
            "Epoch 8/20\n",
            "10/10 [==============================] - 0s 4ms/step - loss: 12.6729 - accuracy: 0.1720 - auc_2: 0.5065 - precision_2: 0.1720 - recall_2: 1.0000 - val_loss: 11.8003 - val_accuracy: 0.1587 - val_auc_2: 0.5000 - val_precision_2: 0.1587 - val_recall_2: 1.0000\n",
            "Epoch 9/20\n",
            "10/10 [==============================] - 0s 4ms/step - loss: 12.4027 - accuracy: 0.1720 - auc_2: 0.5065 - precision_2: 0.1720 - recall_2: 1.0000 - val_loss: 11.5270 - val_accuracy: 0.1587 - val_auc_2: 0.5000 - val_precision_2: 0.1587 - val_recall_2: 1.0000\n",
            "Epoch 10/20\n",
            "10/10 [==============================] - 0s 5ms/step - loss: 12.1431 - accuracy: 0.1720 - auc_2: 0.5065 - precision_2: 0.1720 - recall_2: 1.0000 - val_loss: 11.2492 - val_accuracy: 0.1587 - val_auc_2: 0.5000 - val_precision_2: 0.1587 - val_recall_2: 1.0000\n",
            "Epoch 11/20\n",
            "10/10 [==============================] - 0s 6ms/step - loss: 11.8730 - accuracy: 0.1720 - auc_2: 0.4821 - precision_2: 0.1720 - recall_2: 1.0000 - val_loss: 10.9736 - val_accuracy: 0.1587 - val_auc_2: 0.5000 - val_precision_2: 0.1587 - val_recall_2: 1.0000\n",
            "Epoch 12/20\n",
            "10/10 [==============================] - 0s 5ms/step - loss: 11.6086 - accuracy: 0.1720 - auc_2: 0.4821 - precision_2: 0.1720 - recall_2: 1.0000 - val_loss: 10.6971 - val_accuracy: 0.1587 - val_auc_2: 0.5000 - val_precision_2: 0.1587 - val_recall_2: 1.0000\n",
            "Epoch 13/20\n",
            "10/10 [==============================] - 0s 5ms/step - loss: 11.3494 - accuracy: 0.1720 - auc_2: 0.4821 - precision_2: 0.1720 - recall_2: 1.0000 - val_loss: 10.4274 - val_accuracy: 0.1587 - val_auc_2: 0.5094 - val_precision_2: 0.1587 - val_recall_2: 1.0000\n",
            "Epoch 14/20\n",
            "10/10 [==============================] - 0s 7ms/step - loss: 11.0884 - accuracy: 0.1720 - auc_2: 0.4821 - precision_2: 0.1720 - recall_2: 1.0000 - val_loss: 10.1609 - val_accuracy: 0.1587 - val_auc_2: 0.5094 - val_precision_2: 0.1587 - val_recall_2: 1.0000\n",
            "Epoch 15/20\n",
            "10/10 [==============================] - 0s 4ms/step - loss: 10.8323 - accuracy: 0.1720 - auc_2: 0.4882 - precision_2: 0.1720 - recall_2: 1.0000 - val_loss: 9.8901 - val_accuracy: 0.1587 - val_auc_2: 0.5189 - val_precision_2: 0.1587 - val_recall_2: 1.0000\n",
            "Epoch 16/20\n",
            "10/10 [==============================] - 0s 4ms/step - loss: 10.5771 - accuracy: 0.1720 - auc_2: 0.4886 - precision_2: 0.1720 - recall_2: 1.0000 - val_loss: 9.6122 - val_accuracy: 0.1587 - val_auc_2: 0.5283 - val_precision_2: 0.1587 - val_recall_2: 1.0000\n",
            "Epoch 17/20\n",
            "10/10 [==============================] - 0s 5ms/step - loss: 10.3120 - accuracy: 0.1720 - auc_2: 0.4878 - precision_2: 0.1720 - recall_2: 1.0000 - val_loss: 9.3453 - val_accuracy: 0.1587 - val_auc_2: 0.5472 - val_precision_2: 0.1587 - val_recall_2: 1.0000\n",
            "Epoch 18/20\n",
            "10/10 [==============================] - 0s 6ms/step - loss: 10.0546 - accuracy: 0.1720 - auc_2: 0.4947 - precision_2: 0.1720 - recall_2: 1.0000 - val_loss: 9.0774 - val_accuracy: 0.1587 - val_auc_2: 0.5660 - val_precision_2: 0.1587 - val_recall_2: 1.0000\n",
            "Epoch 19/20\n",
            "10/10 [==============================] - 0s 5ms/step - loss: 9.7955 - accuracy: 0.1720 - auc_2: 0.4947 - precision_2: 0.1720 - recall_2: 1.0000 - val_loss: 8.8052 - val_accuracy: 0.1587 - val_auc_2: 0.5660 - val_precision_2: 0.1587 - val_recall_2: 1.0000\n",
            "Epoch 20/20\n",
            "10/10 [==============================] - 0s 6ms/step - loss: 9.5323 - accuracy: 0.1720 - auc_2: 0.4947 - precision_2: 0.1720 - recall_2: 1.0000 - val_loss: 8.5323 - val_accuracy: 0.1587 - val_auc_2: 0.5849 - val_precision_2: 0.1587 - val_recall_2: 1.0000\n"
          ],
          "name": "stdout"
        },
        {
          "output_type": "execute_result",
          "data": {
            "text/plain": [
              "<tensorflow.python.keras.callbacks.History at 0x7f57b82476d0>"
            ]
          },
          "metadata": {
            "tags": []
          },
          "execution_count": 23
        }
      ]
    },
    {
      "cell_type": "code",
      "metadata": {
        "id": "w3zqJ77WIrBG",
        "outputId": "40639e7d-9b55-460e-fa41-db2ed46edf3e",
        "colab": {
          "base_uri": "https://localhost:8080/"
        }
      },
      "source": [
        "##8-1-2 計算accuracy...\n",
        "score1=model1.evaluate(x_test,y_test)\n",
        "print('{}-->{}'.format(model1.metrics_names[0],score1[0]))\n",
        "print('{}-->{}'.format(model1.metrics_names[1],score1[1]))\n",
        "print('{}-->{}'.format(model1.metrics_names[2],score1[2]))\n",
        "print('{}-->{}'.format(model1.metrics_names[3],score1[3]))\n",
        "print('{}-->{}'.format(model1.metrics_names[4],score1[4]))\n",
        "\n",
        "print('='*30)\n",
        "from sklearn.metrics import roc_auc_score\n",
        "print('AUC for testing set:')\n",
        "predicted_prob=model1.predict(x_test)\n",
        "roc_auc_score(y_test,predicted_prob)"
      ],
      "execution_count": 24,
      "outputs": [
        {
          "output_type": "stream",
          "text": [
            "1/1 [==============================] - 0s 430ms/step - loss: 8.1064 - accuracy: 0.2812 - auc_2: 0.5652 - precision_2: 0.2812 - recall_2: 1.0000\n",
            "loss-->8.1063871383667\n",
            "accuracy-->0.28125\n",
            "auc_2-->0.5652173757553101\n",
            "precision_2-->0.28125\n",
            "recall_2-->1.0\n",
            "==============================\n",
            "AUC for testing set:\n"
          ],
          "name": "stdout"
        },
        {
          "output_type": "execute_result",
          "data": {
            "text/plain": [
              "0.6642512077294687"
            ]
          },
          "metadata": {
            "tags": []
          },
          "execution_count": 24
        }
      ]
    },
    {
      "cell_type": "code",
      "metadata": {
        "id": "5g-bXTS8feo3",
        "colab": {
          "base_uri": "https://localhost:8080/",
          "height": 295
        },
        "outputId": "94516725-23bc-4826-e065-5cb2828d19ba"
      },
      "source": [
        "##8-1-3 繪製ROC曲線圖...\n",
        "from sklearn.metrics import roc_auc_score, roc_curve\n",
        "from matplotlib import pyplot as plt\n",
        "AUC面積=roc_auc_score(y_test, predicted_prob) ##0.6973180076628352\n",
        "fpr,tpr,thresholds=roc_curve(y_test,predicted_prob)\n",
        "plt.figure()\n",
        "plt.plot(fpr,tpr,label='Logistic regression (area = %0.3f)'%AUC面積)\n",
        "plt.plot([0,1],[0,1],'r--')\n",
        "plt.xlim([0.0,1.0])\n",
        "plt.ylim([0.0,1.05])\n",
        "plt.xlabel('False Positive Rate')\n",
        "plt.ylabel('True Positive Rate')\n",
        "plt.title('Receiver operating characteristic ROC')\n",
        "plt.legend(loc=\"lower right\")\n",
        "plt.show()"
      ],
      "execution_count": 25,
      "outputs": [
        {
          "output_type": "display_data",
          "data": {
            "image/png": "[encoded data removed]",
            "text/plain": [
              "<Figure size 432x288 with 1 Axes>"
            ]
          },
          "metadata": {
            "tags": [],
            "needs_background": "light"
          }
        }
      ]
    },
    {
      "cell_type": "code",
      "metadata": {
        "id": "eWcEQkLEkwqg"
      },
      "source": [
        "##8-2-1使用pytorch\n",
        "import torch \n",
        "x_train_=torch.from_numpy(x_train.to_numpy().astype(np.float32))\n",
        "x_vald_=torch.from_numpy(x_vald.to_numpy().astype(np.float32))\n",
        "x_test_=torch.from_numpy(x_test.to_numpy().astype(np.float32))\n",
        "y_train_=torch.from_numpy(y_train.to_numpy().astype(np.float32))\n",
        "y_vald_=torch.from_numpy(y_vald.to_numpy().astype(np.float32))\n",
        "y_test_=torch.from_numpy(y_test.to_numpy().astype(np.float32))"
      ],
      "execution_count": 26,
      "outputs": []
    },
    {
      "cell_type": "code",
      "metadata": {
        "id": "xeGXSUOKls-U"
      },
      "source": [
        "##8-2-2 建立 class\n",
        "import torch\n",
        "class Logistic_Reg_model(torch.nn.Module):\n",
        "  def __init__(self,no_input_features):\n",
        "    super(Logistic_Reg_model,self).__init__()\n",
        "    self.layer1=torch.nn.Linear(no_input_features,4)\n",
        "    self.layer2=torch.nn.Linear(4,1)\n",
        "  def forward(self,x):\n",
        "    y_predicted=self.layer1(x)\n",
        "    y_predicted=torch.sigmoid(self.layer2(y_predicted))\n",
        "    return y_predicted"
      ],
      "execution_count": 27,
      "outputs": []
    },
    {
      "cell_type": "code",
      "metadata": {
        "id": "OIlE_e6-lx62",
        "colab": {
          "base_uri": "https://localhost:8080/"
        },
        "outputId": "eef4489e-b773-4836-a4b5-21fa116c06aa"
      },
      "source": [
        "##8-2-3 訓練model\n",
        "import torch\n",
        "樣本數,變項數=x_train_.shape\n",
        "model2=Logistic_Reg_model(變項數)\n",
        "criterion=torch.nn.BCELoss()\n",
        "optimizer=torch.optim.SGD(model2.parameters(),lr=0.01)\n",
        "number_of_epochs=20\n",
        "for epoch in range(number_of_epochs):\n",
        "  y_prediction=model2(x_train_)\n",
        "  loss=criterion(y_prediction,y_train_)\n",
        "  loss.backward()\n",
        "  optimizer.step()\n",
        "  optimizer.zero_grad()\n",
        "  if (epoch+1)%10==0:\n",
        "    print('epoch:',epoch+1,', loss=',loss.item())"
      ],
      "execution_count": 28,
      "outputs": [
        {
          "output_type": "stream",
          "text": [
            "epoch: 10 , loss= 0.4499034583568573\n",
            "epoch: 20 , loss= 0.443524032831192\n"
          ],
          "name": "stdout"
        }
      ]
    },
    {
      "cell_type": "code",
      "metadata": {
        "id": "qRNV9W0sSKh1"
      },
      "source": [
        "##8-2-4測試testing group\n",
        "import torch\n",
        "with torch.no_grad():\n",
        "  y_pred=model2(x_test_)\n",
        "  y_pred_class=y_pred.round()\n",
        "  accuracy=float(y_pred_class.eq(y_test_).sum())/float(y_test_.shape[0])\n",
        "print(accuracy)\n",
        "print(y_pred)"
      ],
      "execution_count": null,
      "outputs": []
    },
    {
      "cell_type": "code",
      "metadata": {
        "id": "Onibws0jzkQ-",
        "colab": {
          "base_uri": "https://localhost:8080/",
          "height": 295
        },
        "outputId": "2b33c10b-0fc9-4ec4-910e-e2ae8fd4271e"
      },
      "source": [
        "##8-2-5 計算AUC\n",
        "from sklearn.metrics import roc_auc_score, roc_curve\n",
        "from matplotlib import pyplot as plt\n",
        "AUC面積=roc_auc_score(y_test, y_pred) ##0.609\n",
        "fpr,tpr,thresholds=roc_curve(y_test,y_pred)\n",
        "plt.figure()\n",
        "plt.plot(fpr,tpr,label='Logistic regression (area = %0.3f)'%AUC面積)\n",
        "plt.plot([0,1],[0,1],'r--')\n",
        "plt.xlim([0.0,1.0])\n",
        "plt.ylim([0.0,1.05])\n",
        "plt.xlabel('False Positive Rate')\n",
        "plt.ylabel('True Positive Rate')\n",
        "plt.title('Receiver operating characteristic ROC')\n",
        "plt.legend(loc=\"lower right\")\n",
        "plt.show()"
      ],
      "execution_count": 30,
      "outputs": [
        {
          "output_type": "display_data",
          "data": {
            "image/png": "[encoded data removed]",
            "text/plain": [
              "<Figure size 432x288 with 1 Axes>"
            ]
          },
          "metadata": {
            "tags": [],
            "needs_background": "light"
          }
        }
      ]
    },
    {
      "cell_type": "code",
      "metadata": {
        "id": "oeZJVm7jWGR5",
        "colab": {
          "base_uri": "https://localhost:8080/"
        },
        "outputId": "54b38a02-6a4a-46ba-8327-acf42120f188"
      },
      "source": [
        "##8-3-1 Deep Learning Model...\n",
        "import tensorflow as tf\n",
        "import numpy as np\n",
        "from tensorflow import keras\n",
        "from tensorflow.keras.layers import Dense \n",
        "model3=keras.Sequential()\n",
        "model3.add(Dense(8,input_dim=4,activation='relu'))\n",
        "model3.add(Dense(5,activation='relu'))\n",
        "model3.add(Dense(1,activation='sigmoid'))\n",
        "model3.summary()"
      ],
      "execution_count": 31,
      "outputs": [
        {
          "output_type": "stream",
          "text": [
            "Model: \"sequential_3\"\n",
            "_________________________________________________________________\n",
            "Layer (type)                 Output Shape              Param #   \n",
            "=================================================================\n",
            "dense_5 (Dense)              (None, 8)                 40        \n",
            "_________________________________________________________________\n",
            "dense_6 (Dense)              (None, 5)                 45        \n",
            "_________________________________________________________________\n",
            "dense_7 (Dense)              (None, 1)                 6         \n",
            "=================================================================\n",
            "Total params: 91\n",
            "Trainable params: 91\n",
            "Non-trainable params: 0\n",
            "_________________________________________________________________\n"
          ],
          "name": "stdout"
        }
      ]
    },
    {
      "cell_type": "code",
      "metadata": {
        "id": "K9GPIOINXjCO",
        "colab": {
          "base_uri": "https://localhost:8080/"
        },
        "outputId": "4669400b-367d-484a-9914-29d07295046a"
      },
      "source": [
        "##8-3-2 Training model..\n",
        "from tensorflow.keras.metrics import AUC, Precision, Recall\n",
        "model3.compile(loss='binary_crossentropy',optimizer='adam',metrics=['accuracy',AUC(),Precision(),Recall()])\n",
        "model3.fit(x_train, y_train,epochs=200, batch_size=10,validation_data=(x_vald,y_vald))"
      ],
      "execution_count": 41,
      "outputs": [
        {
          "output_type": "stream",
          "text": [
            "Epoch 1/200\n",
            "10/10 [==============================] - 1s 55ms/step - loss: 0.3840 - accuracy: 0.8602 - auc_6: 0.8174 - precision_6: 0.8000 - recall_6: 0.2500 - val_loss: 0.3712 - val_accuracy: 0.8571 - val_auc_6: 0.8245 - val_precision_6: 0.6000 - val_recall_6: 0.3000\n",
            "Epoch 2/200\n",
            "10/10 [==============================] - 0s 5ms/step - loss: 0.3806 - accuracy: 0.8602 - auc_6: 0.8190 - precision_6: 0.8000 - recall_6: 0.2500 - val_loss: 0.3705 - val_accuracy: 0.8571 - val_auc_6: 0.8236 - val_precision_6: 0.6000 - val_recall_6: 0.3000\n",
            "Epoch 3/200\n",
            "10/10 [==============================] - 0s 6ms/step - loss: 0.3803 - accuracy: 0.8602 - auc_6: 0.8174 - precision_6: 0.7143 - recall_6: 0.3125 - val_loss: 0.3704 - val_accuracy: 0.8571 - val_auc_6: 0.8236 - val_precision_6: 0.6000 - val_recall_6: 0.3000\n",
            "Epoch 4/200\n",
            "10/10 [==============================] - 0s 6ms/step - loss: 0.3799 - accuracy: 0.8602 - auc_6: 0.8413 - precision_6: 0.8000 - recall_6: 0.2500 - val_loss: 0.3690 - val_accuracy: 0.8571 - val_auc_6: 0.8245 - val_precision_6: 0.6000 - val_recall_6: 0.3000\n",
            "Epoch 5/200\n",
            "10/10 [==============================] - 0s 5ms/step - loss: 0.3792 - accuracy: 0.8602 - auc_6: 0.8198 - precision_6: 0.8000 - recall_6: 0.2500 - val_loss: 0.3696 - val_accuracy: 0.8413 - val_auc_6: 0.8245 - val_precision_6: 0.5000 - val_recall_6: 0.3000\n",
            "Epoch 6/200\n",
            "10/10 [==============================] - 0s 7ms/step - loss: 0.3777 - accuracy: 0.8602 - auc_6: 0.8218 - precision_6: 0.8000 - recall_6: 0.2500 - val_loss: 0.3674 - val_accuracy: 0.8730 - val_auc_6: 0.8245 - val_precision_6: 0.7500 - val_recall_6: 0.3000\n",
            "Epoch 7/200\n",
            "10/10 [==============================] - 0s 5ms/step - loss: 0.3772 - accuracy: 0.8602 - auc_6: 0.8251 - precision_6: 0.8000 - recall_6: 0.2500 - val_loss: 0.3671 - val_accuracy: 0.8730 - val_auc_6: 0.8245 - val_precision_6: 0.7500 - val_recall_6: 0.3000\n",
            "Epoch 8/200\n",
            "10/10 [==============================] - 0s 7ms/step - loss: 0.3769 - accuracy: 0.8602 - auc_6: 0.8247 - precision_6: 0.8000 - recall_6: 0.2500 - val_loss: 0.3680 - val_accuracy: 0.8413 - val_auc_6: 0.8236 - val_precision_6: 0.5000 - val_recall_6: 0.3000\n",
            "Epoch 9/200\n",
            "10/10 [==============================] - 0s 5ms/step - loss: 0.3766 - accuracy: 0.8602 - auc_6: 0.8202 - precision_6: 0.8000 - recall_6: 0.2500 - val_loss: 0.3677 - val_accuracy: 0.8413 - val_auc_6: 0.8245 - val_precision_6: 0.5000 - val_recall_6: 0.3000\n",
            "Epoch 10/200\n",
            "10/10 [==============================] - 0s 7ms/step - loss: 0.3753 - accuracy: 0.8602 - auc_6: 0.8239 - precision_6: 0.8000 - recall_6: 0.2500 - val_loss: 0.3662 - val_accuracy: 0.8571 - val_auc_6: 0.8245 - val_precision_6: 0.6000 - val_recall_6: 0.3000\n",
            "Epoch 11/200\n",
            "10/10 [==============================] - 0s 5ms/step - loss: 0.3752 - accuracy: 0.8602 - auc_6: 0.8226 - precision_6: 0.8000 - recall_6: 0.2500 - val_loss: 0.3659 - val_accuracy: 0.8413 - val_auc_6: 0.8245 - val_precision_6: 0.5000 - val_recall_6: 0.3000\n",
            "Epoch 12/200\n",
            "10/10 [==============================] - 0s 7ms/step - loss: 0.3744 - accuracy: 0.8710 - auc_6: 0.8218 - precision_6: 0.8333 - recall_6: 0.3125 - val_loss: 0.3669 - val_accuracy: 0.8413 - val_auc_6: 0.8245 - val_precision_6: 0.5000 - val_recall_6: 0.3000\n",
            "Epoch 13/200\n",
            "10/10 [==============================] - 0s 5ms/step - loss: 0.3752 - accuracy: 0.8602 - auc_6: 0.8194 - precision_6: 0.8000 - recall_6: 0.2500 - val_loss: 0.3653 - val_accuracy: 0.8571 - val_auc_6: 0.8245 - val_precision_6: 0.6000 - val_recall_6: 0.3000\n",
            "Epoch 14/200\n",
            "10/10 [==============================] - 0s 5ms/step - loss: 0.3732 - accuracy: 0.8602 - auc_6: 0.8231 - precision_6: 0.8000 - recall_6: 0.2500 - val_loss: 0.3659 - val_accuracy: 0.8413 - val_auc_6: 0.8236 - val_precision_6: 0.5000 - val_recall_6: 0.3000\n",
            "Epoch 15/200\n",
            "10/10 [==============================] - 0s 5ms/step - loss: 0.3733 - accuracy: 0.8710 - auc_6: 0.8198 - precision_6: 0.8333 - recall_6: 0.3125 - val_loss: 0.3660 - val_accuracy: 0.8413 - val_auc_6: 0.8217 - val_precision_6: 0.5000 - val_recall_6: 0.3000\n",
            "Epoch 16/200\n",
            "10/10 [==============================] - 0s 5ms/step - loss: 0.3734 - accuracy: 0.8602 - auc_6: 0.8182 - precision_6: 0.7143 - recall_6: 0.3125 - val_loss: 0.3653 - val_accuracy: 0.8413 - val_auc_6: 0.8226 - val_precision_6: 0.5000 - val_recall_6: 0.3000\n",
            "Epoch 17/200\n",
            "10/10 [==============================] - 0s 6ms/step - loss: 0.3722 - accuracy: 0.8602 - auc_6: 0.8206 - precision_6: 0.8000 - recall_6: 0.2500 - val_loss: 0.3629 - val_accuracy: 0.8571 - val_auc_6: 0.8245 - val_precision_6: 0.6000 - val_recall_6: 0.3000\n",
            "Epoch 18/200\n",
            "10/10 [==============================] - 0s 5ms/step - loss: 0.3723 - accuracy: 0.8602 - auc_6: 0.8348 - precision_6: 0.8000 - recall_6: 0.2500 - val_loss: 0.3628 - val_accuracy: 0.8571 - val_auc_6: 0.8245 - val_precision_6: 0.6000 - val_recall_6: 0.3000\n",
            "Epoch 19/200\n",
            "10/10 [==============================] - 0s 5ms/step - loss: 0.3720 - accuracy: 0.8602 - auc_6: 0.8218 - precision_6: 0.8000 - recall_6: 0.2500 - val_loss: 0.3632 - val_accuracy: 0.8571 - val_auc_6: 0.8226 - val_precision_6: 0.6000 - val_recall_6: 0.3000\n",
            "Epoch 20/200\n",
            "10/10 [==============================] - 0s 6ms/step - loss: 0.3721 - accuracy: 0.8602 - auc_6: 0.8178 - precision_6: 0.8000 - recall_6: 0.2500 - val_loss: 0.3622 - val_accuracy: 0.8571 - val_auc_6: 0.8226 - val_precision_6: 0.6000 - val_recall_6: 0.3000\n",
            "Epoch 21/200\n",
            "10/10 [==============================] - 0s 6ms/step - loss: 0.3706 - accuracy: 0.8710 - auc_6: 0.8182 - precision_6: 0.8333 - recall_6: 0.3125 - val_loss: 0.3624 - val_accuracy: 0.8571 - val_auc_6: 0.8217 - val_precision_6: 0.6000 - val_recall_6: 0.3000\n",
            "Epoch 22/200\n",
            "10/10 [==============================] - 0s 7ms/step - loss: 0.3708 - accuracy: 0.8602 - auc_6: 0.8206 - precision_6: 0.8000 - recall_6: 0.2500 - val_loss: 0.3608 - val_accuracy: 0.8571 - val_auc_6: 0.8217 - val_precision_6: 0.6000 - val_recall_6: 0.3000\n",
            "Epoch 23/200\n",
            "10/10 [==============================] - 0s 5ms/step - loss: 0.3709 - accuracy: 0.8710 - auc_6: 0.8239 - precision_6: 0.8333 - recall_6: 0.3125 - val_loss: 0.3630 - val_accuracy: 0.8413 - val_auc_6: 0.8236 - val_precision_6: 0.5000 - val_recall_6: 0.3000\n",
            "Epoch 24/200\n",
            "10/10 [==============================] - 0s 6ms/step - loss: 0.3696 - accuracy: 0.8602 - auc_6: 0.8231 - precision_6: 0.8000 - recall_6: 0.2500 - val_loss: 0.3616 - val_accuracy: 0.8413 - val_auc_6: 0.8245 - val_precision_6: 0.5000 - val_recall_6: 0.3000\n",
            "Epoch 25/200\n",
            "10/10 [==============================] - 0s 6ms/step - loss: 0.3693 - accuracy: 0.8602 - auc_6: 0.8259 - precision_6: 0.8000 - recall_6: 0.2500 - val_loss: 0.3606 - val_accuracy: 0.8571 - val_auc_6: 0.8245 - val_precision_6: 0.6000 - val_recall_6: 0.3000\n",
            "Epoch 26/200\n",
            "10/10 [==============================] - 0s 5ms/step - loss: 0.3703 - accuracy: 0.8602 - auc_6: 0.8226 - precision_6: 0.8000 - recall_6: 0.2500 - val_loss: 0.3599 - val_accuracy: 0.8571 - val_auc_6: 0.8236 - val_precision_6: 0.6000 - val_recall_6: 0.3000\n",
            "Epoch 27/200\n",
            "10/10 [==============================] - 0s 6ms/step - loss: 0.3691 - accuracy: 0.8602 - auc_6: 0.8214 - precision_6: 0.8000 - recall_6: 0.2500 - val_loss: 0.3617 - val_accuracy: 0.8413 - val_auc_6: 0.8236 - val_precision_6: 0.5000 - val_recall_6: 0.3000\n",
            "Epoch 28/200\n",
            "10/10 [==============================] - 0s 6ms/step - loss: 0.3699 - accuracy: 0.8710 - auc_6: 0.8149 - precision_6: 0.8333 - recall_6: 0.3125 - val_loss: 0.3624 - val_accuracy: 0.8413 - val_auc_6: 0.8245 - val_precision_6: 0.5000 - val_recall_6: 0.3000\n",
            "Epoch 29/200\n",
            "10/10 [==============================] - 0s 5ms/step - loss: 0.3683 - accuracy: 0.8710 - auc_6: 0.8210 - precision_6: 0.8333 - recall_6: 0.3125 - val_loss: 0.3604 - val_accuracy: 0.8571 - val_auc_6: 0.8226 - val_precision_6: 0.6000 - val_recall_6: 0.3000\n",
            "Epoch 30/200\n",
            "10/10 [==============================] - 0s 5ms/step - loss: 0.3675 - accuracy: 0.8602 - auc_6: 0.8194 - precision_6: 0.7143 - recall_6: 0.3125 - val_loss: 0.3589 - val_accuracy: 0.8571 - val_auc_6: 0.8226 - val_precision_6: 0.6000 - val_recall_6: 0.3000\n",
            "Epoch 31/200\n",
            "10/10 [==============================] - 0s 5ms/step - loss: 0.3670 - accuracy: 0.8710 - auc_6: 0.8214 - precision_6: 0.8333 - recall_6: 0.3125 - val_loss: 0.3589 - val_accuracy: 0.8413 - val_auc_6: 0.8226 - val_precision_6: 0.5000 - val_recall_6: 0.3000\n",
            "Epoch 32/200\n",
            "10/10 [==============================] - 0s 4ms/step - loss: 0.3662 - accuracy: 0.8710 - auc_6: 0.8222 - precision_6: 0.8333 - recall_6: 0.3125 - val_loss: 0.3584 - val_accuracy: 0.8413 - val_auc_6: 0.8245 - val_precision_6: 0.5000 - val_recall_6: 0.3000\n",
            "Epoch 33/200\n",
            "10/10 [==============================] - 0s 6ms/step - loss: 0.3664 - accuracy: 0.8602 - auc_6: 0.8235 - precision_6: 0.8000 - recall_6: 0.2500 - val_loss: 0.3582 - val_accuracy: 0.8413 - val_auc_6: 0.8245 - val_precision_6: 0.5000 - val_recall_6: 0.3000\n",
            "Epoch 34/200\n",
            "10/10 [==============================] - 0s 5ms/step - loss: 0.3645 - accuracy: 0.8710 - auc_6: 0.8283 - precision_6: 0.8333 - recall_6: 0.3125 - val_loss: 0.3587 - val_accuracy: 0.8571 - val_auc_6: 0.8217 - val_precision_6: 0.6000 - val_recall_6: 0.3000\n",
            "Epoch 35/200\n",
            "10/10 [==============================] - 0s 5ms/step - loss: 0.3649 - accuracy: 0.8710 - auc_6: 0.8202 - precision_6: 0.7500 - recall_6: 0.3750 - val_loss: 0.3603 - val_accuracy: 0.8571 - val_auc_6: 0.8208 - val_precision_6: 0.6000 - val_recall_6: 0.3000\n",
            "Epoch 36/200\n",
            "10/10 [==============================] - 0s 6ms/step - loss: 0.3657 - accuracy: 0.8710 - auc_6: 0.8149 - precision_6: 0.7500 - recall_6: 0.3750 - val_loss: 0.3627 - val_accuracy: 0.8413 - val_auc_6: 0.8226 - val_precision_6: 0.5000 - val_recall_6: 0.3000\n",
            "Epoch 37/200\n",
            "10/10 [==============================] - 0s 5ms/step - loss: 0.3658 - accuracy: 0.8602 - auc_6: 0.8174 - precision_6: 0.7143 - recall_6: 0.3125 - val_loss: 0.3604 - val_accuracy: 0.8413 - val_auc_6: 0.8217 - val_precision_6: 0.5000 - val_recall_6: 0.3000\n",
            "Epoch 38/200\n",
            "10/10 [==============================] - 0s 5ms/step - loss: 0.3641 - accuracy: 0.8602 - auc_6: 0.8202 - precision_6: 0.7143 - recall_6: 0.3125 - val_loss: 0.3590 - val_accuracy: 0.8413 - val_auc_6: 0.8226 - val_precision_6: 0.5000 - val_recall_6: 0.3000\n",
            "Epoch 39/200\n",
            "10/10 [==============================] - 0s 6ms/step - loss: 0.3636 - accuracy: 0.8710 - auc_6: 0.8226 - precision_6: 0.8333 - recall_6: 0.3125 - val_loss: 0.3562 - val_accuracy: 0.8413 - val_auc_6: 0.8236 - val_precision_6: 0.5000 - val_recall_6: 0.3000\n",
            "Epoch 40/200\n",
            "10/10 [==============================] - 0s 5ms/step - loss: 0.3642 - accuracy: 0.8710 - auc_6: 0.8202 - precision_6: 0.8333 - recall_6: 0.3125 - val_loss: 0.3563 - val_accuracy: 0.8571 - val_auc_6: 0.8226 - val_precision_6: 0.6000 - val_recall_6: 0.3000\n",
            "Epoch 41/200\n",
            "10/10 [==============================] - 0s 5ms/step - loss: 0.3628 - accuracy: 0.8710 - auc_6: 0.8231 - precision_6: 0.8333 - recall_6: 0.3125 - val_loss: 0.3555 - val_accuracy: 0.8571 - val_auc_6: 0.8217 - val_precision_6: 0.6000 - val_recall_6: 0.3000\n",
            "Epoch 42/200\n",
            "10/10 [==============================] - 0s 6ms/step - loss: 0.3624 - accuracy: 0.8710 - auc_6: 0.8231 - precision_6: 0.8333 - recall_6: 0.3125 - val_loss: 0.3547 - val_accuracy: 0.8571 - val_auc_6: 0.8226 - val_precision_6: 0.6000 - val_recall_6: 0.3000\n",
            "Epoch 43/200\n",
            "10/10 [==============================] - 0s 5ms/step - loss: 0.3621 - accuracy: 0.8710 - auc_6: 0.8283 - precision_6: 0.8333 - recall_6: 0.3125 - val_loss: 0.3547 - val_accuracy: 0.8571 - val_auc_6: 0.8217 - val_precision_6: 0.6000 - val_recall_6: 0.3000\n",
            "Epoch 44/200\n",
            "10/10 [==============================] - 0s 5ms/step - loss: 0.3619 - accuracy: 0.8602 - auc_6: 0.8239 - precision_6: 0.8000 - recall_6: 0.2500 - val_loss: 0.3539 - val_accuracy: 0.8571 - val_auc_6: 0.8226 - val_precision_6: 0.6000 - val_recall_6: 0.3000\n",
            "Epoch 45/200\n",
            "10/10 [==============================] - 0s 7ms/step - loss: 0.3629 - accuracy: 0.8602 - auc_6: 0.8210 - precision_6: 0.8000 - recall_6: 0.2500 - val_loss: 0.3533 - val_accuracy: 0.8571 - val_auc_6: 0.8245 - val_precision_6: 0.6000 - val_recall_6: 0.3000\n",
            "Epoch 46/200\n",
            "10/10 [==============================] - 0s 5ms/step - loss: 0.3611 - accuracy: 0.8710 - auc_6: 0.8263 - precision_6: 0.8333 - recall_6: 0.3125 - val_loss: 0.3550 - val_accuracy: 0.8413 - val_auc_6: 0.8226 - val_precision_6: 0.5000 - val_recall_6: 0.3000\n",
            "Epoch 47/200\n",
            "10/10 [==============================] - 0s 5ms/step - loss: 0.3632 - accuracy: 0.8710 - auc_6: 0.8373 - precision_6: 0.8333 - recall_6: 0.3125 - val_loss: 0.3559 - val_accuracy: 0.8413 - val_auc_6: 0.8245 - val_precision_6: 0.5000 - val_recall_6: 0.3000\n",
            "Epoch 48/200\n",
            "10/10 [==============================] - 0s 6ms/step - loss: 0.3609 - accuracy: 0.8710 - auc_6: 0.8206 - precision_6: 0.8333 - recall_6: 0.3125 - val_loss: 0.3546 - val_accuracy: 0.8571 - val_auc_6: 0.8226 - val_precision_6: 0.6000 - val_recall_6: 0.3000\n",
            "Epoch 49/200\n",
            "10/10 [==============================] - 0s 6ms/step - loss: 0.3603 - accuracy: 0.8710 - auc_6: 0.8190 - precision_6: 0.8333 - recall_6: 0.3125 - val_loss: 0.3529 - val_accuracy: 0.8571 - val_auc_6: 0.8217 - val_precision_6: 0.6000 - val_recall_6: 0.3000\n",
            "Epoch 50/200\n",
            "10/10 [==============================] - 0s 5ms/step - loss: 0.3602 - accuracy: 0.8710 - auc_6: 0.8222 - precision_6: 0.8333 - recall_6: 0.3125 - val_loss: 0.3521 - val_accuracy: 0.8571 - val_auc_6: 0.8226 - val_precision_6: 0.6000 - val_recall_6: 0.3000\n",
            "Epoch 51/200\n",
            "10/10 [==============================] - 0s 6ms/step - loss: 0.3598 - accuracy: 0.8710 - auc_6: 0.8243 - precision_6: 0.8333 - recall_6: 0.3125 - val_loss: 0.3545 - val_accuracy: 0.8413 - val_auc_6: 0.8245 - val_precision_6: 0.5000 - val_recall_6: 0.3000\n",
            "Epoch 52/200\n",
            "10/10 [==============================] - 0s 6ms/step - loss: 0.3602 - accuracy: 0.8710 - auc_6: 0.8364 - precision_6: 0.8333 - recall_6: 0.3125 - val_loss: 0.3549 - val_accuracy: 0.8413 - val_auc_6: 0.8217 - val_precision_6: 0.5000 - val_recall_6: 0.3000\n",
            "Epoch 53/200\n",
            "10/10 [==============================] - 0s 6ms/step - loss: 0.3609 - accuracy: 0.8710 - auc_6: 0.8304 - precision_6: 0.8333 - recall_6: 0.3125 - val_loss: 0.3510 - val_accuracy: 0.8571 - val_auc_6: 0.8245 - val_precision_6: 0.6000 - val_recall_6: 0.3000\n",
            "Epoch 54/200\n",
            "10/10 [==============================] - 0s 8ms/step - loss: 0.3588 - accuracy: 0.8602 - auc_6: 0.8425 - precision_6: 0.8000 - recall_6: 0.2500 - val_loss: 0.3524 - val_accuracy: 0.8413 - val_auc_6: 0.8245 - val_precision_6: 0.5000 - val_recall_6: 0.3000\n",
            "Epoch 55/200\n",
            "10/10 [==============================] - 0s 8ms/step - loss: 0.3585 - accuracy: 0.8710 - auc_6: 0.8381 - precision_6: 0.8333 - recall_6: 0.3125 - val_loss: 0.3533 - val_accuracy: 0.8413 - val_auc_6: 0.8245 - val_precision_6: 0.5000 - val_recall_6: 0.3000\n",
            "Epoch 56/200\n",
            "10/10 [==============================] - 0s 6ms/step - loss: 0.3578 - accuracy: 0.8710 - auc_6: 0.8381 - precision_6: 0.8333 - recall_6: 0.3125 - val_loss: 0.3530 - val_accuracy: 0.8413 - val_auc_6: 0.8236 - val_precision_6: 0.5000 - val_recall_6: 0.3000\n",
            "Epoch 57/200\n",
            "10/10 [==============================] - 0s 7ms/step - loss: 0.3572 - accuracy: 0.8602 - auc_6: 0.8194 - precision_6: 0.7143 - recall_6: 0.3125 - val_loss: 0.3516 - val_accuracy: 0.8571 - val_auc_6: 0.8226 - val_precision_6: 0.6000 - val_recall_6: 0.3000\n",
            "Epoch 58/200\n",
            "10/10 [==============================] - 0s 5ms/step - loss: 0.3588 - accuracy: 0.8710 - auc_6: 0.8178 - precision_6: 0.8333 - recall_6: 0.3125 - val_loss: 0.3486 - val_accuracy: 0.8571 - val_auc_6: 0.8245 - val_precision_6: 0.6000 - val_recall_6: 0.3000\n",
            "Epoch 59/200\n",
            "10/10 [==============================] - 0s 6ms/step - loss: 0.3577 - accuracy: 0.8710 - auc_6: 0.8429 - precision_6: 0.8333 - recall_6: 0.3125 - val_loss: 0.3507 - val_accuracy: 0.8413 - val_auc_6: 0.8245 - val_precision_6: 0.5000 - val_recall_6: 0.3000\n",
            "Epoch 60/200\n",
            "10/10 [==============================] - 0s 6ms/step - loss: 0.3565 - accuracy: 0.8710 - auc_6: 0.8450 - precision_6: 0.8333 - recall_6: 0.3125 - val_loss: 0.3497 - val_accuracy: 0.8571 - val_auc_6: 0.8236 - val_precision_6: 0.6000 - val_recall_6: 0.3000\n",
            "Epoch 61/200\n",
            "10/10 [==============================] - 0s 7ms/step - loss: 0.3579 - accuracy: 0.8602 - auc_6: 0.8251 - precision_6: 0.8000 - recall_6: 0.2500 - val_loss: 0.3483 - val_accuracy: 0.8571 - val_auc_6: 0.8245 - val_precision_6: 0.6000 - val_recall_6: 0.3000\n",
            "Epoch 62/200\n",
            "10/10 [==============================] - 0s 6ms/step - loss: 0.3560 - accuracy: 0.8710 - auc_6: 0.8450 - precision_6: 0.8333 - recall_6: 0.3125 - val_loss: 0.3499 - val_accuracy: 0.8571 - val_auc_6: 0.8236 - val_precision_6: 0.6000 - val_recall_6: 0.3000\n",
            "Epoch 63/200\n",
            "10/10 [==============================] - 0s 7ms/step - loss: 0.3560 - accuracy: 0.8710 - auc_6: 0.8454 - precision_6: 0.8333 - recall_6: 0.3125 - val_loss: 0.3517 - val_accuracy: 0.8413 - val_auc_6: 0.8236 - val_precision_6: 0.5000 - val_recall_6: 0.3000\n",
            "Epoch 64/200\n",
            "10/10 [==============================] - 0s 5ms/step - loss: 0.3550 - accuracy: 0.8710 - auc_6: 0.8364 - precision_6: 0.7500 - recall_6: 0.3750 - val_loss: 0.3528 - val_accuracy: 0.8413 - val_auc_6: 0.8217 - val_precision_6: 0.5000 - val_recall_6: 0.3000\n",
            "Epoch 65/200\n",
            "10/10 [==============================] - 0s 6ms/step - loss: 0.3553 - accuracy: 0.8710 - auc_6: 0.8344 - precision_6: 0.7500 - recall_6: 0.3750 - val_loss: 0.3513 - val_accuracy: 0.8413 - val_auc_6: 0.8217 - val_precision_6: 0.5000 - val_recall_6: 0.3000\n",
            "Epoch 66/200\n",
            "10/10 [==============================] - 0s 8ms/step - loss: 0.3547 - accuracy: 0.8602 - auc_6: 0.8348 - precision_6: 0.7143 - recall_6: 0.3125 - val_loss: 0.3504 - val_accuracy: 0.8413 - val_auc_6: 0.8236 - val_precision_6: 0.5000 - val_recall_6: 0.3000\n",
            "Epoch 67/200\n",
            "10/10 [==============================] - 0s 5ms/step - loss: 0.3564 - accuracy: 0.8602 - auc_6: 0.8328 - precision_6: 0.7143 - recall_6: 0.3125 - val_loss: 0.3521 - val_accuracy: 0.8413 - val_auc_6: 0.8217 - val_precision_6: 0.5000 - val_recall_6: 0.3000\n",
            "Epoch 68/200\n",
            "10/10 [==============================] - 0s 6ms/step - loss: 0.3537 - accuracy: 0.8602 - auc_6: 0.8373 - precision_6: 0.6667 - recall_6: 0.3750 - val_loss: 0.3528 - val_accuracy: 0.8413 - val_auc_6: 0.8208 - val_precision_6: 0.5000 - val_recall_6: 0.3000\n",
            "Epoch 69/200\n",
            "10/10 [==============================] - 0s 6ms/step - loss: 0.3542 - accuracy: 0.8602 - auc_6: 0.8377 - precision_6: 0.6667 - recall_6: 0.3750 - val_loss: 0.3508 - val_accuracy: 0.8413 - val_auc_6: 0.8217 - val_precision_6: 0.5000 - val_recall_6: 0.3000\n",
            "Epoch 70/200\n",
            "10/10 [==============================] - 0s 5ms/step - loss: 0.3526 - accuracy: 0.8602 - auc_6: 0.8401 - precision_6: 0.7143 - recall_6: 0.3125 - val_loss: 0.3492 - val_accuracy: 0.8413 - val_auc_6: 0.8217 - val_precision_6: 0.5000 - val_recall_6: 0.3000\n",
            "Epoch 71/200\n",
            "10/10 [==============================] - 0s 5ms/step - loss: 0.3530 - accuracy: 0.8710 - auc_6: 0.8397 - precision_6: 0.8333 - recall_6: 0.3125 - val_loss: 0.3482 - val_accuracy: 0.8413 - val_auc_6: 0.8255 - val_precision_6: 0.5000 - val_recall_6: 0.3000\n",
            "Epoch 72/200\n",
            "10/10 [==============================] - 0s 5ms/step - loss: 0.3526 - accuracy: 0.8710 - auc_6: 0.8425 - precision_6: 0.8333 - recall_6: 0.3125 - val_loss: 0.3467 - val_accuracy: 0.8571 - val_auc_6: 0.8236 - val_precision_6: 0.6000 - val_recall_6: 0.3000\n",
            "Epoch 73/200\n",
            "10/10 [==============================] - 0s 5ms/step - loss: 0.3519 - accuracy: 0.8710 - auc_6: 0.8421 - precision_6: 0.8333 - recall_6: 0.3125 - val_loss: 0.3463 - val_accuracy: 0.8571 - val_auc_6: 0.8226 - val_precision_6: 0.6000 - val_recall_6: 0.3000\n",
            "Epoch 74/200\n",
            "10/10 [==============================] - 0s 5ms/step - loss: 0.3517 - accuracy: 0.8710 - auc_6: 0.8454 - precision_6: 0.8333 - recall_6: 0.3125 - val_loss: 0.3450 - val_accuracy: 0.8571 - val_auc_6: 0.8245 - val_precision_6: 0.6000 - val_recall_6: 0.3000\n",
            "Epoch 75/200\n",
            "10/10 [==============================] - 0s 6ms/step - loss: 0.3534 - accuracy: 0.8602 - auc_6: 0.8421 - precision_6: 0.8000 - recall_6: 0.2500 - val_loss: 0.3438 - val_accuracy: 0.8571 - val_auc_6: 0.8236 - val_precision_6: 0.6000 - val_recall_6: 0.3000\n",
            "Epoch 76/200\n",
            "10/10 [==============================] - 0s 6ms/step - loss: 0.3510 - accuracy: 0.8817 - auc_6: 0.8462 - precision_6: 1.0000 - recall_6: 0.3125 - val_loss: 0.3447 - val_accuracy: 0.8571 - val_auc_6: 0.8217 - val_precision_6: 0.6000 - val_recall_6: 0.3000\n",
            "Epoch 77/200\n",
            "10/10 [==============================] - 0s 5ms/step - loss: 0.3516 - accuracy: 0.8817 - auc_6: 0.8222 - precision_6: 1.0000 - recall_6: 0.3125 - val_loss: 0.3464 - val_accuracy: 0.8571 - val_auc_6: 0.8236 - val_precision_6: 0.6000 - val_recall_6: 0.3000\n",
            "Epoch 78/200\n",
            "10/10 [==============================] - 0s 6ms/step - loss: 0.3522 - accuracy: 0.8710 - auc_6: 0.8340 - precision_6: 0.7500 - recall_6: 0.3750 - val_loss: 0.3473 - val_accuracy: 0.8571 - val_auc_6: 0.8226 - val_precision_6: 0.6000 - val_recall_6: 0.3000\n",
            "Epoch 79/200\n",
            "10/10 [==============================] - 0s 5ms/step - loss: 0.3531 - accuracy: 0.8602 - auc_6: 0.8332 - precision_6: 0.6667 - recall_6: 0.3750 - val_loss: 0.3503 - val_accuracy: 0.8571 - val_auc_6: 0.8236 - val_precision_6: 0.5714 - val_recall_6: 0.4000\n",
            "Epoch 80/200\n",
            "10/10 [==============================] - 0s 6ms/step - loss: 0.3523 - accuracy: 0.8602 - auc_6: 0.8328 - precision_6: 0.7143 - recall_6: 0.3125 - val_loss: 0.3468 - val_accuracy: 0.8413 - val_auc_6: 0.8236 - val_precision_6: 0.5000 - val_recall_6: 0.3000\n",
            "Epoch 81/200\n",
            "10/10 [==============================] - 0s 6ms/step - loss: 0.3500 - accuracy: 0.8710 - auc_6: 0.8364 - precision_6: 0.7500 - recall_6: 0.3750 - val_loss: 0.3483 - val_accuracy: 0.8413 - val_auc_6: 0.8217 - val_precision_6: 0.5000 - val_recall_6: 0.3000\n",
            "Epoch 82/200\n",
            "10/10 [==============================] - 0s 7ms/step - loss: 0.3492 - accuracy: 0.8710 - auc_6: 0.8377 - precision_6: 0.7500 - recall_6: 0.3750 - val_loss: 0.3462 - val_accuracy: 0.8571 - val_auc_6: 0.8217 - val_precision_6: 0.6000 - val_recall_6: 0.3000\n",
            "Epoch 83/200\n",
            "10/10 [==============================] - 0s 5ms/step - loss: 0.3485 - accuracy: 0.8710 - auc_6: 0.8421 - precision_6: 0.8333 - recall_6: 0.3125 - val_loss: 0.3465 - val_accuracy: 0.8413 - val_auc_6: 0.8255 - val_precision_6: 0.5000 - val_recall_6: 0.3000\n",
            "Epoch 84/200\n",
            "10/10 [==============================] - 0s 7ms/step - loss: 0.3499 - accuracy: 0.8710 - auc_6: 0.8405 - precision_6: 0.8333 - recall_6: 0.3125 - val_loss: 0.3450 - val_accuracy: 0.8413 - val_auc_6: 0.8236 - val_precision_6: 0.5000 - val_recall_6: 0.3000\n",
            "Epoch 85/200\n",
            "10/10 [==============================] - 0s 6ms/step - loss: 0.3489 - accuracy: 0.8710 - auc_6: 0.8401 - precision_6: 0.8333 - recall_6: 0.3125 - val_loss: 0.3449 - val_accuracy: 0.8571 - val_auc_6: 0.8255 - val_precision_6: 0.6000 - val_recall_6: 0.3000\n",
            "Epoch 86/200\n",
            "10/10 [==============================] - 0s 7ms/step - loss: 0.3480 - accuracy: 0.8602 - auc_6: 0.8405 - precision_6: 0.7143 - recall_6: 0.3125 - val_loss: 0.3461 - val_accuracy: 0.8413 - val_auc_6: 0.8217 - val_precision_6: 0.5000 - val_recall_6: 0.3000\n",
            "Epoch 87/200\n",
            "10/10 [==============================] - 0s 5ms/step - loss: 0.3483 - accuracy: 0.8710 - auc_6: 0.8551 - precision_6: 0.7500 - recall_6: 0.3750 - val_loss: 0.3460 - val_accuracy: 0.8413 - val_auc_6: 0.8236 - val_precision_6: 0.5000 - val_recall_6: 0.3000\n",
            "Epoch 88/200\n",
            "10/10 [==============================] - 0s 5ms/step - loss: 0.3488 - accuracy: 0.8710 - auc_6: 0.8421 - precision_6: 0.8333 - recall_6: 0.3125 - val_loss: 0.3450 - val_accuracy: 0.8413 - val_auc_6: 0.8217 - val_precision_6: 0.5000 - val_recall_6: 0.3000\n",
            "Epoch 89/200\n",
            "10/10 [==============================] - 0s 6ms/step - loss: 0.3481 - accuracy: 0.8602 - auc_6: 0.8421 - precision_6: 0.7143 - recall_6: 0.3125 - val_loss: 0.3448 - val_accuracy: 0.8571 - val_auc_6: 0.8217 - val_precision_6: 0.6000 - val_recall_6: 0.3000\n",
            "Epoch 90/200\n",
            "10/10 [==============================] - 0s 5ms/step - loss: 0.3470 - accuracy: 0.8602 - auc_6: 0.8413 - precision_6: 0.7143 - recall_6: 0.3125 - val_loss: 0.3436 - val_accuracy: 0.8571 - val_auc_6: 0.8236 - val_precision_6: 0.6000 - val_recall_6: 0.3000\n",
            "Epoch 91/200\n",
            "10/10 [==============================] - 0s 7ms/step - loss: 0.3465 - accuracy: 0.8710 - auc_6: 0.8421 - precision_6: 0.8333 - recall_6: 0.3125 - val_loss: 0.3422 - val_accuracy: 0.8571 - val_auc_6: 0.8217 - val_precision_6: 0.6000 - val_recall_6: 0.3000\n",
            "Epoch 92/200\n",
            "10/10 [==============================] - 0s 6ms/step - loss: 0.3464 - accuracy: 0.8710 - auc_6: 0.8442 - precision_6: 0.8333 - recall_6: 0.3125 - val_loss: 0.3418 - val_accuracy: 0.8571 - val_auc_6: 0.8226 - val_precision_6: 0.6000 - val_recall_6: 0.3000\n",
            "Epoch 93/200\n",
            "10/10 [==============================] - 0s 5ms/step - loss: 0.3469 - accuracy: 0.8602 - auc_6: 0.8417 - precision_6: 0.7143 - recall_6: 0.3125 - val_loss: 0.3434 - val_accuracy: 0.8571 - val_auc_6: 0.8236 - val_precision_6: 0.6000 - val_recall_6: 0.3000\n",
            "Epoch 94/200\n",
            "10/10 [==============================] - 0s 5ms/step - loss: 0.3459 - accuracy: 0.8602 - auc_6: 0.8429 - precision_6: 0.7143 - recall_6: 0.3125 - val_loss: 0.3422 - val_accuracy: 0.8571 - val_auc_6: 0.8217 - val_precision_6: 0.6000 - val_recall_6: 0.3000\n",
            "Epoch 95/200\n",
            "10/10 [==============================] - 0s 5ms/step - loss: 0.3460 - accuracy: 0.8710 - auc_6: 0.8405 - precision_6: 0.8333 - recall_6: 0.3125 - val_loss: 0.3420 - val_accuracy: 0.8571 - val_auc_6: 0.8236 - val_precision_6: 0.6000 - val_recall_6: 0.3000\n",
            "Epoch 96/200\n",
            "10/10 [==============================] - 0s 5ms/step - loss: 0.3462 - accuracy: 0.8602 - auc_6: 0.8413 - precision_6: 0.7143 - recall_6: 0.3125 - val_loss: 0.3413 - val_accuracy: 0.8571 - val_auc_6: 0.8255 - val_precision_6: 0.6000 - val_recall_6: 0.3000\n",
            "Epoch 97/200\n",
            "10/10 [==============================] - 0s 6ms/step - loss: 0.3453 - accuracy: 0.8602 - auc_6: 0.8425 - precision_6: 0.7143 - recall_6: 0.3125 - val_loss: 0.3410 - val_accuracy: 0.8571 - val_auc_6: 0.8245 - val_precision_6: 0.6000 - val_recall_6: 0.3000\n",
            "Epoch 98/200\n",
            "10/10 [==============================] - 0s 7ms/step - loss: 0.3468 - accuracy: 0.8817 - auc_6: 0.8413 - precision_6: 1.0000 - recall_6: 0.3125 - val_loss: 0.3390 - val_accuracy: 0.8571 - val_auc_6: 0.8264 - val_precision_6: 0.6000 - val_recall_6: 0.3000\n",
            "Epoch 99/200\n",
            "10/10 [==============================] - 0s 6ms/step - loss: 0.3448 - accuracy: 0.8817 - auc_6: 0.8498 - precision_6: 1.0000 - recall_6: 0.3125 - val_loss: 0.3413 - val_accuracy: 0.8571 - val_auc_6: 0.8245 - val_precision_6: 0.6000 - val_recall_6: 0.3000\n",
            "Epoch 100/200\n",
            "10/10 [==============================] - 0s 6ms/step - loss: 0.3436 - accuracy: 0.8710 - auc_6: 0.8389 - precision_6: 0.7500 - recall_6: 0.3750 - val_loss: 0.3431 - val_accuracy: 0.8571 - val_auc_6: 0.8236 - val_precision_6: 0.6000 - val_recall_6: 0.3000\n",
            "Epoch 101/200\n",
            "10/10 [==============================] - 0s 6ms/step - loss: 0.3450 - accuracy: 0.8602 - auc_6: 0.8369 - precision_6: 0.6667 - recall_6: 0.3750 - val_loss: 0.3446 - val_accuracy: 0.8730 - val_auc_6: 0.8226 - val_precision_6: 0.6667 - val_recall_6: 0.4000\n",
            "Epoch 102/200\n",
            "10/10 [==============================] - 0s 5ms/step - loss: 0.3455 - accuracy: 0.8602 - auc_6: 0.8324 - precision_6: 0.6667 - recall_6: 0.3750 - val_loss: 0.3413 - val_accuracy: 0.8571 - val_auc_6: 0.8255 - val_precision_6: 0.6000 - val_recall_6: 0.3000\n",
            "Epoch 103/200\n",
            "10/10 [==============================] - 0s 5ms/step - loss: 0.3435 - accuracy: 0.8817 - auc_6: 0.8385 - precision_6: 0.8571 - recall_6: 0.3750 - val_loss: 0.3394 - val_accuracy: 0.8571 - val_auc_6: 0.8255 - val_precision_6: 0.6000 - val_recall_6: 0.3000\n",
            "Epoch 104/200\n",
            "10/10 [==============================] - 0s 6ms/step - loss: 0.3436 - accuracy: 0.8602 - auc_6: 0.8405 - precision_6: 0.7143 - recall_6: 0.3125 - val_loss: 0.3396 - val_accuracy: 0.8571 - val_auc_6: 0.8236 - val_precision_6: 0.6000 - val_recall_6: 0.3000\n",
            "Epoch 105/200\n",
            "10/10 [==============================] - 0s 7ms/step - loss: 0.3446 - accuracy: 0.8602 - auc_6: 0.8421 - precision_6: 0.7143 - recall_6: 0.3125 - val_loss: 0.3419 - val_accuracy: 0.8413 - val_auc_6: 0.8189 - val_precision_6: 0.5000 - val_recall_6: 0.3000\n",
            "Epoch 106/200\n",
            "10/10 [==============================] - 0s 5ms/step - loss: 0.3442 - accuracy: 0.8710 - auc_6: 0.8421 - precision_6: 0.8333 - recall_6: 0.3125 - val_loss: 0.3407 - val_accuracy: 0.8571 - val_auc_6: 0.8208 - val_precision_6: 0.6000 - val_recall_6: 0.3000\n",
            "Epoch 107/200\n",
            "10/10 [==============================] - 0s 5ms/step - loss: 0.3462 - accuracy: 0.8602 - auc_6: 0.8393 - precision_6: 0.7143 - recall_6: 0.3125 - val_loss: 0.3431 - val_accuracy: 0.8413 - val_auc_6: 0.8160 - val_precision_6: 0.5000 - val_recall_6: 0.3000\n",
            "Epoch 108/200\n",
            "10/10 [==============================] - 0s 6ms/step - loss: 0.3435 - accuracy: 0.8602 - auc_6: 0.8425 - precision_6: 0.7143 - recall_6: 0.3125 - val_loss: 0.3410 - val_accuracy: 0.8413 - val_auc_6: 0.8226 - val_precision_6: 0.5000 - val_recall_6: 0.3000\n",
            "Epoch 109/200\n",
            "10/10 [==============================] - 0s 6ms/step - loss: 0.3433 - accuracy: 0.8710 - auc_6: 0.8417 - precision_6: 0.8333 - recall_6: 0.3125 - val_loss: 0.3387 - val_accuracy: 0.8571 - val_auc_6: 0.8217 - val_precision_6: 0.6000 - val_recall_6: 0.3000\n",
            "Epoch 110/200\n",
            "10/10 [==============================] - 0s 5ms/step - loss: 0.3418 - accuracy: 0.8710 - auc_6: 0.8425 - precision_6: 0.8333 - recall_6: 0.3125 - val_loss: 0.3394 - val_accuracy: 0.8571 - val_auc_6: 0.8245 - val_precision_6: 0.6000 - val_recall_6: 0.3000\n",
            "Epoch 111/200\n",
            "10/10 [==============================] - 0s 7ms/step - loss: 0.3411 - accuracy: 0.8710 - auc_6: 0.8429 - precision_6: 0.7500 - recall_6: 0.3750 - val_loss: 0.3399 - val_accuracy: 0.8571 - val_auc_6: 0.8264 - val_precision_6: 0.6000 - val_recall_6: 0.3000\n",
            "Epoch 112/200\n",
            "10/10 [==============================] - 0s 6ms/step - loss: 0.3423 - accuracy: 0.8602 - auc_6: 0.8421 - precision_6: 0.7143 - recall_6: 0.3125 - val_loss: 0.3386 - val_accuracy: 0.8571 - val_auc_6: 0.8245 - val_precision_6: 0.6000 - val_recall_6: 0.3000\n",
            "Epoch 113/200\n",
            "10/10 [==============================] - 0s 5ms/step - loss: 0.3411 - accuracy: 0.8710 - auc_6: 0.8433 - precision_6: 0.7500 - recall_6: 0.3750 - val_loss: 0.3391 - val_accuracy: 0.8571 - val_auc_6: 0.8255 - val_precision_6: 0.6000 - val_recall_6: 0.3000\n",
            "Epoch 114/200\n",
            "10/10 [==============================] - 0s 6ms/step - loss: 0.3407 - accuracy: 0.8602 - auc_6: 0.8429 - precision_6: 0.6667 - recall_6: 0.3750 - val_loss: 0.3407 - val_accuracy: 0.8571 - val_auc_6: 0.8264 - val_precision_6: 0.6000 - val_recall_6: 0.3000\n",
            "Epoch 115/200\n",
            "10/10 [==============================] - 0s 6ms/step - loss: 0.3410 - accuracy: 0.8602 - auc_6: 0.8417 - precision_6: 0.6667 - recall_6: 0.3750 - val_loss: 0.3403 - val_accuracy: 0.8571 - val_auc_6: 0.8245 - val_precision_6: 0.6000 - val_recall_6: 0.3000\n",
            "Epoch 116/200\n",
            "10/10 [==============================] - 0s 6ms/step - loss: 0.3411 - accuracy: 0.8602 - auc_6: 0.8425 - precision_6: 0.6667 - recall_6: 0.3750 - val_loss: 0.3382 - val_accuracy: 0.8571 - val_auc_6: 0.8255 - val_precision_6: 0.6000 - val_recall_6: 0.3000\n",
            "Epoch 117/200\n",
            "10/10 [==============================] - 0s 6ms/step - loss: 0.3416 - accuracy: 0.8602 - auc_6: 0.8413 - precision_6: 0.6667 - recall_6: 0.3750 - val_loss: 0.3394 - val_accuracy: 0.8571 - val_auc_6: 0.8236 - val_precision_6: 0.6000 - val_recall_6: 0.3000\n",
            "Epoch 118/200\n",
            "10/10 [==============================] - 0s 5ms/step - loss: 0.3399 - accuracy: 0.8710 - auc_6: 0.8438 - precision_6: 0.7500 - recall_6: 0.3750 - val_loss: 0.3376 - val_accuracy: 0.8571 - val_auc_6: 0.8255 - val_precision_6: 0.6000 - val_recall_6: 0.3000\n",
            "Epoch 119/200\n",
            "10/10 [==============================] - 0s 5ms/step - loss: 0.3404 - accuracy: 0.8602 - auc_6: 0.8425 - precision_6: 0.7143 - recall_6: 0.3125 - val_loss: 0.3367 - val_accuracy: 0.8571 - val_auc_6: 0.8255 - val_precision_6: 0.6000 - val_recall_6: 0.3000\n",
            "Epoch 120/200\n",
            "10/10 [==============================] - 0s 5ms/step - loss: 0.3399 - accuracy: 0.8710 - auc_6: 0.8462 - precision_6: 0.8333 - recall_6: 0.3125 - val_loss: 0.3389 - val_accuracy: 0.8571 - val_auc_6: 0.8208 - val_precision_6: 0.6000 - val_recall_6: 0.3000\n",
            "Epoch 121/200\n",
            "10/10 [==============================] - 0s 5ms/step - loss: 0.3430 - accuracy: 0.8602 - auc_6: 0.8401 - precision_6: 0.6667 - recall_6: 0.3750 - val_loss: 0.3424 - val_accuracy: 0.8413 - val_auc_6: 0.8198 - val_precision_6: 0.5000 - val_recall_6: 0.3000\n",
            "Epoch 122/200\n",
            "10/10 [==============================] - 0s 7ms/step - loss: 0.3404 - accuracy: 0.8710 - auc_6: 0.8421 - precision_6: 0.7500 - recall_6: 0.3750 - val_loss: 0.3355 - val_accuracy: 0.8571 - val_auc_6: 0.8245 - val_precision_6: 0.6000 - val_recall_6: 0.3000\n",
            "Epoch 123/200\n",
            "10/10 [==============================] - 0s 5ms/step - loss: 0.3387 - accuracy: 0.8710 - auc_6: 0.8429 - precision_6: 0.8333 - recall_6: 0.3125 - val_loss: 0.3361 - val_accuracy: 0.8571 - val_auc_6: 0.8255 - val_precision_6: 0.6000 - val_recall_6: 0.3000\n",
            "Epoch 124/200\n",
            "10/10 [==============================] - 0s 5ms/step - loss: 0.3385 - accuracy: 0.8817 - auc_6: 0.8454 - precision_6: 0.8571 - recall_6: 0.3750 - val_loss: 0.3397 - val_accuracy: 0.8571 - val_auc_6: 0.8226 - val_precision_6: 0.6000 - val_recall_6: 0.3000\n",
            "Epoch 125/200\n",
            "10/10 [==============================] - 0s 7ms/step - loss: 0.3385 - accuracy: 0.8602 - auc_6: 0.8429 - precision_6: 0.6667 - recall_6: 0.3750 - val_loss: 0.3390 - val_accuracy: 0.8571 - val_auc_6: 0.8264 - val_precision_6: 0.6000 - val_recall_6: 0.3000\n",
            "Epoch 126/200\n",
            "10/10 [==============================] - 0s 5ms/step - loss: 0.3389 - accuracy: 0.8602 - auc_6: 0.8438 - precision_6: 0.6667 - recall_6: 0.3750 - val_loss: 0.3393 - val_accuracy: 0.8730 - val_auc_6: 0.8255 - val_precision_6: 0.6667 - val_recall_6: 0.4000\n",
            "Epoch 127/200\n",
            "10/10 [==============================] - 0s 5ms/step - loss: 0.3405 - accuracy: 0.8602 - auc_6: 0.8417 - precision_6: 0.6667 - recall_6: 0.3750 - val_loss: 0.3354 - val_accuracy: 0.8571 - val_auc_6: 0.8264 - val_precision_6: 0.6000 - val_recall_6: 0.3000\n",
            "Epoch 128/200\n",
            "10/10 [==============================] - 0s 6ms/step - loss: 0.3382 - accuracy: 0.8817 - auc_6: 0.8438 - precision_6: 0.8571 - recall_6: 0.3750 - val_loss: 0.3346 - val_accuracy: 0.8571 - val_auc_6: 0.8274 - val_precision_6: 0.6000 - val_recall_6: 0.3000\n",
            "Epoch 129/200\n",
            "10/10 [==============================] - 0s 6ms/step - loss: 0.3379 - accuracy: 0.8817 - auc_6: 0.8429 - precision_6: 0.8571 - recall_6: 0.3750 - val_loss: 0.3353 - val_accuracy: 0.8571 - val_auc_6: 0.8283 - val_precision_6: 0.6000 - val_recall_6: 0.3000\n",
            "Epoch 130/200\n",
            "10/10 [==============================] - 0s 5ms/step - loss: 0.3384 - accuracy: 0.8817 - auc_6: 0.8425 - precision_6: 0.8571 - recall_6: 0.3750 - val_loss: 0.3351 - val_accuracy: 0.8571 - val_auc_6: 0.8283 - val_precision_6: 0.6000 - val_recall_6: 0.3000\n",
            "Epoch 131/200\n",
            "10/10 [==============================] - 0s 6ms/step - loss: 0.3376 - accuracy: 0.8710 - auc_6: 0.8438 - precision_6: 0.7500 - recall_6: 0.3750 - val_loss: 0.3382 - val_accuracy: 0.8730 - val_auc_6: 0.8245 - val_precision_6: 0.6667 - val_recall_6: 0.4000\n",
            "Epoch 132/200\n",
            "10/10 [==============================] - 0s 6ms/step - loss: 0.3375 - accuracy: 0.8602 - auc_6: 0.8429 - precision_6: 0.6667 - recall_6: 0.3750 - val_loss: 0.3388 - val_accuracy: 0.8730 - val_auc_6: 0.8245 - val_precision_6: 0.6667 - val_recall_6: 0.4000\n",
            "Epoch 133/200\n",
            "10/10 [==============================] - 0s 8ms/step - loss: 0.3380 - accuracy: 0.8602 - auc_6: 0.8397 - precision_6: 0.6667 - recall_6: 0.3750 - val_loss: 0.3376 - val_accuracy: 0.8571 - val_auc_6: 0.8255 - val_precision_6: 0.6000 - val_recall_6: 0.3000\n",
            "Epoch 134/200\n",
            "10/10 [==============================] - 0s 7ms/step - loss: 0.3366 - accuracy: 0.8602 - auc_6: 0.8413 - precision_6: 0.6667 - recall_6: 0.3750 - val_loss: 0.3367 - val_accuracy: 0.8571 - val_auc_6: 0.8255 - val_precision_6: 0.6000 - val_recall_6: 0.3000\n",
            "Epoch 135/200\n",
            "10/10 [==============================] - 0s 7ms/step - loss: 0.3367 - accuracy: 0.8710 - auc_6: 0.8421 - precision_6: 0.7500 - recall_6: 0.3750 - val_loss: 0.3361 - val_accuracy: 0.8571 - val_auc_6: 0.8274 - val_precision_6: 0.6000 - val_recall_6: 0.3000\n",
            "Epoch 136/200\n",
            "10/10 [==============================] - 0s 7ms/step - loss: 0.3372 - accuracy: 0.8710 - auc_6: 0.8429 - precision_6: 0.8333 - recall_6: 0.3125 - val_loss: 0.3336 - val_accuracy: 0.8571 - val_auc_6: 0.8283 - val_precision_6: 0.6000 - val_recall_6: 0.3000\n",
            "Epoch 137/200\n",
            "10/10 [==============================] - 0s 6ms/step - loss: 0.3367 - accuracy: 0.8710 - auc_6: 0.8446 - precision_6: 0.7500 - recall_6: 0.3750 - val_loss: 0.3368 - val_accuracy: 0.8571 - val_auc_6: 0.8245 - val_precision_6: 0.6000 - val_recall_6: 0.3000\n",
            "Epoch 138/200\n",
            "10/10 [==============================] - 0s 5ms/step - loss: 0.3358 - accuracy: 0.8602 - auc_6: 0.8446 - precision_6: 0.6667 - recall_6: 0.3750 - val_loss: 0.3349 - val_accuracy: 0.8571 - val_auc_6: 0.8264 - val_precision_6: 0.6000 - val_recall_6: 0.3000\n",
            "Epoch 139/200\n",
            "10/10 [==============================] - 0s 6ms/step - loss: 0.3360 - accuracy: 0.8710 - auc_6: 0.8433 - precision_6: 0.7500 - recall_6: 0.3750 - val_loss: 0.3346 - val_accuracy: 0.8571 - val_auc_6: 0.8245 - val_precision_6: 0.6000 - val_recall_6: 0.3000\n",
            "Epoch 140/200\n",
            "10/10 [==============================] - 0s 7ms/step - loss: 0.3350 - accuracy: 0.8710 - auc_6: 0.8466 - precision_6: 0.8333 - recall_6: 0.3125 - val_loss: 0.3327 - val_accuracy: 0.8571 - val_auc_6: 0.8255 - val_precision_6: 0.6000 - val_recall_6: 0.3000\n",
            "Epoch 141/200\n",
            "10/10 [==============================] - 0s 6ms/step - loss: 0.3357 - accuracy: 0.8710 - auc_6: 0.8486 - precision_6: 0.8333 - recall_6: 0.3125 - val_loss: 0.3328 - val_accuracy: 0.8571 - val_auc_6: 0.8236 - val_precision_6: 0.6000 - val_recall_6: 0.3000\n",
            "Epoch 142/200\n",
            "10/10 [==============================] - 0s 5ms/step - loss: 0.3344 - accuracy: 0.8710 - auc_6: 0.8482 - precision_6: 0.8333 - recall_6: 0.3125 - val_loss: 0.3330 - val_accuracy: 0.8571 - val_auc_6: 0.8264 - val_precision_6: 0.6000 - val_recall_6: 0.3000\n",
            "Epoch 143/200\n",
            "10/10 [==============================] - 0s 5ms/step - loss: 0.3352 - accuracy: 0.8817 - auc_6: 0.8454 - precision_6: 0.8571 - recall_6: 0.3750 - val_loss: 0.3339 - val_accuracy: 0.8571 - val_auc_6: 0.8264 - val_precision_6: 0.6000 - val_recall_6: 0.3000\n",
            "Epoch 144/200\n",
            "10/10 [==============================] - 0s 6ms/step - loss: 0.3344 - accuracy: 0.8817 - auc_6: 0.8450 - precision_6: 0.8571 - recall_6: 0.3750 - val_loss: 0.3329 - val_accuracy: 0.8571 - val_auc_6: 0.8283 - val_precision_6: 0.6000 - val_recall_6: 0.3000\n",
            "Epoch 145/200\n",
            "10/10 [==============================] - 0s 7ms/step - loss: 0.3353 - accuracy: 0.8710 - auc_6: 0.8442 - precision_6: 0.7500 - recall_6: 0.3750 - val_loss: 0.3348 - val_accuracy: 0.8571 - val_auc_6: 0.8264 - val_precision_6: 0.6000 - val_recall_6: 0.3000\n",
            "Epoch 146/200\n",
            "10/10 [==============================] - 0s 5ms/step - loss: 0.3372 - accuracy: 0.8602 - auc_6: 0.8442 - precision_6: 0.7143 - recall_6: 0.3125 - val_loss: 0.3325 - val_accuracy: 0.8571 - val_auc_6: 0.8236 - val_precision_6: 0.6000 - val_recall_6: 0.3000\n",
            "Epoch 147/200\n",
            "10/10 [==============================] - 0s 7ms/step - loss: 0.3346 - accuracy: 0.8710 - auc_6: 0.8474 - precision_6: 0.8333 - recall_6: 0.3125 - val_loss: 0.3332 - val_accuracy: 0.8571 - val_auc_6: 0.8264 - val_precision_6: 0.6000 - val_recall_6: 0.3000\n",
            "Epoch 148/200\n",
            "10/10 [==============================] - 0s 5ms/step - loss: 0.3356 - accuracy: 0.8602 - auc_6: 0.8413 - precision_6: 0.6667 - recall_6: 0.3750 - val_loss: 0.3421 - val_accuracy: 0.8413 - val_auc_6: 0.8189 - val_precision_6: 0.5000 - val_recall_6: 0.4000\n",
            "Epoch 149/200\n",
            "10/10 [==============================] - 0s 7ms/step - loss: 0.3376 - accuracy: 0.8495 - auc_6: 0.8385 - precision_6: 0.6000 - recall_6: 0.3750 - val_loss: 0.3386 - val_accuracy: 0.8571 - val_auc_6: 0.8245 - val_precision_6: 0.5714 - val_recall_6: 0.4000\n",
            "Epoch 150/200\n",
            "10/10 [==============================] - 0s 6ms/step - loss: 0.3354 - accuracy: 0.8495 - auc_6: 0.8381 - precision_6: 0.6000 - recall_6: 0.3750 - val_loss: 0.3384 - val_accuracy: 0.8571 - val_auc_6: 0.8245 - val_precision_6: 0.5714 - val_recall_6: 0.4000\n",
            "Epoch 151/200\n",
            "10/10 [==============================] - 0s 6ms/step - loss: 0.3332 - accuracy: 0.8602 - auc_6: 0.8320 - precision_6: 0.6667 - recall_6: 0.3750 - val_loss: 0.3345 - val_accuracy: 0.8571 - val_auc_6: 0.8245 - val_precision_6: 0.6000 - val_recall_6: 0.3000\n",
            "Epoch 152/200\n",
            "10/10 [==============================] - 0s 7ms/step - loss: 0.3341 - accuracy: 0.8817 - auc_6: 0.8458 - precision_6: 0.8571 - recall_6: 0.3750 - val_loss: 0.3326 - val_accuracy: 0.8571 - val_auc_6: 0.8236 - val_precision_6: 0.6000 - val_recall_6: 0.3000\n",
            "Epoch 153/200\n",
            "10/10 [==============================] - 0s 6ms/step - loss: 0.3317 - accuracy: 0.8817 - auc_6: 0.8486 - precision_6: 0.8571 - recall_6: 0.3750 - val_loss: 0.3348 - val_accuracy: 0.8571 - val_auc_6: 0.8208 - val_precision_6: 0.6000 - val_recall_6: 0.3000\n",
            "Epoch 154/200\n",
            "10/10 [==============================] - 0s 6ms/step - loss: 0.3329 - accuracy: 0.8602 - auc_6: 0.8466 - precision_6: 0.6667 - recall_6: 0.3750 - val_loss: 0.3388 - val_accuracy: 0.8413 - val_auc_6: 0.8170 - val_precision_6: 0.5000 - val_recall_6: 0.4000\n",
            "Epoch 155/200\n",
            "10/10 [==============================] - 0s 5ms/step - loss: 0.3328 - accuracy: 0.8602 - auc_6: 0.8438 - precision_6: 0.6667 - recall_6: 0.3750 - val_loss: 0.3351 - val_accuracy: 0.8571 - val_auc_6: 0.8208 - val_precision_6: 0.6000 - val_recall_6: 0.3000\n",
            "Epoch 156/200\n",
            "10/10 [==============================] - 0s 8ms/step - loss: 0.3332 - accuracy: 0.8710 - auc_6: 0.8458 - precision_6: 0.8333 - recall_6: 0.3125 - val_loss: 0.3318 - val_accuracy: 0.8571 - val_auc_6: 0.8236 - val_precision_6: 0.6000 - val_recall_6: 0.3000\n",
            "Epoch 157/200\n",
            "10/10 [==============================] - 0s 6ms/step - loss: 0.3320 - accuracy: 0.8817 - auc_6: 0.8502 - precision_6: 1.0000 - recall_6: 0.3125 - val_loss: 0.3344 - val_accuracy: 0.8413 - val_auc_6: 0.8208 - val_precision_6: 0.5000 - val_recall_6: 0.3000\n",
            "Epoch 158/200\n",
            "10/10 [==============================] - 0s 6ms/step - loss: 0.3327 - accuracy: 0.8710 - auc_6: 0.8462 - precision_6: 0.7500 - recall_6: 0.3750 - val_loss: 0.3390 - val_accuracy: 0.8413 - val_auc_6: 0.8217 - val_precision_6: 0.5000 - val_recall_6: 0.3000\n",
            "Epoch 159/200\n",
            "10/10 [==============================] - 0s 6ms/step - loss: 0.3313 - accuracy: 0.8602 - auc_6: 0.8458 - precision_6: 0.6667 - recall_6: 0.3750 - val_loss: 0.3359 - val_accuracy: 0.8413 - val_auc_6: 0.8236 - val_precision_6: 0.5000 - val_recall_6: 0.3000\n",
            "Epoch 160/200\n",
            "10/10 [==============================] - 0s 6ms/step - loss: 0.3320 - accuracy: 0.8817 - auc_6: 0.8470 - precision_6: 0.8571 - recall_6: 0.3750 - val_loss: 0.3326 - val_accuracy: 0.8571 - val_auc_6: 0.8245 - val_precision_6: 0.6000 - val_recall_6: 0.3000\n",
            "Epoch 161/200\n",
            "10/10 [==============================] - 0s 7ms/step - loss: 0.3311 - accuracy: 0.8602 - auc_6: 0.8470 - precision_6: 0.6667 - recall_6: 0.3750 - val_loss: 0.3346 - val_accuracy: 0.8571 - val_auc_6: 0.8255 - val_precision_6: 0.6000 - val_recall_6: 0.3000\n",
            "Epoch 162/200\n",
            "10/10 [==============================] - 0s 7ms/step - loss: 0.3310 - accuracy: 0.8602 - auc_6: 0.8466 - precision_6: 0.6667 - recall_6: 0.3750 - val_loss: 0.3347 - val_accuracy: 0.8571 - val_auc_6: 0.8255 - val_precision_6: 0.6000 - val_recall_6: 0.3000\n",
            "Epoch 163/200\n",
            "10/10 [==============================] - 0s 6ms/step - loss: 0.3307 - accuracy: 0.8602 - auc_6: 0.8490 - precision_6: 0.6667 - recall_6: 0.3750 - val_loss: 0.3335 - val_accuracy: 0.8571 - val_auc_6: 0.8255 - val_precision_6: 0.6000 - val_recall_6: 0.3000\n",
            "Epoch 164/200\n",
            "10/10 [==============================] - 0s 6ms/step - loss: 0.3301 - accuracy: 0.8710 - auc_6: 0.8490 - precision_6: 0.7500 - recall_6: 0.3750 - val_loss: 0.3321 - val_accuracy: 0.8571 - val_auc_6: 0.8236 - val_precision_6: 0.6000 - val_recall_6: 0.3000\n",
            "Epoch 165/200\n",
            "10/10 [==============================] - 0s 6ms/step - loss: 0.3311 - accuracy: 0.8817 - auc_6: 0.8462 - precision_6: 0.8571 - recall_6: 0.3750 - val_loss: 0.3310 - val_accuracy: 0.8571 - val_auc_6: 0.8274 - val_precision_6: 0.6000 - val_recall_6: 0.3000\n",
            "Epoch 166/200\n",
            "10/10 [==============================] - 0s 6ms/step - loss: 0.3329 - accuracy: 0.8817 - auc_6: 0.8494 - precision_6: 1.0000 - recall_6: 0.3125 - val_loss: 0.3297 - val_accuracy: 0.8571 - val_auc_6: 0.8236 - val_precision_6: 0.6000 - val_recall_6: 0.3000\n",
            "Epoch 167/200\n",
            "10/10 [==============================] - 0s 7ms/step - loss: 0.3329 - accuracy: 0.8710 - auc_6: 0.8515 - precision_6: 0.8333 - recall_6: 0.3125 - val_loss: 0.3335 - val_accuracy: 0.8413 - val_auc_6: 0.8208 - val_precision_6: 0.5000 - val_recall_6: 0.3000\n",
            "Epoch 168/200\n",
            "10/10 [==============================] - 0s 5ms/step - loss: 0.3310 - accuracy: 0.8817 - auc_6: 0.8482 - precision_6: 0.8571 - recall_6: 0.3750 - val_loss: 0.3313 - val_accuracy: 0.8571 - val_auc_6: 0.8245 - val_precision_6: 0.6000 - val_recall_6: 0.3000\n",
            "Epoch 169/200\n",
            "10/10 [==============================] - 0s 5ms/step - loss: 0.3300 - accuracy: 0.8925 - auc_6: 0.8490 - precision_6: 1.0000 - recall_6: 0.3750 - val_loss: 0.3307 - val_accuracy: 0.8571 - val_auc_6: 0.8236 - val_precision_6: 0.6000 - val_recall_6: 0.3000\n",
            "Epoch 170/200\n",
            "10/10 [==============================] - 0s 6ms/step - loss: 0.3298 - accuracy: 0.8925 - auc_6: 0.8640 - precision_6: 1.0000 - recall_6: 0.3750 - val_loss: 0.3307 - val_accuracy: 0.8571 - val_auc_6: 0.8208 - val_precision_6: 0.6000 - val_recall_6: 0.3000\n",
            "Epoch 171/200\n",
            "10/10 [==============================] - 0s 6ms/step - loss: 0.3292 - accuracy: 0.8925 - auc_6: 0.8490 - precision_6: 1.0000 - recall_6: 0.3750 - val_loss: 0.3328 - val_accuracy: 0.8413 - val_auc_6: 0.8208 - val_precision_6: 0.5000 - val_recall_6: 0.3000\n",
            "Epoch 172/200\n",
            "10/10 [==============================] - 0s 7ms/step - loss: 0.3295 - accuracy: 0.8710 - auc_6: 0.8478 - precision_6: 0.7500 - recall_6: 0.3750 - val_loss: 0.3335 - val_accuracy: 0.8413 - val_auc_6: 0.8226 - val_precision_6: 0.5000 - val_recall_6: 0.3000\n",
            "Epoch 173/200\n",
            "10/10 [==============================] - 0s 7ms/step - loss: 0.3285 - accuracy: 0.8817 - auc_6: 0.8502 - precision_6: 0.8571 - recall_6: 0.3750 - val_loss: 0.3325 - val_accuracy: 0.8413 - val_auc_6: 0.8198 - val_precision_6: 0.5000 - val_recall_6: 0.3000\n",
            "Epoch 174/200\n",
            "10/10 [==============================] - 0s 6ms/step - loss: 0.3315 - accuracy: 0.8602 - auc_6: 0.8462 - precision_6: 0.6667 - recall_6: 0.3750 - val_loss: 0.3351 - val_accuracy: 0.8413 - val_auc_6: 0.8198 - val_precision_6: 0.5000 - val_recall_6: 0.4000\n",
            "Epoch 175/200\n",
            "10/10 [==============================] - 0s 6ms/step - loss: 0.3284 - accuracy: 0.8602 - auc_6: 0.8454 - precision_6: 0.6667 - recall_6: 0.3750 - val_loss: 0.3335 - val_accuracy: 0.8413 - val_auc_6: 0.8151 - val_precision_6: 0.5000 - val_recall_6: 0.3000\n",
            "Epoch 176/200\n",
            "10/10 [==============================] - 0s 5ms/step - loss: 0.3303 - accuracy: 0.8925 - auc_6: 0.8482 - precision_6: 1.0000 - recall_6: 0.3750 - val_loss: 0.3303 - val_accuracy: 0.8571 - val_auc_6: 0.8179 - val_precision_6: 0.6000 - val_recall_6: 0.3000\n",
            "Epoch 177/200\n",
            "10/10 [==============================] - 0s 6ms/step - loss: 0.3312 - accuracy: 0.8817 - auc_6: 0.8470 - precision_6: 0.8571 - recall_6: 0.3750 - val_loss: 0.3338 - val_accuracy: 0.8413 - val_auc_6: 0.8198 - val_precision_6: 0.5000 - val_recall_6: 0.3000\n",
            "Epoch 178/200\n",
            "10/10 [==============================] - 0s 6ms/step - loss: 0.3284 - accuracy: 0.8710 - auc_6: 0.8474 - precision_6: 0.7500 - recall_6: 0.3750 - val_loss: 0.3307 - val_accuracy: 0.8571 - val_auc_6: 0.8255 - val_precision_6: 0.6000 - val_recall_6: 0.3000\n",
            "Epoch 179/200\n",
            "10/10 [==============================] - 0s 5ms/step - loss: 0.3310 - accuracy: 0.8602 - auc_6: 0.8446 - precision_6: 0.6667 - recall_6: 0.3750 - val_loss: 0.3332 - val_accuracy: 0.8413 - val_auc_6: 0.8208 - val_precision_6: 0.5000 - val_recall_6: 0.3000\n",
            "Epoch 180/200\n",
            "10/10 [==============================] - 0s 5ms/step - loss: 0.3275 - accuracy: 0.8710 - auc_6: 0.8486 - precision_6: 0.7500 - recall_6: 0.3750 - val_loss: 0.3311 - val_accuracy: 0.8571 - val_auc_6: 0.8226 - val_precision_6: 0.6000 - val_recall_6: 0.3000\n",
            "Epoch 181/200\n",
            "10/10 [==============================] - 0s 7ms/step - loss: 0.3294 - accuracy: 0.8817 - auc_6: 0.8486 - precision_6: 0.8571 - recall_6: 0.3750 - val_loss: 0.3299 - val_accuracy: 0.8571 - val_auc_6: 0.8264 - val_precision_6: 0.6000 - val_recall_6: 0.3000\n",
            "Epoch 182/200\n",
            "10/10 [==============================] - 0s 6ms/step - loss: 0.3263 - accuracy: 0.8817 - auc_6: 0.8511 - precision_6: 0.8571 - recall_6: 0.3750 - val_loss: 0.3326 - val_accuracy: 0.8571 - val_auc_6: 0.8236 - val_precision_6: 0.6000 - val_recall_6: 0.3000\n",
            "Epoch 183/200\n",
            "10/10 [==============================] - 0s 5ms/step - loss: 0.3314 - accuracy: 0.8495 - auc_6: 0.8433 - precision_6: 0.6000 - recall_6: 0.3750 - val_loss: 0.3401 - val_accuracy: 0.8413 - val_auc_6: 0.8179 - val_precision_6: 0.5000 - val_recall_6: 0.4000\n",
            "Epoch 184/200\n",
            "10/10 [==============================] - 0s 6ms/step - loss: 0.3284 - accuracy: 0.8495 - auc_6: 0.8474 - precision_6: 0.6000 - recall_6: 0.3750 - val_loss: 0.3359 - val_accuracy: 0.8413 - val_auc_6: 0.8198 - val_precision_6: 0.5000 - val_recall_6: 0.4000\n",
            "Epoch 185/200\n",
            "10/10 [==============================] - 0s 5ms/step - loss: 0.3284 - accuracy: 0.8495 - auc_6: 0.8454 - precision_6: 0.6000 - recall_6: 0.3750 - val_loss: 0.3348 - val_accuracy: 0.8571 - val_auc_6: 0.8217 - val_precision_6: 0.5714 - val_recall_6: 0.4000\n",
            "Epoch 186/200\n",
            "10/10 [==============================] - 0s 5ms/step - loss: 0.3271 - accuracy: 0.8495 - auc_6: 0.8446 - precision_6: 0.6000 - recall_6: 0.3750 - val_loss: 0.3390 - val_accuracy: 0.8413 - val_auc_6: 0.8208 - val_precision_6: 0.5000 - val_recall_6: 0.4000\n",
            "Epoch 187/200\n",
            "10/10 [==============================] - 0s 6ms/step - loss: 0.3285 - accuracy: 0.8602 - auc_6: 0.8409 - precision_6: 0.6364 - recall_6: 0.4375 - val_loss: 0.3361 - val_accuracy: 0.8571 - val_auc_6: 0.8198 - val_precision_6: 0.5714 - val_recall_6: 0.4000\n",
            "Epoch 188/200\n",
            "10/10 [==============================] - 0s 6ms/step - loss: 0.3267 - accuracy: 0.8495 - auc_6: 0.8470 - precision_6: 0.6000 - recall_6: 0.3750 - val_loss: 0.3341 - val_accuracy: 0.8413 - val_auc_6: 0.8198 - val_precision_6: 0.5000 - val_recall_6: 0.3000\n",
            "Epoch 189/200\n",
            "10/10 [==============================] - 0s 5ms/step - loss: 0.3262 - accuracy: 0.8602 - auc_6: 0.8490 - precision_6: 0.6667 - recall_6: 0.3750 - val_loss: 0.3312 - val_accuracy: 0.8571 - val_auc_6: 0.8198 - val_precision_6: 0.6000 - val_recall_6: 0.3000\n",
            "Epoch 190/200\n",
            "10/10 [==============================] - 0s 6ms/step - loss: 0.3255 - accuracy: 0.8817 - auc_6: 0.8511 - precision_6: 0.8571 - recall_6: 0.3750 - val_loss: 0.3302 - val_accuracy: 0.8571 - val_auc_6: 0.8226 - val_precision_6: 0.6000 - val_recall_6: 0.3000\n",
            "Epoch 191/200\n",
            "10/10 [==============================] - 0s 5ms/step - loss: 0.3258 - accuracy: 0.8817 - auc_6: 0.8506 - precision_6: 0.8571 - recall_6: 0.3750 - val_loss: 0.3309 - val_accuracy: 0.8571 - val_auc_6: 0.8236 - val_precision_6: 0.6000 - val_recall_6: 0.3000\n",
            "Epoch 192/200\n",
            "10/10 [==============================] - 0s 7ms/step - loss: 0.3256 - accuracy: 0.8710 - auc_6: 0.8259 - precision_6: 0.7500 - recall_6: 0.3750 - val_loss: 0.3310 - val_accuracy: 0.8571 - val_auc_6: 0.8198 - val_precision_6: 0.6000 - val_recall_6: 0.3000\n",
            "Epoch 193/200\n",
            "10/10 [==============================] - 0s 6ms/step - loss: 0.3264 - accuracy: 0.8710 - auc_6: 0.8494 - precision_6: 0.7500 - recall_6: 0.3750 - val_loss: 0.3316 - val_accuracy: 0.8571 - val_auc_6: 0.8226 - val_precision_6: 0.6000 - val_recall_6: 0.3000\n",
            "Epoch 194/200\n",
            "10/10 [==============================] - 0s 5ms/step - loss: 0.3267 - accuracy: 0.8817 - auc_6: 0.8474 - precision_6: 0.8571 - recall_6: 0.3750 - val_loss: 0.3301 - val_accuracy: 0.8571 - val_auc_6: 0.8226 - val_precision_6: 0.6000 - val_recall_6: 0.3000\n",
            "Epoch 195/200\n",
            "10/10 [==============================] - 0s 7ms/step - loss: 0.3260 - accuracy: 0.8817 - auc_6: 0.8519 - precision_6: 0.8571 - recall_6: 0.3750 - val_loss: 0.3290 - val_accuracy: 0.8571 - val_auc_6: 0.8236 - val_precision_6: 0.6000 - val_recall_6: 0.3000\n",
            "Epoch 196/200\n",
            "10/10 [==============================] - 0s 6ms/step - loss: 0.3253 - accuracy: 0.8925 - auc_6: 0.8502 - precision_6: 1.0000 - recall_6: 0.3750 - val_loss: 0.3299 - val_accuracy: 0.8571 - val_auc_6: 0.8226 - val_precision_6: 0.6000 - val_recall_6: 0.3000\n",
            "Epoch 197/200\n",
            "10/10 [==============================] - 0s 6ms/step - loss: 0.3254 - accuracy: 0.8817 - auc_6: 0.8494 - precision_6: 0.8571 - recall_6: 0.3750 - val_loss: 0.3320 - val_accuracy: 0.8571 - val_auc_6: 0.8226 - val_precision_6: 0.6000 - val_recall_6: 0.3000\n",
            "Epoch 198/200\n",
            "10/10 [==============================] - 0s 6ms/step - loss: 0.3252 - accuracy: 0.8602 - auc_6: 0.8474 - precision_6: 0.6667 - recall_6: 0.3750 - val_loss: 0.3343 - val_accuracy: 0.8571 - val_auc_6: 0.8208 - val_precision_6: 0.5714 - val_recall_6: 0.4000\n",
            "Epoch 199/200\n",
            "10/10 [==============================] - 0s 6ms/step - loss: 0.3248 - accuracy: 0.8710 - auc_6: 0.8466 - precision_6: 0.7500 - recall_6: 0.3750 - val_loss: 0.3317 - val_accuracy: 0.8571 - val_auc_6: 0.8226 - val_precision_6: 0.6000 - val_recall_6: 0.3000\n",
            "Epoch 200/200\n",
            "10/10 [==============================] - 0s 5ms/step - loss: 0.3260 - accuracy: 0.8925 - auc_6: 0.8506 - precision_6: 1.0000 - recall_6: 0.3750 - val_loss: 0.3283 - val_accuracy: 0.8571 - val_auc_6: 0.8236 - val_precision_6: 0.6000 - val_recall_6: 0.3000\n"
          ],
          "name": "stdout"
        },
        {
          "output_type": "execute_result",
          "data": {
            "text/plain": [
              "<tensorflow.python.keras.callbacks.History at 0x7f57b14b4e10>"
            ]
          },
          "metadata": {
            "tags": []
          },
          "execution_count": 41
        }
      ]
    },
    {
      "cell_type": "code",
      "metadata": {
        "id": "tZncbB79Ylg6",
        "colab": {
          "base_uri": "https://localhost:8080/"
        },
        "outputId": "45023769-1b58-42a9-c768-cdf19d189f81"
      },
      "source": [
        "##8-3-3 計算accuracy...\n",
        "score1=model3.evaluate(x_test,y_test)\n",
        "print('{}-->{}'.format(model3.metrics_names[0],score1[0]))\n",
        "print('{}-->{}'.format(model3.metrics_names[1],score1[1]))\n",
        "print('{}-->{}'.format(model3.metrics_names[2],score1[2]))\n",
        "print('{}-->{}'.format(model3.metrics_names[3],score1[3]))\n",
        "print('{}-->{}'.format(model3.metrics_names[4],score1[4]))\n",
        "\n",
        "print('='*30)\n",
        "from sklearn.metrics import roc_auc_score\n",
        "print('AUC for testing set:')\n",
        "predicted_prob=model3.predict(x_test)\n",
        "roc_auc_score(y_test,predicted_prob)"
      ],
      "execution_count": 42,
      "outputs": [
        {
          "output_type": "stream",
          "text": [
            "1/1 [==============================] - 0s 428ms/step - loss: 0.5762 - accuracy: 0.7500 - auc_6: 0.7222 - precision_6: 0.6667 - recall_6: 0.2222\n",
            "loss-->0.5762441158294678\n",
            "accuracy-->0.75\n",
            "auc_6-->0.7222222685813904\n",
            "precision_6-->0.6666666865348816\n",
            "recall_6-->0.2222222238779068\n",
            "==============================\n",
            "AUC for testing set:\n"
          ],
          "name": "stdout"
        },
        {
          "output_type": "execute_result",
          "data": {
            "text/plain": [
              "0.7222222222222222"
            ]
          },
          "metadata": {
            "tags": []
          },
          "execution_count": 42
        }
      ]
    },
    {
      "cell_type": "code",
      "metadata": {
        "id": "_XDwmhoxaWMR",
        "colab": {
          "base_uri": "https://localhost:8080/",
          "height": 295
        },
        "outputId": "bac6cf20-51eb-4099-abd5-021789fd7bbd"
      },
      "source": [
        "##8-3-4 計算AUC\n",
        "from sklearn.metrics import roc_auc_score, roc_curve\n",
        "from matplotlib import pyplot as plt\n",
        "AUC面積1=roc_auc_score(y_test, predicted_prob) ##0.609\n",
        "fpr,tpr,thresholds=roc_curve(y_test,predicted_prob)\n",
        "plt.figure()\n",
        "plt.plot(fpr,tpr,label='Logistic regression (area = %0.3f)'%AUC面積1)\n",
        "plt.plot([0,1],[0,1],'r--')\n",
        "plt.xlim([0.0,1.0])\n",
        "plt.ylim([0.0,1.05])\n",
        "plt.xlabel('False Positive Rate')\n",
        "plt.ylabel('True Positive Rate')\n",
        "plt.title('Receiver operating characteristic ROC')\n",
        "plt.legend(loc=\"lower right\")\n",
        "plt.show()"
      ],
      "execution_count": 43,
      "outputs": [
        {
          "output_type": "display_data",
          "data": {
            "image/png": "[encoded data removed]",
            "text/plain": [
              "<Figure size 432x288 with 1 Axes>"
            ]
          },
          "metadata": {
            "tags": [],
            "needs_background": "light"
          }
        }
      ]
    },
    {
      "cell_type": "code",
      "metadata": {
        "id": "h6TFbBBbOjDF",
        "outputId": "12e40e3f-f08e-4cd1-ffe5-3c94eefcf316",
        "colab": {
          "base_uri": "https://localhost:8080/"
        }
      },
      "source": [
        "##8-4-1 save model\n",
        "model3.save('./RPython/Model3',save_format='tf')"
      ],
      "execution_count": 60,
      "outputs": [
        {
          "output_type": "stream",
          "text": [
            "INFO:tensorflow:Assets written to: ./RPython/Model3/assets\n"
          ],
          "name": "stdout"
        }
      ]
    },
    {
      "cell_type": "markdown",
      "metadata": {
        "id": "SjKfIYtZWARI"
      },
      "source": [
        ""
      ]
    },
    {
      "cell_type": "code",
      "metadata": {
        "id": "s1pdCsAUQKTN",
        "outputId": "054d9951-1a5d-4c87-82b1-dd83c2dcd6e0",
        "colab": {
          "base_uri": "https://localhost:8080/"
        }
      },
      "source": [
        "##8-4-2 load model\n",
        "model4=tf.keras.models.load_model('./RPython/Model3')\n",
        "newCase={'網路成癮分數YDQ':[20],'家庭滿意度apgar':[20],'年齡':[20],'sex_男':[1]}\n",
        "##newCase={'網路成癮分數YDQ':20,'家庭滿意度apgar':20,'年齡':20,'sex_男':1}\n",
        "newCase=pd.DataFrame(newCase)\n",
        "model4.predict(newCase)\n"
      ],
      "execution_count": 76,
      "outputs": [
        {
          "output_type": "execute_result",
          "data": {
            "text/plain": [
              "array([[0.99514925]], dtype=float32)"
            ]
          },
          "metadata": {
            "tags": []
          },
          "execution_count": 76
        }
      ]
    }
  ]
}