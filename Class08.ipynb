{
  "nbformat": 4,
  "nbformat_minor": 0,
  "metadata": {
    "colab": {
      "name": "Class08.ipynb",
      "provenance": [],
      "authorship_tag": "ABX9TyOWA2gNBv0dgDRVYP9+BHF2",
      "include_colab_link": true
    },
    "kernelspec": {
      "name": "python3",
      "display_name": "Python 3"
    },
    "language_info": {
      "name": "python"
    }
  },
  "cells": [
    {
      "cell_type": "markdown",
      "metadata": {
        "id": "view-in-github",
        "colab_type": "text"
      },
      "source": [
        "<a href=\"https://colab.research.google.com/github/YuehMintTai/RPython/blob/main/Class08.ipynb\" target=\"_parent\"><img src=\"https://colab.research.google.com/assets/colab-badge.svg\" alt=\"Open In Colab\"/></a>"
      ]
    },
    {
      "cell_type": "markdown",
      "metadata": {
        "id": "r2CONG6SfMsK"
      },
      "source": [
        "#三軍總醫院北投分院統計及實驗設計課程之八\n",
        "## 2021/7/13\n",
        "## ytai1123@gmail.com\n",
        "### 使用方法:\n",
        "\n",
        "\n",
        "1.   使用gmail帳號登入\n",
        "2.   按\"執行階段\" -->\"全部執行\" 以執行全部內容, 若要個別執行可點選每格程式左方箭頭或按 Control + Enter 鍵執行。"
      ]
    },
    {
      "cell_type": "code",
      "metadata": {
        "colab": {
          "base_uri": "https://localhost:8080/"
        },
        "id": "jlXcDYPlfE6V",
        "outputId": "844d5835-0556-46ca-a20a-5fccb217a71e"
      },
      "source": [
        "##0-1\n",
        "!git clone https://github.com/YuehMintTai/RPython.git"
      ],
      "execution_count": 4,
      "outputs": [
        {
          "output_type": "stream",
          "text": [
            "Cloning into 'RPython'...\n",
            "remote: Enumerating objects: 143, done.\u001b[K\n",
            "remote: Counting objects: 100% (143/143), done.\u001b[K\n",
            "remote: Compressing objects: 100% (141/141), done.\u001b[K\n",
            "remote: Total 143 (delta 79), reused 0 (delta 0), pack-reused 0\u001b[K\n",
            "Receiving objects: 100% (143/143), 2.82 MiB | 7.76 MiB/s, done.\n",
            "Resolving deltas: 100% (79/79), done.\n"
          ],
          "name": "stdout"
        }
      ]
    },
    {
      "cell_type": "code",
      "metadata": {
        "colab": {
          "base_uri": "https://localhost:8080/"
        },
        "id": "zSX8X-7MfSgK",
        "outputId": "fb0acf2b-8d84-41e9-b379-94a3593996c8"
      },
      "source": [
        "##0-2\n",
        "!pip install rpy2"
      ],
      "execution_count": 5,
      "outputs": [
        {
          "output_type": "stream",
          "text": [
            "Requirement already satisfied: rpy2 in /usr/local/lib/python3.7/dist-packages (3.4.5)\n",
            "Requirement already satisfied: cffi>=1.10.0 in /usr/local/lib/python3.7/dist-packages (from rpy2) (1.14.6)\n",
            "Requirement already satisfied: pytz in /usr/local/lib/python3.7/dist-packages (from rpy2) (2018.9)\n",
            "Requirement already satisfied: jinja2 in /usr/local/lib/python3.7/dist-packages (from rpy2) (2.11.3)\n",
            "Requirement already satisfied: tzlocal in /usr/local/lib/python3.7/dist-packages (from rpy2) (1.5.1)\n",
            "Requirement already satisfied: pycparser in /usr/local/lib/python3.7/dist-packages (from cffi>=1.10.0->rpy2) (2.20)\n",
            "Requirement already satisfied: MarkupSafe>=0.23 in /usr/local/lib/python3.7/dist-packages (from jinja2->rpy2) (2.0.1)\n"
          ],
          "name": "stdout"
        }
      ]
    },
    {
      "cell_type": "code",
      "metadata": {
        "id": "kUcDfNrpfVVk"
      },
      "source": [
        "##0-3\n",
        "%load_ext rpy2.ipython"
      ],
      "execution_count": 6,
      "outputs": []
    },
    {
      "cell_type": "code",
      "metadata": {
        "id": "JuuefOVMfZSV",
        "colab": {
          "base_uri": "https://localhost:8080/",
          "height": 34
        },
        "outputId": "e6944995-5e90-40d2-aa53-ad99e8be4717"
      },
      "source": [
        "##8-0-0\n",
        "import tensorflow as tf\n",
        "import torch\n",
        "tf.__version__     ##2.5.0\n",
        "torch.__version__   ##1.9.0+cu102"
      ],
      "execution_count": 7,
      "outputs": [
        {
          "output_type": "execute_result",
          "data": {
            "application/vnd.google.colaboratory.intrinsic+json": {
              "type": "string"
            },
            "text/plain": [
              "'1.9.0+cu102'"
            ]
          },
          "metadata": {
            "tags": []
          },
          "execution_count": 7
        }
      ]
    },
    {
      "cell_type": "code",
      "metadata": {
        "colab": {
          "base_uri": "https://localhost:8080/",
          "height": 362
        },
        "id": "PpqBp022Geuv",
        "outputId": "b3b63531-9dae-4e7b-b2dd-529597a418da"
      },
      "source": [
        "##8-0-1 區分所有的資料為testing, validating及training sets\n",
        "import pandas as pd\n",
        "from sklearn.model_selection import train_test_split\n",
        "from sklearn.metrics import roc_curve\n",
        "import numpy as np\n",
        "\n",
        "df=pd.read_csv('RPython/samples.csv')\n",
        "df['sex']='男'\n",
        "df.loc[df['性別']==2,'sex']='女'\n",
        "x=df[['sex','網路成癮分數YDQ','家庭滿意度apgar','年齡']]\n",
        "x=pd.get_dummies(data=x,drop_first=True)\n",
        "y=df['自殺意念01'].astype(int).to_frame()\n",
        "all_df=pd.concat([x,y],axis=1)\n",
        "all_df['remainder']=all_df.index%6\n",
        "all_df['group']='training'\n",
        "all_df.loc[all_df['remainder']==0,'group']='testing'\n",
        "all_df.loc[all_df['remainder']==1,'group']='validating'\n",
        "all_df.loc[all_df['remainder']==2,'group']='validating'\n",
        "\n",
        "all_df['年齡'].groupby(all_df['group']).mean()\n",
        "\n",
        "all_df['groupNo']=0\n",
        "all_df.loc[all_df['group']=='validating','groupNo']=1\n",
        "all_df.loc[all_df['group']=='testing','groupNo']=2\n",
        "all_df.tail(10)"
      ],
      "execution_count": 8,
      "outputs": [
        {
          "output_type": "execute_result",
          "data": {
            "text/html": [
              "<div>\n",
              "<style scoped>\n",
              "    .dataframe tbody tr th:only-of-type {\n",
              "        vertical-align: middle;\n",
              "    }\n",
              "\n",
              "    .dataframe tbody tr th {\n",
              "        vertical-align: top;\n",
              "    }\n",
              "\n",
              "    .dataframe thead th {\n",
              "        text-align: right;\n",
              "    }\n",
              "</style>\n",
              "<table border=\"1\" class=\"dataframe\">\n",
              "  <thead>\n",
              "    <tr style=\"text-align: right;\">\n",
              "      <th></th>\n",
              "      <th>網路成癮分數YDQ</th>\n",
              "      <th>家庭滿意度apgar</th>\n",
              "      <th>年齡</th>\n",
              "      <th>sex_男</th>\n",
              "      <th>自殺意念01</th>\n",
              "      <th>remainder</th>\n",
              "      <th>group</th>\n",
              "      <th>groupNo</th>\n",
              "    </tr>\n",
              "  </thead>\n",
              "  <tbody>\n",
              "    <tr>\n",
              "      <th>178</th>\n",
              "      <td>1</td>\n",
              "      <td>10.0</td>\n",
              "      <td>25.000000</td>\n",
              "      <td>1</td>\n",
              "      <td>0</td>\n",
              "      <td>4</td>\n",
              "      <td>training</td>\n",
              "      <td>0</td>\n",
              "    </tr>\n",
              "    <tr>\n",
              "      <th>179</th>\n",
              "      <td>8</td>\n",
              "      <td>0.0</td>\n",
              "      <td>29.000000</td>\n",
              "      <td>1</td>\n",
              "      <td>1</td>\n",
              "      <td>5</td>\n",
              "      <td>training</td>\n",
              "      <td>0</td>\n",
              "    </tr>\n",
              "    <tr>\n",
              "      <th>180</th>\n",
              "      <td>3</td>\n",
              "      <td>8.0</td>\n",
              "      <td>21.333082</td>\n",
              "      <td>0</td>\n",
              "      <td>1</td>\n",
              "      <td>0</td>\n",
              "      <td>testing</td>\n",
              "      <td>2</td>\n",
              "    </tr>\n",
              "    <tr>\n",
              "      <th>181</th>\n",
              "      <td>7</td>\n",
              "      <td>3.0</td>\n",
              "      <td>34.000000</td>\n",
              "      <td>1</td>\n",
              "      <td>0</td>\n",
              "      <td>1</td>\n",
              "      <td>validating</td>\n",
              "      <td>1</td>\n",
              "    </tr>\n",
              "    <tr>\n",
              "      <th>182</th>\n",
              "      <td>7</td>\n",
              "      <td>5.0</td>\n",
              "      <td>18.000000</td>\n",
              "      <td>1</td>\n",
              "      <td>0</td>\n",
              "      <td>2</td>\n",
              "      <td>validating</td>\n",
              "      <td>1</td>\n",
              "    </tr>\n",
              "    <tr>\n",
              "      <th>183</th>\n",
              "      <td>8</td>\n",
              "      <td>9.0</td>\n",
              "      <td>27.000000</td>\n",
              "      <td>1</td>\n",
              "      <td>0</td>\n",
              "      <td>3</td>\n",
              "      <td>training</td>\n",
              "      <td>0</td>\n",
              "    </tr>\n",
              "    <tr>\n",
              "      <th>184</th>\n",
              "      <td>5</td>\n",
              "      <td>5.0</td>\n",
              "      <td>27.000000</td>\n",
              "      <td>1</td>\n",
              "      <td>1</td>\n",
              "      <td>4</td>\n",
              "      <td>training</td>\n",
              "      <td>0</td>\n",
              "    </tr>\n",
              "    <tr>\n",
              "      <th>185</th>\n",
              "      <td>5</td>\n",
              "      <td>7.0</td>\n",
              "      <td>27.000000</td>\n",
              "      <td>1</td>\n",
              "      <td>0</td>\n",
              "      <td>5</td>\n",
              "      <td>training</td>\n",
              "      <td>0</td>\n",
              "    </tr>\n",
              "    <tr>\n",
              "      <th>186</th>\n",
              "      <td>2</td>\n",
              "      <td>0.0</td>\n",
              "      <td>21.000000</td>\n",
              "      <td>1</td>\n",
              "      <td>1</td>\n",
              "      <td>0</td>\n",
              "      <td>testing</td>\n",
              "      <td>2</td>\n",
              "    </tr>\n",
              "    <tr>\n",
              "      <th>187</th>\n",
              "      <td>0</td>\n",
              "      <td>0.0</td>\n",
              "      <td>25.000000</td>\n",
              "      <td>1</td>\n",
              "      <td>1</td>\n",
              "      <td>1</td>\n",
              "      <td>validating</td>\n",
              "      <td>1</td>\n",
              "    </tr>\n",
              "  </tbody>\n",
              "</table>\n",
              "</div>"
            ],
            "text/plain": [
              "     網路成癮分數YDQ  家庭滿意度apgar         年齡  ...  remainder       group  groupNo\n",
              "178          1        10.0  25.000000  ...          4    training        0\n",
              "179          8         0.0  29.000000  ...          5    training        0\n",
              "180          3         8.0  21.333082  ...          0     testing        2\n",
              "181          7         3.0  34.000000  ...          1  validating        1\n",
              "182          7         5.0  18.000000  ...          2  validating        1\n",
              "183          8         9.0  27.000000  ...          3    training        0\n",
              "184          5         5.0  27.000000  ...          4    training        0\n",
              "185          5         7.0  27.000000  ...          5    training        0\n",
              "186          2         0.0  21.000000  ...          0     testing        2\n",
              "187          0         0.0  25.000000  ...          1  validating        1\n",
              "\n",
              "[10 rows x 8 columns]"
            ]
          },
          "metadata": {
            "tags": []
          },
          "execution_count": 8
        }
      ]
    },
    {
      "cell_type": "code",
      "metadata": {
        "id": "bPq8q3AgXR5k",
        "colab": {
          "base_uri": "https://localhost:8080/"
        },
        "outputId": "e38ff91a-85cf-4613-9fe4-718ded473831"
      },
      "source": [
        "##8-0-2 Chi-square and ANOVA\n",
        "from sklearn.feature_selection import chi2\n",
        "from sklearn.feature_selection import f_classif\n",
        "print(pd.crosstab(all_df['group'],all_df['自殺意念01']))\n",
        "##chi-square test確定 自殺意念01 沒有過度集中在某組....\n",
        "Chi2=chi2(all_df['groupNo'].to_numpy().reshape(-1,1),all_df['自殺意念01'].to_numpy())\n",
        "print('chi2={}, p={}'.format(round(Chi2[0].item(),3),round(Chi2[1].item(),3)))\n",
        "##ANOVA確定年齡沒有過度集中在某組\n",
        "print('='*30)\n",
        "F=f_classif(all_df['年齡'].to_numpy().reshape(-1,1),all_df['group'].to_numpy())\n",
        "print(all_df.groupby('group')['年齡'].mean())\n",
        "print('ANOVA F={}, p={}'.format(round(F[0].item(),3),round(F[1].item(),3)))"
      ],
      "execution_count": 9,
      "outputs": [
        {
          "output_type": "stream",
          "text": [
            "自殺意念01       0   1\n",
            "group             \n",
            "testing     23   9\n",
            "training    77  16\n",
            "validating  53  10\n",
            "chi2=0.986, p=0.321\n",
            "==============================\n",
            "group\n",
            "testing       21.385385\n",
            "training      21.752499\n",
            "validating    20.687376\n",
            "Name: 年齡, dtype: float64\n",
            "ANOVA F=1.126, p=0.327\n"
          ],
          "name": "stdout"
        }
      ]
    },
    {
      "cell_type": "code",
      "metadata": {
        "id": "n8WemEO8ffxe",
        "colab": {
          "base_uri": "https://localhost:8080/"
        },
        "outputId": "fdf10161-147c-466b-95da-615787bd6651"
      },
      "source": [
        "##8-0-3 區分 training, validation, testing sets..\n",
        "y_test=all_df.loc[all_df['group']=='testing']['自殺意念01'].to_frame()\n",
        "x_test=all_df.loc[all_df['group']=='testing'][['網路成癮分數YDQ','家庭滿意度apgar','年齡','sex_男']]\n",
        "y_vald=all_df.loc[all_df['group']=='validating']['自殺意念01'].to_frame()\n",
        "x_vald=all_df.loc[all_df['group']=='validating'][['網路成癮分數YDQ','家庭滿意度apgar','年齡','sex_男']]\n",
        "y_train=all_df.loc[all_df['group']=='training']['自殺意念01'].to_frame()\n",
        "x_train=all_df.loc[all_df['group']=='training'][['網路成癮分數YDQ','家庭滿意度apgar','年齡','sex_男']]\n",
        "print('cases number of train={}, of validation={}, of test={} '.format(len(x_train),len(x_vald),len(x_test)))"
      ],
      "execution_count": 10,
      "outputs": [
        {
          "output_type": "stream",
          "text": [
            "cases number of train=93, of validation=63, of test=32 \n"
          ],
          "name": "stdout"
        }
      ]
    },
    {
      "cell_type": "code",
      "metadata": {
        "id": "zHDP9NL32bkG"
      },
      "source": [
        "all_df.to_csv('all_df_r.csv')"
      ],
      "execution_count": 11,
      "outputs": []
    },
    {
      "cell_type": "code",
      "metadata": {
        "id": "fAj8SwxUu97e",
        "colab": {
          "base_uri": "https://localhost:8080/",
          "height": 549
        },
        "outputId": "36df6a4c-ddc5-4cf1-a425-3af24e4ea190"
      },
      "source": [
        "##8-0-4 Read Pands.DataFrame in R\n",
        "%%R\n",
        "all_df_r<-read.csv('all_df_r.csv')\n",
        "hist(all_df_r$年齡[all_df_r$group=='training'])\n",
        "##hist(all_df_r$年齡[all_df_r$group=='validating'])\n",
        "##hist(all_df_r$年齡[all_df_r$group=='testing'])\n",
        "formula<-'年齡~group'\n",
        "ANOVA<-aov(all_df_r$網路成癮分數YDQ~all_df_r$groupNo)\n",
        "ANOVA<-aov(all_df_r$家庭滿意度apgar~all_df_r$groupNo)\n",
        "ANOVA<-aov(all_df_r$年齡~all_df_r$group)\n",
        "summary(ANOVA)"
      ],
      "execution_count": 12,
      "outputs": [
        {
          "output_type": "stream",
          "text": [
            "                Df Sum Sq Mean Sq F value Pr(>F)\n",
            "all_df_r$group   2     43   21.36   1.126  0.327\n",
            "Residuals      185   3510   18.97               \n"
          ],
          "name": "stdout"
        },
        {
          "output_type": "display_data",
          "data": {
            "image/png": "[encoded data removed]"
          },
          "metadata": {
            "tags": []
          }
        }
      ]
    },
    {
      "cell_type": "code",
      "metadata": {
        "id": "XFtASJ6rssT6",
        "outputId": "4b72204e-b6bf-4b1e-f124-1e10d5182f5d",
        "colab": {
          "base_uri": "https://localhost:8080/",
          "height": 349
        }
      },
      "source": [
        "##8-0-5使用sklearn Logistic Regression\n",
        "from sklearn.linear_model import LogisticRegression\n",
        "from sklearn.metrics import roc_curve, roc_auc_score\n",
        "model0=LogisticRegression()\n",
        "result0=model0.fit(x_train,y_train)\n",
        "預測機率0=result0.predict_proba(x_test)\n",
        "AUC面積0=roc_auc_score(y_test,預測機率0[:,1])\n",
        "fpr, tpr, thresholds = roc_curve(y_test,預測機率0[:,1])\n",
        "plt.figure()\n",
        "plt.plot(fpr, tpr, label='Logistic regression (area = %0.3f)' % AUC面積0)\n",
        "plt.plot([0, 1], [0, 1],'r--')\n",
        "plt.xlim([0.0, 1.0])\n",
        "plt.ylim([0.0, 1.05])\n",
        "plt.xlabel('False Positive Rate')\n",
        "plt.ylabel('True Positive Rate')\n",
        "plt.title('Receiver operating characteristic ROC')\n",
        "plt.legend(loc=\"lower right\")\n",
        "plt.show()"
      ],
      "execution_count": 24,
      "outputs": [
        {
          "output_type": "stream",
          "text": [
            "/usr/local/lib/python3.7/dist-packages/sklearn/utils/validation.py:760: DataConversionWarning: A column-vector y was passed when a 1d array was expected. Please change the shape of y to (n_samples, ), for example using ravel().\n",
            "  y = column_or_1d(y, warn=True)\n"
          ],
          "name": "stderr"
        },
        {
          "output_type": "display_data",
          "data": {
            "image/png": "[encoded data removed]",
            "text/plain": [
              "<Figure size 432x288 with 1 Axes>"
            ]
          },
          "metadata": {
            "tags": [],
            "needs_background": "light"
          }
        }
      ]
    },
    {
      "cell_type": "code",
      "metadata": {
        "id": "SLdTs0qUlVLo",
        "colab": {
          "base_uri": "https://localhost:8080/"
        },
        "outputId": "253a3a01-9cc8-4927-ed31-8fb7ed56b296"
      },
      "source": [
        "##8-1-1 使用Tensorflow Logistic regression ...\n",
        "import tensorflow as tf\n",
        "from tensorflow.keras.layers import Dense \n",
        "from tensorflow.keras import Sequential\n",
        "from tensorflow.keras.metrics import AUC, Precision, Recall\n",
        "model1=Sequential()\n",
        "model1.add(Dense(units=1,input_dim=4,activation='sigmoid')) ###'softmax' is for multiclass outcome.\n",
        "model1.compile(loss='binary_crossentropy',optimizer='adam',metrics=['accuracy',AUC(),Precision(),Recall()])\n",
        "model1.fit(x_train, y_train, epochs=20,batch_size=10,validation_data=(x_vald,y_vald))"
      ],
      "execution_count": 25,
      "outputs": [
        {
          "output_type": "stream",
          "text": [
            "Epoch 1/20\n",
            "10/10 [==============================] - 1s 54ms/step - loss: 10.3625 - accuracy: 0.1720 - auc_1: 0.5065 - precision_1: 0.1720 - recall_1: 1.0000 - val_loss: 9.6202 - val_accuracy: 0.1587 - val_auc_1: 0.5000 - val_precision_1: 0.1587 - val_recall_1: 1.0000\n",
            "Epoch 2/20\n",
            "10/10 [==============================] - 0s 4ms/step - loss: 10.0988 - accuracy: 0.1720 - auc_1: 0.5065 - precision_1: 0.1720 - recall_1: 1.0000 - val_loss: 9.3466 - val_accuracy: 0.1587 - val_auc_1: 0.5000 - val_precision_1: 0.1587 - val_recall_1: 1.0000\n",
            "Epoch 3/20\n",
            "10/10 [==============================] - 0s 6ms/step - loss: 9.8353 - accuracy: 0.1720 - auc_1: 0.5065 - precision_1: 0.1720 - recall_1: 1.0000 - val_loss: 9.0729 - val_accuracy: 0.1587 - val_auc_1: 0.5189 - val_precision_1: 0.1587 - val_recall_1: 1.0000\n",
            "Epoch 4/20\n",
            "10/10 [==============================] - 0s 4ms/step - loss: 9.5778 - accuracy: 0.1720 - auc_1: 0.5065 - precision_1: 0.1720 - recall_1: 1.0000 - val_loss: 8.7943 - val_accuracy: 0.1587 - val_auc_1: 0.5189 - val_precision_1: 0.1587 - val_recall_1: 1.0000\n",
            "Epoch 5/20\n",
            "10/10 [==============================] - 0s 4ms/step - loss: 9.3097 - accuracy: 0.1720 - auc_1: 0.5065 - precision_1: 0.1720 - recall_1: 1.0000 - val_loss: 8.5224 - val_accuracy: 0.1587 - val_auc_1: 0.5189 - val_precision_1: 0.1587 - val_recall_1: 1.0000\n",
            "Epoch 6/20\n",
            "10/10 [==============================] - 0s 4ms/step - loss: 9.0462 - accuracy: 0.1720 - auc_1: 0.5065 - precision_1: 0.1720 - recall_1: 1.0000 - val_loss: 8.2511 - val_accuracy: 0.1587 - val_auc_1: 0.5377 - val_precision_1: 0.1587 - val_recall_1: 1.0000\n",
            "Epoch 7/20\n",
            "10/10 [==============================] - 0s 5ms/step - loss: 8.7847 - accuracy: 0.1720 - auc_1: 0.4886 - precision_1: 0.1720 - recall_1: 1.0000 - val_loss: 7.9758 - val_accuracy: 0.1587 - val_auc_1: 0.5566 - val_precision_1: 0.1587 - val_recall_1: 1.0000\n",
            "Epoch 8/20\n",
            "10/10 [==============================] - 0s 4ms/step - loss: 8.5233 - accuracy: 0.1720 - auc_1: 0.4886 - precision_1: 0.1720 - recall_1: 1.0000 - val_loss: 7.6982 - val_accuracy: 0.1587 - val_auc_1: 0.5566 - val_precision_1: 0.1587 - val_recall_1: 1.0000\n",
            "Epoch 9/20\n",
            "10/10 [==============================] - 0s 5ms/step - loss: 8.2550 - accuracy: 0.1720 - auc_1: 0.4886 - precision_1: 0.1720 - recall_1: 1.0000 - val_loss: 7.4256 - val_accuracy: 0.1587 - val_auc_1: 0.5660 - val_precision_1: 0.1587 - val_recall_1: 1.0000\n",
            "Epoch 10/20\n",
            "10/10 [==============================] - 0s 4ms/step - loss: 7.9932 - accuracy: 0.1720 - auc_1: 0.5012 - precision_1: 0.1720 - recall_1: 1.0000 - val_loss: 7.1480 - val_accuracy: 0.1587 - val_auc_1: 0.5849 - val_precision_1: 0.1587 - val_recall_1: 1.0000\n",
            "Epoch 11/20\n",
            "10/10 [==============================] - 0s 4ms/step - loss: 7.7271 - accuracy: 0.1720 - auc_1: 0.5012 - precision_1: 0.1720 - recall_1: 1.0000 - val_loss: 6.8708 - val_accuracy: 0.1587 - val_auc_1: 0.5943 - val_precision_1: 0.1587 - val_recall_1: 1.0000\n",
            "Epoch 12/20\n",
            "10/10 [==============================] - 0s 5ms/step - loss: 7.4587 - accuracy: 0.1720 - auc_1: 0.5077 - precision_1: 0.1720 - recall_1: 1.0000 - val_loss: 6.5965 - val_accuracy: 0.1587 - val_auc_1: 0.6132 - val_precision_1: 0.1587 - val_recall_1: 1.0000\n",
            "Epoch 13/20\n",
            "10/10 [==============================] - 0s 5ms/step - loss: 7.1929 - accuracy: 0.1720 - auc_1: 0.5138 - precision_1: 0.1720 - recall_1: 1.0000 - val_loss: 6.3276 - val_accuracy: 0.1587 - val_auc_1: 0.6132 - val_precision_1: 0.1587 - val_recall_1: 1.0000\n",
            "Epoch 14/20\n",
            "10/10 [==============================] - 0s 4ms/step - loss: 6.9385 - accuracy: 0.1720 - auc_1: 0.5260 - precision_1: 0.1720 - recall_1: 1.0000 - val_loss: 6.0508 - val_accuracy: 0.1587 - val_auc_1: 0.6415 - val_precision_1: 0.1587 - val_recall_1: 1.0000\n",
            "Epoch 15/20\n",
            "10/10 [==============================] - 0s 4ms/step - loss: 6.6695 - accuracy: 0.1720 - auc_1: 0.5321 - precision_1: 0.1720 - recall_1: 1.0000 - val_loss: 5.7781 - val_accuracy: 0.1587 - val_auc_1: 0.6509 - val_precision_1: 0.1587 - val_recall_1: 1.0000\n",
            "Epoch 16/20\n",
            "10/10 [==============================] - 0s 6ms/step - loss: 6.4099 - accuracy: 0.1720 - auc_1: 0.5321 - precision_1: 0.1720 - recall_1: 1.0000 - val_loss: 5.5036 - val_accuracy: 0.1587 - val_auc_1: 0.6245 - val_precision_1: 0.1587 - val_recall_1: 1.0000\n",
            "Epoch 17/20\n",
            "10/10 [==============================] - 0s 4ms/step - loss: 6.1493 - accuracy: 0.1720 - auc_1: 0.5564 - precision_1: 0.1720 - recall_1: 1.0000 - val_loss: 5.2402 - val_accuracy: 0.1587 - val_auc_1: 0.6632 - val_precision_1: 0.1587 - val_recall_1: 1.0000\n",
            "Epoch 18/20\n",
            "10/10 [==============================] - 0s 4ms/step - loss: 5.8960 - accuracy: 0.1720 - auc_1: 0.5686 - precision_1: 0.1720 - recall_1: 1.0000 - val_loss: 4.9704 - val_accuracy: 0.1587 - val_auc_1: 0.6406 - val_precision_1: 0.1587 - val_recall_1: 1.0000\n",
            "Epoch 19/20\n",
            "10/10 [==============================] - 0s 4ms/step - loss: 5.6348 - accuracy: 0.1828 - auc_1: 0.6051 - precision_1: 0.1739 - recall_1: 1.0000 - val_loss: 4.7054 - val_accuracy: 0.1587 - val_auc_1: 0.6708 - val_precision_1: 0.1587 - val_recall_1: 1.0000\n",
            "Epoch 20/20\n",
            "10/10 [==============================] - 0s 5ms/step - loss: 5.3797 - accuracy: 0.1828 - auc_1: 0.6108 - precision_1: 0.1739 - recall_1: 1.0000 - val_loss: 4.4414 - val_accuracy: 0.1587 - val_auc_1: 0.7028 - val_precision_1: 0.1587 - val_recall_1: 1.0000\n"
          ],
          "name": "stdout"
        },
        {
          "output_type": "execute_result",
          "data": {
            "text/plain": [
              "<tensorflow.python.keras.callbacks.History at 0x7ff108879d90>"
            ]
          },
          "metadata": {
            "tags": []
          },
          "execution_count": 25
        }
      ]
    },
    {
      "cell_type": "code",
      "metadata": {
        "id": "w3zqJ77WIrBG",
        "colab": {
          "base_uri": "https://localhost:8080/"
        },
        "outputId": "83b32cab-e570-4b10-cb9d-d22d4ccc7920"
      },
      "source": [
        "##8-1-2 計算accuracy...\n",
        "score1=model1.evaluate(x_test,y_test)\n",
        "print('{}-->{}'.format(model1.metrics_names[0],score1[0]))\n",
        "print('{}-->{}'.format(model1.metrics_names[1],score1[1]))\n",
        "print('{}-->{}'.format(model1.metrics_names[2],score1[2]))\n",
        "print('{}-->{}'.format(model1.metrics_names[3],score1[3]))\n",
        "print('{}-->{}'.format(model1.metrics_names[4],score1[4]))\n",
        "\n",
        "print('='*30)\n",
        "from sklearn.metrics import roc_auc_score\n",
        "print('AUC for testing set:')\n",
        "predicted_prob=model1.predict(x_test)\n",
        "roc_auc_score(y_test,predicted_prob)"
      ],
      "execution_count": 26,
      "outputs": [
        {
          "output_type": "stream",
          "text": [
            "1/1 [==============================] - 0s 386ms/step - loss: 4.1987 - accuracy: 0.2812 - auc_1: 0.7053 - precision_1: 0.2812 - recall_1: 1.0000\n",
            "loss-->4.1987152099609375\n",
            "accuracy-->0.28125\n",
            "auc_1-->0.705314040184021\n",
            "precision_1-->0.28125\n",
            "recall_1-->1.0\n",
            "==============================\n",
            "AUC for testing set:\n"
          ],
          "name": "stdout"
        },
        {
          "output_type": "execute_result",
          "data": {
            "text/plain": [
              "0.748792270531401"
            ]
          },
          "metadata": {
            "tags": []
          },
          "execution_count": 26
        }
      ]
    },
    {
      "cell_type": "code",
      "metadata": {
        "id": "5g-bXTS8feo3",
        "colab": {
          "base_uri": "https://localhost:8080/",
          "height": 295
        },
        "outputId": "62c332a8-831e-46c5-ce13-ddf60a81359b"
      },
      "source": [
        "##8-1-3 繪製ROC曲線圖...\n",
        "from sklearn.metrics import roc_auc_score, roc_curve\n",
        "from matplotlib import pyplot as plt\n",
        "AUC面積=roc_auc_score(y_test, predicted_prob) ##0.6973180076628352\n",
        "fpr,tpr,thresholds=roc_curve(y_test,predicted_prob)\n",
        "plt.figure()\n",
        "plt.plot(fpr,tpr,label='Logistic regression (area = %0.3f)'%AUC面積)\n",
        "plt.plot([0,1],[0,1],'r--')\n",
        "plt.xlim([0.0,1.0])\n",
        "plt.ylim([0.0,1.05])\n",
        "plt.xlabel('False Positive Rate')\n",
        "plt.ylabel('True Positive Rate')\n",
        "plt.title('Receiver operating characteristic ROC')\n",
        "plt.legend(loc=\"lower right\")\n",
        "plt.show()"
      ],
      "execution_count": 27,
      "outputs": [
        {
          "output_type": "display_data",
          "data": {
            "image/png": "[encoded data removed]",
            "text/plain": [
              "<Figure size 432x288 with 1 Axes>"
            ]
          },
          "metadata": {
            "tags": [],
            "needs_background": "light"
          }
        }
      ]
    },
    {
      "cell_type": "code",
      "metadata": {
        "id": "eWcEQkLEkwqg"
      },
      "source": [
        "##8-2-1使用pytorch\n",
        "import torch \n",
        "x_train_=torch.from_numpy(x_train.to_numpy().astype(np.float32))\n",
        "x_vald_=torch.from_numpy(x_vald.to_numpy().astype(np.float32))\n",
        "x_test_=torch.from_numpy(x_test.to_numpy().astype(np.float32))\n",
        "y_train_=torch.from_numpy(y_train.to_numpy().astype(np.float32))\n",
        "y_vald_=torch.from_numpy(y_vald.to_numpy().astype(np.float32))\n",
        "y_test_=torch.from_numpy(y_test.to_numpy().astype(np.float32))"
      ],
      "execution_count": 28,
      "outputs": []
    },
    {
      "cell_type": "code",
      "metadata": {
        "id": "xeGXSUOKls-U"
      },
      "source": [
        "##8-2-2 建立 class\n",
        "import torch\n",
        "class Logistic_Reg_model(torch.nn.Module):\n",
        "  def __init__(self,no_input_features):\n",
        "    super(Logistic_Reg_model,self).__init__()\n",
        "    self.layer1=torch.nn.Linear(no_input_features,4)\n",
        "    self.layer2=torch.nn.Linear(4,1)\n",
        "  def forward(self,x):\n",
        "    y_predicted=self.layer1(x)\n",
        "    y_predicted=torch.sigmoid(self.layer2(y_predicted))\n",
        "    return y_predicted"
      ],
      "execution_count": 29,
      "outputs": []
    },
    {
      "cell_type": "code",
      "metadata": {
        "id": "OIlE_e6-lx62",
        "colab": {
          "base_uri": "https://localhost:8080/"
        },
        "outputId": "20e8d815-f2c9-4d61-bd4e-8ddfcd7a9f7b"
      },
      "source": [
        "##8-2-3 訓練model\n",
        "import torch\n",
        "樣本數,變項數=x_train_.shape\n",
        "model2=Logistic_Reg_model(變項數)\n",
        "criterion=torch.nn.BCELoss()\n",
        "optimizer=torch.optim.SGD(model2.parameters(),lr=0.01)\n",
        "number_of_epochs=20\n",
        "for epoch in range(number_of_epochs):\n",
        "  y_prediction=model2(x_train_)\n",
        "  loss=criterion(y_prediction,y_train_)\n",
        "  loss.backward()\n",
        "  optimizer.step()\n",
        "  optimizer.zero_grad()\n",
        "  if (epoch+1)%10==0:\n",
        "    print('epoch:',epoch+1,', loss=',loss.item())"
      ],
      "execution_count": 30,
      "outputs": [
        {
          "output_type": "stream",
          "text": [
            "epoch: 10 , loss= 0.5004963874816895\n",
            "epoch: 20 , loss= 0.4615887999534607\n"
          ],
          "name": "stdout"
        }
      ]
    },
    {
      "cell_type": "code",
      "metadata": {
        "id": "qRNV9W0sSKh1",
        "colab": {
          "base_uri": "https://localhost:8080/"
        },
        "outputId": "89f35fb6-43c0-43fc-bf2e-9e3f93c056a2"
      },
      "source": [
        "##8-2-4測試testing group\n",
        "import torch\n",
        "with torch.no_grad():\n",
        "  y_pred=model2(x_test_)\n",
        "  y_pred_class=y_pred.round()\n",
        "  accuracy=float(y_pred_class.eq(y_test_).sum())/float(y_test_.shape[0])\n",
        "print(accuracy)\n",
        "print(y_pred)"
      ],
      "execution_count": 31,
      "outputs": [
        {
          "output_type": "stream",
          "text": [
            "0.71875\n",
            "tensor([[0.1433],\n",
            "        [0.1629],\n",
            "        [0.1102],\n",
            "        [0.1230],\n",
            "        [0.0919],\n",
            "        [0.2369],\n",
            "        [0.1265],\n",
            "        [0.1136],\n",
            "        [0.2446],\n",
            "        [0.1911],\n",
            "        [0.1441],\n",
            "        [0.1809],\n",
            "        [0.1185],\n",
            "        [0.3168],\n",
            "        [0.1757],\n",
            "        [0.1041],\n",
            "        [0.2202],\n",
            "        [0.1063],\n",
            "        [0.1093],\n",
            "        [0.1319],\n",
            "        [0.1189],\n",
            "        [0.1202],\n",
            "        [0.1029],\n",
            "        [0.2900],\n",
            "        [0.1433],\n",
            "        [0.1389],\n",
            "        [0.2635],\n",
            "        [0.2499],\n",
            "        [0.3155],\n",
            "        [0.3933],\n",
            "        [0.1808],\n",
            "        [0.3115]])\n"
          ],
          "name": "stdout"
        }
      ]
    },
    {
      "cell_type": "code",
      "metadata": {
        "id": "Onibws0jzkQ-",
        "colab": {
          "base_uri": "https://localhost:8080/",
          "height": 295
        },
        "outputId": "d4d20d51-5fc9-4d26-82fe-e345c140fba0"
      },
      "source": [
        "##8-2-5 計算AUC\n",
        "from sklearn.metrics import roc_auc_score, roc_curve\n",
        "from matplotlib import pyplot as plt\n",
        "AUC面積=roc_auc_score(y_test, y_pred) ##0.609\n",
        "fpr,tpr,thresholds=roc_curve(y_test,y_pred)\n",
        "plt.figure()\n",
        "plt.plot(fpr,tpr,label='Logistic regression (area = %0.3f)'%AUC面積)\n",
        "plt.plot([0,1],[0,1],'r--')\n",
        "plt.xlim([0.0,1.0])\n",
        "plt.ylim([0.0,1.05])\n",
        "plt.xlabel('False Positive Rate')\n",
        "plt.ylabel('True Positive Rate')\n",
        "plt.title('Receiver operating characteristic ROC')\n",
        "plt.legend(loc=\"lower right\")\n",
        "plt.show()"
      ],
      "execution_count": 32,
      "outputs": [
        {
          "output_type": "display_data",
          "data": {
            "image/png": "[encoded data removed]",
            "text/plain": [
              "<Figure size 432x288 with 1 Axes>"
            ]
          },
          "metadata": {
            "tags": [],
            "needs_background": "light"
          }
        }
      ]
    }
  ]
}