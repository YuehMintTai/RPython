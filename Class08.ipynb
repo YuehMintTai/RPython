{
  "nbformat": 4,
  "nbformat_minor": 0,
  "metadata": {
    "colab": {
      "name": "Class08.ipynb",
      "provenance": [],
      "authorship_tag": "ABX9TyOzV/hWfLy9WHRMpntxBuq8",
      "include_colab_link": true
    },
    "kernelspec": {
      "name": "python3",
      "display_name": "Python 3"
    },
    "language_info": {
      "name": "python"
    }
  },
  "cells": [
    {
      "cell_type": "markdown",
      "metadata": {
        "id": "view-in-github",
        "colab_type": "text"
      },
      "source": [
        "<a href=\"https://colab.research.google.com/github/YuehMintTai/RPython/blob/main/Class08.ipynb\" target=\"_parent\"><img src=\"https://colab.research.google.com/assets/colab-badge.svg\" alt=\"Open In Colab\"/></a>"
      ]
    },
    {
      "cell_type": "markdown",
      "metadata": {
        "id": "r2CONG6SfMsK"
      },
      "source": [
        "#三軍總醫院北投分院統計及實驗設計課程之八\n",
        "## 2021/7/13\n",
        "## ytai1123@gmail.com\n",
        "### 使用方法:\n",
        "\n",
        "\n",
        "1.   使用gmail帳號登入\n",
        "2.   按\"執行階段\" -->\"全部執行\" 以執行全部內容, 若要個別執行可點選每格程式左方箭頭或按 Control + Enter 鍵執行。"
      ]
    },
    {
      "cell_type": "code",
      "metadata": {
        "colab": {
          "base_uri": "https://localhost:8080/"
        },
        "id": "jlXcDYPlfE6V",
        "outputId": "99adc5bd-9e99-4164-e610-e2aa267db359"
      },
      "source": [
        "##0-1\n",
        "!git clone https://github.com/YuehMintTai/RPython.git"
      ],
      "execution_count": 1,
      "outputs": [
        {
          "output_type": "stream",
          "text": [
            "Cloning into 'RPython'...\n",
            "remote: Enumerating objects: 119, done.\u001b[K\n",
            "remote: Counting objects: 100% (119/119), done.\u001b[K\n",
            "remote: Compressing objects: 100% (117/117), done.\u001b[K\n",
            "remote: Total 119 (delta 65), reused 0 (delta 0), pack-reused 0\u001b[K\n",
            "Receiving objects: 100% (119/119), 2.72 MiB | 15.65 MiB/s, done.\n",
            "Resolving deltas: 100% (65/65), done.\n"
          ],
          "name": "stdout"
        }
      ]
    },
    {
      "cell_type": "code",
      "metadata": {
        "colab": {
          "base_uri": "https://localhost:8080/"
        },
        "id": "zSX8X-7MfSgK",
        "outputId": "64c14837-be07-4dff-cbb9-d6e8662d9b97"
      },
      "source": [
        "##0-2\n",
        "!pip install rpy2"
      ],
      "execution_count": 2,
      "outputs": [
        {
          "output_type": "stream",
          "text": [
            "Requirement already satisfied: rpy2 in /usr/local/lib/python3.7/dist-packages (3.4.5)\n",
            "Requirement already satisfied: tzlocal in /usr/local/lib/python3.7/dist-packages (from rpy2) (1.5.1)\n",
            "Requirement already satisfied: pytz in /usr/local/lib/python3.7/dist-packages (from rpy2) (2018.9)\n",
            "Requirement already satisfied: jinja2 in /usr/local/lib/python3.7/dist-packages (from rpy2) (2.11.3)\n",
            "Requirement already satisfied: cffi>=1.10.0 in /usr/local/lib/python3.7/dist-packages (from rpy2) (1.14.5)\n",
            "Requirement already satisfied: MarkupSafe>=0.23 in /usr/local/lib/python3.7/dist-packages (from jinja2->rpy2) (2.0.1)\n",
            "Requirement already satisfied: pycparser in /usr/local/lib/python3.7/dist-packages (from cffi>=1.10.0->rpy2) (2.20)\n"
          ],
          "name": "stdout"
        }
      ]
    },
    {
      "cell_type": "code",
      "metadata": {
        "id": "kUcDfNrpfVVk"
      },
      "source": [
        "##0-3\n",
        "%load_ext rpy2.ipython"
      ],
      "execution_count": 3,
      "outputs": []
    },
    {
      "cell_type": "code",
      "metadata": {
        "id": "JuuefOVMfZSV",
        "colab": {
          "base_uri": "https://localhost:8080/",
          "height": 35
        },
        "outputId": "64445bfe-16ba-4854-c072-87c16d4e934c"
      },
      "source": [
        "##8-1\n",
        "import tensorflow as tf\n",
        "import torch\n",
        "tf.__version__     ##2.5.0\n",
        "torch.__version__   ##1.9.0+cu102"
      ],
      "execution_count": 4,
      "outputs": [
        {
          "output_type": "execute_result",
          "data": {
            "application/vnd.google.colaboratory.intrinsic+json": {
              "type": "string"
            },
            "text/plain": [
              "'1.9.0+cu102'"
            ]
          },
          "metadata": {
            "tags": []
          },
          "execution_count": 4
        }
      ]
    },
    {
      "cell_type": "code",
      "metadata": {
        "id": "n8WemEO8ffxe"
      },
      "source": [
        "##8-2 區分 training, validation, testing sets..\n",
        "import pandas as pd\n",
        "from sklearn.model_selection import train_test_split\n",
        "from sklearn.metrics import roc_curve\n",
        "import numpy as np\n",
        "df=pd.read_csv('RPython/samples.csv')\n",
        "df['sex']='男'\n",
        "df.loc[df['性別']==2,'sex']='女'\n",
        "x=df[['sex','網路成癮分數YDQ','家庭滿意度apgar']]\n",
        "x=pd.get_dummies(data=x,drop_first=True)\n",
        "y=df['自殺意念01'].astype(int)\n",
        "\n"
      ],
      "execution_count": 16,
      "outputs": []
    }
  ]
}