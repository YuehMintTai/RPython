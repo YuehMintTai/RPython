{
  "nbformat": 4,
  "nbformat_minor": 0,
  "metadata": {
    "colab": {
      "name": "Class08.ipynb",
      "provenance": [],
      "authorship_tag": "ABX9TyNUpm4iZzuvKIpLbIhC8fKX",
      "include_colab_link": true
    },
    "kernelspec": {
      "name": "python3",
      "display_name": "Python 3"
    },
    "language_info": {
      "name": "python"
    }
  },
  "cells": [
    {
      "cell_type": "markdown",
      "metadata": {
        "id": "view-in-github",
        "colab_type": "text"
      },
      "source": [
        "<a href=\"https://colab.research.google.com/github/YuehMintTai/RPython/blob/main/Class08.ipynb\" target=\"_parent\"><img src=\"https://colab.research.google.com/assets/colab-badge.svg\" alt=\"Open In Colab\"/></a>"
      ]
    },
    {
      "cell_type": "markdown",
      "metadata": {
        "id": "r2CONG6SfMsK"
      },
      "source": [
        "#三軍總醫院北投分院統計及實驗設計課程之八\n",
        "## 2021/7/13\n",
        "## ytai1123@gmail.com\n",
        "### 使用方法:\n",
        "\n",
        "\n",
        "1.   使用gmail帳號登入\n",
        "2.   按\"執行階段\" -->\"全部執行\" 以執行全部內容, 若要個別執行可點選每格程式左方箭頭或按 Control + Enter 鍵執行。"
      ]
    },
    {
      "cell_type": "code",
      "metadata": {
        "colab": {
          "base_uri": "https://localhost:8080/"
        },
        "id": "jlXcDYPlfE6V",
        "outputId": "8f8898dd-7526-4315-e454-45976b8358e8"
      },
      "source": [
        "##0-1\n",
        "!git clone https://github.com/YuehMintTai/RPython.git"
      ],
      "execution_count": 1,
      "outputs": [
        {
          "output_type": "stream",
          "text": [
            "Cloning into 'RPython'...\n",
            "remote: Enumerating objects: 146, done.\u001b[K\n",
            "remote: Counting objects: 100% (146/146), done.\u001b[K\n",
            "remote: Compressing objects: 100% (144/144), done.\u001b[K\n",
            "remote: Total 146 (delta 80), reused 0 (delta 0), pack-reused 0\u001b[K\n",
            "Receiving objects: 100% (146/146), 2.88 MiB | 15.41 MiB/s, done.\n",
            "Resolving deltas: 100% (80/80), done.\n"
          ],
          "name": "stdout"
        }
      ]
    },
    {
      "cell_type": "code",
      "metadata": {
        "colab": {
          "base_uri": "https://localhost:8080/"
        },
        "id": "zSX8X-7MfSgK",
        "outputId": "8b65b762-f468-4e40-8c3d-40660425c3f5"
      },
      "source": [
        "##0-2\n",
        "!pip install rpy2"
      ],
      "execution_count": 2,
      "outputs": [
        {
          "output_type": "stream",
          "text": [
            "Requirement already satisfied: rpy2 in /usr/local/lib/python3.7/dist-packages (3.4.5)\n",
            "Requirement already satisfied: jinja2 in /usr/local/lib/python3.7/dist-packages (from rpy2) (2.11.3)\n",
            "Requirement already satisfied: cffi>=1.10.0 in /usr/local/lib/python3.7/dist-packages (from rpy2) (1.14.6)\n",
            "Requirement already satisfied: tzlocal in /usr/local/lib/python3.7/dist-packages (from rpy2) (1.5.1)\n",
            "Requirement already satisfied: pytz in /usr/local/lib/python3.7/dist-packages (from rpy2) (2018.9)\n",
            "Requirement already satisfied: MarkupSafe>=0.23 in /usr/local/lib/python3.7/dist-packages (from jinja2->rpy2) (2.0.1)\n",
            "Requirement already satisfied: pycparser in /usr/local/lib/python3.7/dist-packages (from cffi>=1.10.0->rpy2) (2.20)\n"
          ],
          "name": "stdout"
        }
      ]
    },
    {
      "cell_type": "code",
      "metadata": {
        "id": "kUcDfNrpfVVk"
      },
      "source": [
        "##0-3\n",
        "%load_ext rpy2.ipython"
      ],
      "execution_count": 3,
      "outputs": []
    },
    {
      "cell_type": "code",
      "metadata": {
        "id": "JuuefOVMfZSV",
        "colab": {
          "base_uri": "https://localhost:8080/",
          "height": 35
        },
        "outputId": "81b2af51-db54-4f13-ea97-58b6d664a087"
      },
      "source": [
        "##8-0-0\n",
        "import tensorflow as tf\n",
        "import torch\n",
        "tf.__version__     ##2.5.0\n",
        "torch.__version__   ##1.9.0+cu102"
      ],
      "execution_count": 4,
      "outputs": [
        {
          "output_type": "execute_result",
          "data": {
            "application/vnd.google.colaboratory.intrinsic+json": {
              "type": "string"
            },
            "text/plain": [
              "'1.9.0+cu102'"
            ]
          },
          "metadata": {
            "tags": []
          },
          "execution_count": 4
        }
      ]
    },
    {
      "cell_type": "code",
      "metadata": {
        "colab": {
          "base_uri": "https://localhost:8080/",
          "height": 361
        },
        "id": "PpqBp022Geuv",
        "outputId": "cbd648e1-0ab4-441e-b3dc-4643b6a6d261"
      },
      "source": [
        "##8-0-1 區分所有的資料為testing, validating及training sets\n",
        "import pandas as pd\n",
        "from sklearn.model_selection import train_test_split\n",
        "from sklearn.metrics import roc_curve\n",
        "import numpy as np\n",
        "\n",
        "df=pd.read_csv('RPython/samples.csv')\n",
        "df['sex']='男'\n",
        "df.loc[df['性別']==2,'sex']='女'\n",
        "x=df[['sex','網路成癮分數YDQ','家庭滿意度apgar','年齡']]\n",
        "x=pd.get_dummies(data=x,drop_first=True)\n",
        "y=df['自殺意念01'].astype(int).to_frame()\n",
        "all_df=pd.concat([x,y],axis=1)\n",
        "all_df['remainder']=all_df.index%6\n",
        "all_df['group']='training'\n",
        "all_df.loc[all_df['remainder']==0,'group']='testing'\n",
        "all_df.loc[all_df['remainder']==1,'group']='validating'\n",
        "all_df.loc[all_df['remainder']==2,'group']='validating'\n",
        "\n",
        "all_df['年齡'].groupby(all_df['group']).mean()\n",
        "\n",
        "all_df['groupNo']=0\n",
        "all_df.loc[all_df['group']=='validating','groupNo']=1\n",
        "all_df.loc[all_df['group']=='testing','groupNo']=2\n",
        "all_df.tail(10)"
      ],
      "execution_count": 5,
      "outputs": [
        {
          "output_type": "execute_result",
          "data": {
            "text/html": [
              "<div>\n",
              "<style scoped>\n",
              "    .dataframe tbody tr th:only-of-type {\n",
              "        vertical-align: middle;\n",
              "    }\n",
              "\n",
              "    .dataframe tbody tr th {\n",
              "        vertical-align: top;\n",
              "    }\n",
              "\n",
              "    .dataframe thead th {\n",
              "        text-align: right;\n",
              "    }\n",
              "</style>\n",
              "<table border=\"1\" class=\"dataframe\">\n",
              "  <thead>\n",
              "    <tr style=\"text-align: right;\">\n",
              "      <th></th>\n",
              "      <th>網路成癮分數YDQ</th>\n",
              "      <th>家庭滿意度apgar</th>\n",
              "      <th>年齡</th>\n",
              "      <th>sex_男</th>\n",
              "      <th>自殺意念01</th>\n",
              "      <th>remainder</th>\n",
              "      <th>group</th>\n",
              "      <th>groupNo</th>\n",
              "    </tr>\n",
              "  </thead>\n",
              "  <tbody>\n",
              "    <tr>\n",
              "      <th>178</th>\n",
              "      <td>1</td>\n",
              "      <td>10.0</td>\n",
              "      <td>25.000000</td>\n",
              "      <td>1</td>\n",
              "      <td>0</td>\n",
              "      <td>4</td>\n",
              "      <td>training</td>\n",
              "      <td>0</td>\n",
              "    </tr>\n",
              "    <tr>\n",
              "      <th>179</th>\n",
              "      <td>8</td>\n",
              "      <td>0.0</td>\n",
              "      <td>29.000000</td>\n",
              "      <td>1</td>\n",
              "      <td>1</td>\n",
              "      <td>5</td>\n",
              "      <td>training</td>\n",
              "      <td>0</td>\n",
              "    </tr>\n",
              "    <tr>\n",
              "      <th>180</th>\n",
              "      <td>3</td>\n",
              "      <td>8.0</td>\n",
              "      <td>21.333082</td>\n",
              "      <td>0</td>\n",
              "      <td>1</td>\n",
              "      <td>0</td>\n",
              "      <td>testing</td>\n",
              "      <td>2</td>\n",
              "    </tr>\n",
              "    <tr>\n",
              "      <th>181</th>\n",
              "      <td>7</td>\n",
              "      <td>3.0</td>\n",
              "      <td>34.000000</td>\n",
              "      <td>1</td>\n",
              "      <td>0</td>\n",
              "      <td>1</td>\n",
              "      <td>validating</td>\n",
              "      <td>1</td>\n",
              "    </tr>\n",
              "    <tr>\n",
              "      <th>182</th>\n",
              "      <td>7</td>\n",
              "      <td>5.0</td>\n",
              "      <td>18.000000</td>\n",
              "      <td>1</td>\n",
              "      <td>0</td>\n",
              "      <td>2</td>\n",
              "      <td>validating</td>\n",
              "      <td>1</td>\n",
              "    </tr>\n",
              "    <tr>\n",
              "      <th>183</th>\n",
              "      <td>8</td>\n",
              "      <td>9.0</td>\n",
              "      <td>27.000000</td>\n",
              "      <td>1</td>\n",
              "      <td>0</td>\n",
              "      <td>3</td>\n",
              "      <td>training</td>\n",
              "      <td>0</td>\n",
              "    </tr>\n",
              "    <tr>\n",
              "      <th>184</th>\n",
              "      <td>5</td>\n",
              "      <td>5.0</td>\n",
              "      <td>27.000000</td>\n",
              "      <td>1</td>\n",
              "      <td>1</td>\n",
              "      <td>4</td>\n",
              "      <td>training</td>\n",
              "      <td>0</td>\n",
              "    </tr>\n",
              "    <tr>\n",
              "      <th>185</th>\n",
              "      <td>5</td>\n",
              "      <td>7.0</td>\n",
              "      <td>27.000000</td>\n",
              "      <td>1</td>\n",
              "      <td>0</td>\n",
              "      <td>5</td>\n",
              "      <td>training</td>\n",
              "      <td>0</td>\n",
              "    </tr>\n",
              "    <tr>\n",
              "      <th>186</th>\n",
              "      <td>2</td>\n",
              "      <td>0.0</td>\n",
              "      <td>21.000000</td>\n",
              "      <td>1</td>\n",
              "      <td>1</td>\n",
              "      <td>0</td>\n",
              "      <td>testing</td>\n",
              "      <td>2</td>\n",
              "    </tr>\n",
              "    <tr>\n",
              "      <th>187</th>\n",
              "      <td>0</td>\n",
              "      <td>0.0</td>\n",
              "      <td>25.000000</td>\n",
              "      <td>1</td>\n",
              "      <td>1</td>\n",
              "      <td>1</td>\n",
              "      <td>validating</td>\n",
              "      <td>1</td>\n",
              "    </tr>\n",
              "  </tbody>\n",
              "</table>\n",
              "</div>"
            ],
            "text/plain": [
              "     網路成癮分數YDQ  家庭滿意度apgar         年齡  ...  remainder       group  groupNo\n",
              "178          1        10.0  25.000000  ...          4    training        0\n",
              "179          8         0.0  29.000000  ...          5    training        0\n",
              "180          3         8.0  21.333082  ...          0     testing        2\n",
              "181          7         3.0  34.000000  ...          1  validating        1\n",
              "182          7         5.0  18.000000  ...          2  validating        1\n",
              "183          8         9.0  27.000000  ...          3    training        0\n",
              "184          5         5.0  27.000000  ...          4    training        0\n",
              "185          5         7.0  27.000000  ...          5    training        0\n",
              "186          2         0.0  21.000000  ...          0     testing        2\n",
              "187          0         0.0  25.000000  ...          1  validating        1\n",
              "\n",
              "[10 rows x 8 columns]"
            ]
          },
          "metadata": {
            "tags": []
          },
          "execution_count": 5
        }
      ]
    },
    {
      "cell_type": "code",
      "metadata": {
        "id": "bPq8q3AgXR5k",
        "colab": {
          "base_uri": "https://localhost:8080/"
        },
        "outputId": "88eae058-5bb0-4a03-fcc1-5a03a0b9271f"
      },
      "source": [
        "##8-0-2 Chi-square and ANOVA\n",
        "from sklearn.feature_selection import chi2\n",
        "from sklearn.feature_selection import f_classif\n",
        "print(pd.crosstab(all_df['group'],all_df['自殺意念01']))\n",
        "##chi-square test確定 自殺意念01 沒有過度集中在某組....\n",
        "Chi2=chi2(all_df['groupNo'].to_numpy().reshape(-1,1),all_df['自殺意念01'].to_numpy())\n",
        "print('chi2={}, p={}'.format(round(Chi2[0].item(),3),round(Chi2[1].item(),3)))\n",
        "##ANOVA確定年齡沒有過度集中在某組\n",
        "print('='*30)\n",
        "F=f_classif(all_df['年齡'].to_numpy().reshape(-1,1),all_df['group'].to_numpy())\n",
        "print(all_df.groupby('group')['年齡'].mean())\n",
        "print('ANOVA F={}, p={}'.format(round(F[0].item(),3),round(F[1].item(),3)))"
      ],
      "execution_count": 6,
      "outputs": [
        {
          "output_type": "stream",
          "text": [
            "自殺意念01       0   1\n",
            "group             \n",
            "testing     23   9\n",
            "training    77  16\n",
            "validating  53  10\n",
            "chi2=0.986, p=0.321\n",
            "==============================\n",
            "group\n",
            "testing       21.385385\n",
            "training      21.752499\n",
            "validating    20.687376\n",
            "Name: 年齡, dtype: float64\n",
            "ANOVA F=1.126, p=0.327\n"
          ],
          "name": "stdout"
        }
      ]
    },
    {
      "cell_type": "code",
      "metadata": {
        "id": "n8WemEO8ffxe",
        "colab": {
          "base_uri": "https://localhost:8080/"
        },
        "outputId": "fdc2e61c-5a00-45d8-f40e-8ea19d217ba4"
      },
      "source": [
        "##8-0-3 區分 training, validation, testing sets..\n",
        "y_test=all_df.loc[all_df['group']=='testing']['自殺意念01'].to_frame()\n",
        "x_test=all_df.loc[all_df['group']=='testing'][['網路成癮分數YDQ','家庭滿意度apgar','年齡','sex_男']]\n",
        "y_vald=all_df.loc[all_df['group']=='validating']['自殺意念01'].to_frame()\n",
        "x_vald=all_df.loc[all_df['group']=='validating'][['網路成癮分數YDQ','家庭滿意度apgar','年齡','sex_男']]\n",
        "y_train=all_df.loc[all_df['group']=='training']['自殺意念01'].to_frame()\n",
        "x_train=all_df.loc[all_df['group']=='training'][['網路成癮分數YDQ','家庭滿意度apgar','年齡','sex_男']]\n",
        "print('cases number of train={}, of validation={}, of test={} '.format(len(x_train),len(x_vald),len(x_test)))"
      ],
      "execution_count": 7,
      "outputs": [
        {
          "output_type": "stream",
          "text": [
            "cases number of train=93, of validation=63, of test=32 \n"
          ],
          "name": "stdout"
        }
      ]
    },
    {
      "cell_type": "code",
      "metadata": {
        "id": "zHDP9NL32bkG"
      },
      "source": [
        "all_df.to_csv('all_df_r.csv')"
      ],
      "execution_count": 8,
      "outputs": []
    },
    {
      "cell_type": "code",
      "metadata": {
        "id": "fAj8SwxUu97e",
        "colab": {
          "base_uri": "https://localhost:8080/",
          "height": 549
        },
        "outputId": "48651284-ac09-4882-e6bf-1ca3699481c0"
      },
      "source": [
        "##8-0-4 Read Pands.DataFrame in R\n",
        "%%R\n",
        "all_df_r<-read.csv('all_df_r.csv')\n",
        "hist(all_df_r$年齡[all_df_r$group=='training'])\n",
        "##hist(all_df_r$年齡[all_df_r$group=='validating'])\n",
        "##hist(all_df_r$年齡[all_df_r$group=='testing'])\n",
        "formula<-'年齡~group'\n",
        "ANOVA<-aov(all_df_r$網路成癮分數YDQ~all_df_r$groupNo)\n",
        "ANOVA<-aov(all_df_r$家庭滿意度apgar~all_df_r$groupNo)\n",
        "ANOVA<-aov(all_df_r$年齡~all_df_r$group)\n",
        "summary(ANOVA)"
      ],
      "execution_count": 9,
      "outputs": [
        {
          "output_type": "stream",
          "text": [
            "                Df Sum Sq Mean Sq F value Pr(>F)\n",
            "all_df_r$group   2     43   21.36   1.126  0.327\n",
            "Residuals      185   3510   18.97               \n"
          ],
          "name": "stdout"
        },
        {
          "output_type": "display_data",
          "data": {
            "image/png": "[encoded data removed]"
          },
          "metadata": {
            "tags": []
          }
        }
      ]
    },
    {
      "cell_type": "code",
      "metadata": {
        "id": "XFtASJ6rssT6",
        "colab": {
          "base_uri": "https://localhost:8080/",
          "height": 349
        },
        "outputId": "392b13a3-9458-4456-e805-9153772dec67"
      },
      "source": [
        "##8-0-5使用sklearn Logistic Regression\n",
        "from sklearn.linear_model import LogisticRegression\n",
        "from sklearn.metrics import roc_curve, roc_auc_score\n",
        "from matplotlib import pyplot as plt\n",
        "model0=LogisticRegression()\n",
        "result0=model0.fit(x_train,y_train)\n",
        "預測機率0=result0.predict_proba(x_test)\n",
        "AUC面積0=roc_auc_score(y_test,預測機率0[:,1])\n",
        "fpr, tpr, thresholds = roc_curve(y_test,預測機率0[:,1])\n",
        "plt.figure()\n",
        "plt.plot(fpr, tpr, label='Logistic regression (area = %0.3f)' % AUC面積0)\n",
        "plt.plot([0, 1], [0, 1],'r--')\n",
        "plt.xlim([0.0, 1.0])\n",
        "plt.ylim([0.0, 1.05])\n",
        "plt.xlabel('False Positive Rate')\n",
        "plt.ylabel('True Positive Rate')\n",
        "plt.title('Receiver operating characteristic ROC')\n",
        "plt.legend(loc=\"lower right\")\n",
        "plt.show()"
      ],
      "execution_count": 11,
      "outputs": [
        {
          "output_type": "stream",
          "text": [
            "/usr/local/lib/python3.7/dist-packages/sklearn/utils/validation.py:760: DataConversionWarning: A column-vector y was passed when a 1d array was expected. Please change the shape of y to (n_samples, ), for example using ravel().\n",
            "  y = column_or_1d(y, warn=True)\n"
          ],
          "name": "stderr"
        },
        {
          "output_type": "display_data",
          "data": {
            "image/png": "[encoded data removed]",
            "text/plain": [
              "<Figure size 432x288 with 1 Axes>"
            ]
          },
          "metadata": {
            "tags": [],
            "needs_background": "light"
          }
        }
      ]
    },
    {
      "cell_type": "code",
      "metadata": {
        "id": "SLdTs0qUlVLo",
        "colab": {
          "base_uri": "https://localhost:8080/"
        },
        "outputId": "e84bd7b0-4173-4c48-ee49-bfa3d927e831"
      },
      "source": [
        "##8-1-1 使用Tensorflow Logistic regression ...\n",
        "import tensorflow as tf\n",
        "from tensorflow.keras.layers import Dense \n",
        "from tensorflow.keras import Sequential\n",
        "from tensorflow.keras.metrics import AUC, Precision, Recall\n",
        "model1=Sequential()\n",
        "model1.add(Dense(units=1,input_dim=4,activation='sigmoid')) ###'softmax' is for multiclass outcome.\n",
        "model1.compile(loss='binary_crossentropy',optimizer='adam',metrics=['accuracy',AUC(),Precision(),Recall()])\n",
        "model1.fit(x_train, y_train, epochs=20,batch_size=10,validation_data=(x_vald,y_vald))"
      ],
      "execution_count": 17,
      "outputs": [
        {
          "output_type": "stream",
          "text": [
            "Epoch 1/20\n",
            "10/10 [==============================] - 1s 55ms/step - loss: 14.3723 - accuracy: 0.1720 - auc_1: 0.5000 - precision_1: 0.1720 - recall_1: 1.0000 - val_loss: 13.5341 - val_accuracy: 0.1587 - val_auc_1: 0.5000 - val_precision_1: 0.1587 - val_recall_1: 1.0000\n",
            "Epoch 2/20\n",
            "10/10 [==============================] - 0s 4ms/step - loss: 14.1071 - accuracy: 0.1720 - auc_1: 0.5000 - precision_1: 0.1720 - recall_1: 1.0000 - val_loss: 13.2584 - val_accuracy: 0.1587 - val_auc_1: 0.5000 - val_precision_1: 0.1587 - val_recall_1: 1.0000\n",
            "Epoch 3/20\n",
            "10/10 [==============================] - 0s 6ms/step - loss: 13.8463 - accuracy: 0.1720 - auc_1: 0.5000 - precision_1: 0.1720 - recall_1: 1.0000 - val_loss: 12.9816 - val_accuracy: 0.1587 - val_auc_1: 0.5000 - val_precision_1: 0.1587 - val_recall_1: 1.0000\n",
            "Epoch 4/20\n",
            "10/10 [==============================] - 0s 6ms/step - loss: 13.5794 - accuracy: 0.1720 - auc_1: 0.5000 - precision_1: 0.1720 - recall_1: 1.0000 - val_loss: 12.7103 - val_accuracy: 0.1587 - val_auc_1: 0.5000 - val_precision_1: 0.1587 - val_recall_1: 1.0000\n",
            "Epoch 5/20\n",
            "10/10 [==============================] - 0s 4ms/step - loss: 13.3151 - accuracy: 0.1720 - auc_1: 0.5000 - precision_1: 0.1720 - recall_1: 1.0000 - val_loss: 12.4365 - val_accuracy: 0.1587 - val_auc_1: 0.5000 - val_precision_1: 0.1587 - val_recall_1: 1.0000\n",
            "Epoch 6/20\n",
            "10/10 [==============================] - 0s 4ms/step - loss: 13.0555 - accuracy: 0.1720 - auc_1: 0.5065 - precision_1: 0.1720 - recall_1: 1.0000 - val_loss: 12.1579 - val_accuracy: 0.1587 - val_auc_1: 0.5000 - val_precision_1: 0.1587 - val_recall_1: 1.0000\n",
            "Epoch 7/20\n",
            "10/10 [==============================] - 0s 6ms/step - loss: 12.7888 - accuracy: 0.1720 - auc_1: 0.5065 - precision_1: 0.1720 - recall_1: 1.0000 - val_loss: 11.8841 - val_accuracy: 0.1587 - val_auc_1: 0.5000 - val_precision_1: 0.1587 - val_recall_1: 1.0000\n",
            "Epoch 8/20\n",
            "10/10 [==============================] - 0s 4ms/step - loss: 12.5278 - accuracy: 0.1720 - auc_1: 0.5065 - precision_1: 0.1720 - recall_1: 1.0000 - val_loss: 11.6055 - val_accuracy: 0.1587 - val_auc_1: 0.5000 - val_precision_1: 0.1587 - val_recall_1: 1.0000\n",
            "Epoch 9/20\n",
            "10/10 [==============================] - 0s 5ms/step - loss: 12.2606 - accuracy: 0.1720 - auc_1: 0.5065 - precision_1: 0.1720 - recall_1: 1.0000 - val_loss: 11.3366 - val_accuracy: 0.1587 - val_auc_1: 0.5000 - val_precision_1: 0.1587 - val_recall_1: 1.0000\n",
            "Epoch 10/20\n",
            "10/10 [==============================] - 0s 4ms/step - loss: 12.0066 - accuracy: 0.1720 - auc_1: 0.5065 - precision_1: 0.1720 - recall_1: 1.0000 - val_loss: 11.0657 - val_accuracy: 0.1587 - val_auc_1: 0.5000 - val_precision_1: 0.1587 - val_recall_1: 1.0000\n",
            "Epoch 11/20\n",
            "10/10 [==============================] - 0s 5ms/step - loss: 11.7431 - accuracy: 0.1720 - auc_1: 0.5065 - precision_1: 0.1720 - recall_1: 1.0000 - val_loss: 10.7975 - val_accuracy: 0.1587 - val_auc_1: 0.5000 - val_precision_1: 0.1587 - val_recall_1: 1.0000\n",
            "Epoch 12/20\n",
            "10/10 [==============================] - 0s 4ms/step - loss: 11.4827 - accuracy: 0.1720 - auc_1: 0.5065 - precision_1: 0.1720 - recall_1: 1.0000 - val_loss: 10.5216 - val_accuracy: 0.1587 - val_auc_1: 0.5000 - val_precision_1: 0.1587 - val_recall_1: 1.0000\n",
            "Epoch 13/20\n",
            "10/10 [==============================] - 0s 5ms/step - loss: 11.2230 - accuracy: 0.1720 - auc_1: 0.5065 - precision_1: 0.1720 - recall_1: 1.0000 - val_loss: 10.2448 - val_accuracy: 0.1587 - val_auc_1: 0.5000 - val_precision_1: 0.1587 - val_recall_1: 1.0000\n",
            "Epoch 14/20\n",
            "10/10 [==============================] - 0s 4ms/step - loss: 10.9538 - accuracy: 0.1720 - auc_1: 0.4821 - precision_1: 0.1720 - recall_1: 1.0000 - val_loss: 9.9757 - val_accuracy: 0.1587 - val_auc_1: 0.5094 - val_precision_1: 0.1587 - val_recall_1: 1.0000\n",
            "Epoch 15/20\n",
            "10/10 [==============================] - 0s 4ms/step - loss: 10.6958 - accuracy: 0.1720 - auc_1: 0.4821 - precision_1: 0.1720 - recall_1: 1.0000 - val_loss: 9.7031 - val_accuracy: 0.1587 - val_auc_1: 0.5189 - val_precision_1: 0.1587 - val_recall_1: 1.0000\n",
            "Epoch 16/20\n",
            "10/10 [==============================] - 0s 4ms/step - loss: 10.4352 - accuracy: 0.1720 - auc_1: 0.4821 - precision_1: 0.1720 - recall_1: 1.0000 - val_loss: 9.4273 - val_accuracy: 0.1587 - val_auc_1: 0.5189 - val_precision_1: 0.1587 - val_recall_1: 1.0000\n",
            "Epoch 17/20\n",
            "10/10 [==============================] - 0s 4ms/step - loss: 10.1743 - accuracy: 0.1720 - auc_1: 0.4947 - precision_1: 0.1720 - recall_1: 1.0000 - val_loss: 9.1544 - val_accuracy: 0.1587 - val_auc_1: 0.5472 - val_precision_1: 0.1587 - val_recall_1: 1.0000\n",
            "Epoch 18/20\n",
            "10/10 [==============================] - 0s 5ms/step - loss: 9.9152 - accuracy: 0.1720 - auc_1: 0.4943 - precision_1: 0.1720 - recall_1: 1.0000 - val_loss: 8.8845 - val_accuracy: 0.1587 - val_auc_1: 0.5660 - val_precision_1: 0.1587 - val_recall_1: 1.0000\n",
            "Epoch 19/20\n",
            "10/10 [==============================] - 0s 4ms/step - loss: 9.6535 - accuracy: 0.1720 - auc_1: 0.4947 - precision_1: 0.1720 - recall_1: 1.0000 - val_loss: 8.6190 - val_accuracy: 0.1587 - val_auc_1: 0.5660 - val_precision_1: 0.1587 - val_recall_1: 1.0000\n",
            "Epoch 20/20\n",
            "10/10 [==============================] - 0s 5ms/step - loss: 9.3986 - accuracy: 0.1720 - auc_1: 0.4947 - precision_1: 0.1720 - recall_1: 1.0000 - val_loss: 8.3426 - val_accuracy: 0.1587 - val_auc_1: 0.5755 - val_precision_1: 0.1587 - val_recall_1: 1.0000\n"
          ],
          "name": "stdout"
        },
        {
          "output_type": "execute_result",
          "data": {
            "text/plain": [
              "<tensorflow.python.keras.callbacks.History at 0x7fbfde80afd0>"
            ]
          },
          "metadata": {
            "tags": []
          },
          "execution_count": 17
        }
      ]
    },
    {
      "cell_type": "code",
      "metadata": {
        "id": "w3zqJ77WIrBG"
      },
      "source": [
        "##8-1-2 計算accuracy...\n",
        "score1=model1.evaluate(x_test,y_test)\n",
        "print('{}-->{}'.format(model1.metrics_names[0],score1[0]))\n",
        "print('{}-->{}'.format(model1.metrics_names[1],score1[1]))\n",
        "print('{}-->{}'.format(model1.metrics_names[2],score1[2]))\n",
        "print('{}-->{}'.format(model1.metrics_names[3],score1[3]))\n",
        "print('{}-->{}'.format(model1.metrics_names[4],score1[4]))\n",
        "\n",
        "print('='*30)\n",
        "from sklearn.metrics import roc_auc_score\n",
        "print('AUC for testing set:')\n",
        "predicted_prob=model1.predict(x_test)\n",
        "roc_auc_score(y_test,predicted_prob)"
      ],
      "execution_count": null,
      "outputs": []
    },
    {
      "cell_type": "code",
      "metadata": {
        "id": "5g-bXTS8feo3",
        "colab": {
          "base_uri": "https://localhost:8080/",
          "height": 295
        },
        "outputId": "35cf8744-8b39-4f07-e6ab-51eac9fe7a0b"
      },
      "source": [
        "##8-1-3 繪製ROC曲線圖...\n",
        "from sklearn.metrics import roc_auc_score, roc_curve\n",
        "from matplotlib import pyplot as plt\n",
        "AUC面積=roc_auc_score(y_test, predicted_prob) ##0.6973180076628352\n",
        "fpr,tpr,thresholds=roc_curve(y_test,predicted_prob)\n",
        "plt.figure()\n",
        "plt.plot(fpr,tpr,label='Logistic regression (area = %0.3f)'%AUC面積)\n",
        "plt.plot([0,1],[0,1],'r--')\n",
        "plt.xlim([0.0,1.0])\n",
        "plt.ylim([0.0,1.05])\n",
        "plt.xlabel('False Positive Rate')\n",
        "plt.ylabel('True Positive Rate')\n",
        "plt.title('Receiver operating characteristic ROC')\n",
        "plt.legend(loc=\"lower right\")\n",
        "plt.show()"
      ],
      "execution_count": 19,
      "outputs": [
        {
          "output_type": "display_data",
          "data": {
            "image/png": "[encoded data removed]",
            "text/plain": [
              "<Figure size 432x288 with 1 Axes>"
            ]
          },
          "metadata": {
            "tags": [],
            "needs_background": "light"
          }
        }
      ]
    },
    {
      "cell_type": "code",
      "metadata": {
        "id": "eWcEQkLEkwqg"
      },
      "source": [
        "##8-2-1使用pytorch\n",
        "import torch \n",
        "x_train_=torch.from_numpy(x_train.to_numpy().astype(np.float32))\n",
        "x_vald_=torch.from_numpy(x_vald.to_numpy().astype(np.float32))\n",
        "x_test_=torch.from_numpy(x_test.to_numpy().astype(np.float32))\n",
        "y_train_=torch.from_numpy(y_train.to_numpy().astype(np.float32))\n",
        "y_vald_=torch.from_numpy(y_vald.to_numpy().astype(np.float32))\n",
        "y_test_=torch.from_numpy(y_test.to_numpy().astype(np.float32))"
      ],
      "execution_count": 20,
      "outputs": []
    },
    {
      "cell_type": "code",
      "metadata": {
        "id": "xeGXSUOKls-U"
      },
      "source": [
        "##8-2-2 建立 class\n",
        "import torch\n",
        "class Logistic_Reg_model(torch.nn.Module):\n",
        "  def __init__(self,no_input_features):\n",
        "    super(Logistic_Reg_model,self).__init__()\n",
        "    self.layer1=torch.nn.Linear(no_input_features,4)\n",
        "    self.layer2=torch.nn.Linear(4,1)\n",
        "  def forward(self,x):\n",
        "    y_predicted=self.layer1(x)\n",
        "    y_predicted=torch.sigmoid(self.layer2(y_predicted))\n",
        "    return y_predicted"
      ],
      "execution_count": 21,
      "outputs": []
    },
    {
      "cell_type": "code",
      "metadata": {
        "id": "OIlE_e6-lx62",
        "colab": {
          "base_uri": "https://localhost:8080/"
        },
        "outputId": "8a47e0e4-99b3-40d7-fb06-e02ce4d2631d"
      },
      "source": [
        "##8-2-3 訓練model\n",
        "import torch\n",
        "樣本數,變項數=x_train_.shape\n",
        "model2=Logistic_Reg_model(變項數)\n",
        "criterion=torch.nn.BCELoss()\n",
        "optimizer=torch.optim.SGD(model2.parameters(),lr=0.01)\n",
        "number_of_epochs=20\n",
        "for epoch in range(number_of_epochs):\n",
        "  y_prediction=model2(x_train_)\n",
        "  loss=criterion(y_prediction,y_train_)\n",
        "  loss.backward()\n",
        "  optimizer.step()\n",
        "  optimizer.zero_grad()\n",
        "  if (epoch+1)%10==0:\n",
        "    print('epoch:',epoch+1,', loss=',loss.item())"
      ],
      "execution_count": 25,
      "outputs": [
        {
          "output_type": "stream",
          "text": [
            "epoch: 10 , loss= 0.4337612986564636\n",
            "epoch: 20 , loss= 0.42992815375328064\n"
          ],
          "name": "stdout"
        }
      ]
    },
    {
      "cell_type": "code",
      "metadata": {
        "id": "qRNV9W0sSKh1",
        "colab": {
          "base_uri": "https://localhost:8080/"
        },
        "outputId": "99e6ca52-dcc7-4f4b-dd7c-b5d9427bb109"
      },
      "source": [
        "##8-2-4測試testing group\n",
        "import torch\n",
        "with torch.no_grad():\n",
        "  y_pred=model2(x_test_)\n",
        "  y_pred_class=y_pred.round()\n",
        "  accuracy=float(y_pred_class.eq(y_test_).sum())/float(y_test_.shape[0])\n",
        "print(accuracy)\n",
        "print(y_pred)"
      ],
      "execution_count": 26,
      "outputs": [
        {
          "output_type": "stream",
          "text": [
            "0.71875\n",
            "tensor([[0.1213],\n",
            "        [0.2223],\n",
            "        [0.1353],\n",
            "        [0.1787],\n",
            "        [0.1224],\n",
            "        [0.1218],\n",
            "        [0.1792],\n",
            "        [0.1717],\n",
            "        [0.2271],\n",
            "        [0.2202],\n",
            "        [0.1254],\n",
            "        [0.2251],\n",
            "        [0.1263],\n",
            "        [0.2463],\n",
            "        [0.2018],\n",
            "        [0.1344],\n",
            "        [0.1206],\n",
            "        [0.1207],\n",
            "        [0.1405],\n",
            "        [0.1881],\n",
            "        [0.1224],\n",
            "        [0.1534],\n",
            "        [0.1241],\n",
            "        [0.3117],\n",
            "        [0.1213],\n",
            "        [0.1695],\n",
            "        [0.1466],\n",
            "        [0.2784],\n",
            "        [0.1118],\n",
            "        [0.3600],\n",
            "        [0.1647],\n",
            "        [0.3750]])\n"
          ],
          "name": "stdout"
        }
      ]
    },
    {
      "cell_type": "code",
      "metadata": {
        "id": "Onibws0jzkQ-",
        "colab": {
          "base_uri": "https://localhost:8080/",
          "height": 295
        },
        "outputId": "f8cb3607-63b9-4727-a69c-26657cb5f3d0"
      },
      "source": [
        "##8-2-5 計算AUC\n",
        "from sklearn.metrics import roc_auc_score, roc_curve\n",
        "from matplotlib import pyplot as plt\n",
        "AUC面積=roc_auc_score(y_test, y_pred) ##0.609\n",
        "fpr,tpr,thresholds=roc_curve(y_test,y_pred)\n",
        "plt.figure()\n",
        "plt.plot(fpr,tpr,label='Logistic regression (area = %0.3f)'%AUC面積)\n",
        "plt.plot([0,1],[0,1],'r--')\n",
        "plt.xlim([0.0,1.0])\n",
        "plt.ylim([0.0,1.05])\n",
        "plt.xlabel('False Positive Rate')\n",
        "plt.ylabel('True Positive Rate')\n",
        "plt.title('Receiver operating characteristic ROC')\n",
        "plt.legend(loc=\"lower right\")\n",
        "plt.show()"
      ],
      "execution_count": 27,
      "outputs": [
        {
          "output_type": "display_data",
          "data": {
            "image/png": "[encoded data removed]",
            "text/plain": [
              "<Figure size 432x288 with 1 Axes>"
            ]
          },
          "metadata": {
            "tags": [],
            "needs_background": "light"
          }
        }
      ]
    },
    {
      "cell_type": "code",
      "metadata": {
        "id": "oeZJVm7jWGR5",
        "outputId": "6b713e68-2c98-436e-baf0-7600b823c42a",
        "colab": {
          "base_uri": "https://localhost:8080/"
        }
      },
      "source": [
        "##8-3-1 Deep Learning Model...\n",
        "import tensorflow as tf\n",
        "import numpy as np\n",
        "from tensorflow import keras\n",
        "from tensorflow.keras.layers import Dense \n",
        "model3=keras.Sequential()\n",
        "model3.add(Dense(8,input_dim=4,activation='relu'))\n",
        "model3.add(Dense(5,activation='relu'))\n",
        "model3.add(Dense(1,activation='sigmoid'))\n",
        "model3.summary()"
      ],
      "execution_count": 52,
      "outputs": [
        {
          "output_type": "stream",
          "text": [
            "Model: \"sequential_9\"\n",
            "_________________________________________________________________\n",
            "Layer (type)                 Output Shape              Param #   \n",
            "=================================================================\n",
            "dense_16 (Dense)             (None, 8)                 40        \n",
            "_________________________________________________________________\n",
            "dense_17 (Dense)             (None, 5)                 45        \n",
            "_________________________________________________________________\n",
            "dense_18 (Dense)             (None, 1)                 6         \n",
            "=================================================================\n",
            "Total params: 91\n",
            "Trainable params: 91\n",
            "Non-trainable params: 0\n",
            "_________________________________________________________________\n"
          ],
          "name": "stdout"
        }
      ]
    },
    {
      "cell_type": "code",
      "metadata": {
        "id": "K9GPIOINXjCO",
        "outputId": "8ec04162-084a-4fe8-a2c6-f786bff7fb93",
        "colab": {
          "base_uri": "https://localhost:8080/"
        }
      },
      "source": [
        "##8-3-2 Training model..\n",
        "from tensorflow.keras.metrics import AUC, Precision, Recall\n",
        "model3.compile(loss='binary_crossentropy',optimizer='adam',metrics=['accuracy',AUC(),Precision(),Recall()])\n",
        "model3.fit(x_train, y_train,epochs=20, batch_size=10,validation_data=(x_vald,y_vald))"
      ],
      "execution_count": 53,
      "outputs": [
        {
          "output_type": "stream",
          "text": [
            "Epoch 1/20\n",
            "10/10 [==============================] - 2s 60ms/step - loss: 2.2139 - accuracy: 0.1720 - auc_8: 0.7658 - precision_8: 0.1720 - recall_8: 1.0000 - val_loss: 2.0998 - val_accuracy: 0.1587 - val_auc_8: 0.7160 - val_precision_8: 0.1587 - val_recall_8: 1.0000\n",
            "Epoch 2/20\n",
            "10/10 [==============================] - 0s 5ms/step - loss: 1.8998 - accuracy: 0.1720 - auc_8: 0.7630 - precision_8: 0.1720 - recall_8: 1.0000 - val_loss: 1.7643 - val_accuracy: 0.1587 - val_auc_8: 0.7462 - val_precision_8: 0.1587 - val_recall_8: 1.0000\n",
            "Epoch 3/20\n",
            "10/10 [==============================] - 0s 6ms/step - loss: 1.6629 - accuracy: 0.1720 - auc_8: 0.7873 - precision_8: 0.1720 - recall_8: 1.0000 - val_loss: 1.5422 - val_accuracy: 0.1587 - val_auc_8: 0.7745 - val_precision_8: 0.1587 - val_recall_8: 1.0000\n",
            "Epoch 4/20\n",
            "10/10 [==============================] - 0s 4ms/step - loss: 1.4983 - accuracy: 0.1720 - auc_8: 0.7959 - precision_8: 0.1720 - recall_8: 1.0000 - val_loss: 1.3773 - val_accuracy: 0.1587 - val_auc_8: 0.7877 - val_precision_8: 0.1587 - val_recall_8: 1.0000\n",
            "Epoch 5/20\n",
            "10/10 [==============================] - 0s 4ms/step - loss: 1.3698 - accuracy: 0.1720 - auc_8: 0.8052 - precision_8: 0.1720 - recall_8: 1.0000 - val_loss: 1.2573 - val_accuracy: 0.1587 - val_auc_8: 0.8038 - val_precision_8: 0.1587 - val_recall_8: 1.0000\n",
            "Epoch 6/20\n",
            "10/10 [==============================] - 0s 4ms/step - loss: 1.2741 - accuracy: 0.1720 - auc_8: 0.8060 - precision_8: 0.1720 - recall_8: 1.0000 - val_loss: 1.1621 - val_accuracy: 0.1587 - val_auc_8: 0.8132 - val_precision_8: 0.1587 - val_recall_8: 1.0000\n",
            "Epoch 7/20\n",
            "10/10 [==============================] - 0s 4ms/step - loss: 1.1937 - accuracy: 0.1828 - auc_8: 0.8153 - precision_8: 0.1739 - recall_8: 1.0000 - val_loss: 1.0903 - val_accuracy: 0.1587 - val_auc_8: 0.8132 - val_precision_8: 0.1587 - val_recall_8: 1.0000\n",
            "Epoch 8/20\n",
            "10/10 [==============================] - 0s 4ms/step - loss: 1.1261 - accuracy: 0.1828 - auc_8: 0.8194 - precision_8: 0.1739 - recall_8: 1.0000 - val_loss: 1.0225 - val_accuracy: 0.2063 - val_auc_8: 0.8170 - val_precision_8: 0.1667 - val_recall_8: 1.0000\n",
            "Epoch 9/20\n",
            "10/10 [==============================] - 0s 5ms/step - loss: 1.0694 - accuracy: 0.2473 - auc_8: 0.8153 - precision_8: 0.1860 - recall_8: 1.0000 - val_loss: 0.9654 - val_accuracy: 0.2540 - val_auc_8: 0.8245 - val_precision_8: 0.1754 - val_recall_8: 1.0000\n",
            "Epoch 10/20\n",
            "10/10 [==============================] - 0s 4ms/step - loss: 1.0169 - accuracy: 0.2581 - auc_8: 0.8080 - precision_8: 0.1882 - recall_8: 1.0000 - val_loss: 0.9147 - val_accuracy: 0.2857 - val_auc_8: 0.8321 - val_precision_8: 0.1818 - val_recall_8: 1.0000\n",
            "Epoch 11/20\n",
            "10/10 [==============================] - 0s 5ms/step - loss: 0.9676 - accuracy: 0.3011 - auc_8: 0.8153 - precision_8: 0.1975 - recall_8: 1.0000 - val_loss: 0.8720 - val_accuracy: 0.3333 - val_auc_8: 0.8349 - val_precision_8: 0.1923 - val_recall_8: 1.0000\n",
            "Epoch 12/20\n",
            "10/10 [==============================] - 0s 5ms/step - loss: 0.9272 - accuracy: 0.3548 - auc_8: 0.8145 - precision_8: 0.2027 - recall_8: 0.9375 - val_loss: 0.8363 - val_accuracy: 0.3968 - val_auc_8: 0.8255 - val_precision_8: 0.2083 - val_recall_8: 1.0000\n",
            "Epoch 13/20\n",
            "10/10 [==============================] - 0s 5ms/step - loss: 0.8914 - accuracy: 0.4194 - auc_8: 0.8157 - precision_8: 0.2206 - recall_8: 0.9375 - val_loss: 0.8057 - val_accuracy: 0.5556 - val_auc_8: 0.8208 - val_precision_8: 0.2500 - val_recall_8: 0.9000\n",
            "Epoch 14/20\n",
            "10/10 [==============================] - 0s 5ms/step - loss: 0.8595 - accuracy: 0.4409 - auc_8: 0.8157 - precision_8: 0.2273 - recall_8: 0.9375 - val_loss: 0.7808 - val_accuracy: 0.6190 - val_auc_8: 0.8075 - val_precision_8: 0.2812 - val_recall_8: 0.9000\n",
            "Epoch 15/20\n",
            "10/10 [==============================] - 0s 5ms/step - loss: 0.8324 - accuracy: 0.5161 - auc_8: 0.8162 - precision_8: 0.2542 - recall_8: 0.9375 - val_loss: 0.7592 - val_accuracy: 0.6349 - val_auc_8: 0.8075 - val_precision_8: 0.2759 - val_recall_8: 0.8000\n",
            "Epoch 16/20\n",
            "10/10 [==============================] - 0s 6ms/step - loss: 0.8091 - accuracy: 0.5269 - auc_8: 0.8109 - precision_8: 0.2500 - recall_8: 0.8750 - val_loss: 0.7407 - val_accuracy: 0.6508 - val_auc_8: 0.7934 - val_precision_8: 0.2857 - val_recall_8: 0.8000\n",
            "Epoch 17/20\n",
            "10/10 [==============================] - 0s 6ms/step - loss: 0.7873 - accuracy: 0.5484 - auc_8: 0.7849 - precision_8: 0.2593 - recall_8: 0.8750 - val_loss: 0.7239 - val_accuracy: 0.7143 - val_auc_8: 0.7745 - val_precision_8: 0.3333 - val_recall_8: 0.8000\n",
            "Epoch 18/20\n",
            "10/10 [==============================] - 0s 4ms/step - loss: 0.7664 - accuracy: 0.5699 - auc_8: 0.7812 - precision_8: 0.2692 - recall_8: 0.8750 - val_loss: 0.7100 - val_accuracy: 0.7460 - val_auc_8: 0.7726 - val_precision_8: 0.3636 - val_recall_8: 0.8000\n",
            "Epoch 19/20\n",
            "10/10 [==============================] - 0s 5ms/step - loss: 0.7491 - accuracy: 0.5699 - auc_8: 0.7833 - precision_8: 0.2692 - recall_8: 0.8750 - val_loss: 0.6981 - val_accuracy: 0.7619 - val_auc_8: 0.7802 - val_precision_8: 0.3810 - val_recall_8: 0.8000\n",
            "Epoch 20/20\n",
            "10/10 [==============================] - 0s 6ms/step - loss: 0.7350 - accuracy: 0.5806 - auc_8: 0.7861 - precision_8: 0.2745 - recall_8: 0.8750 - val_loss: 0.6881 - val_accuracy: 0.7778 - val_auc_8: 0.7925 - val_precision_8: 0.4000 - val_recall_8: 0.8000\n"
          ],
          "name": "stdout"
        },
        {
          "output_type": "execute_result",
          "data": {
            "text/plain": [
              "<tensorflow.python.keras.callbacks.History at 0x7fbfc674ca50>"
            ]
          },
          "metadata": {
            "tags": []
          },
          "execution_count": 53
        }
      ]
    },
    {
      "cell_type": "code",
      "metadata": {
        "id": "tZncbB79Ylg6",
        "outputId": "88f3f173-f4df-4bcb-e950-5beb80def851",
        "colab": {
          "base_uri": "https://localhost:8080/"
        }
      },
      "source": [
        "##8-3-3 計算accuracy...\n",
        "score1=model3.evaluate(x_test,y_test)\n",
        "print('{}-->{}'.format(model3.metrics_names[0],score1[0]))\n",
        "print('{}-->{}'.format(model3.metrics_names[1],score1[1]))\n",
        "print('{}-->{}'.format(model3.metrics_names[2],score1[2]))\n",
        "print('{}-->{}'.format(model3.metrics_names[3],score1[3]))\n",
        "print('{}-->{}'.format(model3.metrics_names[4],score1[4]))\n",
        "\n",
        "print('='*30)\n",
        "from sklearn.metrics import roc_auc_score\n",
        "print('AUC for testing set:')\n",
        "predicted_prob=model3.predict(x_test)\n",
        "roc_auc_score(y_test,predicted_prob)"
      ],
      "execution_count": 55,
      "outputs": [
        {
          "output_type": "stream",
          "text": [
            "1/1 [==============================] - 0s 18ms/step - loss: 0.6561 - accuracy: 0.7500 - auc_8: 0.7947 - precision_8: 0.5385 - recall_8: 0.7778\n",
            "loss-->0.6560519337654114\n",
            "accuracy-->0.75\n",
            "auc_8-->0.794685959815979\n",
            "precision_8-->0.5384615659713745\n",
            "recall_8-->0.7777777910232544\n",
            "==============================\n",
            "AUC for testing set:\n"
          ],
          "name": "stdout"
        },
        {
          "output_type": "execute_result",
          "data": {
            "text/plain": [
              "0.7946859903381642"
            ]
          },
          "metadata": {
            "tags": []
          },
          "execution_count": 55
        }
      ]
    },
    {
      "cell_type": "code",
      "metadata": {
        "id": "_XDwmhoxaWMR",
        "outputId": "0ba0f829-6588-4612-97fd-f70e69c7daa9",
        "colab": {
          "base_uri": "https://localhost:8080/",
          "height": 295
        }
      },
      "source": [
        "##8-3-4 計算AUC\n",
        "from sklearn.metrics import roc_auc_score, roc_curve\n",
        "from matplotlib import pyplot as plt\n",
        "AUC面積1=roc_auc_score(y_test, predicted_prob) ##0.609\n",
        "fpr,tpr,thresholds=roc_curve(y_test,predicted_prob)\n",
        "plt.figure()\n",
        "plt.plot(fpr,tpr,label='Logistic regression (area = %0.3f)'%AUC面積1)\n",
        "plt.plot([0,1],[0,1],'r--')\n",
        "plt.xlim([0.0,1.0])\n",
        "plt.ylim([0.0,1.05])\n",
        "plt.xlabel('False Positive Rate')\n",
        "plt.ylabel('True Positive Rate')\n",
        "plt.title('Receiver operating characteristic ROC')\n",
        "plt.legend(loc=\"lower right\")\n",
        "plt.show()"
      ],
      "execution_count": 56,
      "outputs": [
        {
          "output_type": "display_data",
          "data": {
            "image/png": "[encoded data removed]",
            "text/plain": [
              "<Figure size 432x288 with 1 Axes>"
            ]
          },
          "metadata": {
            "tags": [],
            "needs_background": "light"
          }
        }
      ]
    }
  ]
}