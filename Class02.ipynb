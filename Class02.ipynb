{
  "nbformat": 4,
  "nbformat_minor": 0,
  "metadata": {
    "colab": {
      "name": "Class02.ipynb",
      "provenance": []
    },
    "kernelspec": {
      "name": "python3",
      "display_name": "Python 3.8.6 64-bit"
    },
    "language_info": {
      "name": "python",
      "version": "3.8.6"
    },
    "interpreter": {
      "hash": "2db524e06e9f5f4ffedc911c917cb75e12dbc923643829bf417064a77eb14d37"
    }
  },
  "cells": [
    {
      "cell_type": "markdown",
      "metadata": {
        "id": "i9Uw9ZNaz3xE"
      },
      "source": [
        "#三軍總醫院北投分院統計及實驗設計課程之二  \n",
        "## 2021/6/26\n",
        "## ytai1123@gmail.com\n",
        "### 使用方法:\n",
        "\n",
        "\n",
        "1.   使用gmail帳號登入\n",
        "2.   按\"執行階段\" -->\"全部執行\" 以執行全部內容, 若要個別執行可點選每格程式左方箭頭或按 Control + Enter 鍵執行。"
      ]
    },
    {
      "cell_type": "code",
      "metadata": {
        "colab": {
          "base_uri": "https://localhost:8080/"
        },
        "id": "4GUsfuHSziLX",
        "outputId": "d4864e94-d629-40df-d18a-89f23ad7c0f9"
      },
      "source": [
        "##0-1\n",
        "!git clone https://github.com/YuehMintTai/RPython.git\n"
      ],
      "execution_count": 1,
      "outputs": [
        {
          "output_type": "stream",
          "name": "stderr",
          "text": [
            "Cloning into 'RPython'...\n"
          ]
        }
      ]
    },
    {
      "cell_type": "code",
      "metadata": {
        "colab": {
          "base_uri": "https://localhost:8080/"
        },
        "id": "1GGISfMT3Ka9",
        "outputId": "b0e58c71-78af-4960-dbb8-231df5695b9f",
        "tags": [
          "outputPrepend"
        ]
      },
      "source": [
        "##0-2\n",
        "!c:\\python38\\python.exe -m pip install --upgrade pip\n",
        "!pip install rpy2"
      ],
      "execution_count": 5,
      "outputs": [
        {
          "output_type": "stream",
          "name": "stdout",
          "text": [
            "kage is not available.\n",
            "    WARNING: The wheel package is not available.\n",
            "    Error: rpy2 in API mode cannot be built without R in the PATH or R_HOME defined. Correct this or force ABI mode-only by defining the environment variable RPY2_CFFI_MODE=ABI\n",
            "    ----------------------------------------\n",
            "WARNING: Discarding https://files.pythonhosted.org/packages/c1/f6/3425652de9f0479f31fd87e62ac08cd8c765af53aff59db915878b55f1b7/rpy2-3.3.4.tar.gz#sha256=763601b1c5d0195a53341c5b053b419e48eab163cdb8908e313ce7c1f207a3d1 (from https://pypi.org/simple/rpy2/). Command errored out with exit status 1: python setup.py egg_info Check the logs for full command output.\n",
            "    ERROR: Command errored out with exit status 1:\n",
            "     command: 'c:\\python38\\python.exe' -c 'import io, os, sys, setuptools, tokenize; sys.argv[0] = '\"'\"'C:\\\\Users\\\\sam\\\\AppData\\\\Local\\\\Temp\\\\pip-install-js8a9a4p\\\\rpy2_fd139b935da74a33ada48de20a2002b2\\\\setup.py'\"'\"'; __file__='\"'\"'C:\\\\Users\\\\sam\\\\AppData\\\\Local\\\\Temp\\\\pip-install-js8a9a4p\\\\rpy2_fd139b935da74a33ada48de20a2002b2\\\\setup.py'\"'\"';f = getattr(tokenize, '\"'\"'open'\"'\"', open)(__file__) if os.path.exists(__file__) else io.StringIO('\"'\"'from setuptools import setup; setup()'\"'\"');code = f.read().replace('\"'\"'\\r\\n'\"'\"', '\"'\"'\\n'\"'\"');f.close();exec(compile(code, __file__, '\"'\"'exec'\"'\"'))' egg_info --egg-base 'C:\\Users\\sam\\AppData\\Local\\Temp\\pip-pip-egg-info-144lkn41'\n",
            "         cwd: C:\\Users\\sam\\AppData\\Local\\Temp\\pip-install-js8a9a4p\\rpy2_fd139b935da74a33ada48de20a2002b2\\\n",
            "    Complete output (4 lines):\n",
            "    cffi mode: CFFI_MODE.ANY\n",
            "    WARNING: The wheel package is not available.\n",
            "    WARNING: The wheel package is not available.\n",
            "    Error: rpy2 in API mode cannot be built without R in the PATH or R_HOME defined. Correct this or force ABI mode-only by defining the environment variable RPY2_CFFI_MODE=ABI\n",
            "    ----------------------------------------\n",
            "WARNING: Discarding https://files.pythonhosted.org/packages/e2/ec/5f88d44ce8a0c721cd1a78f56717d765e53cf205730d8af1cc3482749060/rpy2-3.3.3.tar.gz#sha256=ca578dae6df117d55e3e547b29a8247f3710b1246c322c6a6cec3249b823cf0b (from https://pypi.org/simple/rpy2/). Command errored out with exit status 1: python setup.py egg_info Check the logs for full command output.\n",
            "    ERROR: Command errored out with exit status 1:\n",
            "     command: 'c:\\python38\\python.exe' -c 'import io, os, sys, setuptools, tokenize; sys.argv[0] = '\"'\"'C:\\\\Users\\\\sam\\\\AppData\\\\Local\\\\Temp\\\\pip-install-js8a9a4p\\\\rpy2_de6f65b84aca4f4faa6dc533d6978323\\\\setup.py'\"'\"'; __file__='\"'\"'C:\\\\Users\\\\sam\\\\AppData\\\\Local\\\\Temp\\\\pip-install-js8a9a4p\\\\rpy2_de6f65b84aca4f4faa6dc533d6978323\\\\setup.py'\"'\"';f = getattr(tokenize, '\"'\"'open'\"'\"', open)(__file__) if os.path.exists(__file__) else io.StringIO('\"'\"'from setuptools import setup; setup()'\"'\"');code = f.read().replace('\"'\"'\\r\\n'\"'\"', '\"'\"'\\n'\"'\"');f.close();exec(compile(code, __file__, '\"'\"'exec'\"'\"'))' egg_info --egg-base 'C:\\Users\\sam\\AppData\\Local\\Temp\\pip-pip-egg-info-rd64t3ir'\n",
            "         cwd: C:\\Users\\sam\\AppData\\Local\\Temp\\pip-install-js8a9a4p\\rpy2_de6f65b84aca4f4faa6dc533d6978323\\\n",
            "    Complete output (4 lines):\n",
            "    cffi mode: CFFI_MODE.ANY\n",
            "    WARNING: The wheel package is not available.\n",
            "    WARNING: The wheel package is not available.\n",
            "    Error: rpy2 in API mode cannot be built without R in the PATH or R_HOME defined. Correct this or force ABI mode-only by defining the environment variable RPY2_CFFI_MODE=ABI\n",
            "    ----------------------------------------\n",
            "WARNING: Discarding https://files.pythonhosted.org/packages/58/be/90cbc6b530a86a2d927bb8379983c7b17e0b89ca844c27270fc4509d1dbf/rpy2-3.3.2.tar.gz#sha256=2e12c99e56a1faa68f3b82a71b90e3389203c1e76cd53fe38946a8a7a31f9750 (from https://pypi.org/simple/rpy2/). Command errored out with exit status 1: python setup.py egg_info Check the logs for full command output.\n",
            "    ERROR: Command errored out with exit status 1:\n",
            "     command: 'c:\\python38\\python.exe' -c 'import io, os, sys, setuptools, tokenize; sys.argv[0] = '\"'\"'C:\\\\Users\\\\sam\\\\AppData\\\\Local\\\\Temp\\\\pip-install-js8a9a4p\\\\rpy2_22b90f0225564761b3e7ecabc1307d14\\\\setup.py'\"'\"'; __file__='\"'\"'C:\\\\Users\\\\sam\\\\AppData\\\\Local\\\\Temp\\\\pip-install-js8a9a4p\\\\rpy2_22b90f0225564761b3e7ecabc1307d14\\\\setup.py'\"'\"';f = getattr(tokenize, '\"'\"'open'\"'\"', open)(__file__) if os.path.exists(__file__) else io.StringIO('\"'\"'from setuptools import setup; setup()'\"'\"');code = f.read().replace('\"'\"'\\r\\n'\"'\"', '\"'\"'\\n'\"'\"');f.close();exec(compile(code, __file__, '\"'\"'exec'\"'\"'))' egg_info --egg-base 'C:\\Users\\sam\\AppData\\Local\\Temp\\pip-pip-egg-info-m_fp56o4'\n",
            "         cwd: C:\\Users\\sam\\AppData\\Local\\Temp\\pip-install-js8a9a4p\\rpy2_22b90f0225564761b3e7ecabc1307d14\\\n",
            "    Complete output (4 lines):\n",
            "    cffi mode: CFFI_MODE.ANY\n",
            "    WARNING: The wheel package is not available.\n",
            "    WARNING: The wheel package is not available.\n",
            "    Error: rpy2 in API mode cannot be built without R in the PATH or R_HOME defined. Correct this or force ABI mode-only by defining the environment variable RPY2_CFFI_MODE=ABI\n",
            "    ----------------------------------------\n",
            "WARNING: Discarding https://files.pythonhosted.org/packages/72/9b/38a6970066ee42cc3455505db284f5636e6b3bfd3520452beb53b1ea62ac/rpy2-3.3.1.tar.gz#sha256=3f25f45d327e2244f0d0654a2cf11d3e8a402ecf73cab5662e37610ab47bbee8 (from https://pypi.org/simple/rpy2/). Command errored out with exit status 1: python setup.py egg_info Check the logs for full command output.\n",
            "    ERROR: Command errored out with exit status 1:\n",
            "     command: 'c:\\python38\\python.exe' -c 'import io, os, sys, setuptools, tokenize; sys.argv[0] = '\"'\"'C:\\\\Users\\\\sam\\\\AppData\\\\Local\\\\Temp\\\\pip-install-js8a9a4p\\\\rpy2_780b49ca8af24deab32a0ef9cb538910\\\\setup.py'\"'\"'; __file__='\"'\"'C:\\\\Users\\\\sam\\\\AppData\\\\Local\\\\Temp\\\\pip-install-js8a9a4p\\\\rpy2_780b49ca8af24deab32a0ef9cb538910\\\\setup.py'\"'\"';f = getattr(tokenize, '\"'\"'open'\"'\"', open)(__file__) if os.path.exists(__file__) else io.StringIO('\"'\"'from setuptools import setup; setup()'\"'\"');code = f.read().replace('\"'\"'\\r\\n'\"'\"', '\"'\"'\\n'\"'\"');f.close();exec(compile(code, __file__, '\"'\"'exec'\"'\"'))' egg_info --egg-base 'C:\\Users\\sam\\AppData\\Local\\Temp\\pip-pip-egg-info-5g797gxs'\n",
            "         cwd: C:\\Users\\sam\\AppData\\Local\\Temp\\pip-install-js8a9a4p\\rpy2_780b49ca8af24deab32a0ef9cb538910\\\n",
            "    Complete output (4 lines):\n",
            "    cffi mode: CFFI_MODE.ANY\n",
            "    WARNING: The wheel package is not available.\n",
            "    WARNING: The wheel package is not available.\n",
            "    Error: rpy2 in API mode cannot be built without R in the PATH or R_HOME defined. Correct this or force ABI mode-only by defining the environment variable RPY2_CFFI_MODE=ABI\n",
            "    ----------------------------------------\n",
            "WARNING: Discarding https://files.pythonhosted.org/packages/f7/ec/07609b4f26c9dc800374dc00b64ce94ab2ec5792d9ce50d46529dfdf5bc1/rpy2-3.3.0.tar.gz#sha256=08c90377dce51126311a5fa6e1cd7d1f451f759ce1f5e1755d8f44e8c40c1f23 (from https://pypi.org/simple/rpy2/). Command errored out with exit status 1: python setup.py egg_info Check the logs for full command output.\n",
            "    ERROR: Command errored out with exit status 1:\n",
            "     command: 'c:\\python38\\python.exe' -c 'import io, os, sys, setuptools, tokenize; sys.argv[0] = '\"'\"'C:\\\\Users\\\\sam\\\\AppData\\\\Local\\\\Temp\\\\pip-install-js8a9a4p\\\\rpy2_e5ff110abf2c41b296e82d52c91d569b\\\\setup.py'\"'\"'; __file__='\"'\"'C:\\\\Users\\\\sam\\\\AppData\\\\Local\\\\Temp\\\\pip-install-js8a9a4p\\\\rpy2_e5ff110abf2c41b296e82d52c91d569b\\\\setup.py'\"'\"';f = getattr(tokenize, '\"'\"'open'\"'\"', open)(__file__) if os.path.exists(__file__) else io.StringIO('\"'\"'from setuptools import setup; setup()'\"'\"');code = f.read().replace('\"'\"'\\r\\n'\"'\"', '\"'\"'\\n'\"'\"');f.close();exec(compile(code, __file__, '\"'\"'exec'\"'\"'))' egg_info --egg-base 'C:\\Users\\sam\\AppData\\Local\\Temp\\pip-pip-egg-info-j_g08kvq'\n",
            "         cwd: C:\\Users\\sam\\AppData\\Local\\Temp\\pip-install-js8a9a4p\\rpy2_e5ff110abf2c41b296e82d52c91d569b\\\n",
            "    Complete output (1 lines):\n",
            "    There is no R_HOME and the R executable cannot be found.\n",
            "    ----------------------------------------\n",
            "WARNING: Discarding https://files.pythonhosted.org/packages/39/c0/61120f9dae06b4887426d229b68a7a5f0ca1f9cb3986319bb9484819a28d/rpy2-3.2.7.tar.gz#sha256=db9c71eec3c91f44373839c24a1888a3999f2f342300e8e696e5dcc047d3df6d (from https://pypi.org/simple/rpy2/). Command errored out with exit status 1: python setup.py egg_info Check the logs for full command output.\n",
            "    ERROR: Command errored out with exit status 1:\n",
            "     command: 'c:\\python38\\python.exe' -c 'import io, os, sys, setuptools, tokenize; sys.argv[0] = '\"'\"'C:\\\\Users\\\\sam\\\\AppData\\\\Local\\\\Temp\\\\pip-install-js8a9a4p\\\\rpy2_63ab518c0a8f479a8ee92229d6f1577a\\\\setup.py'\"'\"'; __file__='\"'\"'C:\\\\Users\\\\sam\\\\AppData\\\\Local\\\\Temp\\\\pip-install-js8a9a4p\\\\rpy2_63ab518c0a8f479a8ee92229d6f1577a\\\\setup.py'\"'\"';f = getattr(tokenize, '\"'\"'open'\"'\"', open)(__file__) if os.path.exists(__file__) else io.StringIO('\"'\"'from setuptools import setup; setup()'\"'\"');code = f.read().replace('\"'\"'\\r\\n'\"'\"', '\"'\"'\\n'\"'\"');f.close();exec(compile(code, __file__, '\"'\"'exec'\"'\"'))' egg_info --egg-base 'C:\\Users\\sam\\AppData\\Local\\Temp\\pip-pip-egg-info-jc71b5ow'\n",
            "         cwd: C:\\Users\\sam\\AppData\\Local\\Temp\\pip-install-js8a9a4p\\rpy2_63ab518c0a8f479a8ee92229d6f1577a\\\n",
            "    Complete output (1 lines):\n",
            "    There is no R_HOME and the R executable cannot be found.\n",
            "    ----------------------------------------\n",
            "WARNING: Discarding https://files.pythonhosted.org/packages/2f/9a/bb5444499e9cefbe2696a56bd4368b163d72ddc6c97b1e940a3579882e07/rpy2-3.2.6.tar.gz#sha256=1829c23fd9f6ac9dc8cf0ea14c1bc20a2a6e4a35c6f2c4726857dcd1310329dd (from https://pypi.org/simple/rpy2/). Command errored out with exit status 1: python setup.py egg_info Check the logs for full command output.\n",
            "    ERROR: Command errored out with exit status 1:\n",
            "     command: 'c:\\python38\\python.exe' -c 'import io, os, sys, setuptools, tokenize; sys.argv[0] = '\"'\"'C:\\\\Users\\\\sam\\\\AppData\\\\Local\\\\Temp\\\\pip-install-js8a9a4p\\\\rpy2_96cbdbc496334f6892ef82bdff4791ab\\\\setup.py'\"'\"'; __file__='\"'\"'C:\\\\Users\\\\sam\\\\AppData\\\\Local\\\\Temp\\\\pip-install-js8a9a4p\\\\rpy2_96cbdbc496334f6892ef82bdff4791ab\\\\setup.py'\"'\"';f = getattr(tokenize, '\"'\"'open'\"'\"', open)(__file__) if os.path.exists(__file__) else io.StringIO('\"'\"'from setuptools import setup; setup()'\"'\"');code = f.read().replace('\"'\"'\\r\\n'\"'\"', '\"'\"'\\n'\"'\"');f.close();exec(compile(code, __file__, '\"'\"'exec'\"'\"'))' egg_info --egg-base 'C:\\Users\\sam\\AppData\\Local\\Temp\\pip-pip-egg-info-b7wnbt1p'\n",
            "         cwd: C:\\Users\\sam\\AppData\\Local\\Temp\\pip-install-js8a9a4p\\rpy2_96cbdbc496334f6892ef82bdff4791ab\\\n",
            "    Complete output (1 lines):\n",
            "    There is no R_HOME and the R executable cannot be found.\n",
            "    ----------------------------------------\n",
            "WARNING: Discarding https://files.pythonhosted.org/packages/bb/6b/074f69f3247254d44b6d98218739fc826886480c9fe160d2dcff94e325f0/rpy2-3.2.5.tar.gz#sha256=33fbb7c244fe4151a47899ab8f2f138ca0042d25755a3956d584453a8719d35e (from https://pypi.org/simple/rpy2/). Command errored out with exit status 1: python setup.py egg_info Check the logs for full command output.\n",
            "    ERROR: Command errored out with exit status 1:\n",
            "     command: 'c:\\python38\\python.exe' -c 'import io, os, sys, setuptools, tokenize; sys.argv[0] = '\"'\"'C:\\\\Users\\\\sam\\\\AppData\\\\Local\\\\Temp\\\\pip-install-js8a9a4p\\\\rpy2_2f10d34890c84c5cb9756664dae1de5e\\\\setup.py'\"'\"'; __file__='\"'\"'C:\\\\Users\\\\sam\\\\AppData\\\\Local\\\\Temp\\\\pip-install-js8a9a4p\\\\rpy2_2f10d34890c84c5cb9756664dae1de5e\\\\setup.py'\"'\"';f = getattr(tokenize, '\"'\"'open'\"'\"', open)(__file__) if os.path.exists(__file__) else io.StringIO('\"'\"'from setuptools import setup; setup()'\"'\"');code = f.read().replace('\"'\"'\\r\\n'\"'\"', '\"'\"'\\n'\"'\"');f.close();exec(compile(code, __file__, '\"'\"'exec'\"'\"'))' egg_info --egg-base 'C:\\Users\\sam\\AppData\\Local\\Temp\\pip-pip-egg-info-k26py1xy'\n",
            "         cwd: C:\\Users\\sam\\AppData\\Local\\Temp\\pip-install-js8a9a4p\\rpy2_2f10d34890c84c5cb9756664dae1de5e\\\n",
            "    Complete output (1 lines):\n",
            "    There is no R_HOME and the R executable cannot be found.\n",
            "    ----------------------------------------\n",
            "WARNING: Discarding https://files.pythonhosted.org/packages/62/bc/d43df0d9e96a38985a97d1cbdb5722e10cd8fa0da45686972f0b8fd18a67/rpy2-3.2.4.tar.gz#sha256=3daf1a4b28c4e354ef989093f03b066908bf6e5082a6f4af72cc3fd928a28dc6 (from https://pypi.org/simple/rpy2/). Command errored out with exit status 1: python setup.py egg_info Check the logs for full command output.\n",
            "    ERROR: Command errored out with exit status 1:\n",
            "     command: 'c:\\python38\\python.exe' -c 'import io, os, sys, setuptools, tokenize; sys.argv[0] = '\"'\"'C:\\\\Users\\\\sam\\\\AppData\\\\Local\\\\Temp\\\\pip-install-js8a9a4p\\\\rpy2_e9c28334efca4032a40dc28536c4c6cf\\\\setup.py'\"'\"'; __file__='\"'\"'C:\\\\Users\\\\sam\\\\AppData\\\\Local\\\\Temp\\\\pip-install-js8a9a4p\\\\rpy2_e9c28334efca4032a40dc28536c4c6cf\\\\setup.py'\"'\"';f = getattr(tokenize, '\"'\"'open'\"'\"', open)(__file__) if os.path.exists(__file__) else io.StringIO('\"'\"'from setuptools import setup; setup()'\"'\"');code = f.read().replace('\"'\"'\\r\\n'\"'\"', '\"'\"'\\n'\"'\"');f.close();exec(compile(code, __file__, '\"'\"'exec'\"'\"'))' egg_info --egg-base 'C:\\Users\\sam\\AppData\\Local\\Temp\\pip-pip-egg-info-r5o9z7e8'\n",
            "         cwd: C:\\Users\\sam\\AppData\\Local\\Temp\\pip-install-js8a9a4p\\rpy2_e9c28334efca4032a40dc28536c4c6cf\\\n",
            "    Complete output (1 lines):\n",
            "    There is no R_HOME and the R executable cannot be found.\n",
            "    ----------------------------------------\n",
            "WARNING: Discarding https://files.pythonhosted.org/packages/8e/bf/13faf3607f08bed30646e81d21ff4005b99f3963f94979c09113c09a0046/rpy2-3.2.3.tar.gz#sha256=3cd58cffaa580f3a0053dc7e8be61e810e8b046c43a8948586010572744d0391 (from https://pypi.org/simple/rpy2/). Command errored out with exit status 1: python setup.py egg_info Check the logs for full command output.\n",
            "    ERROR: Command errored out with exit status 1:\n",
            "     command: 'c:\\python38\\python.exe' -c 'import io, os, sys, setuptools, tokenize; sys.argv[0] = '\"'\"'C:\\\\Users\\\\sam\\\\AppData\\\\Local\\\\Temp\\\\pip-install-js8a9a4p\\\\rpy2_af13be0645d242bb89d890bfa99ac40a\\\\setup.py'\"'\"'; __file__='\"'\"'C:\\\\Users\\\\sam\\\\AppData\\\\Local\\\\Temp\\\\pip-install-js8a9a4p\\\\rpy2_af13be0645d242bb89d890bfa99ac40a\\\\setup.py'\"'\"';f = getattr(tokenize, '\"'\"'open'\"'\"', open)(__file__) if os.path.exists(__file__) else io.StringIO('\"'\"'from setuptools import setup; setup()'\"'\"');code = f.read().replace('\"'\"'\\r\\n'\"'\"', '\"'\"'\\n'\"'\"');f.close();exec(compile(code, __file__, '\"'\"'exec'\"'\"'))' egg_info --egg-base 'C:\\Users\\sam\\AppData\\Local\\Temp\\pip-pip-egg-info-kuq3h6q7'\n",
            "         cwd: C:\\Users\\sam\\AppData\\Local\\Temp\\pip-install-js8a9a4p\\rpy2_af13be0645d242bb89d890bfa99ac40a\\\n",
            "    Complete output (1 lines):\n",
            "    There is no R_HOME and the R executable cannot be found.\n",
            "    ----------------------------------------\n",
            "WARNING: Discarding https://files.pythonhosted.org/packages/d9/51/d5c41ac70e0aa3272f24cf836bd35d6246c95b98d8d811f338cec5a8098e/rpy2-3.2.2.tar.gz#sha256=b71757776f1c652570f07243e708b6e6626456d3ee7d1f336357d4d393bd722c (from https://pypi.org/simple/rpy2/). Command errored out with exit status 1: python setup.py egg_info Check the logs for full command output.\n",
            "    ERROR: Command errored out with exit status 1:\n",
            "     command: 'c:\\python38\\python.exe' -c 'import io, os, sys, setuptools, tokenize; sys.argv[0] = '\"'\"'C:\\\\Users\\\\sam\\\\AppData\\\\Local\\\\Temp\\\\pip-install-js8a9a4p\\\\rpy2_48f3b8b67c184782a526fa3f01023f18\\\\setup.py'\"'\"'; __file__='\"'\"'C:\\\\Users\\\\sam\\\\AppData\\\\Local\\\\Temp\\\\pip-install-js8a9a4p\\\\rpy2_48f3b8b67c184782a526fa3f01023f18\\\\setup.py'\"'\"';f = getattr(tokenize, '\"'\"'open'\"'\"', open)(__file__) if os.path.exists(__file__) else io.StringIO('\"'\"'from setuptools import setup; setup()'\"'\"');code = f.read().replace('\"'\"'\\r\\n'\"'\"', '\"'\"'\\n'\"'\"');f.close();exec(compile(code, __file__, '\"'\"'exec'\"'\"'))' egg_info --egg-base 'C:\\Users\\sam\\AppData\\Local\\Temp\\pip-pip-egg-info-_7udrcx_'\n",
            "         cwd: C:\\Users\\sam\\AppData\\Local\\Temp\\pip-install-js8a9a4p\\rpy2_48f3b8b67c184782a526fa3f01023f18\\\n",
            "    Complete output (15 lines):\n",
            "    Traceback (most recent call last):\n",
            "      File \"<string>\", line 1, in <module>\n",
            "      File \"C:\\Users\\sam\\AppData\\Local\\Temp\\pip-install-js8a9a4p\\rpy2_48f3b8b67c184782a526fa3f01023f18\\setup.py\", line 102, in <module>\n",
            "        c_extension_status = get_r_c_extension_status()\n",
            "      File \"C:\\Users\\sam\\AppData\\Local\\Temp\\pip-install-js8a9a4p\\rpy2_48f3b8b67c184782a526fa3f01023f18\\setup.py\", line 91, in get_r_c_extension_status\n",
            "        *situation.get_r_flags(r_home, '--ldflags')\n",
            "      File \"C:\\Users\\sam\\AppData\\Local\\Temp\\pip-install-js8a9a4p\\rpy2_48f3b8b67c184782a526fa3f01023f18\\rpy2\\situation.py\", line 175, in get_r_flags\n",
            "        _get_r_cmd_config(r_home, flags,\n",
            "      File \"C:\\Users\\sam\\AppData\\Local\\Temp\\pip-install-js8a9a4p\\rpy2_48f3b8b67c184782a526fa3f01023f18\\rpy2\\situation.py\", line 141, in _get_r_cmd_config\n",
            "        r_exec = get_r_exec(r_home)\n",
            "      File \"C:\\Users\\sam\\AppData\\Local\\Temp\\pip-install-js8a9a4p\\rpy2_48f3b8b67c184782a526fa3f01023f18\\rpy2\\situation.py\", line 128, in get_r_exec\n",
            "        r_exec = os.path.join(r_home, 'bin', 'x64', 'R')\n",
            "      File \"c:\\python38\\lib\\ntpath.py\", line 78, in join\n",
            "        path = os.fspath(path)\n",
            "    TypeError: expected str, bytes or os.PathLike object, not NoneType\n",
            "    ----------------------------------------\n",
            "WARNING: Discarding https://files.pythonhosted.org/packages/27/1e/864f9d5c685a913e5f6ee8f9ff4779db9826964740b1b92a5cfe74d5094c/rpy2-3.2.1.tar.gz#sha256=cfba1b5d5ad56f9f52a0df4df8015a342043f113576003967fd760e063023ca6 (from https://pypi.org/simple/rpy2/). Command errored out with exit status 1: python setup.py egg_info Check the logs for full command output.\n",
            "    ERROR: Command errored out with exit status 1:\n",
            "     command: 'c:\\python38\\python.exe' -c 'import io, os, sys, setuptools, tokenize; sys.argv[0] = '\"'\"'C:\\\\Users\\\\sam\\\\AppData\\\\Local\\\\Temp\\\\pip-install-js8a9a4p\\\\rpy2_e7d0bcd8edac47bf867282452428f4fb\\\\setup.py'\"'\"'; __file__='\"'\"'C:\\\\Users\\\\sam\\\\AppData\\\\Local\\\\Temp\\\\pip-install-js8a9a4p\\\\rpy2_e7d0bcd8edac47bf867282452428f4fb\\\\setup.py'\"'\"';f = getattr(tokenize, '\"'\"'open'\"'\"', open)(__file__) if os.path.exists(__file__) else io.StringIO('\"'\"'from setuptools import setup; setup()'\"'\"');code = f.read().replace('\"'\"'\\r\\n'\"'\"', '\"'\"'\\n'\"'\"');f.close();exec(compile(code, __file__, '\"'\"'exec'\"'\"'))' egg_info --egg-base 'C:\\Users\\sam\\AppData\\Local\\Temp\\pip-pip-egg-info-0_gf9yqs'\n",
            "         cwd: C:\\Users\\sam\\AppData\\Local\\Temp\\pip-install-js8a9a4p\\rpy2_e7d0bcd8edac47bf867282452428f4fb\\\n",
            "    Complete output (15 lines):\n",
            "    Traceback (most recent call last):\n",
            "      File \"<string>\", line 1, in <module>\n",
            "      File \"C:\\Users\\sam\\AppData\\Local\\Temp\\pip-install-js8a9a4p\\rpy2_e7d0bcd8edac47bf867282452428f4fb\\setup.py\", line 102, in <module>\n",
            "        c_extension_status = get_r_c_extension_status()\n",
            "      File \"C:\\Users\\sam\\AppData\\Local\\Temp\\pip-install-js8a9a4p\\rpy2_e7d0bcd8edac47bf867282452428f4fb\\setup.py\", line 91, in get_r_c_extension_status\n",
            "        *situation.get_r_flags(r_home, '--ldflags')\n",
            "      File \"C:\\Users\\sam\\AppData\\Local\\Temp\\pip-install-js8a9a4p\\rpy2_e7d0bcd8edac47bf867282452428f4fb\\rpy2\\situation.py\", line 175, in get_r_flags\n",
            "        _get_r_cmd_config(r_home, flags,\n",
            "      File \"C:\\Users\\sam\\AppData\\Local\\Temp\\pip-install-js8a9a4p\\rpy2_e7d0bcd8edac47bf867282452428f4fb\\rpy2\\situation.py\", line 141, in _get_r_cmd_config\n",
            "        r_exec = get_r_exec(r_home)\n",
            "      File \"C:\\Users\\sam\\AppData\\Local\\Temp\\pip-install-js8a9a4p\\rpy2_e7d0bcd8edac47bf867282452428f4fb\\rpy2\\situation.py\", line 128, in get_r_exec\n",
            "        r_exec = os.path.join(r_home, 'bin', 'x64', 'R')\n",
            "      File \"c:\\python38\\lib\\ntpath.py\", line 78, in join\n",
            "        path = os.fspath(path)\n",
            "    TypeError: expected str, bytes or os.PathLike object, not NoneType\n",
            "    ----------------------------------------\n",
            "WARNING: Discarding https://files.pythonhosted.org/packages/7e/e0/7da849bb6cf47466ceb28a75f930e61c311878882c275dfb4bbb4fdcc3cb/rpy2-3.2.0.tar.gz#sha256=18025f53c1a32b7b38ed319c81f8445b9a8809e0ecba210634b67764d68da978 (from https://pypi.org/simple/rpy2/). Command errored out with exit status 1: python setup.py egg_info Check the logs for full command output.\n"
          ]
        }
      ]
    },
    {
      "cell_type": "code",
      "execution_count": 9,
      "metadata": {},
      "outputs": [
        {
          "output_type": "stream",
          "name": "stdout",
          "text": [
            "\u001b[1mrpy2 version:\u001b[0m\n",
            "Traceback (most recent call last):\n",
            "  File \"C:\\Python38\\lib\\runpy.py\", line 194, in _run_module_as_main\n",
            "    return _run_code(code, main_globals, None,\n",
            "  File \"C:\\Python38\\lib\\runpy.py\", line 87, in _run_code\n",
            "    exec(code, run_globals)\n",
            "  File \"C:\\Python38\\lib\\site-packages\\rpy2\\situation.py\", line 140, in <module>\n",
            "    for row in iter_info():\n",
            "  File \"C:\\Python38\\lib\\site-packages\\rpy2\\situation.py\", line 102, in iter_info\n",
            "    yield rpy2.__version__\n",
            "UnboundLocalError: local variable 'rpy2' referenced before assignment\n"
          ]
        }
      ],
      "source": [
        "!python -m rpy2.situation"
      ]
    },
    {
      "cell_type": "code",
      "metadata": {
        "id": "agB09a8M3Not"
      },
      "source": [
        "%load_ext rpy2.ipython"
      ],
      "execution_count": 10,
      "outputs": [
        {
          "output_type": "error",
          "ename": "ValueError",
          "evalue": "r_home is None. Try python -m rpy2.situation",
          "traceback": [
            "\u001b[1;31m---------------------------------------------------------------------------\u001b[0m",
            "\u001b[1;31mValueError\u001b[0m                                Traceback (most recent call last)",
            "\u001b[1;32m~\\AppData\\Local\\Temp/ipykernel_12888/1837600852.py\u001b[0m in \u001b[0;36m<module>\u001b[1;34m\u001b[0m\n\u001b[1;32m----> 1\u001b[1;33m \u001b[0mget_ipython\u001b[0m\u001b[1;33m(\u001b[0m\u001b[1;33m)\u001b[0m\u001b[1;33m.\u001b[0m\u001b[0mrun_line_magic\u001b[0m\u001b[1;33m(\u001b[0m\u001b[1;34m'load_ext'\u001b[0m\u001b[1;33m,\u001b[0m \u001b[1;34m'rpy2.ipython'\u001b[0m\u001b[1;33m)\u001b[0m\u001b[1;33m\u001b[0m\u001b[1;33m\u001b[0m\u001b[0m\n\u001b[0m",
            "\u001b[1;32m~\\AppData\\Roaming\\Python\\Python38\\site-packages\\IPython\\core\\interactiveshell.py\u001b[0m in \u001b[0;36mrun_line_magic\u001b[1;34m(self, magic_name, line, _stack_depth)\u001b[0m\n\u001b[0;32m   2346\u001b[0m                 \u001b[0mkwargs\u001b[0m\u001b[1;33m[\u001b[0m\u001b[1;34m'local_ns'\u001b[0m\u001b[1;33m]\u001b[0m \u001b[1;33m=\u001b[0m \u001b[0mself\u001b[0m\u001b[1;33m.\u001b[0m\u001b[0mget_local_scope\u001b[0m\u001b[1;33m(\u001b[0m\u001b[0mstack_depth\u001b[0m\u001b[1;33m)\u001b[0m\u001b[1;33m\u001b[0m\u001b[1;33m\u001b[0m\u001b[0m\n\u001b[0;32m   2347\u001b[0m             \u001b[1;32mwith\u001b[0m \u001b[0mself\u001b[0m\u001b[1;33m.\u001b[0m\u001b[0mbuiltin_trap\u001b[0m\u001b[1;33m:\u001b[0m\u001b[1;33m\u001b[0m\u001b[1;33m\u001b[0m\u001b[0m\n\u001b[1;32m-> 2348\u001b[1;33m                 \u001b[0mresult\u001b[0m \u001b[1;33m=\u001b[0m \u001b[0mfn\u001b[0m\u001b[1;33m(\u001b[0m\u001b[1;33m*\u001b[0m\u001b[0margs\u001b[0m\u001b[1;33m,\u001b[0m \u001b[1;33m**\u001b[0m\u001b[0mkwargs\u001b[0m\u001b[1;33m)\u001b[0m\u001b[1;33m\u001b[0m\u001b[1;33m\u001b[0m\u001b[0m\n\u001b[0m\u001b[0;32m   2349\u001b[0m             \u001b[1;32mreturn\u001b[0m \u001b[0mresult\u001b[0m\u001b[1;33m\u001b[0m\u001b[1;33m\u001b[0m\u001b[0m\n\u001b[0;32m   2350\u001b[0m \u001b[1;33m\u001b[0m\u001b[0m\n",
            "\u001b[1;32m~\\AppData\\Roaming\\Python\\Python38\\site-packages\\decorator.py\u001b[0m in \u001b[0;36mfun\u001b[1;34m(*args, **kw)\u001b[0m\n\u001b[0;32m    230\u001b[0m             \u001b[1;32mif\u001b[0m \u001b[1;32mnot\u001b[0m \u001b[0mkwsyntax\u001b[0m\u001b[1;33m:\u001b[0m\u001b[1;33m\u001b[0m\u001b[1;33m\u001b[0m\u001b[0m\n\u001b[0;32m    231\u001b[0m                 \u001b[0margs\u001b[0m\u001b[1;33m,\u001b[0m \u001b[0mkw\u001b[0m \u001b[1;33m=\u001b[0m \u001b[0mfix\u001b[0m\u001b[1;33m(\u001b[0m\u001b[0margs\u001b[0m\u001b[1;33m,\u001b[0m \u001b[0mkw\u001b[0m\u001b[1;33m,\u001b[0m \u001b[0msig\u001b[0m\u001b[1;33m)\u001b[0m\u001b[1;33m\u001b[0m\u001b[1;33m\u001b[0m\u001b[0m\n\u001b[1;32m--> 232\u001b[1;33m             \u001b[1;32mreturn\u001b[0m \u001b[0mcaller\u001b[0m\u001b[1;33m(\u001b[0m\u001b[0mfunc\u001b[0m\u001b[1;33m,\u001b[0m \u001b[1;33m*\u001b[0m\u001b[1;33m(\u001b[0m\u001b[0mextras\u001b[0m \u001b[1;33m+\u001b[0m \u001b[0margs\u001b[0m\u001b[1;33m)\u001b[0m\u001b[1;33m,\u001b[0m \u001b[1;33m**\u001b[0m\u001b[0mkw\u001b[0m\u001b[1;33m)\u001b[0m\u001b[1;33m\u001b[0m\u001b[1;33m\u001b[0m\u001b[0m\n\u001b[0m\u001b[0;32m    233\u001b[0m     \u001b[0mfun\u001b[0m\u001b[1;33m.\u001b[0m\u001b[0m__name__\u001b[0m \u001b[1;33m=\u001b[0m \u001b[0mfunc\u001b[0m\u001b[1;33m.\u001b[0m\u001b[0m__name__\u001b[0m\u001b[1;33m\u001b[0m\u001b[1;33m\u001b[0m\u001b[0m\n\u001b[0;32m    234\u001b[0m     \u001b[0mfun\u001b[0m\u001b[1;33m.\u001b[0m\u001b[0m__doc__\u001b[0m \u001b[1;33m=\u001b[0m \u001b[0mfunc\u001b[0m\u001b[1;33m.\u001b[0m\u001b[0m__doc__\u001b[0m\u001b[1;33m\u001b[0m\u001b[1;33m\u001b[0m\u001b[0m\n",
            "\u001b[1;32m~\\AppData\\Roaming\\Python\\Python38\\site-packages\\IPython\\core\\magic.py\u001b[0m in \u001b[0;36m<lambda>\u001b[1;34m(f, *a, **k)\u001b[0m\n\u001b[0;32m    185\u001b[0m     \u001b[1;31m# but it's overkill for just that one bit of state.\u001b[0m\u001b[1;33m\u001b[0m\u001b[1;33m\u001b[0m\u001b[1;33m\u001b[0m\u001b[0m\n\u001b[0;32m    186\u001b[0m     \u001b[1;32mdef\u001b[0m \u001b[0mmagic_deco\u001b[0m\u001b[1;33m(\u001b[0m\u001b[0marg\u001b[0m\u001b[1;33m)\u001b[0m\u001b[1;33m:\u001b[0m\u001b[1;33m\u001b[0m\u001b[1;33m\u001b[0m\u001b[0m\n\u001b[1;32m--> 187\u001b[1;33m         \u001b[0mcall\u001b[0m \u001b[1;33m=\u001b[0m \u001b[1;32mlambda\u001b[0m \u001b[0mf\u001b[0m\u001b[1;33m,\u001b[0m \u001b[1;33m*\u001b[0m\u001b[0ma\u001b[0m\u001b[1;33m,\u001b[0m \u001b[1;33m**\u001b[0m\u001b[0mk\u001b[0m\u001b[1;33m:\u001b[0m \u001b[0mf\u001b[0m\u001b[1;33m(\u001b[0m\u001b[1;33m*\u001b[0m\u001b[0ma\u001b[0m\u001b[1;33m,\u001b[0m \u001b[1;33m**\u001b[0m\u001b[0mk\u001b[0m\u001b[1;33m)\u001b[0m\u001b[1;33m\u001b[0m\u001b[1;33m\u001b[0m\u001b[0m\n\u001b[0m\u001b[0;32m    188\u001b[0m \u001b[1;33m\u001b[0m\u001b[0m\n\u001b[0;32m    189\u001b[0m         \u001b[1;32mif\u001b[0m \u001b[0mcallable\u001b[0m\u001b[1;33m(\u001b[0m\u001b[0marg\u001b[0m\u001b[1;33m)\u001b[0m\u001b[1;33m:\u001b[0m\u001b[1;33m\u001b[0m\u001b[1;33m\u001b[0m\u001b[0m\n",
            "\u001b[1;32m~\\AppData\\Roaming\\Python\\Python38\\site-packages\\IPython\\core\\magics\\extension.py\u001b[0m in \u001b[0;36mload_ext\u001b[1;34m(self, module_str)\u001b[0m\n\u001b[0;32m     31\u001b[0m         \u001b[1;32mif\u001b[0m \u001b[1;32mnot\u001b[0m \u001b[0mmodule_str\u001b[0m\u001b[1;33m:\u001b[0m\u001b[1;33m\u001b[0m\u001b[1;33m\u001b[0m\u001b[0m\n\u001b[0;32m     32\u001b[0m             \u001b[1;32mraise\u001b[0m \u001b[0mUsageError\u001b[0m\u001b[1;33m(\u001b[0m\u001b[1;34m'Missing module name.'\u001b[0m\u001b[1;33m)\u001b[0m\u001b[1;33m\u001b[0m\u001b[1;33m\u001b[0m\u001b[0m\n\u001b[1;32m---> 33\u001b[1;33m         \u001b[0mres\u001b[0m \u001b[1;33m=\u001b[0m \u001b[0mself\u001b[0m\u001b[1;33m.\u001b[0m\u001b[0mshell\u001b[0m\u001b[1;33m.\u001b[0m\u001b[0mextension_manager\u001b[0m\u001b[1;33m.\u001b[0m\u001b[0mload_extension\u001b[0m\u001b[1;33m(\u001b[0m\u001b[0mmodule_str\u001b[0m\u001b[1;33m)\u001b[0m\u001b[1;33m\u001b[0m\u001b[1;33m\u001b[0m\u001b[0m\n\u001b[0m\u001b[0;32m     34\u001b[0m \u001b[1;33m\u001b[0m\u001b[0m\n\u001b[0;32m     35\u001b[0m         \u001b[1;32mif\u001b[0m \u001b[0mres\u001b[0m \u001b[1;33m==\u001b[0m \u001b[1;34m'already loaded'\u001b[0m\u001b[1;33m:\u001b[0m\u001b[1;33m\u001b[0m\u001b[1;33m\u001b[0m\u001b[0m\n",
            "\u001b[1;32m~\\AppData\\Roaming\\Python\\Python38\\site-packages\\IPython\\core\\extensions.py\u001b[0m in \u001b[0;36mload_extension\u001b[1;34m(self, module_str)\u001b[0m\n\u001b[0;32m     78\u001b[0m             \u001b[1;32mif\u001b[0m \u001b[0mmodule_str\u001b[0m \u001b[1;32mnot\u001b[0m \u001b[1;32min\u001b[0m \u001b[0msys\u001b[0m\u001b[1;33m.\u001b[0m\u001b[0mmodules\u001b[0m\u001b[1;33m:\u001b[0m\u001b[1;33m\u001b[0m\u001b[1;33m\u001b[0m\u001b[0m\n\u001b[0;32m     79\u001b[0m                 \u001b[1;32mwith\u001b[0m \u001b[0mprepended_to_syspath\u001b[0m\u001b[1;33m(\u001b[0m\u001b[0mself\u001b[0m\u001b[1;33m.\u001b[0m\u001b[0mipython_extension_dir\u001b[0m\u001b[1;33m)\u001b[0m\u001b[1;33m:\u001b[0m\u001b[1;33m\u001b[0m\u001b[1;33m\u001b[0m\u001b[0m\n\u001b[1;32m---> 80\u001b[1;33m                     \u001b[0mmod\u001b[0m \u001b[1;33m=\u001b[0m \u001b[0mimport_module\u001b[0m\u001b[1;33m(\u001b[0m\u001b[0mmodule_str\u001b[0m\u001b[1;33m)\u001b[0m\u001b[1;33m\u001b[0m\u001b[1;33m\u001b[0m\u001b[0m\n\u001b[0m\u001b[0;32m     81\u001b[0m                     \u001b[1;32mif\u001b[0m \u001b[0mmod\u001b[0m\u001b[1;33m.\u001b[0m\u001b[0m__file__\u001b[0m\u001b[1;33m.\u001b[0m\u001b[0mstartswith\u001b[0m\u001b[1;33m(\u001b[0m\u001b[0mself\u001b[0m\u001b[1;33m.\u001b[0m\u001b[0mipython_extension_dir\u001b[0m\u001b[1;33m)\u001b[0m\u001b[1;33m:\u001b[0m\u001b[1;33m\u001b[0m\u001b[1;33m\u001b[0m\u001b[0m\n\u001b[0;32m     82\u001b[0m                         print((\"Loading extensions from {dir} is deprecated. \"\n",
            "\u001b[1;32mC:\\Python38\\lib\\importlib\\__init__.py\u001b[0m in \u001b[0;36mimport_module\u001b[1;34m(name, package)\u001b[0m\n\u001b[0;32m    125\u001b[0m                 \u001b[1;32mbreak\u001b[0m\u001b[1;33m\u001b[0m\u001b[1;33m\u001b[0m\u001b[0m\n\u001b[0;32m    126\u001b[0m             \u001b[0mlevel\u001b[0m \u001b[1;33m+=\u001b[0m \u001b[1;36m1\u001b[0m\u001b[1;33m\u001b[0m\u001b[1;33m\u001b[0m\u001b[0m\n\u001b[1;32m--> 127\u001b[1;33m     \u001b[1;32mreturn\u001b[0m \u001b[0m_bootstrap\u001b[0m\u001b[1;33m.\u001b[0m\u001b[0m_gcd_import\u001b[0m\u001b[1;33m(\u001b[0m\u001b[0mname\u001b[0m\u001b[1;33m[\u001b[0m\u001b[0mlevel\u001b[0m\u001b[1;33m:\u001b[0m\u001b[1;33m]\u001b[0m\u001b[1;33m,\u001b[0m \u001b[0mpackage\u001b[0m\u001b[1;33m,\u001b[0m \u001b[0mlevel\u001b[0m\u001b[1;33m)\u001b[0m\u001b[1;33m\u001b[0m\u001b[1;33m\u001b[0m\u001b[0m\n\u001b[0m\u001b[0;32m    128\u001b[0m \u001b[1;33m\u001b[0m\u001b[0m\n\u001b[0;32m    129\u001b[0m \u001b[1;33m\u001b[0m\u001b[0m\n",
            "\u001b[1;32mC:\\Python38\\lib\\importlib\\_bootstrap.py\u001b[0m in \u001b[0;36m_gcd_import\u001b[1;34m(name, package, level)\u001b[0m\n",
            "\u001b[1;32mC:\\Python38\\lib\\importlib\\_bootstrap.py\u001b[0m in \u001b[0;36m_find_and_load\u001b[1;34m(name, import_)\u001b[0m\n",
            "\u001b[1;32mC:\\Python38\\lib\\importlib\\_bootstrap.py\u001b[0m in \u001b[0;36m_find_and_load_unlocked\u001b[1;34m(name, import_)\u001b[0m\n",
            "\u001b[1;32mC:\\Python38\\lib\\importlib\\_bootstrap.py\u001b[0m in \u001b[0;36m_load_unlocked\u001b[1;34m(spec)\u001b[0m\n",
            "\u001b[1;32mC:\\Python38\\lib\\importlib\\_bootstrap_external.py\u001b[0m in \u001b[0;36mexec_module\u001b[1;34m(self, module)\u001b[0m\n",
            "\u001b[1;32mC:\\Python38\\lib\\importlib\\_bootstrap.py\u001b[0m in \u001b[0;36m_call_with_frames_removed\u001b[1;34m(f, *args, **kwds)\u001b[0m\n",
            "\u001b[1;32mC:\\Python38\\lib\\site-packages\\rpy2\\ipython\\__init__.py\u001b[0m in \u001b[0;36m<module>\u001b[1;34m\u001b[0m\n\u001b[1;32m----> 1\u001b[1;33m \u001b[1;32mfrom\u001b[0m \u001b[1;33m.\u001b[0m \u001b[1;32mimport\u001b[0m \u001b[0mrmagic\u001b[0m\u001b[1;33m\u001b[0m\u001b[1;33m\u001b[0m\u001b[0m\n\u001b[0m\u001b[0;32m      2\u001b[0m \u001b[1;33m\u001b[0m\u001b[0m\n\u001b[0;32m      3\u001b[0m \u001b[0mload_ipython_extension\u001b[0m \u001b[1;33m=\u001b[0m \u001b[0mrmagic\u001b[0m\u001b[1;33m.\u001b[0m\u001b[0mload_ipython_extension\u001b[0m\u001b[1;33m\u001b[0m\u001b[1;33m\u001b[0m\u001b[0m\n",
            "\u001b[1;32mC:\\Python38\\lib\\site-packages\\rpy2\\ipython\\rmagic.py\u001b[0m in \u001b[0;36m<module>\u001b[1;34m\u001b[0m\n\u001b[0;32m     53\u001b[0m \u001b[1;31m# numpy and rpy2 imports\u001b[0m\u001b[1;33m\u001b[0m\u001b[1;33m\u001b[0m\u001b[1;33m\u001b[0m\u001b[0m\n\u001b[0;32m     54\u001b[0m \u001b[1;33m\u001b[0m\u001b[0m\n\u001b[1;32m---> 55\u001b[1;33m \u001b[1;32mimport\u001b[0m \u001b[0mrpy2\u001b[0m\u001b[1;33m.\u001b[0m\u001b[0mrinterface\u001b[0m \u001b[1;32mas\u001b[0m \u001b[0mri\u001b[0m\u001b[1;33m\u001b[0m\u001b[1;33m\u001b[0m\u001b[0m\n\u001b[0m\u001b[0;32m     56\u001b[0m \u001b[1;32mimport\u001b[0m \u001b[0mrpy2\u001b[0m\u001b[1;33m.\u001b[0m\u001b[0mrinterface_lib\u001b[0m\u001b[1;33m.\u001b[0m\u001b[0mcallbacks\u001b[0m\u001b[1;33m\u001b[0m\u001b[1;33m\u001b[0m\u001b[0m\n\u001b[0;32m     57\u001b[0m \u001b[1;32mimport\u001b[0m \u001b[0mrpy2\u001b[0m\u001b[1;33m.\u001b[0m\u001b[0mrobjects\u001b[0m \u001b[1;32mas\u001b[0m \u001b[0mro\u001b[0m\u001b[1;33m\u001b[0m\u001b[1;33m\u001b[0m\u001b[0m\n",
            "\u001b[1;32mC:\\Python38\\lib\\site-packages\\rpy2\\rinterface.py\u001b[0m in \u001b[0;36m<module>\u001b[1;34m\u001b[0m\n\u001b[0;32m      4\u001b[0m \u001b[1;32mimport\u001b[0m \u001b[0mmath\u001b[0m\u001b[1;33m\u001b[0m\u001b[1;33m\u001b[0m\u001b[0m\n\u001b[0;32m      5\u001b[0m \u001b[1;32mimport\u001b[0m \u001b[0mtyping\u001b[0m\u001b[1;33m\u001b[0m\u001b[1;33m\u001b[0m\u001b[0m\n\u001b[1;32m----> 6\u001b[1;33m \u001b[1;32mfrom\u001b[0m \u001b[0mrpy2\u001b[0m\u001b[1;33m.\u001b[0m\u001b[0mrinterface_lib\u001b[0m \u001b[1;32mimport\u001b[0m \u001b[0mopenrlib\u001b[0m\u001b[1;33m\u001b[0m\u001b[1;33m\u001b[0m\u001b[0m\n\u001b[0m\u001b[0;32m      7\u001b[0m \u001b[1;32mimport\u001b[0m \u001b[0mrpy2\u001b[0m\u001b[1;33m.\u001b[0m\u001b[0mrinterface_lib\u001b[0m\u001b[1;33m.\u001b[0m\u001b[0m_rinterface_capi\u001b[0m \u001b[1;32mas\u001b[0m \u001b[0m_rinterface\u001b[0m\u001b[1;33m\u001b[0m\u001b[1;33m\u001b[0m\u001b[0m\n\u001b[0;32m      8\u001b[0m \u001b[1;32mimport\u001b[0m \u001b[0mrpy2\u001b[0m\u001b[1;33m.\u001b[0m\u001b[0mrinterface_lib\u001b[0m\u001b[1;33m.\u001b[0m\u001b[0membedded\u001b[0m \u001b[1;32mas\u001b[0m \u001b[0membedded\u001b[0m\u001b[1;33m\u001b[0m\u001b[1;33m\u001b[0m\u001b[0m\n",
            "\u001b[1;32mC:\\Python38\\lib\\site-packages\\rpy2\\rinterface_lib\\openrlib.py\u001b[0m in \u001b[0;36m<module>\u001b[1;34m\u001b[0m\n\u001b[0;32m     21\u001b[0m \u001b[1;33m\u001b[0m\u001b[0m\n\u001b[0;32m     22\u001b[0m \u001b[1;33m\u001b[0m\u001b[0m\n\u001b[1;32m---> 23\u001b[1;33m \u001b[0mrlib\u001b[0m \u001b[1;33m=\u001b[0m \u001b[0m_dlopen_rlib\u001b[0m\u001b[1;33m(\u001b[0m\u001b[0mR_HOME\u001b[0m\u001b[1;33m)\u001b[0m\u001b[1;33m\u001b[0m\u001b[1;33m\u001b[0m\u001b[0m\n\u001b[0m\u001b[0;32m     24\u001b[0m \u001b[1;33m\u001b[0m\u001b[0m\n\u001b[0;32m     25\u001b[0m \u001b[1;33m\u001b[0m\u001b[0m\n",
            "\u001b[1;32mC:\\Python38\\lib\\site-packages\\rpy2\\rinterface_lib\\openrlib.py\u001b[0m in \u001b[0;36m_dlopen_rlib\u001b[1;34m(r_home)\u001b[0m\n\u001b[0;32m     14\u001b[0m     \u001b[1;34m\"\"\"Open R's shared C library.\"\"\"\u001b[0m\u001b[1;33m\u001b[0m\u001b[1;33m\u001b[0m\u001b[0m\n\u001b[0;32m     15\u001b[0m     \u001b[1;32mif\u001b[0m \u001b[0mr_home\u001b[0m \u001b[1;32mis\u001b[0m \u001b[1;32mNone\u001b[0m\u001b[1;33m:\u001b[0m\u001b[1;33m\u001b[0m\u001b[1;33m\u001b[0m\u001b[0m\n\u001b[1;32m---> 16\u001b[1;33m         raise ValueError('r_home is None. '\n\u001b[0m\u001b[0;32m     17\u001b[0m                          'Try python -m rpy2.situation')\n\u001b[0;32m     18\u001b[0m     \u001b[0mlib_path\u001b[0m \u001b[1;33m=\u001b[0m \u001b[0mrpy2\u001b[0m\u001b[1;33m.\u001b[0m\u001b[0msituation\u001b[0m\u001b[1;33m.\u001b[0m\u001b[0mget_rlib_path\u001b[0m\u001b[1;33m(\u001b[0m\u001b[0mr_home\u001b[0m\u001b[1;33m,\u001b[0m \u001b[0mplatform\u001b[0m\u001b[1;33m.\u001b[0m\u001b[0msystem\u001b[0m\u001b[1;33m(\u001b[0m\u001b[1;33m)\u001b[0m\u001b[1;33m)\u001b[0m\u001b[1;33m\u001b[0m\u001b[1;33m\u001b[0m\u001b[0m\n",
            "\u001b[1;31mValueError\u001b[0m: r_home is None. Try python -m rpy2.situation"
          ]
        }
      ]
    },
    {
      "cell_type": "code",
      "metadata": {
        "colab": {
          "base_uri": "https://localhost:8080/"
        },
        "id": "xmeM0sGJ3UCc",
        "outputId": "a11146c2-6c4b-4c9a-8545-eff623b8bfbb"
      },
      "source": [
        "##0-3\n",
        "%%R\n",
        "myData <- read.csv('RPython/samples.csv')\n",
        "myData[1,]"
      ],
      "execution_count": 8,
      "outputs": [
        {
          "output_type": "stream",
          "name": "stderr",
          "text": [
            "UsageError: Line magic function `%%R` not found.\n"
          ]
        }
      ]
    },
    {
      "cell_type": "code",
      "metadata": {
        "colab": {
          "base_uri": "https://localhost:8080/"
        },
        "id": "3FuBL19j6AQ5",
        "outputId": "efe706bc-ab4c-4a84-fdeb-6e6b2d7f6fbe"
      },
      "source": [
        "##2-1\n",
        "%%R\n",
        "formula='網路成癮分數YDQ ~ 家庭滿意度apgar'\n",
        "model1<- glm(formula, myData, family='gaussian')\n",
        "summary(model1)"
      ],
      "execution_count": null,
      "outputs": [
        {
          "output_type": "stream",
          "text": [
            "\n",
            "Call:\n",
            "glm(formula = formula, family = \"gaussian\", data = myData)\n",
            "\n",
            "Deviance Residuals: \n",
            "    Min       1Q   Median       3Q      Max  \n",
            "-3.5125  -1.8546  -0.8546   1.8138   6.1454  \n",
            "\n",
            "Coefficients:\n",
            "                Estimate Std. Error t value Pr(>|t|)    \n",
            "(Intercept)      3.51255    0.45740   7.679 8.82e-13 ***\n",
            "家庭滿意度apgar -0.16580    0.05836  -2.841    0.005 ** \n",
            "---\n",
            "Signif. codes:  0 ‘***’ 0.001 ‘**’ 0.01 ‘*’ 0.05 ‘.’ 0.1 ‘ ’ 1\n",
            "\n",
            "(Dispersion parameter for gaussian family taken to be 5.856059)\n",
            "\n",
            "    Null deviance: 1136.5  on 187  degrees of freedom\n",
            "Residual deviance: 1089.2  on 186  degrees of freedom\n",
            "AIC: 869.8\n",
            "\n",
            "Number of Fisher Scoring iterations: 2\n",
            "\n"
          ],
          "name": "stdout"
        }
      ]
    },
    {
      "cell_type": "code",
      "metadata": {
        "colab": {
          "base_uri": "https://localhost:8080/"
        },
        "id": "NmLoTLK27cgj",
        "outputId": "758243f0-d92b-428b-86ea-9e8ce1b3be48"
      },
      "source": [
        "##2-2\n",
        "%%R\n",
        "formula='網路成癮分數YDQ ~ 性別'\n",
        "model2 <- glm(formula, myData, family='gaussian')\n",
        "summary(model2)"
      ],
      "execution_count": null,
      "outputs": [
        {
          "output_type": "stream",
          "text": [
            "\n",
            "Call:\n",
            "glm(formula = formula, family = \"gaussian\", data = myData)\n",
            "\n",
            "Deviance Residuals: \n",
            "    Min       1Q   Median       3Q      Max  \n",
            "-2.4783  -2.4783  -0.4783   1.5217   5.6667  \n",
            "\n",
            "Coefficients:\n",
            "            Estimate Std. Error t value Pr(>|t|)    \n",
            "(Intercept)   3.6232     0.6066   5.972 1.16e-08 ***\n",
            "性別         -1.1449     0.5072  -2.258   0.0251 *  \n",
            "---\n",
            "Signif. codes:  0 ‘***’ 0.001 ‘**’ 0.01 ‘*’ 0.05 ‘.’ 0.1 ‘ ’ 1\n",
            "\n",
            "(Dispersion parameter for gaussian family taken to be 5.947172)\n",
            "\n",
            "    Null deviance: 1136.5  on 187  degrees of freedom\n",
            "Residual deviance: 1106.2  on 186  degrees of freedom\n",
            "AIC: 872.7\n",
            "\n",
            "Number of Fisher Scoring iterations: 2\n",
            "\n"
          ],
          "name": "stdout"
        }
      ]
    },
    {
      "cell_type": "code",
      "metadata": {
        "colab": {
          "base_uri": "https://localhost:8080/",
          "height": 497
        },
        "id": "iya4_tXX6jpt",
        "outputId": "39eed6fd-d2a3-4dde-f206-7ec65659004b"
      },
      "source": [
        "##2-3\n",
        "%%R\n",
        "hist(myData$性別)"
      ],
      "execution_count": null,
      "outputs": [
        {
          "output_type": "display_data",
          "data": {
            "image/png": "[encoded data removed]"
          },
          "metadata": {
            "tags": []
          }
        }
      ]
    },
    {
      "cell_type": "code",
      "metadata": {
        "colab": {
          "base_uri": "https://localhost:8080/"
        },
        "id": "xRR-4LUZBbRt",
        "outputId": "ffcbba5c-0f39-4401-aa80-35141e6a17ab"
      },
      "source": [
        "##2-4\n",
        "%%R\n",
        "##myData$sex.f<-factor(myData$性別)\n",
        "##formula='網路成癮分數YDQ ~ sex.f'\n",
        "formula='網路成癮分數YDQ ~ as.factor(性別)'\n",
        "model2 <- glm(formula, myData, family='gaussian')\n",
        "summary(model2)"
      ],
      "execution_count": null,
      "outputs": [
        {
          "output_type": "stream",
          "text": [
            "\n",
            "Call:\n",
            "glm(formula = formula, family = \"gaussian\", data = myData)\n",
            "\n",
            "Deviance Residuals: \n",
            "    Min       1Q   Median       3Q      Max  \n",
            "-2.4783  -2.4783  -0.4783   1.5217   5.6667  \n",
            "\n",
            "Coefficients:\n",
            "                 Estimate Std. Error t value Pr(>|t|)    \n",
            "(Intercept)        2.4783     0.1922  12.895   <2e-16 ***\n",
            "as.factor(性別)2  -1.1449     0.5072  -2.258   0.0251 *  \n",
            "---\n",
            "Signif. codes:  0 ‘***’ 0.001 ‘**’ 0.01 ‘*’ 0.05 ‘.’ 0.1 ‘ ’ 1\n",
            "\n",
            "(Dispersion parameter for gaussian family taken to be 5.947172)\n",
            "\n",
            "    Null deviance: 1136.5  on 187  degrees of freedom\n",
            "Residual deviance: 1106.2  on 186  degrees of freedom\n",
            "AIC: 872.7\n",
            "\n",
            "Number of Fisher Scoring iterations: 2\n",
            "\n"
          ],
          "name": "stdout"
        }
      ]
    },
    {
      "cell_type": "code",
      "metadata": {
        "colab": {
          "base_uri": "https://localhost:8080/"
        },
        "id": "Nfltxt1uGN4f",
        "outputId": "6c6542b6-f12c-407f-ed08-37d879d6f78f"
      },
      "source": [
        "##2-5\n",
        "%%R\n",
        "myData$性別<-relevel(factor(myData$性別),ref='2')\n",
        "model3 <- glm(formula, myData, family='gaussian')\n",
        "summary(model3)"
      ],
      "execution_count": null,
      "outputs": [
        {
          "output_type": "stream",
          "text": [
            "\n",
            "Call:\n",
            "glm(formula = formula, family = \"gaussian\", data = myData)\n",
            "\n",
            "Deviance Residuals: \n",
            "    Min       1Q   Median       3Q      Max  \n",
            "-2.4783  -2.4783  -0.4783   1.5217   5.6667  \n",
            "\n",
            "Coefficients:\n",
            "                 Estimate Std. Error t value Pr(>|t|)   \n",
            "(Intercept)        1.3333     0.4693   2.841   0.0050 **\n",
            "as.factor(性別)1   1.1449     0.5072   2.258   0.0251 * \n",
            "---\n",
            "Signif. codes:  0 ‘***’ 0.001 ‘**’ 0.01 ‘*’ 0.05 ‘.’ 0.1 ‘ ’ 1\n",
            "\n",
            "(Dispersion parameter for gaussian family taken to be 5.947172)\n",
            "\n",
            "    Null deviance: 1136.5  on 187  degrees of freedom\n",
            "Residual deviance: 1106.2  on 186  degrees of freedom\n",
            "AIC: 872.7\n",
            "\n",
            "Number of Fisher Scoring iterations: 2\n",
            "\n"
          ],
          "name": "stdout"
        }
      ]
    },
    {
      "cell_type": "code",
      "metadata": {
        "colab": {
          "base_uri": "https://localhost:8080/"
        },
        "id": "q-3gNBsyRQQC",
        "outputId": "7207248a-a3b7-499d-b2a6-c2352856f3b6"
      },
      "source": [
        "##2-6\n",
        "%%R\n",
        "t.test(myData$網路成癮分數YDQ ~ myData$性別)"
      ],
      "execution_count": null,
      "outputs": [
        {
          "output_type": "stream",
          "text": [
            "\n",
            "\tWelch Two Sample t-test\n",
            "\n",
            "data:  myData$網路成癮分數YDQ by myData$性別\n",
            "t = -2.9195, df = 46.432, p-value = 0.005393\n",
            "alternative hypothesis: true difference in means between group 2 and group 1 is not equal to 0\n",
            "95 percent confidence interval:\n",
            " -1.9341234 -0.3557317\n",
            "sample estimates:\n",
            "mean in group 2 mean in group 1 \n",
            "       1.333333        2.478261 \n",
            "\n"
          ],
          "name": "stdout"
        }
      ]
    },
    {
      "cell_type": "code",
      "metadata": {
        "colab": {
          "base_uri": "https://localhost:8080/"
        },
        "id": "knRXXlQwTQiE",
        "outputId": "051bd387-4e47-4113-af10-1e6c7388655a"
      },
      "source": [
        "##2-7\n",
        "%%R\n",
        "male=subset(myData, 性別==1)$網路成癮分數YDQ\n",
        "female=subset(myData, 性別==2)$網路成癮分數YDQ\n",
        "t.test(male,female)"
      ],
      "execution_count": null,
      "outputs": [
        {
          "output_type": "stream",
          "text": [
            "\n",
            "\tWelch Two Sample t-test\n",
            "\n",
            "data:  male and female\n",
            "t = 2.9195, df = 46.432, p-value = 0.005393\n",
            "alternative hypothesis: true difference in means is not equal to 0\n",
            "95 percent confidence interval:\n",
            " 0.3557317 1.9341234\n",
            "sample estimates:\n",
            "mean of x mean of y \n",
            " 2.478261  1.333333 \n",
            "\n"
          ],
          "name": "stdout"
        }
      ]
    },
    {
      "cell_type": "code",
      "metadata": {
        "colab": {
          "base_uri": "https://localhost:8080/"
        },
        "id": "4tKayxEOyFnS",
        "outputId": "48752816-ab85-4aa8-de02-2e413a9a687f"
      },
      "source": [
        "##2-7-1使用python stasmodels作t-test\n",
        "import pandas as pd\n",
        "from statsmodels.stats.weightstats import ttest_ind\n",
        "df=pd.read_csv('RPython/samples.csv')\n",
        "male=df['網路成癮分數YDQ'][df['性別']==1]\n",
        "female=df['網路成癮分數YDQ'][df['性別']==2]\n",
        "result=ttest_ind(male,female,alternative='two-sided',usevar='unequal')\n",
        "result"
      ],
      "execution_count": null,
      "outputs": [
        {
          "output_type": "execute_result",
          "data": {
            "text/plain": [
              "(2.9194792899491007, 0.00539309754637806, 46.43217543281508)"
            ]
          },
          "metadata": {
            "tags": []
          },
          "execution_count": 71
        }
      ]
    },
    {
      "cell_type": "code",
      "metadata": {
        "colab": {
          "base_uri": "https://localhost:8080/",
          "height": 977
        },
        "id": "T7QzjGCiXoEB",
        "outputId": "bcab5901-5eff-47a9-dca6-1fd1f8b43c63"
      },
      "source": [
        "##2-8\n",
        "%%R\n",
        "hist(male, prob=TRUE)\n",
        "lines(density(male),col='blue')\n",
        "hist(female, prob=TRUE)\n",
        "lines(density(female),col='red')"
      ],
      "execution_count": null,
      "outputs": [
        {
          "output_type": "display_data",
          "data": {
            "image/png": "[encoded data removed]"
          },
          "metadata": {
            "tags": []
          }
        },
        {
          "output_type": "display_data",
          "data": {
            "image/png": "[encoded data removed]"
          },
          "metadata": {
            "tags": []
          }
        }
      ]
    },
    {
      "cell_type": "code",
      "metadata": {
        "colab": {
          "base_uri": "https://localhost:8080/",
          "height": 497
        },
        "id": "41kdq8FsaGC7",
        "outputId": "d63c46bc-a019-4195-e048-41a8f504d5fe"
      },
      "source": [
        "##2-9\n",
        "%%R\n",
        "hist(myData$教育程度)"
      ],
      "execution_count": null,
      "outputs": [
        {
          "output_type": "display_data",
          "data": {
            "image/png": "[encoded data removed]"
          },
          "metadata": {
            "tags": []
          }
        }
      ]
    },
    {
      "cell_type": "code",
      "metadata": {
        "colab": {
          "base_uri": "https://localhost:8080/"
        },
        "id": "ui2zgTtCZ4Q-",
        "outputId": "26642dd4-2d98-4587-90c8-d54c0abb1ce0"
      },
      "source": [
        "##2-10\n",
        "%%R\n",
        "formula='網路成癮分數YDQ ~ as.factor(教育程度)'\n",
        "model2 <- glm(formula, myData, family='gaussian')\n",
        "summary(model2)"
      ],
      "execution_count": null,
      "outputs": [
        {
          "output_type": "stream",
          "text": [
            "\n",
            "Call:\n",
            "glm(formula = formula, family = \"gaussian\", data = myData)\n",
            "\n",
            "Deviance Residuals: \n",
            "   Min      1Q  Median      3Q     Max  \n",
            "-3.667  -2.178  -1.178   1.822   5.822  \n",
            "\n",
            "Coefficients:\n",
            "                     Estimate Std. Error t value Pr(>|t|)    \n",
            "(Intercept)            3.6667     0.5285   6.937  6.5e-11 ***\n",
            "as.factor(教育程度)4  -1.4888     0.5615  -2.651  0.00872 ** \n",
            "as.factor(教育程度)5  -2.9167     1.3213  -2.207  0.02852 *  \n",
            "---\n",
            "Signif. codes:  0 ‘***’ 0.001 ‘**’ 0.01 ‘*’ 0.05 ‘.’ 0.1 ‘ ’ 1\n",
            "\n",
            "(Dispersion parameter for gaussian family taken to be 5.866255)\n",
            "\n",
            "    Null deviance: 1136.5  on 187  degrees of freedom\n",
            "Residual deviance: 1085.3  on 185  degrees of freedom\n",
            "AIC: 871.11\n",
            "\n",
            "Number of Fisher Scoring iterations: 2\n",
            "\n"
          ],
          "name": "stdout"
        }
      ]
    },
    {
      "cell_type": "code",
      "metadata": {
        "colab": {
          "base_uri": "https://localhost:8080/"
        },
        "id": "ZoGCyTs1cNzY",
        "outputId": "b04938f6-0e49-461d-9524-ff9153f366b2"
      },
      "source": [
        "##2-11\n",
        "%%R\n",
        "myData$教育程度<-relevel(factor(myData$教育程度),ref='4')\n",
        "formula='網路成癮分數YDQ ~ as.factor(教育程度)'\n",
        "model4 <- glm(formula, myData, family='gaussian')\n",
        "summary(model4)"
      ],
      "execution_count": null,
      "outputs": [
        {
          "output_type": "stream",
          "text": [
            "\n",
            "Call:\n",
            "glm(formula = formula, family = \"gaussian\", data = myData)\n",
            "\n",
            "Deviance Residuals: \n",
            "   Min      1Q  Median      3Q     Max  \n",
            "-3.667  -2.178  -1.178   1.822   5.822  \n",
            "\n",
            "Coefficients:\n",
            "                     Estimate Std. Error t value Pr(>|t|)    \n",
            "(Intercept)            2.1779     0.1897  11.480  < 2e-16 ***\n",
            "as.factor(教育程度)3   1.4888     0.5615   2.651  0.00872 ** \n",
            "as.factor(教育程度)5  -1.4279     1.2258  -1.165  0.24556    \n",
            "---\n",
            "Signif. codes:  0 ‘***’ 0.001 ‘**’ 0.01 ‘*’ 0.05 ‘.’ 0.1 ‘ ’ 1\n",
            "\n",
            "(Dispersion parameter for gaussian family taken to be 5.866255)\n",
            "\n",
            "    Null deviance: 1136.5  on 187  degrees of freedom\n",
            "Residual deviance: 1085.3  on 185  degrees of freedom\n",
            "AIC: 871.11\n",
            "\n",
            "Number of Fisher Scoring iterations: 2\n",
            "\n"
          ],
          "name": "stdout"
        }
      ]
    },
    {
      "cell_type": "code",
      "metadata": {
        "colab": {
          "base_uri": "https://localhost:8080/",
          "height": 314
        },
        "id": "2khtH9QaJvgT",
        "outputId": "2063fa85-f32a-417f-8799-614f8dc3eedb"
      },
      "source": [
        "##2-12 ##python GLM test \n",
        "import statsmodels.api as sm\n",
        "import statsmodels.formula.api as smf\n",
        "formula='網路成癮分數YDQ ~ C(教育程度)'\n",
        "model5=smf.glm(formula,df).fit()\n",
        "model5.summary()\n"
      ],
      "execution_count": null,
      "outputs": [
        {
          "output_type": "execute_result",
          "data": {
            "text/html": [
              "<table class=\"simpletable\">\n",
              "<caption>Generalized Linear Model Regression Results</caption>\n",
              "<tr>\n",
              "  <th>Dep. Variable:</th>       <td>網路成癮分數YDQ</td>    <th>  No. Observations:  </th>  <td>   188</td> \n",
              "</tr>\n",
              "<tr>\n",
              "  <th>Model:</th>                  <td>GLM</td>       <th>  Df Residuals:      </th>  <td>   185</td> \n",
              "</tr>\n",
              "<tr>\n",
              "  <th>Model Family:</th>        <td>Gaussian</td>     <th>  Df Model:          </th>  <td>     2</td> \n",
              "</tr>\n",
              "<tr>\n",
              "  <th>Link Function:</th>       <td>identity</td>     <th>  Scale:             </th> <td>  5.8663</td>\n",
              "</tr>\n",
              "<tr>\n",
              "  <th>Method:</th>                <td>IRLS</td>       <th>  Log-Likelihood:    </th> <td> -431.55</td>\n",
              "</tr>\n",
              "<tr>\n",
              "  <th>Date:</th>            <td>Sat, 26 Jun 2021</td> <th>  Deviance:          </th> <td>  1085.3</td>\n",
              "</tr>\n",
              "<tr>\n",
              "  <th>Time:</th>                <td>07:48:54</td>     <th>  Pearson chi2:      </th> <td>1.09e+03</td>\n",
              "</tr>\n",
              "<tr>\n",
              "  <th>No. Iterations:</th>          <td>3</td>        <th>                     </th>     <td> </td>   \n",
              "</tr>\n",
              "<tr>\n",
              "  <th>Covariance Type:</th>     <td>nonrobust</td>    <th>                     </th>     <td> </td>   \n",
              "</tr>\n",
              "</table>\n",
              "<table class=\"simpletable\">\n",
              "<tr>\n",
              "        <td></td>          <th>coef</th>     <th>std err</th>      <th>z</th>      <th>P>|z|</th>  <th>[0.025</th>    <th>0.975]</th>  \n",
              "</tr>\n",
              "<tr>\n",
              "  <th>Intercept</th>    <td>    3.6667</td> <td>    0.529</td> <td>    6.937</td> <td> 0.000</td> <td>    2.631</td> <td>    4.703</td>\n",
              "</tr>\n",
              "<tr>\n",
              "  <th>C(教育程度)[T.4]</th> <td>   -1.4888</td> <td>    0.562</td> <td>   -2.651</td> <td> 0.008</td> <td>   -2.589</td> <td>   -0.388</td>\n",
              "</tr>\n",
              "<tr>\n",
              "  <th>C(教育程度)[T.5]</th> <td>   -2.9167</td> <td>    1.321</td> <td>   -2.207</td> <td> 0.027</td> <td>   -5.506</td> <td>   -0.327</td>\n",
              "</tr>\n",
              "</table>"
            ],
            "text/plain": [
              "<class 'statsmodels.iolib.summary.Summary'>\n",
              "\"\"\"\n",
              "                 Generalized Linear Model Regression Results                  \n",
              "==============================================================================\n",
              "Dep. Variable:              網路成癮分數YDQ   No. Observations:                  188\n",
              "Model:                            GLM   Df Residuals:                      185\n",
              "Model Family:                Gaussian   Df Model:                            2\n",
              "Link Function:               identity   Scale:                          5.8663\n",
              "Method:                          IRLS   Log-Likelihood:                -431.55\n",
              "Date:                Sat, 26 Jun 2021   Deviance:                       1085.3\n",
              "Time:                        07:48:54   Pearson chi2:                 1.09e+03\n",
              "No. Iterations:                     3                                         \n",
              "Covariance Type:            nonrobust                                         \n",
              "================================================================================\n",
              "                   coef    std err          z      P>|z|      [0.025      0.975]\n",
              "--------------------------------------------------------------------------------\n",
              "Intercept        3.6667      0.529      6.937      0.000       2.631       4.703\n",
              "C(教育程度)[T.4]    -1.4888      0.562     -2.651      0.008      -2.589      -0.388\n",
              "C(教育程度)[T.5]    -2.9167      1.321     -2.207      0.027      -5.506      -0.327\n",
              "================================================================================\n",
              "\"\"\""
            ]
          },
          "metadata": {
            "tags": []
          },
          "execution_count": 118
        }
      ]
    },
    {
      "cell_type": "code",
      "metadata": {
        "colab": {
          "base_uri": "https://localhost:8080/"
        },
        "id": "xHkpvLNU01G-",
        "outputId": "3da0291b-9f26-464c-f2fd-aba1272515f2"
      },
      "source": [
        "##2-13 Simple One-way ANOVA in R\n",
        "%%R\n",
        "model6 <- aov(網路成癮分數YDQ ~ as.factor(教育程度),data=myData)\n",
        "print(summary(model6))\n",
        "TukeyHSD(model6)"
      ],
      "execution_count": null,
      "outputs": [
        {
          "output_type": "stream",
          "text": [
            "                     Df Sum Sq Mean Sq F value Pr(>F)  \n",
            "as.factor(教育程度)   2   51.2  25.613   4.366  0.014 *\n",
            "Residuals           185 1085.3   5.866                 \n",
            "---\n",
            "Signif. codes:  0 ‘***’ 0.001 ‘**’ 0.01 ‘*’ 0.05 ‘.’ 0.1 ‘ ’ 1\n",
            "  Tukey multiple comparisons of means\n",
            "    95% family-wise confidence level\n",
            "\n",
            "Fit: aov(formula = 網路成癮分數YDQ ~ as.factor(教育程度), data = myData)\n",
            "\n",
            "$`as.factor(教育程度)`\n",
            "         diff        lwr       upr     p adj\n",
            "3-4  1.488753  0.1619682 2.8155369 0.0235826\n",
            "5-4 -1.427914 -4.3241193 1.4682910 0.4756670\n",
            "5-3 -2.916667 -6.0386116 0.2052783 0.0725632\n",
            "\n"
          ],
          "name": "stdout"
        }
      ]
    },
    {
      "cell_type": "code",
      "metadata": {
        "id": "lciBUcixhXbJ"
      },
      "source": [
        "!pip3 install bioinfokit"
      ],
      "execution_count": null,
      "outputs": []
    },
    {
      "cell_type": "code",
      "metadata": {
        "colab": {
          "base_uri": "https://localhost:8080/",
          "height": 195
        },
        "id": "ipttwSa5ZZ_C",
        "outputId": "b6bf0796-3f2f-4d68-e6b6-a67d8ea40264"
      },
      "source": [
        "##2-14 python anova test\n",
        "import statsmodels.api as sm\n",
        "from statsmodels.formula.api import ols\n",
        "formula='網路成癮分數YDQ ~ C(教育程度)'\n",
        "model7=ols(formula, df).fit()\n",
        "anova_table=sm.stats.anova_lm(model7, type=2)\n",
        "print(anova_table)\n",
        "from bioinfokit.analys import stat\n",
        "res=stat()\n",
        "res.tukey_hsd(df=df,res_var='網路成癮分數YDQ',\n",
        "              xfac_var='教育程度', \n",
        "              anova_model=formula)\n",
        "res.tukey_summary"
      ],
      "execution_count": null,
      "outputs": [
        {
          "output_type": "stream",
          "text": [
            "             df       sum_sq    mean_sq         F    PR(>F)\n",
            "C(教育程度)     2.0    51.226885  25.613443  4.366234  0.014033\n",
            "Residual  185.0  1085.257157   5.866255       NaN       NaN\n"
          ],
          "name": "stdout"
        },
        {
          "output_type": "execute_result",
          "data": {
            "text/html": [
              "<div>\n",
              "<style scoped>\n",
              "    .dataframe tbody tr th:only-of-type {\n",
              "        vertical-align: middle;\n",
              "    }\n",
              "\n",
              "    .dataframe tbody tr th {\n",
              "        vertical-align: top;\n",
              "    }\n",
              "\n",
              "    .dataframe thead th {\n",
              "        text-align: right;\n",
              "    }\n",
              "</style>\n",
              "<table border=\"1\" class=\"dataframe\">\n",
              "  <thead>\n",
              "    <tr style=\"text-align: right;\">\n",
              "      <th></th>\n",
              "      <th>group1</th>\n",
              "      <th>group2</th>\n",
              "      <th>Diff</th>\n",
              "      <th>Lower</th>\n",
              "      <th>Upper</th>\n",
              "      <th>q-value</th>\n",
              "      <th>p-value</th>\n",
              "    </tr>\n",
              "  </thead>\n",
              "  <tbody>\n",
              "    <tr>\n",
              "      <th>0</th>\n",
              "      <td>4</td>\n",
              "      <td>3</td>\n",
              "      <td>1.488753</td>\n",
              "      <td>0.161875</td>\n",
              "      <td>2.815630</td>\n",
              "      <td>3.749312</td>\n",
              "      <td>0.023579</td>\n",
              "    </tr>\n",
              "    <tr>\n",
              "      <th>1</th>\n",
              "      <td>4</td>\n",
              "      <td>5</td>\n",
              "      <td>1.427914</td>\n",
              "      <td>-1.468494</td>\n",
              "      <td>4.324322</td>\n",
              "      <td>1.647412</td>\n",
              "      <td>0.477314</td>\n",
              "    </tr>\n",
              "    <tr>\n",
              "      <th>2</th>\n",
              "      <td>3</td>\n",
              "      <td>5</td>\n",
              "      <td>2.916667</td>\n",
              "      <td>-0.205497</td>\n",
              "      <td>6.038830</td>\n",
              "      <td>3.121699</td>\n",
              "      <td>0.072656</td>\n",
              "    </tr>\n",
              "  </tbody>\n",
              "</table>\n",
              "</div>"
            ],
            "text/plain": [
              "   group1  group2      Diff     Lower     Upper   q-value   p-value\n",
              "0       4       3  1.488753  0.161875  2.815630  3.749312  0.023579\n",
              "1       4       5  1.427914 -1.468494  4.324322  1.647412  0.477314\n",
              "2       3       5  2.916667 -0.205497  6.038830  3.121699  0.072656"
            ]
          },
          "metadata": {
            "tags": []
          },
          "execution_count": 155
        }
      ]
    }
  ]
}